{
 "cells": [
  {
   "cell_type": "code",
   "outputs": [],
   "source": [
    "import os\n",
    "import warnings\n",
    "import numpy as np\n",
    "import pandas as pd\n",
    "from sklearn.metrics import *\n",
    "from matplotlib import pyplot as plt\n",
    "from scipy.stats.mstats import winsorize\n",
    "from sklearn.preprocessing import LabelEncoder\n",
    "from sklearn.tree import DecisionTreeClassifier\n",
    "from sklearn.preprocessing import StandardScaler\n",
    "from sklearn.model_selection import train_test_split\n",
    "from IPython.core.interactiveshell import InteractiveShell"
   ],
   "metadata": {
    "collapsed": false,
    "ExecuteTime": {
     "end_time": "2024-05-17T08:16:16.344086500Z",
     "start_time": "2024-05-17T08:16:16.238140400Z"
    }
   },
   "id": "af9f907cc76c6498",
   "execution_count": 111
  },
  {
   "cell_type": "code",
   "outputs": [],
   "source": [
    "plt.rc('font', family='GULIM')\n",
    "warnings.filterwarnings(action='ignore')\n",
    "InteractiveShell.ast_node_interactivity = \"all\""
   ],
   "metadata": {
    "collapsed": false,
    "ExecuteTime": {
     "end_time": "2024-05-17T08:16:16.354243500Z",
     "start_time": "2024-05-17T08:16:16.349174300Z"
    }
   },
   "id": "b9025e7bcb3017aa",
   "execution_count": 112
  },
  {
   "cell_type": "code",
   "outputs": [],
   "source": [
    "def standard_scale_train(train_data, feature_names):\n",
    "    \"\"\"\n",
    "    특정 feature들에 대해 Z 정규화를 수행하는 함수, sklearn의 StandardScaler 사용\n",
    "    :param train_data: 훈련 데이터셋 (DataFrame)\n",
    "    :param feature_names: 정규화를 수행할 특성들의 리스트\n",
    "    :return: 정규화된 훈련 데이터셋, 훈련된 StandardScaler 객체\n",
    "    \"\"\"\n",
    "    scaler = StandardScaler()\n",
    "    train_data_scaled = train_data.copy()\n",
    "    train_data_scaled[feature_names] = scaler.fit_transform(train_data[feature_names])\n",
    "    return train_data_scaled, scaler\n",
    "\n",
    "\n",
    "def standard_scale_val(X_val, feature_names, scaler):\n",
    "    \"\"\"\n",
    "    validation set을 특정 feature들에 대해 Z 정규화하는 함수, sklearn의 StandardScaler 사용\n",
    "    :param X_val: validation set (DataFrame)\n",
    "    :param feature_names: 정규화를 수행할 특성들의 리스트\n",
    "    :param scaler: 훈련 데이터셋에 대해 훈련된 StandardScaler 객체\n",
    "    :return: 정규화된 validation set\n",
    "    \"\"\"\n",
    "    X_val_scaled = X_val.copy()\n",
    "    X_val_scaled[feature_names] = scaler.transform(X_val[feature_names])\n",
    "    return X_val_scaled"
   ],
   "metadata": {
    "collapsed": false,
    "ExecuteTime": {
     "end_time": "2024-05-17T08:16:16.365337200Z",
     "start_time": "2024-05-17T08:16:16.358675200Z"
    }
   },
   "id": "25417358cfc38a93",
   "execution_count": 113
  },
  {
   "cell_type": "markdown",
   "source": [
    "# Data Check"
   ],
   "metadata": {
    "collapsed": false
   },
   "id": "1101e9d68fd4a86f"
  },
  {
   "cell_type": "code",
   "outputs": [],
   "source": [
    "input_dir = 'Database/'\n",
    "file_data = 'train.csv'\n",
    "data = pd.read_csv(os.path.join(input_dir, file_data))\n",
    "data = data.drop(columns=['ID'])\n",
    "train, test = train_test_split(data, test_size=0.2, random_state=42, shuffle=True)"
   ],
   "metadata": {
    "collapsed": false,
    "ExecuteTime": {
     "end_time": "2024-05-17T08:16:16.579758500Z",
     "start_time": "2024-05-17T08:16:16.367337600Z"
    }
   },
   "id": "bbfeec96fadd4e88",
   "execution_count": 114
  },
  {
   "cell_type": "code",
   "outputs": [],
   "source": [
    "discrete_list = ['대출기간', '주택소유상태', '대출목적', '최근_2년간_연체_횟수', '연체계좌수', '총연체금액', '부채_대비_소득_비율', '대출등급']\n",
    "continuous_list = ['대출금액', '연간소득', '총계좌수', '근로기간', '이자/대출', '원금/대출']"
   ],
   "metadata": {
    "collapsed": false,
    "ExecuteTime": {
     "end_time": "2024-05-17T08:16:16.582759Z",
     "start_time": "2024-05-17T08:16:16.565224Z"
    }
   },
   "id": "eb6fe94c953b3055",
   "execution_count": 115
  },
  {
   "cell_type": "code",
   "outputs": [
    {
     "name": "stdout",
     "output_type": "stream",
     "text": [
      "<class 'pandas.core.frame.DataFrame'>\n",
      "Index: 77035 entries, 56034 to 15795\n",
      "Data columns (total 14 columns):\n",
      " #   Column        Non-Null Count  Dtype  \n",
      "---  ------        --------------  -----  \n",
      " 0   대출금액          77035 non-null  int64  \n",
      " 1   대출기간          77035 non-null  object \n",
      " 2   근로기간          77035 non-null  object \n",
      " 3   주택소유상태        77035 non-null  object \n",
      " 4   연간소득          77035 non-null  int64  \n",
      " 5   부채_대비_소득_비율   77035 non-null  float64\n",
      " 6   총계좌수          77035 non-null  int64  \n",
      " 7   대출목적          77035 non-null  object \n",
      " 8   최근_2년간_연체_횟수  77035 non-null  int64  \n",
      " 9   총상환원금         77035 non-null  int64  \n",
      " 10  총상환이자         77035 non-null  float64\n",
      " 11  총연체금액         77035 non-null  float64\n",
      " 12  연체계좌수         77035 non-null  float64\n",
      " 13  대출등급          77035 non-null  object \n",
      "dtypes: float64(4), int64(5), object(5)\n",
      "memory usage: 8.8+ MB\n"
     ]
    }
   ],
   "source": [
    "train.info()"
   ],
   "metadata": {
    "collapsed": false,
    "ExecuteTime": {
     "end_time": "2024-05-17T08:16:16.591987200Z",
     "start_time": "2024-05-17T08:16:16.568237800Z"
    }
   },
   "id": "e61285af936b37d6",
   "execution_count": 116
  },
  {
   "cell_type": "markdown",
   "source": [
    "# General Preprocessing"
   ],
   "metadata": {
    "collapsed": false
   },
   "id": "c2157052dd4b4753"
  },
  {
   "cell_type": "code",
   "outputs": [],
   "source": [
    "bins = [-1, 15, 30, 45, 60, np.inf]\n",
    "labels = [0, 1, 2, 3, 4]\n",
    "train['부채_대비_소득_비율'] = pd.cut(train['부채_대비_소득_비율'], bins=bins, labels=labels)\n",
    "test['부채_대비_소득_비율'] = pd.cut(test['부채_대비_소득_비율'], bins=bins, labels=labels)"
   ],
   "metadata": {
    "collapsed": false,
    "ExecuteTime": {
     "end_time": "2024-05-17T08:16:16.626588400Z",
     "start_time": "2024-05-17T08:16:16.589987300Z"
    }
   },
   "id": "ed9e7dad33474ef2",
   "execution_count": 117
  },
  {
   "cell_type": "code",
   "outputs": [],
   "source": [
    "bins = [-1, 100.0, np.inf]\n",
    "labels = [0, 1]\n",
    "train['총연체금액'] = pd.cut(train['총연체금액'], bins=bins, labels=labels)\n",
    "test['총연체금액'] = pd.cut(test['총연체금액'], bins=bins, labels=labels)"
   ],
   "metadata": {
    "collapsed": false,
    "ExecuteTime": {
     "end_time": "2024-05-17T08:16:16.627588700Z",
     "start_time": "2024-05-17T08:16:16.595880500Z"
    }
   },
   "id": "2819471c0d41d40d",
   "execution_count": 118
  },
  {
   "cell_type": "code",
   "outputs": [],
   "source": [
    "bins = [-1, 2, 4, np.inf]\n",
    "labels = [0, 1, 2]\n",
    "train['연체계좌수'] = pd.cut(train['연체계좌수'], bins=bins, labels=labels)\n",
    "test['연체계좌수'] = pd.cut(test['연체계좌수'], bins=bins, labels=labels)"
   ],
   "metadata": {
    "collapsed": false,
    "ExecuteTime": {
     "end_time": "2024-05-17T08:16:16.637697900Z",
     "start_time": "2024-05-17T08:16:16.604839200Z"
    }
   },
   "id": "1ad6ca585fe3674b",
   "execution_count": 119
  },
  {
   "cell_type": "code",
   "outputs": [],
   "source": [
    "bins = [-1, 6, 12, 18, np.inf]\n",
    "labels = [0, 1, 2, 3]\n",
    "train['최근_2년간_연체_횟수'] = pd.cut(train['최근_2년간_연체_횟수'], bins=bins, labels=labels)\n",
    "test['최근_2년간_연체_횟수'] = pd.cut(test['최근_2년간_연체_횟수'], bins=bins, labels=labels)"
   ],
   "metadata": {
    "collapsed": false,
    "ExecuteTime": {
     "end_time": "2024-05-17T08:16:16.638716800Z",
     "start_time": "2024-05-17T08:16:16.609941200Z"
    }
   },
   "id": "f92fad5221d6fd98",
   "execution_count": 120
  },
  {
   "cell_type": "code",
   "outputs": [],
   "source": [
    "train['근로기간'] = train['근로기간'].str.extract(r'(\\d+)')\n",
    "train['근로기간'] = train['근로기간'].fillna(0)\n",
    "train['근로기간'] = train['근로기간'].astype(int)\n",
    "\n",
    "test['근로기간'] = test['근로기간'].str.extract(r'(\\d+)')\n",
    "test['근로기간'] = test['근로기간'].fillna(0)\n",
    "test['근로기간'] = test['근로기간'].astype(int)"
   ],
   "metadata": {
    "collapsed": false,
    "ExecuteTime": {
     "end_time": "2024-05-17T08:16:16.836340800Z",
     "start_time": "2024-05-17T08:16:16.637697900Z"
    }
   },
   "id": "7c5ab9f0bd39169b",
   "execution_count": 121
  },
  {
   "cell_type": "markdown",
   "source": [
    "# Train 이산형변수 인코딩"
   ],
   "metadata": {
    "collapsed": false
   },
   "id": "d195b567b63a52ae"
  },
  {
   "cell_type": "code",
   "outputs": [],
   "source": [
    "df_1 = train.copy()\n",
    "ec_dict = {}\n",
    "for i, col in enumerate(discrete_list):\n",
    "    label_encoder = LabelEncoder()\n",
    "    encoder_data = label_encoder.fit_transform(df_1[col])\n",
    "    df_1[col] = encoder_data\n",
    "    ec_dict[col] = label_encoder"
   ],
   "metadata": {
    "collapsed": false,
    "ExecuteTime": {
     "end_time": "2024-05-17T08:16:16.909655600Z",
     "start_time": "2024-05-17T08:16:16.837843900Z"
    }
   },
   "id": "c2c67d3dfc669885",
   "execution_count": 122
  },
  {
   "cell_type": "markdown",
   "source": [
    "# Train 파생변수"
   ],
   "metadata": {
    "collapsed": false
   },
   "id": "b4a12719d5a2a646"
  },
  {
   "cell_type": "code",
   "outputs": [],
   "source": [
    "df_2 = df_1.copy()\n",
    "df_2['이자/대출'] = np.where(df_2['대출금액'] == 0, 0, df_2['총상환이자'] / df_2['대출금액'])\n",
    "df_2['원금/대출'] = np.where(df_2['대출금액'] == 0, 0, df_2['총상환원금'] / df_2['대출금액'])"
   ],
   "metadata": {
    "collapsed": false,
    "ExecuteTime": {
     "end_time": "2024-05-17T08:16:16.924006Z",
     "start_time": "2024-05-17T08:16:16.912655800Z"
    }
   },
   "id": "baa14436d5aca92",
   "execution_count": 123
  },
  {
   "cell_type": "markdown",
   "source": [
    "# Train 이상치제거"
   ],
   "metadata": {
    "collapsed": false
   },
   "id": "d31d249339f8a40b"
  },
  {
   "cell_type": "code",
   "outputs": [],
   "source": [
    "df_3 = df_2.copy()\n",
    "df_3['연간소득'] = winsorize(df_3['연간소득'], limits=[0.0005, 0.0005])"
   ],
   "metadata": {
    "collapsed": false,
    "ExecuteTime": {
     "end_time": "2024-05-17T08:16:16.953603700Z",
     "start_time": "2024-05-17T08:16:16.926006200Z"
    }
   },
   "id": "d7c87cb49955e71c",
   "execution_count": 124
  },
  {
   "cell_type": "code",
   "outputs": [],
   "source": [
    "# fig, ax = plt.subplots(figsize=(10, 8))\n",
    "# df_3[continuous_list].boxplot(ax=ax)\n",
    "# plt.xticks(rotation=45)\n",
    "# fig.suptitle('Train Data', fontsize=16)\n",
    "# fig.tight_layout(rect=[0, 0, 1, 0.96])\n",
    "# fig.show()"
   ],
   "metadata": {
    "collapsed": false,
    "ExecuteTime": {
     "end_time": "2024-05-17T08:16:16.954603600Z",
     "start_time": "2024-05-17T08:16:16.936795600Z"
    }
   },
   "id": "60aca679e3b1b61f",
   "execution_count": 125
  },
  {
   "cell_type": "markdown",
   "source": [
    "# Train 칼럼삭제"
   ],
   "metadata": {
    "collapsed": false
   },
   "id": "cf44b4fd0a45b1ea"
  },
  {
   "cell_type": "code",
   "outputs": [],
   "source": [
    "df_4 = df_3.copy()\n",
    "df_4 = df_4.drop(columns=['총상환원금', '총상환이자'])\n",
    "df_4.to_csv('Files/train_pre.csv')"
   ],
   "metadata": {
    "collapsed": false,
    "ExecuteTime": {
     "end_time": "2024-05-17T08:16:17.455887Z",
     "start_time": "2024-05-17T08:16:16.941579200Z"
    }
   },
   "id": "97f4ad5743cf7ca",
   "execution_count": 126
  },
  {
   "cell_type": "markdown",
   "source": [
    "# Train 분포저장"
   ],
   "metadata": {
    "collapsed": false
   },
   "id": "21ad8fba6bc7ee27"
  },
  {
   "cell_type": "code",
   "outputs": [],
   "source": [
    "X = df_4.drop(columns=['대출등급'])\n",
    "y = df_4['대출등급']\n",
    "X_train, X_val, y_train, y_val = train_test_split(X, y, test_size=0.2, random_state=42)"
   ],
   "metadata": {
    "collapsed": false,
    "ExecuteTime": {
     "end_time": "2024-05-17T08:16:17.471769100Z",
     "start_time": "2024-05-17T08:16:17.455887Z"
    }
   },
   "id": "7db0e54e408f9ddc",
   "execution_count": 127
  },
  {
   "cell_type": "code",
   "outputs": [],
   "source": [
    "# # 위 block에서 만들어진 z_normalize와 z_normalize_val 적용 (Error 날 경우 다시 고민할 것)\n",
    "X_train_norm = X_train.copy()\n",
    "X_train_norm.loc[:, continuous_list], scaler = standard_scale_train(X_train, continuous_list)\n",
    "X_val_norm = X_val.copy()\n",
    "X_val_norm.loc[:, continuous_list] = standard_scale_val(X_val, continuous_list, scaler)"
   ],
   "metadata": {
    "collapsed": false,
    "ExecuteTime": {
     "end_time": "2024-05-17T08:16:17.498407400Z",
     "start_time": "2024-05-17T08:16:17.471769100Z"
    }
   },
   "id": "86717e2a1d2d0ac2",
   "execution_count": 128
  },
  {
   "cell_type": "code",
   "outputs": [],
   "source": [
    "# class_counts = y_val.value_counts()\n",
    "# plt.pie(class_counts, labels=class_counts.index, startangle=140, autopct='%1.1f%%')\n",
    "# plt.axis('equal')\n",
    "# plt.title('대출등급')\n",
    "# plt.show()"
   ],
   "metadata": {
    "collapsed": false,
    "ExecuteTime": {
     "end_time": "2024-05-17T08:16:17.507618700Z",
     "start_time": "2024-05-17T08:16:17.498407400Z"
    }
   },
   "id": "f08c444569638601",
   "execution_count": 129
  },
  {
   "cell_type": "markdown",
   "source": [
    "# 전처리 성능체크"
   ],
   "metadata": {
    "collapsed": false
   },
   "id": "be23ea503311aba0"
  },
  {
   "cell_type": "code",
   "outputs": [
    {
     "data": {
      "text/plain": "DecisionTreeClassifier(random_state=42)",
      "text/html": "<style>#sk-container-id-5 {\n  /* Definition of color scheme common for light and dark mode */\n  --sklearn-color-text: black;\n  --sklearn-color-line: gray;\n  /* Definition of color scheme for unfitted estimators */\n  --sklearn-color-unfitted-level-0: #fff5e6;\n  --sklearn-color-unfitted-level-1: #f6e4d2;\n  --sklearn-color-unfitted-level-2: #ffe0b3;\n  --sklearn-color-unfitted-level-3: chocolate;\n  /* Definition of color scheme for fitted estimators */\n  --sklearn-color-fitted-level-0: #f0f8ff;\n  --sklearn-color-fitted-level-1: #d4ebff;\n  --sklearn-color-fitted-level-2: #b3dbfd;\n  --sklearn-color-fitted-level-3: cornflowerblue;\n\n  /* Specific color for light theme */\n  --sklearn-color-text-on-default-background: var(--sg-text-color, var(--theme-code-foreground, var(--jp-content-font-color1, black)));\n  --sklearn-color-background: var(--sg-background-color, var(--theme-background, var(--jp-layout-color0, white)));\n  --sklearn-color-border-box: var(--sg-text-color, var(--theme-code-foreground, var(--jp-content-font-color1, black)));\n  --sklearn-color-icon: #696969;\n\n  @media (prefers-color-scheme: dark) {\n    /* Redefinition of color scheme for dark theme */\n    --sklearn-color-text-on-default-background: var(--sg-text-color, var(--theme-code-foreground, var(--jp-content-font-color1, white)));\n    --sklearn-color-background: var(--sg-background-color, var(--theme-background, var(--jp-layout-color0, #111)));\n    --sklearn-color-border-box: var(--sg-text-color, var(--theme-code-foreground, var(--jp-content-font-color1, white)));\n    --sklearn-color-icon: #878787;\n  }\n}\n\n#sk-container-id-5 {\n  color: var(--sklearn-color-text);\n}\n\n#sk-container-id-5 pre {\n  padding: 0;\n}\n\n#sk-container-id-5 input.sk-hidden--visually {\n  border: 0;\n  clip: rect(1px 1px 1px 1px);\n  clip: rect(1px, 1px, 1px, 1px);\n  height: 1px;\n  margin: -1px;\n  overflow: hidden;\n  padding: 0;\n  position: absolute;\n  width: 1px;\n}\n\n#sk-container-id-5 div.sk-dashed-wrapped {\n  border: 1px dashed var(--sklearn-color-line);\n  margin: 0 0.4em 0.5em 0.4em;\n  box-sizing: border-box;\n  padding-bottom: 0.4em;\n  background-color: var(--sklearn-color-background);\n}\n\n#sk-container-id-5 div.sk-container {\n  /* jupyter's `normalize.less` sets `[hidden] { display: none; }`\n     but bootstrap.min.css set `[hidden] { display: none !important; }`\n     so we also need the `!important` here to be able to override the\n     default hidden behavior on the sphinx rendered scikit-learn.org.\n     See: https://github.com/scikit-learn/scikit-learn/issues/21755 */\n  display: inline-block !important;\n  position: relative;\n}\n\n#sk-container-id-5 div.sk-text-repr-fallback {\n  display: none;\n}\n\ndiv.sk-parallel-item,\ndiv.sk-serial,\ndiv.sk-item {\n  /* draw centered vertical line to link estimators */\n  background-image: linear-gradient(var(--sklearn-color-text-on-default-background), var(--sklearn-color-text-on-default-background));\n  background-size: 2px 100%;\n  background-repeat: no-repeat;\n  background-position: center center;\n}\n\n/* Parallel-specific style estimator block */\n\n#sk-container-id-5 div.sk-parallel-item::after {\n  content: \"\";\n  width: 100%;\n  border-bottom: 2px solid var(--sklearn-color-text-on-default-background);\n  flex-grow: 1;\n}\n\n#sk-container-id-5 div.sk-parallel {\n  display: flex;\n  align-items: stretch;\n  justify-content: center;\n  background-color: var(--sklearn-color-background);\n  position: relative;\n}\n\n#sk-container-id-5 div.sk-parallel-item {\n  display: flex;\n  flex-direction: column;\n}\n\n#sk-container-id-5 div.sk-parallel-item:first-child::after {\n  align-self: flex-end;\n  width: 50%;\n}\n\n#sk-container-id-5 div.sk-parallel-item:last-child::after {\n  align-self: flex-start;\n  width: 50%;\n}\n\n#sk-container-id-5 div.sk-parallel-item:only-child::after {\n  width: 0;\n}\n\n/* Serial-specific style estimator block */\n\n#sk-container-id-5 div.sk-serial {\n  display: flex;\n  flex-direction: column;\n  align-items: center;\n  background-color: var(--sklearn-color-background);\n  padding-right: 1em;\n  padding-left: 1em;\n}\n\n\n/* Toggleable style: style used for estimator/Pipeline/ColumnTransformer box that is\nclickable and can be expanded/collapsed.\n- Pipeline and ColumnTransformer use this feature and define the default style\n- Estimators will overwrite some part of the style using the `sk-estimator` class\n*/\n\n/* Pipeline and ColumnTransformer style (default) */\n\n#sk-container-id-5 div.sk-toggleable {\n  /* Default theme specific background. It is overwritten whether we have a\n  specific estimator or a Pipeline/ColumnTransformer */\n  background-color: var(--sklearn-color-background);\n}\n\n/* Toggleable label */\n#sk-container-id-5 label.sk-toggleable__label {\n  cursor: pointer;\n  display: block;\n  width: 100%;\n  margin-bottom: 0;\n  padding: 0.5em;\n  box-sizing: border-box;\n  text-align: center;\n}\n\n#sk-container-id-5 label.sk-toggleable__label-arrow:before {\n  /* Arrow on the left of the label */\n  content: \"▸\";\n  float: left;\n  margin-right: 0.25em;\n  color: var(--sklearn-color-icon);\n}\n\n#sk-container-id-5 label.sk-toggleable__label-arrow:hover:before {\n  color: var(--sklearn-color-text);\n}\n\n/* Toggleable content - dropdown */\n\n#sk-container-id-5 div.sk-toggleable__content {\n  max-height: 0;\n  max-width: 0;\n  overflow: hidden;\n  text-align: left;\n  /* unfitted */\n  background-color: var(--sklearn-color-unfitted-level-0);\n}\n\n#sk-container-id-5 div.sk-toggleable__content.fitted {\n  /* fitted */\n  background-color: var(--sklearn-color-fitted-level-0);\n}\n\n#sk-container-id-5 div.sk-toggleable__content pre {\n  margin: 0.2em;\n  border-radius: 0.25em;\n  color: var(--sklearn-color-text);\n  /* unfitted */\n  background-color: var(--sklearn-color-unfitted-level-0);\n}\n\n#sk-container-id-5 div.sk-toggleable__content.fitted pre {\n  /* unfitted */\n  background-color: var(--sklearn-color-fitted-level-0);\n}\n\n#sk-container-id-5 input.sk-toggleable__control:checked~div.sk-toggleable__content {\n  /* Expand drop-down */\n  max-height: 200px;\n  max-width: 100%;\n  overflow: auto;\n}\n\n#sk-container-id-5 input.sk-toggleable__control:checked~label.sk-toggleable__label-arrow:before {\n  content: \"▾\";\n}\n\n/* Pipeline/ColumnTransformer-specific style */\n\n#sk-container-id-5 div.sk-label input.sk-toggleable__control:checked~label.sk-toggleable__label {\n  color: var(--sklearn-color-text);\n  background-color: var(--sklearn-color-unfitted-level-2);\n}\n\n#sk-container-id-5 div.sk-label.fitted input.sk-toggleable__control:checked~label.sk-toggleable__label {\n  background-color: var(--sklearn-color-fitted-level-2);\n}\n\n/* Estimator-specific style */\n\n/* Colorize estimator box */\n#sk-container-id-5 div.sk-estimator input.sk-toggleable__control:checked~label.sk-toggleable__label {\n  /* unfitted */\n  background-color: var(--sklearn-color-unfitted-level-2);\n}\n\n#sk-container-id-5 div.sk-estimator.fitted input.sk-toggleable__control:checked~label.sk-toggleable__label {\n  /* fitted */\n  background-color: var(--sklearn-color-fitted-level-2);\n}\n\n#sk-container-id-5 div.sk-label label.sk-toggleable__label,\n#sk-container-id-5 div.sk-label label {\n  /* The background is the default theme color */\n  color: var(--sklearn-color-text-on-default-background);\n}\n\n/* On hover, darken the color of the background */\n#sk-container-id-5 div.sk-label:hover label.sk-toggleable__label {\n  color: var(--sklearn-color-text);\n  background-color: var(--sklearn-color-unfitted-level-2);\n}\n\n/* Label box, darken color on hover, fitted */\n#sk-container-id-5 div.sk-label.fitted:hover label.sk-toggleable__label.fitted {\n  color: var(--sklearn-color-text);\n  background-color: var(--sklearn-color-fitted-level-2);\n}\n\n/* Estimator label */\n\n#sk-container-id-5 div.sk-label label {\n  font-family: monospace;\n  font-weight: bold;\n  display: inline-block;\n  line-height: 1.2em;\n}\n\n#sk-container-id-5 div.sk-label-container {\n  text-align: center;\n}\n\n/* Estimator-specific */\n#sk-container-id-5 div.sk-estimator {\n  font-family: monospace;\n  border: 1px dotted var(--sklearn-color-border-box);\n  border-radius: 0.25em;\n  box-sizing: border-box;\n  margin-bottom: 0.5em;\n  /* unfitted */\n  background-color: var(--sklearn-color-unfitted-level-0);\n}\n\n#sk-container-id-5 div.sk-estimator.fitted {\n  /* fitted */\n  background-color: var(--sklearn-color-fitted-level-0);\n}\n\n/* on hover */\n#sk-container-id-5 div.sk-estimator:hover {\n  /* unfitted */\n  background-color: var(--sklearn-color-unfitted-level-2);\n}\n\n#sk-container-id-5 div.sk-estimator.fitted:hover {\n  /* fitted */\n  background-color: var(--sklearn-color-fitted-level-2);\n}\n\n/* Specification for estimator info (e.g. \"i\" and \"?\") */\n\n/* Common style for \"i\" and \"?\" */\n\n.sk-estimator-doc-link,\na:link.sk-estimator-doc-link,\na:visited.sk-estimator-doc-link {\n  float: right;\n  font-size: smaller;\n  line-height: 1em;\n  font-family: monospace;\n  background-color: var(--sklearn-color-background);\n  border-radius: 1em;\n  height: 1em;\n  width: 1em;\n  text-decoration: none !important;\n  margin-left: 1ex;\n  /* unfitted */\n  border: var(--sklearn-color-unfitted-level-1) 1pt solid;\n  color: var(--sklearn-color-unfitted-level-1);\n}\n\n.sk-estimator-doc-link.fitted,\na:link.sk-estimator-doc-link.fitted,\na:visited.sk-estimator-doc-link.fitted {\n  /* fitted */\n  border: var(--sklearn-color-fitted-level-1) 1pt solid;\n  color: var(--sklearn-color-fitted-level-1);\n}\n\n/* On hover */\ndiv.sk-estimator:hover .sk-estimator-doc-link:hover,\n.sk-estimator-doc-link:hover,\ndiv.sk-label-container:hover .sk-estimator-doc-link:hover,\n.sk-estimator-doc-link:hover {\n  /* unfitted */\n  background-color: var(--sklearn-color-unfitted-level-3);\n  color: var(--sklearn-color-background);\n  text-decoration: none;\n}\n\ndiv.sk-estimator.fitted:hover .sk-estimator-doc-link.fitted:hover,\n.sk-estimator-doc-link.fitted:hover,\ndiv.sk-label-container:hover .sk-estimator-doc-link.fitted:hover,\n.sk-estimator-doc-link.fitted:hover {\n  /* fitted */\n  background-color: var(--sklearn-color-fitted-level-3);\n  color: var(--sklearn-color-background);\n  text-decoration: none;\n}\n\n/* Span, style for the box shown on hovering the info icon */\n.sk-estimator-doc-link span {\n  display: none;\n  z-index: 9999;\n  position: relative;\n  font-weight: normal;\n  right: .2ex;\n  padding: .5ex;\n  margin: .5ex;\n  width: min-content;\n  min-width: 20ex;\n  max-width: 50ex;\n  color: var(--sklearn-color-text);\n  box-shadow: 2pt 2pt 4pt #999;\n  /* unfitted */\n  background: var(--sklearn-color-unfitted-level-0);\n  border: .5pt solid var(--sklearn-color-unfitted-level-3);\n}\n\n.sk-estimator-doc-link.fitted span {\n  /* fitted */\n  background: var(--sklearn-color-fitted-level-0);\n  border: var(--sklearn-color-fitted-level-3);\n}\n\n.sk-estimator-doc-link:hover span {\n  display: block;\n}\n\n/* \"?\"-specific style due to the `<a>` HTML tag */\n\n#sk-container-id-5 a.estimator_doc_link {\n  float: right;\n  font-size: 1rem;\n  line-height: 1em;\n  font-family: monospace;\n  background-color: var(--sklearn-color-background);\n  border-radius: 1rem;\n  height: 1rem;\n  width: 1rem;\n  text-decoration: none;\n  /* unfitted */\n  color: var(--sklearn-color-unfitted-level-1);\n  border: var(--sklearn-color-unfitted-level-1) 1pt solid;\n}\n\n#sk-container-id-5 a.estimator_doc_link.fitted {\n  /* fitted */\n  border: var(--sklearn-color-fitted-level-1) 1pt solid;\n  color: var(--sklearn-color-fitted-level-1);\n}\n\n/* On hover */\n#sk-container-id-5 a.estimator_doc_link:hover {\n  /* unfitted */\n  background-color: var(--sklearn-color-unfitted-level-3);\n  color: var(--sklearn-color-background);\n  text-decoration: none;\n}\n\n#sk-container-id-5 a.estimator_doc_link.fitted:hover {\n  /* fitted */\n  background-color: var(--sklearn-color-fitted-level-3);\n}\n</style><div id=\"sk-container-id-5\" class=\"sk-top-container\"><div class=\"sk-text-repr-fallback\"><pre>DecisionTreeClassifier(random_state=42)</pre><b>In a Jupyter environment, please rerun this cell to show the HTML representation or trust the notebook. <br />On GitHub, the HTML representation is unable to render, please try loading this page with nbviewer.org.</b></div><div class=\"sk-container\" hidden><div class=\"sk-item\"><div class=\"sk-estimator fitted sk-toggleable\"><input class=\"sk-toggleable__control sk-hidden--visually\" id=\"sk-estimator-id-5\" type=\"checkbox\" checked><label for=\"sk-estimator-id-5\" class=\"sk-toggleable__label fitted sk-toggleable__label-arrow fitted\">&nbsp;&nbsp;DecisionTreeClassifier<a class=\"sk-estimator-doc-link fitted\" rel=\"noreferrer\" target=\"_blank\" href=\"https://scikit-learn.org/1.4/modules/generated/sklearn.tree.DecisionTreeClassifier.html\">?<span>Documentation for DecisionTreeClassifier</span></a><span class=\"sk-estimator-doc-link fitted\">i<span>Fitted</span></span></label><div class=\"sk-toggleable__content fitted\"><pre>DecisionTreeClassifier(random_state=42)</pre></div> </div></div></div></div>"
     },
     "execution_count": 130,
     "metadata": {},
     "output_type": "execute_result"
    },
    {
     "name": "stdout",
     "output_type": "stream",
     "text": [
      "Decision Tree Classifier Performance\n",
      "\n",
      "Accuracy: 0.9452\n",
      "Recall (micro): 0.9452\n",
      "Precision (micro): 0.9452\n",
      "F1 Score (micro): 0.9452\n"
     ]
    }
   ],
   "source": [
    "model_dt = DecisionTreeClassifier(random_state=42)\n",
    "model_dt.fit(X_train_norm, y_train)\n",
    "dt_pred = model_dt.predict(X_val_norm)\n",
    "print(f'Decision Tree Classifier Performance\\n')\n",
    "print(f'Accuracy: {accuracy_score(y_val, dt_pred):.4f}')\n",
    "print(f'Recall (micro): {recall_score(y_val, dt_pred, average=\"micro\"):.4f}')\n",
    "print(f'Precision (micro): {precision_score(y_val, dt_pred, average=\"micro\"):.4f}')\n",
    "print(f'F1 Score (micro): {f1_score(y_val, dt_pred, average=\"micro\"):.4f}')"
   ],
   "metadata": {
    "collapsed": false,
    "ExecuteTime": {
     "end_time": "2024-05-17T08:16:17.790732800Z",
     "start_time": "2024-05-17T08:16:17.502617300Z"
    }
   },
   "id": "c0edebead08fde27",
   "execution_count": 130
  },
  {
   "cell_type": "markdown",
   "source": [
    "# Test 이산형변수 인코딩"
   ],
   "metadata": {
    "collapsed": false
   },
   "id": "1fae3779ab7791ee"
  },
  {
   "cell_type": "code",
   "outputs": [],
   "source": [
    "df_1 = test.copy()\n",
    "for i, col in enumerate(discrete_list):\n",
    "    encoder_data = ec_dict[col].transform(df_1[col])\n",
    "    df_1[col] = encoder_data"
   ],
   "metadata": {
    "collapsed": false,
    "ExecuteTime": {
     "end_time": "2024-05-17T08:16:17.809138Z",
     "start_time": "2024-05-17T08:16:17.787607900Z"
    }
   },
   "id": "2eb25d92be9feab",
   "execution_count": 131
  },
  {
   "cell_type": "markdown",
   "source": [
    "# Test 파생변수"
   ],
   "metadata": {
    "collapsed": false
   },
   "id": "902f36f4222a9688"
  },
  {
   "cell_type": "code",
   "outputs": [],
   "source": [
    "df_2 = df_1.copy()\n",
    "df_2['이자/대출'] = np.where(df_2['대출금액'] == 0, 0, df_2['총상환이자'] / df_2['대출금액'])\n",
    "df_2['원금/대출'] = np.where(df_2['대출금액'] == 0, 0, df_2['총상환원금'] / df_2['대출금액'])"
   ],
   "metadata": {
    "collapsed": false,
    "ExecuteTime": {
     "end_time": "2024-05-17T08:16:17.838512200Z",
     "start_time": "2024-05-17T08:16:17.812139700Z"
    }
   },
   "id": "cc59b1cea26c415a",
   "execution_count": 132
  },
  {
   "cell_type": "markdown",
   "source": [
    "# Test 이상치제거"
   ],
   "metadata": {
    "collapsed": false
   },
   "id": "d22685741c96b397"
  },
  {
   "cell_type": "code",
   "outputs": [],
   "source": [
    "df_3 = df_2.copy()\n",
    "df_3['연간소득'] = winsorize(df_3['연간소득'], limits=[0.0005, 0.0005])"
   ],
   "metadata": {
    "collapsed": false,
    "ExecuteTime": {
     "end_time": "2024-05-17T08:16:17.839760400Z",
     "start_time": "2024-05-17T08:16:17.820640600Z"
    }
   },
   "id": "16d6742a4d180dbd",
   "execution_count": 133
  },
  {
   "cell_type": "markdown",
   "source": [
    "#  Test 칼럼삭제"
   ],
   "metadata": {
    "collapsed": false
   },
   "id": "5431ffdc2299f5b7"
  },
  {
   "cell_type": "code",
   "outputs": [],
   "source": [
    "df_4 = df_3.copy()\n",
    "df_4 = df_4.drop(columns=['총상환원금', '총상환이자'])"
   ],
   "metadata": {
    "collapsed": false,
    "ExecuteTime": {
     "end_time": "2024-05-17T08:16:17.839760400Z",
     "start_time": "2024-05-17T08:16:17.826344800Z"
    }
   },
   "id": "2af20b22362c0711",
   "execution_count": 134
  },
  {
   "cell_type": "markdown",
   "source": [
    "# Test 이산형변수 칼럼통일"
   ],
   "metadata": {
    "collapsed": false
   },
   "id": "c4b1143d859792af"
  },
  {
   "cell_type": "code",
   "outputs": [],
   "source": [
    "X2 = df_4.drop(columns=['대출등급'])\n",
    "Y2 = df_4['대출등급']\n",
    "\n",
    "# train에만 있고 test에 없는 경우, 해당 column name으로 test에 zero columns 추가.\n",
    "X2[list(X_val_norm.columns[X_val_norm.columns.isin(X2) == False])] = 0\n",
    "\n",
    "# test에만 있고 train에는 없는 경우, 해당 column name은 제거.\n",
    "X2 = X2.drop(columns=list(X2.columns[X2.columns.isin(X_val_norm) == False]))\n",
    "X2 = X2[X_val_norm.columns]"
   ],
   "metadata": {
    "collapsed": false,
    "ExecuteTime": {
     "end_time": "2024-05-17T08:16:17.842761800Z",
     "start_time": "2024-05-17T08:16:17.834117600Z"
    }
   },
   "id": "18d926cd10cf34eb",
   "execution_count": 135
  },
  {
   "cell_type": "markdown",
   "source": [
    "# Test 연속형변수 분포통일"
   ],
   "metadata": {
    "collapsed": false
   },
   "id": "cdb5695fb0678df8"
  },
  {
   "cell_type": "code",
   "outputs": [],
   "source": [
    "# 가지고 있는 cache로 df_test normalize\n",
    "X2.loc[:, continuous_list] = standard_scale_val(X2, continuous_list, scaler)"
   ],
   "metadata": {
    "collapsed": false,
    "ExecuteTime": {
     "end_time": "2024-05-17T08:16:17.879233500Z",
     "start_time": "2024-05-17T08:16:17.841761200Z"
    }
   },
   "id": "b3a5a5bafb04236e",
   "execution_count": 136
  },
  {
   "cell_type": "markdown",
   "source": [
    "# Test 성능체크"
   ],
   "metadata": {
    "collapsed": false
   },
   "id": "5691fe8cf245e4dc"
  },
  {
   "cell_type": "code",
   "outputs": [
    {
     "name": "stdout",
     "output_type": "stream",
     "text": [
      "Decision Tree Classifier Performance\n",
      "\n",
      "Accuracy: 0.9439\n",
      "Recall (micro): 0.9439\n",
      "Precision (micro): 0.9439\n",
      "F1 Score (micro): 0.9439\n"
     ]
    }
   ],
   "source": [
    "pred = model_dt.predict(X2)\n",
    "\n",
    "print(f'Decision Tree Classifier Performance\\n')\n",
    "print(f'Accuracy: {accuracy_score(Y2, pred):.4f}')\n",
    "print(f'Recall (micro): {recall_score(Y2, pred, average=\"micro\"):.4f}')\n",
    "print(f'Precision (micro): {precision_score(Y2, pred, average=\"micro\"):.4f}')\n",
    "print(f'F1 Score (micro): {f1_score(Y2, pred, average=\"micro\"):.4f}')"
   ],
   "metadata": {
    "collapsed": false,
    "ExecuteTime": {
     "end_time": "2024-05-17T12:22:25.949273800Z",
     "start_time": "2024-05-17T12:22:25.884676400Z"
    }
   },
   "id": "c79f92bc5837a29c",
   "execution_count": 139
  },
  {
   "cell_type": "code",
   "outputs": [],
   "source": [
    "X2.to_csv('Files/test_pre_input.csv')\n",
    "Y2.to_csv('Files/test_pre_output.csv')"
   ],
   "metadata": {
    "collapsed": false,
    "ExecuteTime": {
     "end_time": "2024-05-17T08:16:18.072233600Z",
     "start_time": "2024-05-17T08:16:17.882247900Z"
    }
   },
   "id": "b09bcad7dc3934ab",
   "execution_count": 138
  }
 ],
 "metadata": {
  "kernelspec": {
   "name": "python3",
   "language": "python",
   "display_name": "Python 3 (ipykernel)"
  },
  "language_info": {
   "codemirror_mode": {
    "name": "ipython",
    "version": 2
   },
   "file_extension": ".py",
   "mimetype": "text/x-python",
   "name": "python",
   "nbconvert_exporter": "python",
   "pygments_lexer": "ipython2",
   "version": "2.7.6"
  }
 },
 "nbformat": 4,
 "nbformat_minor": 5
}
