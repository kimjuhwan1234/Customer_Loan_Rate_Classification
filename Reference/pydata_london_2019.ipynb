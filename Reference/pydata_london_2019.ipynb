{
 "cells": [
  {
   "cell_type": "markdown",
   "metadata": {},
   "source": [
    "# Mastering Gradient Boosting with CatBoost"
   ]
  },
  {
   "cell_type": "markdown",
   "metadata": {},
   "source": [
    "In this tutorial we will use dataset Amazon Employee Access Challenge from [Kaggle](https://www.kaggle.com) competition for our experiments. [Here](https://www.kaggle.com/c/amazon-employee-access-challenge/data) is the link to the challenge, that we will be exploring."
   ]
  },
  {
   "cell_type": "markdown",
   "metadata": {},
   "source": [
    "## Libraries installation"
   ]
  },
  {
   "cell_type": "code",
   "execution_count": 5,
   "metadata": {
    "ExecuteTime": {
     "end_time": "2024-01-21T05:19:55.891697100Z",
     "start_time": "2024-01-21T05:19:55.851686900Z"
    }
   },
   "outputs": [],
   "source": [
    "#!pip install --user --upgrade catboost\n",
    "#!pip install --user --upgrade ipywidgets\n",
    "#!pip install shap\n",
    "#!pip install sklearn\n",
    "#!jupyter nbextension enable --py widgetsnbextension"
   ]
  },
  {
   "cell_type": "code",
   "execution_count": 1,
   "metadata": {
    "ExecuteTime": {
     "end_time": "2024-01-22T04:08:01.182134100Z",
     "start_time": "2024-01-22T04:07:53.417808100Z"
    }
   },
   "outputs": [
    {
     "name": "stdout",
     "output_type": "stream",
     "text": [
      "1.2\n"
     ]
    }
   ],
   "source": [
    "import os\n",
    "import pandas as pd\n",
    "import numpy as np\n",
    "np.set_printoptions(precision=4)\n",
    "\n",
    "import catboost\n",
    "print(catboost.__version__)"
   ]
  },
  {
   "cell_type": "markdown",
   "metadata": {},
   "source": [
    "## Reading the data"
   ]
  },
  {
   "cell_type": "code",
   "execution_count": 2,
   "metadata": {
    "ExecuteTime": {
     "end_time": "2024-01-22T04:08:05.878368200Z",
     "start_time": "2024-01-22T04:08:01.110842300Z"
    }
   },
   "outputs": [],
   "source": [
    "from catboost.datasets import amazon\n",
    "\n",
    "# If you have \"URLError: SSL: CERTIFICATE_VERIFY_FAILED\" uncomment next two lines:\n",
    "# import ssl\n",
    "# ssl._create_default_https_context = ssl._create_unverified_context\n",
    "\n",
    "# If you have any other error:\n",
    "# Download datasets from http://bit.ly/2ZUXTSv and uncomment next line:\n",
    "# train_df = pd.read_csv('train.csv', sep=',', header='infer')\n",
    "\n",
    "(train_df, test_df) = amazon()"
   ]
  },
  {
   "cell_type": "code",
   "execution_count": 4,
   "metadata": {
    "ExecuteTime": {
     "end_time": "2024-01-22T04:08:34.837475700Z",
     "start_time": "2024-01-22T04:08:34.533111600Z"
    }
   },
   "outputs": [
    {
     "data": {
      "text/plain": "       ACTION  RESOURCE  MGR_ID  ROLE_ROLLUP_1  ROLE_ROLLUP_2  ROLE_DEPTNAME  \\\n0           1     39353   85475         117961         118300         123472   \n1           1     17183    1540         117961         118343         123125   \n2           1     36724   14457         118219         118220         117884   \n3           1     36135    5396         117961         118343         119993   \n4           1     42680    5905         117929         117930         119569   \n...       ...       ...     ...            ...            ...            ...   \n32764       1     23497   16971         117961         118300         119993   \n32765       1     25139  311198          91261         118026         122392   \n32766       1     34924   28805         117961         118327         120299   \n32767       1     80574   55643         118256         118257         117945   \n32768       1     14354   59575         117916         118150         117920   \n\n       ROLE_TITLE  ROLE_FAMILY_DESC  ROLE_FAMILY  ROLE_CODE  \n0          117905            117906       290919     117908  \n1          118536            118536       308574     118539  \n2          117879            267952        19721     117880  \n3          118321            240983       290919     118322  \n4          119323            123932        19793     119325  \n...           ...               ...          ...        ...  \n32764      118321            240983       290919     118322  \n32765      121143            173805       249618     121145  \n32766      124922            152038       118612     124924  \n32767      280788            280788       292795     119082  \n32768      118568            122142        19721     118570  \n\n[32769 rows x 10 columns]",
      "text/html": "<div>\n<style scoped>\n    .dataframe tbody tr th:only-of-type {\n        vertical-align: middle;\n    }\n\n    .dataframe tbody tr th {\n        vertical-align: top;\n    }\n\n    .dataframe thead th {\n        text-align: right;\n    }\n</style>\n<table border=\"1\" class=\"dataframe\">\n  <thead>\n    <tr style=\"text-align: right;\">\n      <th></th>\n      <th>ACTION</th>\n      <th>RESOURCE</th>\n      <th>MGR_ID</th>\n      <th>ROLE_ROLLUP_1</th>\n      <th>ROLE_ROLLUP_2</th>\n      <th>ROLE_DEPTNAME</th>\n      <th>ROLE_TITLE</th>\n      <th>ROLE_FAMILY_DESC</th>\n      <th>ROLE_FAMILY</th>\n      <th>ROLE_CODE</th>\n    </tr>\n  </thead>\n  <tbody>\n    <tr>\n      <th>0</th>\n      <td>1</td>\n      <td>39353</td>\n      <td>85475</td>\n      <td>117961</td>\n      <td>118300</td>\n      <td>123472</td>\n      <td>117905</td>\n      <td>117906</td>\n      <td>290919</td>\n      <td>117908</td>\n    </tr>\n    <tr>\n      <th>1</th>\n      <td>1</td>\n      <td>17183</td>\n      <td>1540</td>\n      <td>117961</td>\n      <td>118343</td>\n      <td>123125</td>\n      <td>118536</td>\n      <td>118536</td>\n      <td>308574</td>\n      <td>118539</td>\n    </tr>\n    <tr>\n      <th>2</th>\n      <td>1</td>\n      <td>36724</td>\n      <td>14457</td>\n      <td>118219</td>\n      <td>118220</td>\n      <td>117884</td>\n      <td>117879</td>\n      <td>267952</td>\n      <td>19721</td>\n      <td>117880</td>\n    </tr>\n    <tr>\n      <th>3</th>\n      <td>1</td>\n      <td>36135</td>\n      <td>5396</td>\n      <td>117961</td>\n      <td>118343</td>\n      <td>119993</td>\n      <td>118321</td>\n      <td>240983</td>\n      <td>290919</td>\n      <td>118322</td>\n    </tr>\n    <tr>\n      <th>4</th>\n      <td>1</td>\n      <td>42680</td>\n      <td>5905</td>\n      <td>117929</td>\n      <td>117930</td>\n      <td>119569</td>\n      <td>119323</td>\n      <td>123932</td>\n      <td>19793</td>\n      <td>119325</td>\n    </tr>\n    <tr>\n      <th>...</th>\n      <td>...</td>\n      <td>...</td>\n      <td>...</td>\n      <td>...</td>\n      <td>...</td>\n      <td>...</td>\n      <td>...</td>\n      <td>...</td>\n      <td>...</td>\n      <td>...</td>\n    </tr>\n    <tr>\n      <th>32764</th>\n      <td>1</td>\n      <td>23497</td>\n      <td>16971</td>\n      <td>117961</td>\n      <td>118300</td>\n      <td>119993</td>\n      <td>118321</td>\n      <td>240983</td>\n      <td>290919</td>\n      <td>118322</td>\n    </tr>\n    <tr>\n      <th>32765</th>\n      <td>1</td>\n      <td>25139</td>\n      <td>311198</td>\n      <td>91261</td>\n      <td>118026</td>\n      <td>122392</td>\n      <td>121143</td>\n      <td>173805</td>\n      <td>249618</td>\n      <td>121145</td>\n    </tr>\n    <tr>\n      <th>32766</th>\n      <td>1</td>\n      <td>34924</td>\n      <td>28805</td>\n      <td>117961</td>\n      <td>118327</td>\n      <td>120299</td>\n      <td>124922</td>\n      <td>152038</td>\n      <td>118612</td>\n      <td>124924</td>\n    </tr>\n    <tr>\n      <th>32767</th>\n      <td>1</td>\n      <td>80574</td>\n      <td>55643</td>\n      <td>118256</td>\n      <td>118257</td>\n      <td>117945</td>\n      <td>280788</td>\n      <td>280788</td>\n      <td>292795</td>\n      <td>119082</td>\n    </tr>\n    <tr>\n      <th>32768</th>\n      <td>1</td>\n      <td>14354</td>\n      <td>59575</td>\n      <td>117916</td>\n      <td>118150</td>\n      <td>117920</td>\n      <td>118568</td>\n      <td>122142</td>\n      <td>19721</td>\n      <td>118570</td>\n    </tr>\n  </tbody>\n</table>\n<p>32769 rows × 10 columns</p>\n</div>"
     },
     "execution_count": 4,
     "metadata": {},
     "output_type": "execute_result"
    }
   ],
   "source": [
    "train_df"
   ]
  },
  {
   "cell_type": "markdown",
   "metadata": {},
   "source": [
    "## Exploring the data"
   ]
  },
  {
   "cell_type": "markdown",
   "metadata": {},
   "source": [
    "Label values extraction"
   ]
  },
  {
   "cell_type": "code",
   "execution_count": 9,
   "metadata": {
    "ExecuteTime": {
     "end_time": "2024-01-21T05:20:01.594351300Z",
     "start_time": "2024-01-21T05:20:01.575269800Z"
    }
   },
   "outputs": [],
   "source": [
    "y = train_df.ACTION\n",
    "X = train_df.drop('ACTION', axis=1)"
   ]
  },
  {
   "cell_type": "markdown",
   "metadata": {},
   "source": [
    "Categorical features declaration"
   ]
  },
  {
   "cell_type": "code",
   "execution_count": 14,
   "metadata": {
    "ExecuteTime": {
     "end_time": "2024-01-21T05:20:16.251280300Z",
     "start_time": "2024-01-21T05:20:16.216767400Z"
    }
   },
   "outputs": [
    {
     "name": "stdout",
     "output_type": "stream",
     "text": [
      "[0, 1, 2, 3, 4, 5, 6, 7, 8]\n"
     ]
    }
   ],
   "source": [
    "cat_features = list(range(0, X.shape[1]))\n",
    "print(cat_features)"
   ]
  },
  {
   "cell_type": "markdown",
   "metadata": {},
   "source": [
    "Looking on label balance in dataset"
   ]
  },
  {
   "cell_type": "code",
   "execution_count": 11,
   "metadata": {
    "ExecuteTime": {
     "end_time": "2024-01-21T05:20:01.659765300Z",
     "start_time": "2024-01-21T05:20:01.594351300Z"
    }
   },
   "outputs": [
    {
     "name": "stdout",
     "output_type": "stream",
     "text": [
      "Labels: {0, 1}\n",
      "Zero count = 1897, One count = 30872\n"
     ]
    }
   ],
   "source": [
    "print('Labels: {}'.format(set(y)))\n",
    "print('Zero count = {}, One count = {}'.format(len(y) - sum(y), sum(y)))"
   ]
  },
  {
   "cell_type": "markdown",
   "metadata": {},
   "source": [
    "# Training the first model"
   ]
  },
  {
   "cell_type": "code",
   "execution_count": 15,
   "metadata": {
    "ExecuteTime": {
     "end_time": "2024-01-21T05:20:21.719402100Z",
     "start_time": "2024-01-21T05:20:18.409223100Z"
    }
   },
   "outputs": [
    {
     "name": "stdout",
     "output_type": "stream",
     "text": [
      "Learning rate set to 0.377604\n",
      "0:\tlearn: 0.4528598\ttotal: 244ms\tremaining: 24.2s\n",
      "10:\tlearn: 0.1744186\ttotal: 510ms\tremaining: 4.13s\n",
      "20:\tlearn: 0.1676119\ttotal: 803ms\tremaining: 3.02s\n",
      "30:\tlearn: 0.1652446\ttotal: 1.11s\tremaining: 2.48s\n",
      "40:\tlearn: 0.1633644\ttotal: 1.39s\tremaining: 2s\n",
      "50:\tlearn: 0.1621892\ttotal: 1.63s\tremaining: 1.57s\n",
      "60:\tlearn: 0.1609164\ttotal: 1.93s\tremaining: 1.23s\n",
      "70:\tlearn: 0.1594572\ttotal: 2.25s\tremaining: 921ms\n",
      "80:\tlearn: 0.1585876\ttotal: 2.59s\tremaining: 608ms\n",
      "90:\tlearn: 0.1573593\ttotal: 2.86s\tremaining: 282ms\n",
      "99:\tlearn: 0.1566977\ttotal: 3.09s\tremaining: 0us\n"
     ]
    },
    {
     "data": {
      "text/plain": "<catboost.core.CatBoostClassifier at 0x27e5482be10>"
     },
     "execution_count": 15,
     "metadata": {},
     "output_type": "execute_result"
    }
   ],
   "source": [
    "from catboost import CatBoostClassifier\n",
    "model = CatBoostClassifier(iterations=100)\n",
    "model.fit(X, y, cat_features=cat_features, verbose=10)"
   ]
  },
  {
   "cell_type": "code",
   "execution_count": 16,
   "metadata": {
    "ExecuteTime": {
     "end_time": "2024-01-21T05:20:22.586676200Z",
     "start_time": "2024-01-21T05:20:22.432599300Z"
    }
   },
   "outputs": [
    {
     "data": {
      "text/plain": "array([[0.0098, 0.9902],\n       [0.0101, 0.9899],\n       [0.0579, 0.9421],\n       ...,\n       [0.0118, 0.9882],\n       [0.1891, 0.8109],\n       [0.0235, 0.9765]])"
     },
     "execution_count": 16,
     "metadata": {},
     "output_type": "execute_result"
    }
   ],
   "source": [
    "model.predict_proba(X)"
   ]
  },
  {
   "cell_type": "markdown",
   "metadata": {},
   "source": [
    "# Working with dataset"
   ]
  },
  {
   "cell_type": "markdown",
   "metadata": {},
   "source": [
    "There are several ways of passing dataset to training - using X,y (the initial matrix) or using Pool class.\n",
    "Pool class is the class for storing the dataset. In the next few blocks we'll explore the ways to create a Pool object.\n",
    "\n",
    "You can use Pool class if the dataset has more than just X and y (for example, it has sample weights or groups) or if the dataset is large and it takes long time to read it into python."
   ]
  },
  {
   "cell_type": "code",
   "execution_count": 17,
   "metadata": {
    "ExecuteTime": {
     "end_time": "2024-01-21T05:20:32.795734100Z",
     "start_time": "2024-01-21T05:20:32.713141800Z"
    }
   },
   "outputs": [],
   "source": [
    "from catboost import Pool\n",
    "pool = Pool(data=X, label=y, cat_features=cat_features)"
   ]
  },
  {
   "cell_type": "markdown",
   "metadata": {},
   "source": [
    "## Split your data into train and validation"
   ]
  },
  {
   "cell_type": "code",
   "execution_count": 19,
   "metadata": {
    "ExecuteTime": {
     "end_time": "2024-01-21T08:44:41.489892800Z",
     "start_time": "2024-01-21T08:44:41.372964700Z"
    }
   },
   "outputs": [],
   "source": [
    "from sklearn.model_selection import train_test_split\n",
    "\n",
    "data = train_test_split(X, y, test_size=0.2, random_state=0)\n",
    "X_train, X_validation, y_train, y_validation = data\n",
    "\n",
    "train_pool = Pool(\n",
    "    data=X_train, \n",
    "    label=y_train, \n",
    "    cat_features=cat_features\n",
    ")\n",
    "\n",
    "validation_pool = Pool(\n",
    "    data=X_validation, \n",
    "    label=y_validation, \n",
    "    cat_features=cat_features\n",
    ")"
   ]
  },
  {
   "cell_type": "markdown",
   "metadata": {},
   "source": [
    "## Selecting the objective function"
   ]
  },
  {
   "cell_type": "markdown",
   "metadata": {},
   "source": [
    "Possible options for binary classification:\n",
    "\n",
    "`Logloss` for binary target.\n",
    "\n",
    "`CrossEntropy` for probabilities in target."
   ]
  },
  {
   "cell_type": "code",
   "execution_count": 20,
   "metadata": {
    "ExecuteTime": {
     "end_time": "2024-01-21T08:44:43.799759800Z",
     "start_time": "2024-01-21T08:44:43.650346500Z"
    }
   },
   "outputs": [
    {
     "name": "stdout",
     "output_type": "stream",
     "text": [
      "Model is fitted: True\n",
      "Model params:\n",
      "{'iterations': 5, 'learning_rate': 0.1}\n"
     ]
    }
   ],
   "source": [
    "model = CatBoostClassifier(\n",
    "    iterations=5,\n",
    "    learning_rate=0.1,\n",
    "    # loss_function='CrossEntropy'\n",
    ")\n",
    "model.fit(train_pool, eval_set=validation_pool, verbose=False)\n",
    "\n",
    "print('Model is fitted: {}'.format(model.is_fitted()))\n",
    "print('Model params:\\n{}'.format(model.get_params()))"
   ]
  },
  {
   "cell_type": "markdown",
   "metadata": {},
   "source": [
    "## Stdout of the training"
   ]
  },
  {
   "cell_type": "code",
   "execution_count": 21,
   "metadata": {
    "scrolled": false,
    "ExecuteTime": {
     "end_time": "2024-01-21T08:44:50.405334500Z",
     "start_time": "2024-01-21T08:44:50.026524300Z"
    }
   },
   "outputs": [
    {
     "name": "stdout",
     "output_type": "stream",
     "text": [
      "Learning rate set to 0.441257\n",
      "0:\tlearn: 0.4226231\ttest: 0.4217069\tbest: 0.4217069 (0)\ttotal: 19.7ms\tremaining: 276ms\n",
      "1:\tlearn: 0.3157972\ttest: 0.3136469\tbest: 0.3136469 (1)\ttotal: 43ms\tremaining: 279ms\n",
      "2:\tlearn: 0.2631196\ttest: 0.2603395\tbest: 0.2603395 (2)\ttotal: 63.9ms\tremaining: 255ms\n",
      "3:\tlearn: 0.2334650\ttest: 0.2294580\tbest: 0.2294580 (3)\ttotal: 83.8ms\tremaining: 230ms\n",
      "4:\tlearn: 0.2077060\ttest: 0.2017327\tbest: 0.2017327 (4)\ttotal: 104ms\tremaining: 208ms\n",
      "5:\tlearn: 0.1961364\ttest: 0.1883112\tbest: 0.1883112 (5)\ttotal: 124ms\tremaining: 187ms\n",
      "6:\tlearn: 0.1879266\ttest: 0.1794018\tbest: 0.1794018 (6)\ttotal: 144ms\tremaining: 165ms\n",
      "7:\tlearn: 0.1841218\ttest: 0.1743149\tbest: 0.1743149 (7)\ttotal: 159ms\tremaining: 139ms\n",
      "8:\tlearn: 0.1814626\ttest: 0.1698731\tbest: 0.1698731 (8)\ttotal: 180ms\tremaining: 120ms\n",
      "9:\tlearn: 0.1785403\ttest: 0.1650335\tbest: 0.1650335 (9)\ttotal: 200ms\tremaining: 99.9ms\n",
      "10:\tlearn: 0.1771678\ttest: 0.1634002\tbest: 0.1634002 (10)\ttotal: 222ms\tremaining: 80.6ms\n",
      "11:\tlearn: 0.1762101\ttest: 0.1628239\tbest: 0.1628239 (11)\ttotal: 250ms\tremaining: 62.6ms\n",
      "12:\tlearn: 0.1758255\ttest: 0.1624307\tbest: 0.1624307 (12)\ttotal: 272ms\tremaining: 41.8ms\n",
      "13:\tlearn: 0.1750837\ttest: 0.1622120\tbest: 0.1622120 (13)\ttotal: 292ms\tremaining: 20.9ms\n",
      "14:\tlearn: 0.1745736\ttest: 0.1616416\tbest: 0.1616416 (14)\ttotal: 311ms\tremaining: 0us\n",
      "\n",
      "bestTest = 0.1616416212\n",
      "bestIteration = 14\n"
     ]
    }
   ],
   "source": [
    "model = CatBoostClassifier(\n",
    "    iterations=15,\n",
    "#     verbose=5,\n",
    ")\n",
    "model.fit(train_pool, eval_set=validation_pool);"
   ]
  },
  {
   "cell_type": "markdown",
   "metadata": {},
   "source": [
    "## Metrics calculation and graph plotting"
   ]
  },
  {
   "cell_type": "code",
   "execution_count": 22,
   "metadata": {
    "ExecuteTime": {
     "end_time": "2024-01-21T08:44:57.718293900Z",
     "start_time": "2024-01-21T08:44:52.320027600Z"
    }
   },
   "outputs": [
    {
     "data": {
      "text/plain": "MetricVisualizer(layout=Layout(align_self='stretch', height='500px'))",
      "application/vnd.jupyter.widget-view+json": {
       "version_major": 2,
       "version_minor": 0,
       "model_id": "89db7d18ee444975b510cd2c05bffb64"
      }
     },
     "metadata": {},
     "output_type": "display_data"
    }
   ],
   "source": [
    "model = CatBoostClassifier(\n",
    "    iterations=50,\n",
    "    learning_rate=0.5,\n",
    "    custom_loss=['AUC', 'Accuracy']\n",
    ")\n",
    "\n",
    "model.fit(\n",
    "    train_pool,\n",
    "    eval_set=validation_pool,\n",
    "    verbose=False,\n",
    "    plot=True\n",
    ");"
   ]
  },
  {
   "cell_type": "markdown",
   "metadata": {},
   "source": [
    "## Model comparison"
   ]
  },
  {
   "cell_type": "code",
   "execution_count": 23,
   "metadata": {
    "ExecuteTime": {
     "end_time": "2024-01-21T08:45:25.987527200Z",
     "start_time": "2024-01-21T08:45:20.337767900Z"
    }
   },
   "outputs": [
    {
     "name": "stdout",
     "output_type": "stream",
     "text": [
      "0:\tlearn: 0.3264513\ttest: 0.3248170\tbest: 0.3248170 (0)\ttotal: 31.6ms\tremaining: 3.13s\n",
      "20:\tlearn: 0.1688825\ttest: 0.1574182\tbest: 0.1573949 (16)\ttotal: 443ms\tremaining: 1.67s\n",
      "40:\tlearn: 0.1632884\ttest: 0.1582531\tbest: 0.1571533 (23)\ttotal: 936ms\tremaining: 1.35s\n",
      "60:\tlearn: 0.1584388\ttest: 0.1573279\tbest: 0.1569712 (52)\ttotal: 2.18s\tremaining: 1.39s\n",
      "80:\tlearn: 0.1544282\ttest: 0.1583794\tbest: 0.1569712 (52)\ttotal: 3.18s\tremaining: 745ms\n",
      "99:\tlearn: 0.1510415\ttest: 0.1583995\tbest: 0.1569712 (52)\ttotal: 3.71s\tremaining: 0us\n",
      "\n",
      "bestTest = 0.1569712214\n",
      "bestIteration = 52\n",
      "\n",
      "Shrink model to first 53 iterations.\n",
      "0:\tlearn: 0.6853769\ttest: 0.6853610\tbest: 0.6853610 (0)\ttotal: 22.2ms\tremaining: 2.2s\n",
      "20:\tlearn: 0.5575578\ttest: 0.5568257\tbest: 0.5568257 (20)\ttotal: 357ms\tremaining: 1.34s\n",
      "40:\tlearn: 0.4678112\ttest: 0.4663769\tbest: 0.4663769 (40)\ttotal: 760ms\tremaining: 1.09s\n",
      "60:\tlearn: 0.4029225\ttest: 0.4011544\tbest: 0.4011544 (60)\ttotal: 1.08s\tremaining: 693ms\n",
      "80:\tlearn: 0.3551621\ttest: 0.3530433\tbest: 0.3530433 (80)\ttotal: 1.39s\tremaining: 325ms\n",
      "99:\tlearn: 0.3211782\ttest: 0.3188600\tbest: 0.3188600 (99)\ttotal: 1.62s\tremaining: 0us\n",
      "\n",
      "bestTest = 0.3188600187\n",
      "bestIteration = 99\n"
     ]
    }
   ],
   "source": [
    "model1 = CatBoostClassifier(\n",
    "    learning_rate=0.7,\n",
    "    iterations=100,\n",
    "    train_dir='learing_rate_0.7'\n",
    ")\n",
    "\n",
    "model2 = CatBoostClassifier(\n",
    "    learning_rate=0.01,\n",
    "    iterations=100,\n",
    "    train_dir='learing_rate_0.01'\n",
    ")\n",
    "\n",
    "model1.fit(train_pool, eval_set=validation_pool, verbose=20)\n",
    "model2.fit(train_pool, eval_set=validation_pool, verbose=20);"
   ]
  },
  {
   "cell_type": "code",
   "execution_count": 26,
   "metadata": {
    "ExecuteTime": {
     "end_time": "2024-01-21T08:48:58.962894800Z",
     "start_time": "2024-01-21T08:48:58.913256300Z"
    }
   },
   "outputs": [
    {
     "data": {
      "text/plain": "MetricVisualizer(layout=Layout(align_self='stretch', height='500px'))",
      "application/vnd.jupyter.widget-view+json": {
       "version_major": 2,
       "version_minor": 0,
       "model_id": "35044dc7b3014692b93ce99bbf7d446d"
      }
     },
     "metadata": {},
     "output_type": "display_data"
    }
   ],
   "source": [
    "from catboost import MetricVisualizer\n",
    "MetricVisualizer(['learing_rate_0.7', 'learing_rate_0.01']).start()"
   ]
  },
  {
   "cell_type": "markdown",
   "metadata": {},
   "source": [
    "## Best iteration"
   ]
  },
  {
   "cell_type": "code",
   "execution_count": 27,
   "metadata": {
    "ExecuteTime": {
     "end_time": "2024-01-21T08:49:35.966884Z",
     "start_time": "2024-01-21T08:49:29.521680Z"
    }
   },
   "outputs": [
    {
     "data": {
      "text/plain": "MetricVisualizer(layout=Layout(align_self='stretch', height='500px'))",
      "application/vnd.jupyter.widget-view+json": {
       "version_major": 2,
       "version_minor": 0,
       "model_id": "3cd50477f9b64528be548a1a1caeb7e1"
      }
     },
     "metadata": {},
     "output_type": "display_data"
    }
   ],
   "source": [
    "model = CatBoostClassifier(\n",
    "    iterations=100,\n",
    "#     use_best_model=False\n",
    ")\n",
    "model.fit(\n",
    "    train_pool,\n",
    "    eval_set=validation_pool,\n",
    "    verbose=False,\n",
    "    plot=True\n",
    ");"
   ]
  },
  {
   "cell_type": "code",
   "execution_count": 28,
   "metadata": {
    "ExecuteTime": {
     "end_time": "2024-01-21T08:49:36.781233600Z",
     "start_time": "2024-01-21T08:49:36.778133700Z"
    }
   },
   "outputs": [
    {
     "name": "stdout",
     "output_type": "stream",
     "text": [
      "Tree count: 82\n"
     ]
    }
   ],
   "source": [
    "print('Tree count: ' + str(model.tree_count_))"
   ]
  },
  {
   "cell_type": "markdown",
   "metadata": {},
   "source": [
    "## Cross-validation"
   ]
  },
  {
   "cell_type": "code",
   "execution_count": 29,
   "metadata": {
    "ExecuteTime": {
     "end_time": "2024-01-21T08:55:23.791832900Z",
     "start_time": "2024-01-21T08:55:03.450501500Z"
    }
   },
   "outputs": [
    {
     "data": {
      "text/plain": "MetricVisualizer(layout=Layout(align_self='stretch', height='500px'))",
      "application/vnd.jupyter.widget-view+json": {
       "version_major": 2,
       "version_minor": 0,
       "model_id": "55c396ec3b324ce983d2813bf96bfcad"
      }
     },
     "metadata": {},
     "output_type": "display_data"
    },
    {
     "name": "stdout",
     "output_type": "stream",
     "text": [
      "Training on fold [0/5]\n",
      "\n",
      "bestTest = 0.1628504126\n",
      "bestIteration = 68\n",
      "Training on fold [1/5]\n",
      "\n",
      "bestTest = 0.1608272543\n",
      "bestIteration = 77\n",
      "\n",
      "Training on fold [2/5]\n",
      "\n",
      "bestTest = 0.1694535356\n",
      "bestIteration = 12\n",
      "\n",
      "Training on fold [3/5]\n",
      "\n",
      "bestTest = 0.1569498918\n",
      "bestIteration = 29\n",
      "\n",
      "Training on fold [4/5]\n",
      "\n",
      "bestTest = 0.1644437541\n",
      "bestIteration = 30\n"
     ]
    }
   ],
   "source": [
    "from catboost import cv\n",
    "\n",
    "params = {\n",
    "    'loss_function': 'Logloss',\n",
    "    'iterations': 80,\n",
    "    'custom_loss': 'AUC',\n",
    "    'learning_rate': 0.5,\n",
    "}\n",
    "\n",
    "cv_data = cv(\n",
    "    params = params,\n",
    "    pool = train_pool,\n",
    "    fold_count=5,\n",
    "    shuffle=True,\n",
    "    partition_random_seed=0,\n",
    "    plot=True,\n",
    "    verbose=False\n",
    ")"
   ]
  },
  {
   "cell_type": "code",
   "execution_count": 30,
   "metadata": {
    "ExecuteTime": {
     "end_time": "2024-01-21T08:55:23.799723300Z",
     "start_time": "2024-01-21T08:55:23.792833600Z"
    }
   },
   "outputs": [
    {
     "data": {
      "text/plain": "   iterations  test-Logloss-mean  test-Logloss-std  train-Logloss-mean  \\\n0           0           0.305831          0.000020            0.305810   \n1           1           0.234755          0.001020            0.235427   \n2           2           0.196036          0.002694            0.202469   \n3           3           0.182656          0.001401            0.191400   \n4           4           0.175531          0.001515            0.185466   \n5           5           0.172046          0.002150            0.182478   \n6           6           0.170193          0.001849            0.180450   \n7           7           0.168321          0.002187            0.178140   \n8           8           0.167416          0.002498            0.176438   \n9           9           0.166474          0.003010            0.175041   \n\n   train-Logloss-std  test-AUC-mean  test-AUC-std  \n0           0.000014       0.496175      0.014042  \n1           0.000274       0.569789      0.030202  \n2           0.003171       0.761543      0.025878  \n3           0.001531       0.801902      0.008434  \n4           0.002237       0.817244      0.008916  \n5           0.002121       0.823333      0.006377  \n6           0.002460       0.828977      0.007246  \n7           0.002177       0.834106      0.010527  \n8           0.002126       0.835628      0.011008  \n9           0.002259       0.837496      0.011698  ",
      "text/html": "<div>\n<style scoped>\n    .dataframe tbody tr th:only-of-type {\n        vertical-align: middle;\n    }\n\n    .dataframe tbody tr th {\n        vertical-align: top;\n    }\n\n    .dataframe thead th {\n        text-align: right;\n    }\n</style>\n<table border=\"1\" class=\"dataframe\">\n  <thead>\n    <tr style=\"text-align: right;\">\n      <th></th>\n      <th>iterations</th>\n      <th>test-Logloss-mean</th>\n      <th>test-Logloss-std</th>\n      <th>train-Logloss-mean</th>\n      <th>train-Logloss-std</th>\n      <th>test-AUC-mean</th>\n      <th>test-AUC-std</th>\n    </tr>\n  </thead>\n  <tbody>\n    <tr>\n      <th>0</th>\n      <td>0</td>\n      <td>0.305831</td>\n      <td>0.000020</td>\n      <td>0.305810</td>\n      <td>0.000014</td>\n      <td>0.496175</td>\n      <td>0.014042</td>\n    </tr>\n    <tr>\n      <th>1</th>\n      <td>1</td>\n      <td>0.234755</td>\n      <td>0.001020</td>\n      <td>0.235427</td>\n      <td>0.000274</td>\n      <td>0.569789</td>\n      <td>0.030202</td>\n    </tr>\n    <tr>\n      <th>2</th>\n      <td>2</td>\n      <td>0.196036</td>\n      <td>0.002694</td>\n      <td>0.202469</td>\n      <td>0.003171</td>\n      <td>0.761543</td>\n      <td>0.025878</td>\n    </tr>\n    <tr>\n      <th>3</th>\n      <td>3</td>\n      <td>0.182656</td>\n      <td>0.001401</td>\n      <td>0.191400</td>\n      <td>0.001531</td>\n      <td>0.801902</td>\n      <td>0.008434</td>\n    </tr>\n    <tr>\n      <th>4</th>\n      <td>4</td>\n      <td>0.175531</td>\n      <td>0.001515</td>\n      <td>0.185466</td>\n      <td>0.002237</td>\n      <td>0.817244</td>\n      <td>0.008916</td>\n    </tr>\n    <tr>\n      <th>5</th>\n      <td>5</td>\n      <td>0.172046</td>\n      <td>0.002150</td>\n      <td>0.182478</td>\n      <td>0.002121</td>\n      <td>0.823333</td>\n      <td>0.006377</td>\n    </tr>\n    <tr>\n      <th>6</th>\n      <td>6</td>\n      <td>0.170193</td>\n      <td>0.001849</td>\n      <td>0.180450</td>\n      <td>0.002460</td>\n      <td>0.828977</td>\n      <td>0.007246</td>\n    </tr>\n    <tr>\n      <th>7</th>\n      <td>7</td>\n      <td>0.168321</td>\n      <td>0.002187</td>\n      <td>0.178140</td>\n      <td>0.002177</td>\n      <td>0.834106</td>\n      <td>0.010527</td>\n    </tr>\n    <tr>\n      <th>8</th>\n      <td>8</td>\n      <td>0.167416</td>\n      <td>0.002498</td>\n      <td>0.176438</td>\n      <td>0.002126</td>\n      <td>0.835628</td>\n      <td>0.011008</td>\n    </tr>\n    <tr>\n      <th>9</th>\n      <td>9</td>\n      <td>0.166474</td>\n      <td>0.003010</td>\n      <td>0.175041</td>\n      <td>0.002259</td>\n      <td>0.837496</td>\n      <td>0.011698</td>\n    </tr>\n  </tbody>\n</table>\n</div>"
     },
     "execution_count": 30,
     "metadata": {},
     "output_type": "execute_result"
    }
   ],
   "source": [
    "cv_data.head(10)"
   ]
  },
  {
   "cell_type": "code",
   "execution_count": 32,
   "metadata": {
    "ExecuteTime": {
     "end_time": "2024-01-21T08:55:53.613170200Z",
     "start_time": "2024-01-21T08:55:53.593537900Z"
    }
   },
   "outputs": [
    {
     "name": "stdout",
     "output_type": "stream",
     "text": [
      "Best validation Logloss score, not stratified: 0.1636±0.0046 on step 35\n"
     ]
    }
   ],
   "source": [
    "best_value = np.min(cv_data['test-Logloss-mean'])\n",
    "best_iter = np.argmin(cv_data['test-Logloss-mean'])\n",
    "\n",
    "print('Best validation Logloss score, not stratified: {:.4f}±{:.4f} on step {}'.format(\n",
    "    best_value,\n",
    "    cv_data['test-Logloss-std'][best_iter],\n",
    "    best_iter)\n",
    ")"
   ]
  },
  {
   "cell_type": "code",
   "execution_count": 33,
   "metadata": {
    "ExecuteTime": {
     "end_time": "2024-01-21T08:56:20.605504300Z",
     "start_time": "2024-01-21T08:56:05.003770300Z"
    }
   },
   "outputs": [
    {
     "data": {
      "text/plain": "MetricVisualizer(layout=Layout(align_self='stretch', height='500px'))",
      "application/vnd.jupyter.widget-view+json": {
       "version_major": 2,
       "version_minor": 0,
       "model_id": "f0d1a8ccfa79443dbd4fa042982a659f"
      }
     },
     "metadata": {},
     "output_type": "display_data"
    },
    {
     "name": "stdout",
     "output_type": "stream",
     "text": [
      "Training on fold [0/5]\n",
      "\n",
      "bestTest = 0.1524159074\n",
      "bestIteration = 40\n",
      "\n",
      "Training on fold [1/5]\n",
      "\n",
      "bestTest = 0.1684459607\n",
      "bestIteration = 44\n",
      "\n",
      "Training on fold [2/5]\n",
      "\n",
      "bestTest = 0.1668276983\n",
      "bestIteration = 34\n",
      "\n",
      "Training on fold [3/5]\n",
      "\n",
      "bestTest = 0.1508994738\n",
      "bestIteration = 79\n",
      "\n",
      "Training on fold [4/5]\n",
      "\n",
      "bestTest = 0.1693370995\n",
      "bestIteration = 41\n"
     ]
    }
   ],
   "source": [
    "from catboost import cv\n",
    "\n",
    "params = {\n",
    "    'loss_function': 'Logloss',\n",
    "    'iterations': 80,\n",
    "    'custom_loss': 'AUC',\n",
    "    'learning_rate': 0.5,\n",
    "}\n",
    "\n",
    "cv_data = cv(\n",
    "    params = params,\n",
    "    pool = train_pool,\n",
    "    fold_count=5,\n",
    "    shuffle=True,\n",
    "    partition_random_seed=0,\n",
    "    plot=True,\n",
    "    stratified=False,\n",
    "    verbose=False\n",
    ")"
   ]
  },
  {
   "cell_type": "code",
   "execution_count": 34,
   "metadata": {
    "ExecuteTime": {
     "end_time": "2024-01-21T08:56:45.999855100Z",
     "start_time": "2024-01-21T08:56:45.994534400Z"
    }
   },
   "outputs": [
    {
     "name": "stdout",
     "output_type": "stream",
     "text": [
      "Best validation Logloss score, stratified: 0.1620±0.0091 on step 40\n"
     ]
    }
   ],
   "source": [
    "best_value = cv_data['test-Logloss-mean'].min()\n",
    "best_iter = cv_data['test-Logloss-mean'].values.argmin()\n",
    "\n",
    "print('Best validation Logloss score, stratified: {:.4f}±{:.4f} on step {}'.format(\n",
    "    best_value,\n",
    "    cv_data['test-Logloss-std'][best_iter],\n",
    "    best_iter)\n",
    ")"
   ]
  },
  {
   "cell_type": "markdown",
   "metadata": {},
   "source": [
    "## Sklearn Grid Search"
   ]
  },
  {
   "cell_type": "code",
   "execution_count": 35,
   "metadata": {
    "ExecuteTime": {
     "end_time": "2024-01-21T08:57:10.632744500Z",
     "start_time": "2024-01-21T08:57:05.382003300Z"
    }
   },
   "outputs": [
    {
     "name": "stdout",
     "output_type": "stream",
     "text": [
      "0:\tlearn: 0.6923673\ttotal: 13.6ms\tremaining: 258ms\n",
      "19:\tlearn: 0.6778431\ttotal: 274ms\tremaining: 0us\n",
      "0:\tlearn: 0.6923682\ttotal: 12.4ms\tremaining: 236ms\n",
      "19:\tlearn: 0.6778558\ttotal: 239ms\tremaining: 0us\n",
      "0:\tlearn: 0.6923682\ttotal: 25.6ms\tremaining: 487ms\n",
      "19:\tlearn: 0.6778568\ttotal: 305ms\tremaining: 0us\n",
      "0:\tlearn: 0.6853838\ttotal: 14.4ms\tremaining: 274ms\n",
      "19:\tlearn: 0.5629769\ttotal: 227ms\tremaining: 0us\n",
      "0:\tlearn: 0.6853928\ttotal: 11.2ms\tremaining: 212ms\n",
      "19:\tlearn: 0.5630657\ttotal: 210ms\tremaining: 0us\n",
      "0:\tlearn: 0.6853925\ttotal: 11.1ms\tremaining: 212ms\n",
      "19:\tlearn: 0.5630556\ttotal: 249ms\tremaining: 0us\n",
      "0:\tlearn: 0.3972934\ttotal: 11.7ms\tremaining: 221ms\n",
      "19:\tlearn: 0.1766459\ttotal: 322ms\tremaining: 0us\n",
      "0:\tlearn: 0.3977266\ttotal: 13.2ms\tremaining: 251ms\n",
      "19:\tlearn: 0.1774892\ttotal: 358ms\tremaining: 0us\n",
      "0:\tlearn: 0.3977128\ttotal: 14.1ms\tremaining: 267ms\n",
      "19:\tlearn: 0.1733642\ttotal: 421ms\tremaining: 0us\n",
      "0:\tlearn: 0.3971379\ttotal: 16.2ms\tremaining: 308ms\n",
      "19:\tlearn: 0.1717590\ttotal: 448ms\tremaining: 0us\n"
     ]
    },
    {
     "data": {
      "text/plain": "{'iterations': 20,\n 'learning_rate': 0.5,\n 'verbose': 20,\n 'cat_features': [0, 1, 2, 3, 4, 5, 6, 7, 8]}"
     },
     "execution_count": 35,
     "metadata": {},
     "output_type": "execute_result"
    }
   ],
   "source": [
    "from sklearn.model_selection import GridSearchCV\n",
    "\n",
    "param_grid = {\n",
    "    \"learning_rate\": [0.001, 0.01, 0.5],\n",
    "}\n",
    "\n",
    "clf = CatBoostClassifier(\n",
    "    iterations=20, \n",
    "    cat_features=cat_features, \n",
    "    verbose=20\n",
    ")\n",
    "grid_search = GridSearchCV(clf, param_grid=param_grid, cv=3)\n",
    "results = grid_search.fit(X_train, y_train)\n",
    "results.best_estimator_.get_params()"
   ]
  },
  {
   "cell_type": "markdown",
   "metadata": {},
   "source": [
    "## Overfitting Detector"
   ]
  },
  {
   "cell_type": "code",
   "execution_count": null,
   "metadata": {},
   "outputs": [],
   "source": [
    "model_with_early_stop = CatBoostClassifier(\n",
    "    iterations=200,\n",
    "    learning_rate=0.5,\n",
    "    early_stopping_rounds=20\n",
    ")\n",
    "\n",
    "model_with_early_stop.fit(\n",
    "    train_pool,\n",
    "    eval_set=validation_pool,\n",
    "    verbose=False,\n",
    "    plot=True\n",
    ");"
   ]
  },
  {
   "cell_type": "code",
   "execution_count": null,
   "metadata": {},
   "outputs": [],
   "source": [
    "print(model_with_early_stop.tree_count_)"
   ]
  },
  {
   "cell_type": "markdown",
   "metadata": {},
   "source": [
    "### Overfitting Detector with eval metric"
   ]
  },
  {
   "cell_type": "code",
   "execution_count": null,
   "metadata": {
    "scrolled": false
   },
   "outputs": [],
   "source": [
    "model_with_early_stop = CatBoostClassifier(\n",
    "    eval_metric='AUC',\n",
    "    iterations=200,\n",
    "    learning_rate=0.5,\n",
    "    early_stopping_rounds=20\n",
    ")\n",
    "model_with_early_stop.fit(\n",
    "    train_pool,\n",
    "    eval_set=validation_pool,\n",
    "    verbose=False,\n",
    "    plot=True\n",
    ");"
   ]
  },
  {
   "cell_type": "code",
   "execution_count": null,
   "metadata": {},
   "outputs": [],
   "source": [
    "print(model_with_early_stop.tree_count_)"
   ]
  },
  {
   "cell_type": "markdown",
   "metadata": {},
   "source": [
    "## Model predictions"
   ]
  },
  {
   "cell_type": "code",
   "execution_count": null,
   "metadata": {},
   "outputs": [],
   "source": [
    "model = CatBoostClassifier(iterations=200, learning_rate=0.03)\n",
    "model.fit(train_pool, verbose=50);"
   ]
  },
  {
   "cell_type": "code",
   "execution_count": null,
   "metadata": {},
   "outputs": [],
   "source": [
    "print(model.predict(X_validation))"
   ]
  },
  {
   "cell_type": "code",
   "execution_count": null,
   "metadata": {},
   "outputs": [],
   "source": [
    "print(model.predict_proba(X_validation))"
   ]
  },
  {
   "cell_type": "code",
   "execution_count": null,
   "metadata": {},
   "outputs": [],
   "source": [
    "raw_pred = model.predict(\n",
    "    X_validation,\n",
    "    prediction_type='RawFormulaVal'\n",
    ")\n",
    "\n",
    "print(raw_pred)"
   ]
  },
  {
   "cell_type": "code",
   "execution_count": null,
   "metadata": {},
   "outputs": [],
   "source": [
    "from numpy import exp\n",
    "\n",
    "sigmoid = lambda x: 1 / (1 + exp(-x))\n",
    "\n",
    "probabilities = sigmoid(raw_pred)\n",
    "\n",
    "print(probabilities)"
   ]
  },
  {
   "cell_type": "markdown",
   "metadata": {},
   "source": [
    "## Select decision boundary"
   ]
  },
  {
   "cell_type": "markdown",
   "metadata": {},
   "source": [
    "![](https://habrastorage.org/webt/y4/1q/yq/y41qyqfm9mcerp2ziys48phpjia.png)"
   ]
  },
  {
   "cell_type": "code",
   "execution_count": null,
   "metadata": {},
   "outputs": [],
   "source": [
    "import matplotlib.pyplot as plt\n",
    "from catboost.utils import get_roc_curve\n",
    "from catboost.utils import get_fpr_curve\n",
    "from catboost.utils import get_fnr_curve\n",
    "\n",
    "curve = get_roc_curve(model, validation_pool)\n",
    "(fpr, tpr, thresholds) = curve\n",
    "\n",
    "(thresholds, fpr) = get_fpr_curve(curve=curve)\n",
    "(thresholds, fnr) = get_fnr_curve(curve=curve)"
   ]
  },
  {
   "cell_type": "code",
   "execution_count": null,
   "metadata": {},
   "outputs": [],
   "source": [
    "plt.figure(figsize=(16, 8))\n",
    "style = {'alpha':0.5, 'lw':2}\n",
    "\n",
    "plt.plot(thresholds, fpr, color='blue', label='FPR', **style)\n",
    "plt.plot(thresholds, fnr, color='green', label='FNR', **style)\n",
    "\n",
    "plt.xlim([0.0, 1.0])\n",
    "plt.ylim([0.0, 1.05])\n",
    "plt.xticks(fontsize=16)\n",
    "plt.yticks(fontsize=16)\n",
    "plt.grid(True)\n",
    "plt.xlabel('Threshold', fontsize=16)\n",
    "plt.ylabel('Error Rate', fontsize=16)\n",
    "plt.title('FPR-FNR curves', fontsize=20)\n",
    "plt.legend(loc=\"lower left\", fontsize=16);"
   ]
  },
  {
   "cell_type": "code",
   "execution_count": null,
   "metadata": {},
   "outputs": [],
   "source": [
    "from catboost.utils import select_threshold\n",
    "\n",
    "print(select_threshold(model, validation_pool, FNR=0.01))\n",
    "print(select_threshold(model, validation_pool, FPR=0.01))"
   ]
  },
  {
   "cell_type": "markdown",
   "metadata": {},
   "source": [
    "## Metric evaluation on a new dataset"
   ]
  },
  {
   "cell_type": "code",
   "execution_count": null,
   "metadata": {},
   "outputs": [],
   "source": [
    "metrics = model.eval_metrics(\n",
    "    data=validation_pool,\n",
    "    metrics=['Logloss','AUC'],\n",
    "    ntree_start=0,\n",
    "    ntree_end=0,\n",
    "    eval_period=1,\n",
    "    plot=True\n",
    ")"
   ]
  },
  {
   "cell_type": "code",
   "execution_count": null,
   "metadata": {},
   "outputs": [],
   "source": [
    "print('AUC values:\\n{}'.format(np.array(metrics['AUC'])))"
   ]
  },
  {
   "cell_type": "markdown",
   "metadata": {},
   "source": [
    "## Feature importances"
   ]
  },
  {
   "cell_type": "markdown",
   "metadata": {},
   "source": [
    "### Prediction values change"
   ]
  },
  {
   "cell_type": "markdown",
   "metadata": {},
   "source": [
    "Default feature importances for binary classification is PredictionValueChange - how much on average does the model change when the feature value changes.\n",
    "These feature importances are non negative.\n",
    "They are normalized and sum to 1, so you can look on these values like percentage of importance."
   ]
  },
  {
   "cell_type": "code",
   "execution_count": null,
   "metadata": {},
   "outputs": [],
   "source": [
    "np.array(model.get_feature_importance(prettified=True))"
   ]
  },
  {
   "cell_type": "markdown",
   "metadata": {},
   "source": [
    "### Loss function change"
   ]
  },
  {
   "cell_type": "markdown",
   "metadata": {},
   "source": [
    "The non default feature importance approximates how much the optimized loss function will change if the value of the feature changes.\n",
    "This importances might be negative if the feature has bad influence on the loss function.\n",
    "The importances are not normalized, the absolute value of the importance has the same scale as the optimized loss value.\n",
    "To calculate this importance value you need to pass train_pool as an argument."
   ]
  },
  {
   "cell_type": "code",
   "execution_count": null,
   "metadata": {},
   "outputs": [],
   "source": [
    "np.array(model.get_feature_importance(\n",
    "    train_pool, \n",
    "    'LossFunctionChange', \n",
    "    prettified=True\n",
    "))"
   ]
  },
  {
   "cell_type": "markdown",
   "metadata": {},
   "source": [
    "### Shap values"
   ]
  },
  {
   "cell_type": "code",
   "execution_count": null,
   "metadata": {},
   "outputs": [],
   "source": [
    "print(model.predict_proba([X.iloc[1,:]]))\n",
    "print(model.predict_proba([X.iloc[91,:]]))"
   ]
  },
  {
   "cell_type": "code",
   "execution_count": null,
   "metadata": {},
   "outputs": [],
   "source": [
    "shap_values = model.get_feature_importance(\n",
    "    validation_pool, \n",
    "    'ShapValues'\n",
    ")\n",
    "expected_value = shap_values[0,-1]\n",
    "shap_values = shap_values[:,:-1]\n",
    "print(shap_values.shape)"
   ]
  },
  {
   "cell_type": "code",
   "execution_count": null,
   "metadata": {},
   "outputs": [],
   "source": [
    "proba = model.predict_proba([X.iloc[1,:]])[0]\n",
    "raw = model.predict([X.iloc[1,:]], prediction_type='RawFormulaVal')[0]\n",
    "print('Probabilities', proba)\n",
    "print('Raw formula value %.4f' % raw)\n",
    "print('Probability from raw value %.4f' % sigmoid(raw))"
   ]
  },
  {
   "cell_type": "code",
   "execution_count": null,
   "metadata": {},
   "outputs": [],
   "source": [
    "import shap\n",
    "\n",
    "shap.initjs()\n",
    "shap.force_plot(expected_value, shap_values[1,:], X_validation.iloc[1,:])"
   ]
  },
  {
   "cell_type": "code",
   "execution_count": null,
   "metadata": {},
   "outputs": [],
   "source": [
    "proba = model.predict_proba([X.iloc[91,:]])[0]\n",
    "raw = model.predict([X.iloc[91,:]], prediction_type='RawFormulaVal')[0]\n",
    "print('Probabilities', proba)\n",
    "print('Raw formula value %.4f' % raw)\n",
    "print('Probability from raw value %.4f' % sigmoid(raw))"
   ]
  },
  {
   "cell_type": "code",
   "execution_count": null,
   "metadata": {},
   "outputs": [],
   "source": [
    "import shap\n",
    "shap.initjs()\n",
    "shap.force_plot(expected_value, shap_values[91,:], X_validation.iloc[91,:])"
   ]
  },
  {
   "cell_type": "code",
   "execution_count": null,
   "metadata": {},
   "outputs": [],
   "source": [
    "shap.summary_plot(shap_values, X_validation)"
   ]
  },
  {
   "cell_type": "markdown",
   "metadata": {},
   "source": [
    "## Snapshotting"
   ]
  },
  {
   "cell_type": "code",
   "execution_count": null,
   "metadata": {
    "scrolled": false
   },
   "outputs": [],
   "source": [
    "#!rm 'catboost_info/snapshot.bkp'\n",
    "\n",
    "model = CatBoostClassifier(\n",
    "    iterations=100,\n",
    "    save_snapshot=True,\n",
    "    snapshot_file='snapshot.bkp',\n",
    "    snapshot_interval=1\n",
    ")\n",
    "\n",
    "model.fit(train_pool, eval_set=validation_pool, verbose=10);"
   ]
  },
  {
   "cell_type": "markdown",
   "metadata": {},
   "source": [
    "## Saving the model"
   ]
  },
  {
   "cell_type": "code",
   "execution_count": null,
   "metadata": {},
   "outputs": [],
   "source": [
    "model = CatBoostClassifier(iterations=10)\n",
    "model.fit(train_pool, eval_set=validation_pool, verbose=False)\n",
    "model.save_model('catboost_model.bin')\n",
    "model.save_model('catboost_model.json', format='json')"
   ]
  },
  {
   "cell_type": "code",
   "execution_count": null,
   "metadata": {},
   "outputs": [],
   "source": [
    "model.load_model('catboost_model.bin')\n",
    "print(model.get_params())\n",
    "print(model.learning_rate_)"
   ]
  },
  {
   "cell_type": "markdown",
   "metadata": {},
   "source": [
    "## Hyperparameter tunning"
   ]
  },
  {
   "cell_type": "code",
   "execution_count": null,
   "metadata": {},
   "outputs": [],
   "source": [
    "tunned_model = CatBoostClassifier(\n",
    "    iterations=1000,\n",
    "    learning_rate=0.03,\n",
    "    depth=6,\n",
    "    l2_leaf_reg=3,\n",
    "    random_strength=1,\n",
    "    bagging_temperature=1\n",
    ")\n",
    "\n",
    "tunned_model.fit(\n",
    "    X_train, y_train,\n",
    "    cat_features=cat_features,\n",
    "    verbose=False,\n",
    "    eval_set=(X_validation, y_validation),\n",
    "    plot=True\n",
    ");"
   ]
  },
  {
   "cell_type": "markdown",
   "metadata": {},
   "source": [
    "# Speeding up the training"
   ]
  },
  {
   "cell_type": "code",
   "execution_count": null,
   "metadata": {},
   "outputs": [],
   "source": [
    "fast_model = CatBoostClassifier(\n",
    "    boosting_type='Plain',\n",
    "    rsm=0.5,\n",
    "    one_hot_max_size=50,\n",
    "    leaf_estimation_iterations=1,\n",
    "    max_ctr_complexity=1,\n",
    "    iterations=100,\n",
    "    learning_rate=0.3,\n",
    "    bootstrap_type='Bernoulli',\n",
    "    subsample=0.5\n",
    ")\n",
    "fast_model.fit(\n",
    "    X_train, y_train,\n",
    "    cat_features=cat_features,\n",
    "    verbose=False,\n",
    "    eval_set=(X_validation, y_validation),\n",
    "    plot=True\n",
    ");"
   ]
  },
  {
   "cell_type": "markdown",
   "metadata": {},
   "source": [
    "# Reducing model size"
   ]
  },
  {
   "cell_type": "code",
   "execution_count": null,
   "metadata": {},
   "outputs": [],
   "source": [
    "small_model = CatBoostClassifier(\n",
    "    learning_rate=0.03,\n",
    "    iterations=500,\n",
    "    model_size_reg=50,\n",
    "    max_ctr_complexity=1,\n",
    "    ctr_leaf_count_limit=100\n",
    ")\n",
    "small_model.fit(\n",
    "    X_train, y_train,\n",
    "    cat_features=cat_features,\n",
    "    verbose=False,\n",
    "    eval_set=(X_validation, y_validation),\n",
    "    plot=True\n",
    ");"
   ]
  }
 ],
 "metadata": {
  "kernelspec": {
   "display_name": "Python 3",
   "language": "python",
   "name": "python3"
  },
  "language_info": {
   "codemirror_mode": {
    "name": "ipython",
    "version": 3
   },
   "file_extension": ".py",
   "mimetype": "text/x-python",
   "name": "python",
   "nbconvert_exporter": "python",
   "pygments_lexer": "ipython3",
   "version": "3.6.4"
  },
  "widgets": {
   "state": {
    "1057714ebc614324aa3ba2cf69408966": {
     "views": [
      {
       "cell_index": 17
      }
     ]
    },
    "8381e9eed05f4a03905ae8a56d7ab4ea": {
     "views": [
      {
       "cell_index": 48
      }
     ]
    },
    "f49684e8c5c44241bfe2c7f577f5cb41": {
     "views": [
      {
       "cell_index": 53
      }
     ]
    }
   },
   "version": "1.2.0"
  }
 },
 "nbformat": 4,
 "nbformat_minor": 2
}
