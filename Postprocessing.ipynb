{
 "cells": [
  {
   "cell_type": "code",
   "outputs": [],
   "source": [
    "import joblib\n",
    "import warnings\n",
    "import numpy as np\n",
    "import pandas as pd\n",
    "import seaborn as sns\n",
    "from sklearn.metrics import *\n",
    "from collections import Counter\n",
    "from matplotlib import pyplot as plt\n",
    "from sklearn.preprocessing import MinMaxScaler\n",
    "from IPython.core.interactiveshell import InteractiveShell\n",
    "\n",
    "warnings.filterwarnings(\"ignore\")"
   ],
   "metadata": {
    "collapsed": false,
    "ExecuteTime": {
     "end_time": "2024-05-22T13:33:07.839573900Z",
     "start_time": "2024-05-22T13:33:07.836510300Z"
    }
   },
   "id": "5a7365216f084516",
   "execution_count": 48
  },
  {
   "cell_type": "code",
   "outputs": [],
   "source": [
    "plt.rc('font', family='GULIM')\n",
    "warnings.filterwarnings(action='ignore')\n",
    "InteractiveShell.ast_node_interactivity = \"all\""
   ],
   "metadata": {
    "collapsed": false,
    "ExecuteTime": {
     "end_time": "2024-05-22T10:19:27.547101500Z",
     "start_time": "2024-05-22T10:19:27.542995400Z"
    }
   },
   "id": "d72017008e119bf8",
   "execution_count": 4
  },
  {
   "cell_type": "code",
   "outputs": [],
   "source": [
    "test_in = pd.read_csv('Database/test_pre_input.csv', index_col=0)\n",
    "test_out = pd.read_csv('Database/test_pre_output.csv', index_col=0)"
   ],
   "metadata": {
    "collapsed": false,
    "ExecuteTime": {
     "end_time": "2024-05-22T10:19:28.193198900Z",
     "start_time": "2024-05-22T10:19:28.150665600Z"
    }
   },
   "id": "7c1006d94f65567c",
   "execution_count": 5
  },
  {
   "cell_type": "code",
   "outputs": [],
   "source": [
    "i = 5\n",
    "name_list = ['None', 'SMOTE', 'ADASYN', 'KMeanSMOTE', 'SMOTE_all', 'KMeanSMOTE_all']\n",
    "best_dt = joblib.load(f'Files/dt_{name_list[i]}_model.pkl')\n",
    "best_lgb = joblib.load(f'Files/lgb_{name_list[i]}_model.pkl')\n",
    "best_xgb = joblib.load(f'Files/xgb_{name_list[i]}_model.pkl')\n",
    "best_cat = joblib.load(f'Files/cat_{name_list[i]}_model.pkl')"
   ],
   "metadata": {
    "collapsed": false,
    "ExecuteTime": {
     "end_time": "2024-05-22T10:19:31.327010200Z",
     "start_time": "2024-05-22T10:19:30.776310600Z"
    }
   },
   "id": "2884b122625004ed",
   "execution_count": 6
  },
  {
   "cell_type": "code",
   "outputs": [
    {
     "name": "stdout",
     "output_type": "stream",
     "text": [
      "[LightGBM] [Warning] Accuracy may be bad since you didn't explicitly set num_leaves OR 2^max_depth > num_leaves. (num_leaves=31).\n"
     ]
    }
   ],
   "source": [
    "proba1 = best_dt.predict_proba(test_in)\n",
    "proba2 = best_lgb.predict_proba(test_in)\n",
    "proba3 = best_xgb.predict_proba(test_in)\n",
    "proba4 = best_cat.predict_proba(test_in)\n",
    "average_proba = (proba1 + proba2 + proba3 + proba4) / 4\n",
    "\n",
    "dt_result = np.argmax(proba1, axis=1)\n",
    "lgb_result = np.argmax(proba2, axis=1)\n",
    "xgb_result = np.argmax(proba3, axis=1)\n",
    "cat_result = np.argmax(proba4, axis=1)\n",
    "soft_voting_result = np.argmax(average_proba, axis=1)"
   ],
   "metadata": {
    "collapsed": false,
    "ExecuteTime": {
     "end_time": "2024-05-22T10:19:32.244901900Z",
     "start_time": "2024-05-22T10:19:31.806199800Z"
    }
   },
   "id": "65e7e43f7919bdf6",
   "execution_count": 7
  },
  {
   "cell_type": "code",
   "outputs": [],
   "source": [
    "metric_df = pd.DataFrame(columns=['DT', 'LGBM', 'XGB', 'CAT', 'Soft Voting'],\n",
    "                         index=['Accuracy', 'Recall', 'Precision', 'F1-Score', 'AUC'])"
   ],
   "metadata": {
    "collapsed": false,
    "ExecuteTime": {
     "end_time": "2024-05-22T10:19:32.834985800Z",
     "start_time": "2024-05-22T10:19:32.828529600Z"
    }
   },
   "id": "79842fc29e55c1d1",
   "execution_count": 8
  },
  {
   "cell_type": "code",
   "outputs": [],
   "source": [
    "metric_df.loc['Accuracy', 'DT'] = f\"{accuracy_score(test_out, dt_result):.5f}\"\n",
    "metric_df.loc['Recall', 'DT'] = f\"{recall_score(test_out, dt_result, average='weighted'):.5f}\"\n",
    "metric_df.loc['Precision', 'DT'] = f\"{precision_score(test_out, dt_result, average='weighted'):.5f}\"\n",
    "metric_df.loc['F1-Score', 'DT'] = f\"{f1_score(test_out, dt_result, average='weighted'):.5f}\"\n",
    "metric_df.loc['AUC', 'DT'] = f\"{roc_auc_score(test_out, proba1, multi_class='ovr', average='weighted'):.5f}\"\n",
    "\n",
    "metric_df.loc['Accuracy', 'LGBM'] = f\"{accuracy_score(test_out, lgb_result):.5f}\"\n",
    "metric_df.loc['Recall', 'LGBM'] = f\"{recall_score(test_out, lgb_result, average='weighted'):.5f}\"\n",
    "metric_df.loc['Precision', 'LGBM'] = f\"{precision_score(test_out, lgb_result, average='weighted'):.5f}\"\n",
    "metric_df.loc['F1-Score', 'LGBM'] = f\"{f1_score(test_out, lgb_result, average='weighted'):.5f}\"\n",
    "metric_df.loc['AUC', 'LGBM'] = f\"{roc_auc_score(test_out, proba2, multi_class='ovr', average='weighted'):.5f}\"\n",
    "\n",
    "metric_df.loc['Accuracy', 'XGB'] = f\"{accuracy_score(test_out, xgb_result):.5f}\"\n",
    "metric_df.loc['Recall', 'XGB'] = f\"{recall_score(test_out, xgb_result, average='weighted'):.5f}\"\n",
    "metric_df.loc['Precision', 'XGB'] = f\"{precision_score(test_out, xgb_result, average='weighted'):.5f}\"\n",
    "metric_df.loc['F1-Score', 'XGB'] = f\"{f1_score(test_out, xgb_result, average='weighted'):.5f}\"\n",
    "metric_df.loc['AUC', 'XGB'] = f\"{roc_auc_score(test_out, proba3, multi_class='ovr', average='weighted'):.5f}\"\n",
    "\n",
    "metric_df.loc['Accuracy', 'CAT'] = f\"{accuracy_score(test_out, cat_result):.5f}\"\n",
    "metric_df.loc['Recall', 'CAT'] = f\"{recall_score(test_out, cat_result, average='weighted'):.5f}\"\n",
    "metric_df.loc['Precision', 'CAT'] = f\"{precision_score(test_out, cat_result, average='weighted'):.5f}\"\n",
    "metric_df.loc['F1-Score', 'CAT'] = f\"{f1_score(test_out, cat_result, average='weighted'):.5f}\"\n",
    "metric_df.loc['AUC', 'CAT'] = f\"{roc_auc_score(test_out, proba4, multi_class='ovr', average='weighted'):.5f}\"\n",
    "\n",
    "metric_df.loc['Accuracy', 'Soft Voting'] = f\"{accuracy_score(test_out, soft_voting_result):.5f}\"\n",
    "metric_df.loc['Recall', 'Soft Voting'] = f\"{recall_score(test_out, soft_voting_result, average='weighted'):.5f}\"\n",
    "metric_df.loc['Precision', 'Soft Voting'] = f\"{precision_score(test_out, soft_voting_result, average='weighted'):.5f}\"\n",
    "metric_df.loc['F1-Score', 'Soft Voting'] = f\"{f1_score(test_out, soft_voting_result, average='weighted'):.5f}\"\n",
    "metric_df.loc[\n",
    "    'AUC', 'Soft Voting'] = f\"{roc_auc_score(test_out, average_proba, multi_class='ovr', average='weighted'):.5f}\""
   ],
   "metadata": {
    "collapsed": false,
    "ExecuteTime": {
     "end_time": "2024-05-22T10:19:34.797293Z",
     "start_time": "2024-05-22T10:19:34.508510900Z"
    }
   },
   "id": "ffd893d3ed9f9ca0",
   "execution_count": 9
  },
  {
   "cell_type": "code",
   "outputs": [],
   "source": [
    "metric_df.to_csv(f'Files/metric_{name_list[i]}.csv')"
   ],
   "metadata": {
    "collapsed": false,
    "ExecuteTime": {
     "end_time": "2024-05-22T08:53:11.558443300Z",
     "start_time": "2024-05-22T08:53:11.555606600Z"
    }
   },
   "id": "88f79a3bcc73378b",
   "execution_count": 103
  },
  {
   "cell_type": "code",
   "outputs": [
    {
     "data": {
      "text/plain": "<Figure size 1200x800 with 0 Axes>"
     },
     "execution_count": 10,
     "metadata": {},
     "output_type": "execute_result"
    },
    {
     "data": {
      "text/plain": "<Axes: xlabel='Importance', ylabel='Feature'>"
     },
     "execution_count": 10,
     "metadata": {},
     "output_type": "execute_result"
    },
    {
     "data": {
      "text/plain": "Text(0.5, 1.0, 'Feature Importance Comparison')"
     },
     "execution_count": 10,
     "metadata": {},
     "output_type": "execute_result"
    },
    {
     "data": {
      "text/plain": "<matplotlib.legend.Legend at 0x2bd19aae4d0>"
     },
     "execution_count": 10,
     "metadata": {},
     "output_type": "execute_result"
    },
    {
     "data": {
      "text/plain": "<Figure size 1200x800 with 1 Axes>",
      "image/png": "[encoded data removed]"
     },
     "metadata": {},
     "output_type": "display_data"
    }
   ],
   "source": [
    "# 특성 중요도 추출\n",
    "dt_importances = best_dt.feature_importances_\n",
    "lgb_importances = best_lgb.feature_importances_\n",
    "xgb_importances = best_xgb.feature_importances_\n",
    "cat_importances = best_cat.get_feature_importance()\n",
    "\n",
    "# 특성 중요도를 데이터프레임으로 정리\n",
    "features = test_in.columns\n",
    "importance_df = pd.DataFrame({\n",
    "    'Feature': features,\n",
    "    'Decision Tree': dt_importances,\n",
    "    'LightGBM': lgb_importances,\n",
    "    'XGBoost': xgb_importances,\n",
    "    'CatBoost': cat_importances\n",
    "})\n",
    "\n",
    "model_list = ['Decision Tree', 'LightGBM', 'XGBoost', 'CatBoost']\n",
    "\n",
    "scaler = MinMaxScaler()\n",
    "importnce_values = scaler.fit_transform(importance_df[model_list].values)\n",
    "\n",
    "scaled_importance_df = pd.DataFrame(data=importnce_values, columns=model_list)\n",
    "scaled_importance_df = pd.concat([importance_df['Feature'], scaled_importance_df], axis=1)\n",
    "column_mapping = {\n",
    "    '대출기간': 'Loan Term',\n",
    "    '주택소유상태': 'Home Ownership Status',\n",
    "    '대출목적': 'Loan Purpose',\n",
    "    '최근_2년간_연체_횟수': 'Number of Delinquencies in Last 2 Years',\n",
    "    '연체계좌수': 'Number of Delinquent Accounts',\n",
    "    '총연체금액': 'Total Delinquent Amount',\n",
    "    '부채_대비_소득_비율': 'Debt-to-Income Ratio',\n",
    "    '대출금액': 'Loan Amount',\n",
    "    '연간소득': 'Annual Income',\n",
    "    '총계좌수': 'Total Number of Accounts',\n",
    "    '근로기간': 'Employment Duration',\n",
    "    '이자/대출': 'Interest/Loan',\n",
    "    '원금/대출': 'Principal/Loan'\n",
    "}\n",
    "\n",
    "scaled_importance_df['Feature'] = scaled_importance_df['Feature'].map(column_mapping)\n",
    "\n",
    "scaled_importance_df = scaled_importance_df.melt(id_vars=['Feature'], var_name='Model',\n",
    "                                                 value_name='Importance')\n",
    "\n",
    "# 시각화\n",
    "plt.figure(figsize=(12, 8))\n",
    "sns.barplot(data=scaled_importance_df, x='Importance', y='Feature', hue='Model')\n",
    "plt.title('Feature Importance Comparison')\n",
    "plt.legend(loc='upper right')\n",
    "plt.show()"
   ],
   "metadata": {
    "collapsed": false,
    "ExecuteTime": {
     "end_time": "2024-05-22T10:19:36.754822600Z",
     "start_time": "2024-05-22T10:19:36.323001200Z"
    }
   },
   "id": "f25b872a69cd2b92",
   "execution_count": 10
  },
  {
   "cell_type": "code",
   "outputs": [],
   "source": [
    "import numpy as np\n",
    "\n",
    "\n",
    "def nearest_neighbour(X, x, K):\n",
    "    euclidean = np.ones(X.shape[0] - 1)\n",
    "    k = 0\n",
    "    for j in range(0, X.shape[0]):\n",
    "        if np.array_equal(X[j], x) == False:\n",
    "            euclidean[k] = np.sqrt(sum((X[j] - x) ** 2))\n",
    "            k = k + 1\n",
    "    indices = list(sorted(range(len(euclidean)), key=lambda j: euclidean[j]))\n",
    "    difference = []\n",
    "    for j in range(0, K):\n",
    "        difference.append((abs(x - X[indices[j]])))\n",
    "    weight = np.random.random()\n",
    "    while (weight == 0):\n",
    "        weight = np.random.random()\n",
    "    additive = np.multiply(difference, weight)\n",
    "    return additive\n",
    "\n",
    "\n",
    "def SMOTE(X, K):\n",
    "    K = int(K / 100)\n",
    "    new = [None] * (K * X.shape[0] * X.shape[1])\n",
    "    new = np.array(new).reshape(K * X.shape[0], X.shape[1])\n",
    "    k = 0\n",
    "    for i in range(0, X.shape[0]):\n",
    "        additive = nearest_neighbour(X, X[i], K)\n",
    "        for j in range(0, K):\n",
    "            new[k] = X[i] + additive[j]\n",
    "            k = k + 1\n",
    "    return new\n"
   ],
   "metadata": {
    "collapsed": false
   },
   "id": "db2f10688c3bbccc",
   "execution_count": 11
  },
  {
   "cell_type": "code",
   "outputs": [],
   "source": [
    "import numpy as np\n",
    "\n",
    "\n",
    "def nearest_neighbour(X, x, K, features):\n",
    "    X_selected = X[:, features]\n",
    "    x_selected = x[features]\n",
    "\n",
    "    euclidean = np.ones(X_selected.shape[0] - 1)\n",
    "    k = 0\n",
    "    for j in range(X_selected.shape[0]):\n",
    "        if not np.array_equal(X_selected[j], x_selected):\n",
    "            euclidean[k] = np.sqrt(np.sum((X_selected[j] - x_selected) ** 2))\n",
    "            k += 1\n",
    "    indices = list(sorted(range(len(euclidean)), key=lambda j: euclidean[j]))\n",
    "    difference = []\n",
    "    for j in range(K):\n",
    "        difference.append(np.abs(x_selected - X_selected[indices[j]]))\n",
    "    weight = np.random.random()\n",
    "    while weight == 0:\n",
    "        weight = np.random.random()\n",
    "    additive = np.multiply(difference, weight)\n",
    "    return additive\n",
    "\n",
    "\n",
    "def SMOTE(X, K, features):\n",
    "    K = int(K / 100)\n",
    "    new = np.empty((K * X.shape[0], X.shape[1]))\n",
    "    k = 0\n",
    "    for i in range(X.shape[0]):\n",
    "        additive = nearest_neighbour(X, X[i], K, features)\n",
    "        for j in range(K):\n",
    "            new[k] = X[i] + additive[j]\n",
    "            k += 1\n",
    "    return new"
   ],
   "metadata": {
    "collapsed": false,
    "ExecuteTime": {
     "end_time": "2024-05-22T12:50:43.515390800Z",
     "start_time": "2024-05-22T12:50:43.510243500Z"
    }
   },
   "id": "67fa26ae760785f9",
   "execution_count": 20
  },
  {
   "cell_type": "code",
   "outputs": [
    {
     "name": "stdout",
     "output_type": "stream",
     "text": [
      "Original samples shape: (100, 5)\n",
      "New samples shape: (200, 5)\n"
     ]
    }
   ],
   "source": [
    "def nearest_neighbour(X, x, K, features):\n",
    "    X_selected = X[:, features]\n",
    "    x_selected = x[features]\n",
    "\n",
    "    distances = np.linalg.norm(X_selected - x_selected, axis=1)\n",
    "    indices = np.argsort(distances)[1:K + 1]  # 자기 자신 제외하고 가장 가까운 K개의 이웃 선택\n",
    "\n",
    "    differences = X_selected[indices] - x_selected\n",
    "    weights = np.random.random((K, 1))\n",
    "    additive = differences * weights\n",
    "    return additive\n",
    "\n",
    "\n",
    "def generate_new_samples(row, X, K, features):\n",
    "    additive = nearest_neighbour(X, row, K, features)\n",
    "    new_samples = np.array([row for _ in range(K)])  # 원본 샘플을 복사하여 K번 반복\n",
    "    new_samples[:, features] += additive  # 선택된 변수들에 대해 additive 적용\n",
    "    return new_samples\n",
    "\n",
    "\n",
    "def SMOTE(X, K, features):\n",
    "    X_df = pd.DataFrame(X)\n",
    "\n",
    "    # Apply 함수를 사용하여 각 행(row)에 대해 새로운 샘플을 생성\n",
    "    new_samples_list = X_df.apply(lambda row: generate_new_samples(row.values, X, K, features), axis=1)\n",
    "\n",
    "    # 생성된 새로운 샘플들을 하나의 배열로 결합\n",
    "    new_samples = np.vstack(new_samples_list.values)\n",
    "\n",
    "    return new_samples\n",
    "\n",
    "\n",
    "# 예제 데이터 생성\n",
    "np.random.seed(0)\n",
    "X = np.random.rand(100, 5)  # 100개의 샘플과 5개의 특성\n",
    "K = 2\n",
    "features = [0, 2, 4]  # 첫 번째, 세 번째, 다섯 번째 변수만 고려\n",
    "\n",
    "# SMOTE 적용\n",
    "new_samples = SMOTE(X, K, features)\n",
    "\n",
    "print(\"Original samples shape:\", X.shape)\n",
    "print(\"New samples shape:\", new_samples.shape)"
   ],
   "metadata": {
    "collapsed": false,
    "ExecuteTime": {
     "end_time": "2024-05-22T13:05:04.995872500Z",
     "start_time": "2024-05-22T13:05:04.969231Z"
    }
   },
   "id": "6c12bffb31b3b63c",
   "execution_count": 33
  },
  {
   "cell_type": "code",
   "outputs": [
    {
     "ename": "InvalidIndexError",
     "evalue": "(slice(None, None, None), [0, 1, 2, 3, 4, 5, 6, 7, 11, 12])",
     "output_type": "error",
     "traceback": [
      "\u001B[1;31m---------------------------------------------------------------------------\u001B[0m",
      "\u001B[1;31mTypeError\u001B[0m                                 Traceback (most recent call last)",
      "File \u001B[1;32m~\\anaconda3\\envs\\Pairs_Trading\\Lib\\site-packages\\pandas\\core\\indexes\\base.py:3805\u001B[0m, in \u001B[0;36mIndex.get_loc\u001B[1;34m(self, key)\u001B[0m\n\u001B[0;32m   3804\u001B[0m \u001B[38;5;28;01mtry\u001B[39;00m:\n\u001B[1;32m-> 3805\u001B[0m     \u001B[38;5;28;01mreturn\u001B[39;00m \u001B[38;5;28;43mself\u001B[39;49m\u001B[38;5;241;43m.\u001B[39;49m\u001B[43m_engine\u001B[49m\u001B[38;5;241;43m.\u001B[39;49m\u001B[43mget_loc\u001B[49m\u001B[43m(\u001B[49m\u001B[43mcasted_key\u001B[49m\u001B[43m)\u001B[49m\n\u001B[0;32m   3806\u001B[0m \u001B[38;5;28;01mexcept\u001B[39;00m \u001B[38;5;167;01mKeyError\u001B[39;00m \u001B[38;5;28;01mas\u001B[39;00m err:\n",
      "File \u001B[1;32mindex.pyx:167\u001B[0m, in \u001B[0;36mpandas._libs.index.IndexEngine.get_loc\u001B[1;34m()\u001B[0m\n",
      "File \u001B[1;32mindex.pyx:173\u001B[0m, in \u001B[0;36mpandas._libs.index.IndexEngine.get_loc\u001B[1;34m()\u001B[0m\n",
      "\u001B[1;31mTypeError\u001B[0m: '(slice(None, None, None), [0, 1, 2, 3, 4, 5, 6, 7, 11, 12])' is an invalid key",
      "\nDuring handling of the above exception, another exception occurred:\n",
      "\u001B[1;31mInvalidIndexError\u001B[0m                         Traceback (most recent call last)",
      "Cell \u001B[1;32mIn[47], line 64\u001B[0m\n\u001B[0;32m     62\u001B[0m features \u001B[38;5;241m=\u001B[39m [\u001B[38;5;241m0\u001B[39m, \u001B[38;5;241m1\u001B[39m, \u001B[38;5;241m2\u001B[39m, \u001B[38;5;241m3\u001B[39m, \u001B[38;5;241m4\u001B[39m, \u001B[38;5;241m5\u001B[39m, \u001B[38;5;241m6\u001B[39m, \u001B[38;5;241m7\u001B[39m, \u001B[38;5;241m11\u001B[39m, \u001B[38;5;241m12\u001B[39m]\n\u001B[0;32m     63\u001B[0m S \u001B[38;5;241m=\u001B[39m SMOTE(test_in, test_out, \u001B[38;5;241m0.1\u001B[39m, \u001B[38;5;241m2\u001B[39m, features)\n\u001B[1;32m---> 64\u001B[0m X_balanced, y_balanced \u001B[38;5;241m=\u001B[39m \u001B[43mS\u001B[49m\u001B[38;5;241;43m.\u001B[39;49m\u001B[43mbalance_classes\u001B[49m\u001B[43m(\u001B[49m\u001B[43m)\u001B[49m\n\u001B[0;32m     66\u001B[0m \u001B[38;5;28mprint\u001B[39m(\u001B[38;5;124m\"\u001B[39m\u001B[38;5;124mOriginal class distribution:\u001B[39m\u001B[38;5;124m\"\u001B[39m, Counter(y))\n\u001B[0;32m     67\u001B[0m \u001B[38;5;28mprint\u001B[39m(\u001B[38;5;124m\"\u001B[39m\u001B[38;5;124mNew class distribution:\u001B[39m\u001B[38;5;124m\"\u001B[39m, Counter(y_balanced))\n",
      "Cell \u001B[1;32mIn[47], line 54\u001B[0m, in \u001B[0;36mSMOTE.balance_classes\u001B[1;34m(self)\u001B[0m\n\u001B[0;32m     51\u001B[0m minority_class \u001B[38;5;241m=\u001B[39m \u001B[38;5;28mmin\u001B[39m(class_counts, key\u001B[38;5;241m=\u001B[39mclass_counts\u001B[38;5;241m.\u001B[39mget)\n\u001B[0;32m     53\u001B[0m \u001B[38;5;28;01mwhile\u001B[39;00m class_counts[minority_class] \u001B[38;5;241m/\u001B[39m \u001B[38;5;28mlen\u001B[39m(\u001B[38;5;28mself\u001B[39m\u001B[38;5;241m.\u001B[39my) \u001B[38;5;241m<\u001B[39m \u001B[38;5;28mself\u001B[39m\u001B[38;5;241m.\u001B[39mratio:\n\u001B[1;32m---> 54\u001B[0m     X, y \u001B[38;5;241m=\u001B[39m \u001B[38;5;28;43mself\u001B[39;49m\u001B[38;5;241;43m.\u001B[39;49m\u001B[43mSMOTE\u001B[49m\u001B[43m(\u001B[49m\u001B[38;5;28;43mself\u001B[39;49m\u001B[38;5;241;43m.\u001B[39;49m\u001B[43mX\u001B[49m\u001B[43m,\u001B[49m\u001B[43m \u001B[49m\u001B[38;5;28;43mself\u001B[39;49m\u001B[38;5;241;43m.\u001B[39;49m\u001B[43my\u001B[49m\u001B[43m,\u001B[49m\u001B[43m \u001B[49m\u001B[38;5;28;43mself\u001B[39;49m\u001B[38;5;241;43m.\u001B[39;49m\u001B[43mK\u001B[49m\u001B[43m,\u001B[49m\u001B[43m \u001B[49m\u001B[38;5;28;43mself\u001B[39;49m\u001B[38;5;241;43m.\u001B[39;49m\u001B[43mfeatures\u001B[49m\u001B[43m)\u001B[49m\n\u001B[0;32m     55\u001B[0m     class_counts \u001B[38;5;241m=\u001B[39m Counter(y)\n\u001B[0;32m     56\u001B[0m     minority_class \u001B[38;5;241m=\u001B[39m \u001B[38;5;28mmin\u001B[39m(class_counts, key\u001B[38;5;241m=\u001B[39mclass_counts\u001B[38;5;241m.\u001B[39mget)\n",
      "Cell \u001B[1;32mIn[47], line 38\u001B[0m, in \u001B[0;36mSMOTE.SMOTE\u001B[1;34m(self, X, y, K, features)\u001B[0m\n\u001B[0;32m     35\u001B[0m minority_class \u001B[38;5;241m=\u001B[39m \u001B[38;5;28mmin\u001B[39m(Counter(y), key\u001B[38;5;241m=\u001B[39mCounter(y)\u001B[38;5;241m.\u001B[39mget)\n\u001B[0;32m     36\u001B[0m X_minority \u001B[38;5;241m=\u001B[39m X_df[y \u001B[38;5;241m==\u001B[39m minority_class]\n\u001B[1;32m---> 38\u001B[0m new_samples_list \u001B[38;5;241m=\u001B[39m \u001B[43mX_minority\u001B[49m\u001B[38;5;241;43m.\u001B[39;49m\u001B[43mapply\u001B[49m\u001B[43m(\u001B[49m\u001B[38;5;28;43;01mlambda\u001B[39;49;00m\u001B[43m \u001B[49m\u001B[43mrow\u001B[49m\u001B[43m:\u001B[49m\u001B[43m \u001B[49m\u001B[38;5;28;43mself\u001B[39;49m\u001B[38;5;241;43m.\u001B[39;49m\u001B[43mgenerate_new_samples\u001B[49m\u001B[43m(\u001B[49m\u001B[43mrow\u001B[49m\u001B[43m,\u001B[49m\u001B[43m \u001B[49m\u001B[43mX\u001B[49m\u001B[43m,\u001B[49m\u001B[43m \u001B[49m\u001B[43mK\u001B[49m\u001B[43m,\u001B[49m\u001B[43m \u001B[49m\u001B[43mfeatures\u001B[49m\u001B[43m)\u001B[49m\u001B[43m,\u001B[49m\u001B[43m \u001B[49m\u001B[43maxis\u001B[49m\u001B[38;5;241;43m=\u001B[39;49m\u001B[38;5;241;43m1\u001B[39;49m\u001B[43m)\u001B[49m\n\u001B[0;32m     39\u001B[0m new_samples \u001B[38;5;241m=\u001B[39m np\u001B[38;5;241m.\u001B[39mvstack(new_samples_list)\n\u001B[0;32m     41\u001B[0m new_X \u001B[38;5;241m=\u001B[39m np\u001B[38;5;241m.\u001B[39mvstack([X, new_samples])\n",
      "File \u001B[1;32m~\\anaconda3\\envs\\Pairs_Trading\\Lib\\site-packages\\pandas\\core\\frame.py:10361\u001B[0m, in \u001B[0;36mDataFrame.apply\u001B[1;34m(self, func, axis, raw, result_type, args, by_row, engine, engine_kwargs, **kwargs)\u001B[0m\n\u001B[0;32m  10347\u001B[0m \u001B[38;5;28;01mfrom\u001B[39;00m \u001B[38;5;21;01mpandas\u001B[39;00m\u001B[38;5;21;01m.\u001B[39;00m\u001B[38;5;21;01mcore\u001B[39;00m\u001B[38;5;21;01m.\u001B[39;00m\u001B[38;5;21;01mapply\u001B[39;00m \u001B[38;5;28;01mimport\u001B[39;00m frame_apply\n\u001B[0;32m  10349\u001B[0m op \u001B[38;5;241m=\u001B[39m frame_apply(\n\u001B[0;32m  10350\u001B[0m     \u001B[38;5;28mself\u001B[39m,\n\u001B[0;32m  10351\u001B[0m     func\u001B[38;5;241m=\u001B[39mfunc,\n\u001B[1;32m   (...)\u001B[0m\n\u001B[0;32m  10359\u001B[0m     kwargs\u001B[38;5;241m=\u001B[39mkwargs,\n\u001B[0;32m  10360\u001B[0m )\n\u001B[1;32m> 10361\u001B[0m \u001B[38;5;28;01mreturn\u001B[39;00m \u001B[43mop\u001B[49m\u001B[38;5;241;43m.\u001B[39;49m\u001B[43mapply\u001B[49m\u001B[43m(\u001B[49m\u001B[43m)\u001B[49m\u001B[38;5;241m.\u001B[39m__finalize__(\u001B[38;5;28mself\u001B[39m, method\u001B[38;5;241m=\u001B[39m\u001B[38;5;124m\"\u001B[39m\u001B[38;5;124mapply\u001B[39m\u001B[38;5;124m\"\u001B[39m)\n",
      "File \u001B[1;32m~\\anaconda3\\envs\\Pairs_Trading\\Lib\\site-packages\\pandas\\core\\apply.py:916\u001B[0m, in \u001B[0;36mFrameApply.apply\u001B[1;34m(self)\u001B[0m\n\u001B[0;32m    913\u001B[0m \u001B[38;5;28;01melif\u001B[39;00m \u001B[38;5;28mself\u001B[39m\u001B[38;5;241m.\u001B[39mraw:\n\u001B[0;32m    914\u001B[0m     \u001B[38;5;28;01mreturn\u001B[39;00m \u001B[38;5;28mself\u001B[39m\u001B[38;5;241m.\u001B[39mapply_raw(engine\u001B[38;5;241m=\u001B[39m\u001B[38;5;28mself\u001B[39m\u001B[38;5;241m.\u001B[39mengine, engine_kwargs\u001B[38;5;241m=\u001B[39m\u001B[38;5;28mself\u001B[39m\u001B[38;5;241m.\u001B[39mengine_kwargs)\n\u001B[1;32m--> 916\u001B[0m \u001B[38;5;28;01mreturn\u001B[39;00m \u001B[38;5;28;43mself\u001B[39;49m\u001B[38;5;241;43m.\u001B[39;49m\u001B[43mapply_standard\u001B[49m\u001B[43m(\u001B[49m\u001B[43m)\u001B[49m\n",
      "File \u001B[1;32m~\\anaconda3\\envs\\Pairs_Trading\\Lib\\site-packages\\pandas\\core\\apply.py:1063\u001B[0m, in \u001B[0;36mFrameApply.apply_standard\u001B[1;34m(self)\u001B[0m\n\u001B[0;32m   1061\u001B[0m \u001B[38;5;28;01mdef\u001B[39;00m \u001B[38;5;21mapply_standard\u001B[39m(\u001B[38;5;28mself\u001B[39m):\n\u001B[0;32m   1062\u001B[0m     \u001B[38;5;28;01mif\u001B[39;00m \u001B[38;5;28mself\u001B[39m\u001B[38;5;241m.\u001B[39mengine \u001B[38;5;241m==\u001B[39m \u001B[38;5;124m\"\u001B[39m\u001B[38;5;124mpython\u001B[39m\u001B[38;5;124m\"\u001B[39m:\n\u001B[1;32m-> 1063\u001B[0m         results, res_index \u001B[38;5;241m=\u001B[39m \u001B[38;5;28;43mself\u001B[39;49m\u001B[38;5;241;43m.\u001B[39;49m\u001B[43mapply_series_generator\u001B[49m\u001B[43m(\u001B[49m\u001B[43m)\u001B[49m\n\u001B[0;32m   1064\u001B[0m     \u001B[38;5;28;01melse\u001B[39;00m:\n\u001B[0;32m   1065\u001B[0m         results, res_index \u001B[38;5;241m=\u001B[39m \u001B[38;5;28mself\u001B[39m\u001B[38;5;241m.\u001B[39mapply_series_numba()\n",
      "File \u001B[1;32m~\\anaconda3\\envs\\Pairs_Trading\\Lib\\site-packages\\pandas\\core\\apply.py:1081\u001B[0m, in \u001B[0;36mFrameApply.apply_series_generator\u001B[1;34m(self)\u001B[0m\n\u001B[0;32m   1078\u001B[0m \u001B[38;5;28;01mwith\u001B[39;00m option_context(\u001B[38;5;124m\"\u001B[39m\u001B[38;5;124mmode.chained_assignment\u001B[39m\u001B[38;5;124m\"\u001B[39m, \u001B[38;5;28;01mNone\u001B[39;00m):\n\u001B[0;32m   1079\u001B[0m     \u001B[38;5;28;01mfor\u001B[39;00m i, v \u001B[38;5;129;01min\u001B[39;00m \u001B[38;5;28menumerate\u001B[39m(series_gen):\n\u001B[0;32m   1080\u001B[0m         \u001B[38;5;66;03m# ignore SettingWithCopy here in case the user mutates\u001B[39;00m\n\u001B[1;32m-> 1081\u001B[0m         results[i] \u001B[38;5;241m=\u001B[39m \u001B[38;5;28;43mself\u001B[39;49m\u001B[38;5;241;43m.\u001B[39;49m\u001B[43mfunc\u001B[49m\u001B[43m(\u001B[49m\u001B[43mv\u001B[49m\u001B[43m,\u001B[49m\u001B[43m \u001B[49m\u001B[38;5;241;43m*\u001B[39;49m\u001B[38;5;28;43mself\u001B[39;49m\u001B[38;5;241;43m.\u001B[39;49m\u001B[43margs\u001B[49m\u001B[43m,\u001B[49m\u001B[43m \u001B[49m\u001B[38;5;241;43m*\u001B[39;49m\u001B[38;5;241;43m*\u001B[39;49m\u001B[38;5;28;43mself\u001B[39;49m\u001B[38;5;241;43m.\u001B[39;49m\u001B[43mkwargs\u001B[49m\u001B[43m)\u001B[49m\n\u001B[0;32m   1082\u001B[0m         \u001B[38;5;28;01mif\u001B[39;00m \u001B[38;5;28misinstance\u001B[39m(results[i], ABCSeries):\n\u001B[0;32m   1083\u001B[0m             \u001B[38;5;66;03m# If we have a view on v, we need to make a copy because\u001B[39;00m\n\u001B[0;32m   1084\u001B[0m             \u001B[38;5;66;03m#  series_generator will swap out the underlying data\u001B[39;00m\n\u001B[0;32m   1085\u001B[0m             results[i] \u001B[38;5;241m=\u001B[39m results[i]\u001B[38;5;241m.\u001B[39mcopy(deep\u001B[38;5;241m=\u001B[39m\u001B[38;5;28;01mFalse\u001B[39;00m)\n",
      "Cell \u001B[1;32mIn[47], line 38\u001B[0m, in \u001B[0;36mSMOTE.SMOTE.<locals>.<lambda>\u001B[1;34m(row)\u001B[0m\n\u001B[0;32m     35\u001B[0m minority_class \u001B[38;5;241m=\u001B[39m \u001B[38;5;28mmin\u001B[39m(Counter(y), key\u001B[38;5;241m=\u001B[39mCounter(y)\u001B[38;5;241m.\u001B[39mget)\n\u001B[0;32m     36\u001B[0m X_minority \u001B[38;5;241m=\u001B[39m X_df[y \u001B[38;5;241m==\u001B[39m minority_class]\n\u001B[1;32m---> 38\u001B[0m new_samples_list \u001B[38;5;241m=\u001B[39m X_minority\u001B[38;5;241m.\u001B[39mapply(\u001B[38;5;28;01mlambda\u001B[39;00m row: \u001B[38;5;28;43mself\u001B[39;49m\u001B[38;5;241;43m.\u001B[39;49m\u001B[43mgenerate_new_samples\u001B[49m\u001B[43m(\u001B[49m\u001B[43mrow\u001B[49m\u001B[43m,\u001B[49m\u001B[43m \u001B[49m\u001B[43mX\u001B[49m\u001B[43m,\u001B[49m\u001B[43m \u001B[49m\u001B[43mK\u001B[49m\u001B[43m,\u001B[49m\u001B[43m \u001B[49m\u001B[43mfeatures\u001B[49m\u001B[43m)\u001B[49m, axis\u001B[38;5;241m=\u001B[39m\u001B[38;5;241m1\u001B[39m)\n\u001B[0;32m     39\u001B[0m new_samples \u001B[38;5;241m=\u001B[39m np\u001B[38;5;241m.\u001B[39mvstack(new_samples_list)\n\u001B[0;32m     41\u001B[0m new_X \u001B[38;5;241m=\u001B[39m np\u001B[38;5;241m.\u001B[39mvstack([X, new_samples])\n",
      "Cell \u001B[1;32mIn[47], line 28\u001B[0m, in \u001B[0;36mSMOTE.generate_new_samples\u001B[1;34m(self, row, X, K, features)\u001B[0m\n\u001B[0;32m     26\u001B[0m \u001B[38;5;28;01mdef\u001B[39;00m \u001B[38;5;21mgenerate_new_samples\u001B[39m(\u001B[38;5;28mself\u001B[39m, row, X, K, features):\n\u001B[0;32m     27\u001B[0m     row \u001B[38;5;241m=\u001B[39m row\u001B[38;5;241m.\u001B[39mvalues\n\u001B[1;32m---> 28\u001B[0m     additive \u001B[38;5;241m=\u001B[39m \u001B[38;5;28;43mself\u001B[39;49m\u001B[38;5;241;43m.\u001B[39;49m\u001B[43mnearest_neighbour\u001B[49m\u001B[43m(\u001B[49m\u001B[43mX\u001B[49m\u001B[43m,\u001B[49m\u001B[43m \u001B[49m\u001B[43mrow\u001B[49m\u001B[43m,\u001B[49m\u001B[43m \u001B[49m\u001B[43mK\u001B[49m\u001B[43m,\u001B[49m\u001B[43m \u001B[49m\u001B[43mfeatures\u001B[49m\u001B[43m)\u001B[49m\n\u001B[0;32m     29\u001B[0m     new_samples \u001B[38;5;241m=\u001B[39m np\u001B[38;5;241m.\u001B[39mtile(row, (K, \u001B[38;5;241m1\u001B[39m))\n\u001B[0;32m     30\u001B[0m     new_samples[:, features] \u001B[38;5;241m+\u001B[39m\u001B[38;5;241m=\u001B[39m additive\n",
      "Cell \u001B[1;32mIn[47], line 15\u001B[0m, in \u001B[0;36mSMOTE.nearest_neighbour\u001B[1;34m(self, X, x, K, features)\u001B[0m\n\u001B[0;32m     14\u001B[0m \u001B[38;5;28;01mdef\u001B[39;00m \u001B[38;5;21mnearest_neighbour\u001B[39m(\u001B[38;5;28mself\u001B[39m, X, x, K, features):\n\u001B[1;32m---> 15\u001B[0m     X_selected \u001B[38;5;241m=\u001B[39m \u001B[43mX\u001B[49m\u001B[43m[\u001B[49m\u001B[43m:\u001B[49m\u001B[43m,\u001B[49m\u001B[43m \u001B[49m\u001B[43mfeatures\u001B[49m\u001B[43m]\u001B[49m\n\u001B[0;32m     16\u001B[0m     x_selected \u001B[38;5;241m=\u001B[39m x[features]\n\u001B[0;32m     18\u001B[0m     distances \u001B[38;5;241m=\u001B[39m np\u001B[38;5;241m.\u001B[39mlinalg\u001B[38;5;241m.\u001B[39mnorm(X_selected \u001B[38;5;241m-\u001B[39m x_selected, axis\u001B[38;5;241m=\u001B[39m\u001B[38;5;241m1\u001B[39m)\n",
      "File \u001B[1;32m~\\anaconda3\\envs\\Pairs_Trading\\Lib\\site-packages\\pandas\\core\\frame.py:4090\u001B[0m, in \u001B[0;36mDataFrame.__getitem__\u001B[1;34m(self, key)\u001B[0m\n\u001B[0;32m   4088\u001B[0m \u001B[38;5;28;01mif\u001B[39;00m \u001B[38;5;28mself\u001B[39m\u001B[38;5;241m.\u001B[39mcolumns\u001B[38;5;241m.\u001B[39mnlevels \u001B[38;5;241m>\u001B[39m \u001B[38;5;241m1\u001B[39m:\n\u001B[0;32m   4089\u001B[0m     \u001B[38;5;28;01mreturn\u001B[39;00m \u001B[38;5;28mself\u001B[39m\u001B[38;5;241m.\u001B[39m_getitem_multilevel(key)\n\u001B[1;32m-> 4090\u001B[0m indexer \u001B[38;5;241m=\u001B[39m \u001B[38;5;28;43mself\u001B[39;49m\u001B[38;5;241;43m.\u001B[39;49m\u001B[43mcolumns\u001B[49m\u001B[38;5;241;43m.\u001B[39;49m\u001B[43mget_loc\u001B[49m\u001B[43m(\u001B[49m\u001B[43mkey\u001B[49m\u001B[43m)\u001B[49m\n\u001B[0;32m   4091\u001B[0m \u001B[38;5;28;01mif\u001B[39;00m is_integer(indexer):\n\u001B[0;32m   4092\u001B[0m     indexer \u001B[38;5;241m=\u001B[39m [indexer]\n",
      "File \u001B[1;32m~\\anaconda3\\envs\\Pairs_Trading\\Lib\\site-packages\\pandas\\core\\indexes\\base.py:3817\u001B[0m, in \u001B[0;36mIndex.get_loc\u001B[1;34m(self, key)\u001B[0m\n\u001B[0;32m   3812\u001B[0m     \u001B[38;5;28;01mraise\u001B[39;00m \u001B[38;5;167;01mKeyError\u001B[39;00m(key) \u001B[38;5;28;01mfrom\u001B[39;00m \u001B[38;5;21;01merr\u001B[39;00m\n\u001B[0;32m   3813\u001B[0m \u001B[38;5;28;01mexcept\u001B[39;00m \u001B[38;5;167;01mTypeError\u001B[39;00m:\n\u001B[0;32m   3814\u001B[0m     \u001B[38;5;66;03m# If we have a listlike key, _check_indexing_error will raise\u001B[39;00m\n\u001B[0;32m   3815\u001B[0m     \u001B[38;5;66;03m#  InvalidIndexError. Otherwise we fall through and re-raise\u001B[39;00m\n\u001B[0;32m   3816\u001B[0m     \u001B[38;5;66;03m#  the TypeError.\u001B[39;00m\n\u001B[1;32m-> 3817\u001B[0m     \u001B[38;5;28;43mself\u001B[39;49m\u001B[38;5;241;43m.\u001B[39;49m\u001B[43m_check_indexing_error\u001B[49m\u001B[43m(\u001B[49m\u001B[43mkey\u001B[49m\u001B[43m)\u001B[49m\n\u001B[0;32m   3818\u001B[0m     \u001B[38;5;28;01mraise\u001B[39;00m\n",
      "File \u001B[1;32m~\\anaconda3\\envs\\Pairs_Trading\\Lib\\site-packages\\pandas\\core\\indexes\\base.py:6059\u001B[0m, in \u001B[0;36mIndex._check_indexing_error\u001B[1;34m(self, key)\u001B[0m\n\u001B[0;32m   6055\u001B[0m \u001B[38;5;28;01mdef\u001B[39;00m \u001B[38;5;21m_check_indexing_error\u001B[39m(\u001B[38;5;28mself\u001B[39m, key):\n\u001B[0;32m   6056\u001B[0m     \u001B[38;5;28;01mif\u001B[39;00m \u001B[38;5;129;01mnot\u001B[39;00m is_scalar(key):\n\u001B[0;32m   6057\u001B[0m         \u001B[38;5;66;03m# if key is not a scalar, directly raise an error (the code below\u001B[39;00m\n\u001B[0;32m   6058\u001B[0m         \u001B[38;5;66;03m# would convert to numpy arrays and raise later any way) - GH29926\u001B[39;00m\n\u001B[1;32m-> 6059\u001B[0m         \u001B[38;5;28;01mraise\u001B[39;00m InvalidIndexError(key)\n",
      "\u001B[1;31mInvalidIndexError\u001B[0m: (slice(None, None, None), [0, 1, 2, 3, 4, 5, 6, 7, 11, 12])"
     ]
    }
   ],
   "source": [
    "import numpy as np\n",
    "import pandas as pd\n",
    "\n",
    "\n",
    "\n",
    "class SMOTE:\n",
    "    def __init__(self, X, y, ratio, K, features):\n",
    "        self.X = X\n",
    "        self.y = y\n",
    "        self.ratio = ratio\n",
    "        self.K = K\n",
    "        self.features = features\n",
    "\n",
    "    def nearest_neighbour(self, X, x, K, features):\n",
    "        X_selected = X[:, features]\n",
    "        x_selected = x[features]\n",
    "\n",
    "        distances = np.linalg.norm(X_selected - x_selected, axis=1)\n",
    "        indices = np.argsort(distances)[1:K + 1]\n",
    "\n",
    "        differences = X_selected[indices] - x_selected\n",
    "        weights = np.random.random((K, 1))\n",
    "        additive = differences * weights\n",
    "        return additive\n",
    "\n",
    "    def generate_new_samples(self, row, X, K, features):\n",
    "        row = row.values\n",
    "        additive = self.nearest_neighbour(X, row, K, features)\n",
    "        new_samples = np.tile(row, (K, 1))\n",
    "        new_samples[:, features] += additive\n",
    "        return new_samples\n",
    "\n",
    "    def SMOTE(self, X, y, K, features):\n",
    "        X_df = pd.DataFrame(X)\n",
    "        minority_class = min(Counter(y), key=Counter(y).get)\n",
    "        X_minority = X_df[y == minority_class]\n",
    "\n",
    "        new_samples_list = X_minority.apply(lambda row: self.generate_new_samples(row, X, K, features), axis=1)\n",
    "        new_samples = np.vstack(new_samples_list)\n",
    "\n",
    "        new_X = np.vstack([X, new_samples])\n",
    "        new_y = np.hstack([y, np.array([minority_class] * len(new_samples))])\n",
    "\n",
    "        return new_X, new_y\n",
    "\n",
    "    def balance_classes(self):\n",
    "        if self.features is None:\n",
    "            self.features = list(range(self.X.shape[1]))\n",
    "\n",
    "        class_counts = Counter(self.y)\n",
    "        minority_class = min(class_counts, key=class_counts.get)\n",
    "\n",
    "        while class_counts[minority_class] / len(self.y) < self.ratio:\n",
    "            X, y = self.SMOTE(self.X, self.y, self.K, self.features)\n",
    "            class_counts = Counter(y)\n",
    "            minority_class = min(class_counts, key=class_counts.get)\n",
    "\n",
    "        return X, y\n",
    "\n",
    "\n",
    "# SMOTE 적용\n",
    "features = [0, 1, 2, 3, 4, 5, 6, 7, 11, 12]\n",
    "S = SMOTE(test_in, test_out, 0.1, 2, features)\n",
    "X_balanced, y_balanced = S.balance_classes()\n",
    "\n",
    "print(\"Original class distribution:\", Counter(y))\n",
    "print(\"New class distribution:\", Counter(y_balanced))"
   ],
   "metadata": {
    "collapsed": false,
    "ExecuteTime": {
     "end_time": "2024-05-22T13:32:34.877172600Z",
     "start_time": "2024-05-22T13:32:34.695548200Z"
    }
   },
   "id": "867e56b4a2a37797",
   "execution_count": 47
  }
 ],
 "metadata": {
  "kernelspec": {
   "display_name": "Python 3",
   "language": "python",
   "name": "python3"
  },
  "language_info": {
   "codemirror_mode": {
    "name": "ipython",
    "version": 2
   },
   "file_extension": ".py",
   "mimetype": "text/x-python",
   "name": "python",
   "nbconvert_exporter": "python",
   "pygments_lexer": "ipython2",
   "version": "2.7.6"
  }
 },
 "nbformat": 4,
 "nbformat_minor": 5
}
