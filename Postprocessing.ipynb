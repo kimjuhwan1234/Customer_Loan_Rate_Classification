{
 "cells": [
  {
   "cell_type": "code",
   "outputs": [],
   "source": [
    "import joblib\n",
    "import warnings\n",
    "import numpy as np\n",
    "import pandas as pd\n",
    "from sklearn.metrics import *\n",
    "\n",
    "warnings.filterwarnings(\"ignore\")"
   ],
   "metadata": {
    "collapsed": false,
    "ExecuteTime": {
     "end_time": "2024-05-17T13:03:06.990648Z",
     "start_time": "2024-05-17T13:03:06.988137600Z"
    }
   },
   "id": "5a7365216f084516",
   "execution_count": 100
  },
  {
   "cell_type": "code",
   "outputs": [],
   "source": [
    "test_in = pd.read_csv('Database/test_pre_input.csv', index_col=0)\n",
    "test_out = pd.read_csv('Database/test_pre_output.csv', index_col=0)"
   ],
   "metadata": {
    "collapsed": false,
    "ExecuteTime": {
     "end_time": "2024-05-17T13:03:07.034417Z",
     "start_time": "2024-05-17T13:03:06.991648400Z"
    }
   },
   "id": "7c1006d94f65567c",
   "execution_count": 101
  },
  {
   "cell_type": "code",
   "outputs": [],
   "source": [
    "i = 0\n",
    "name_list = ['None', 'SMOTE', 'Adasyn', 'KMeansSMOTE']\n",
    "best_dt = joblib.load(f'Files/dt_{name_list[i]}_model.pkl')\n",
    "best_lgb = joblib.load(f'Files/lgb_{name_list[i]}_model.pkl')\n",
    "best_xgb = joblib.load(f'Files/xgb_{name_list[i]}_model.pkl')\n",
    "best_cat = joblib.load(f'Files/cat_{name_list[i]}_model.pkl')"
   ],
   "metadata": {
    "collapsed": false,
    "ExecuteTime": {
     "end_time": "2024-05-17T13:03:07.039903Z",
     "start_time": "2024-05-17T13:03:07.035415700Z"
    }
   },
   "id": "2884b122625004ed",
   "execution_count": 102
  },
  {
   "cell_type": "code",
   "outputs": [
    {
     "name": "stdout",
     "output_type": "stream",
     "text": [
      "[LightGBM] [Warning] Unknown parameter: verbose_eval\n",
      "DT F1-Score:0.9490\n",
      "lightGBM F1-Score:0.1668\n"
     ]
    }
   ],
   "source": [
    "proba1 = best_dt.predict_proba(test_in)\n",
    "proba2 = best_lgb.predict_proba(test_in)\n",
    "proba3 = best_xgb.predict_proba(test_in)\n",
    "proba4 = best_cat.predict_proba(test_in)\n",
    "average_proba = (proba1+proba2+proba3+proba4)/4\n",
    "\n",
    "dt_result = np.argmax(proba1, axis=1)\n",
    "lgb_result = np.argmax(proba2, axis=1)\n",
    "xgb_result = np.argmax(proba3, axis=1)\n",
    "cat_result = np.argmax(proba4, axis=1)\n",
    "soft_voting_result = np.argmax(average_proba, axis=1)\n",
    "\n",
    "print(f\"DT F1-Score:{f1_score(test_out, dt_result, average='micro'):.4f}\")\n",
    "print(f\"lightGBM F1-Score:{f1_score(test_out, lgb_result, average='micro'):.4f}\")\n",
    "print(f\"XGBoost F1-Score:{f1_score(test_out, xgb_result, average='micro'):.4f}\")\n",
    "print(f\"CatBoost F1-Score:{f1_score(test_out, cat_result, average='micro'):.4f}\")\n",
    "print(f\"Soft Voting F1-Score:{f1_score(test_out, soft_voting_result, average='micro'):.4f}\")"
   ],
   "metadata": {
    "collapsed": false,
    "ExecuteTime": {
     "end_time": "2024-05-17T13:03:07.286037500Z",
     "start_time": "2024-05-17T13:03:07.039903Z"
    }
   },
   "id": "65e7e43f7919bdf6",
   "execution_count": 103
  }
 ],
 "metadata": {
  "kernelspec": {
   "display_name": "Python 3",
   "language": "python",
   "name": "python3"
  },
  "language_info": {
   "codemirror_mode": {
    "name": "ipython",
    "version": 2
   },
   "file_extension": ".py",
   "mimetype": "text/x-python",
   "name": "python",
   "nbconvert_exporter": "python",
   "pygments_lexer": "ipython2",
   "version": "2.7.6"
  }
 },
 "nbformat": 4,
 "nbformat_minor": 5
}
