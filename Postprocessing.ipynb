{
 "cells": [
  {
   "cell_type": "code",
   "outputs": [],
   "source": [
    "import joblib\n",
    "import warnings\n",
    "import numpy as np\n",
    "import pandas as pd\n",
    "from sklearn.metrics import *\n",
    "\n",
    "warnings.filterwarnings(\"ignore\")"
   ],
   "metadata": {
    "collapsed": false,
    "ExecuteTime": {
     "end_time": "2024-05-18T04:32:05.668673700Z",
     "start_time": "2024-05-18T04:32:05.667164Z"
    }
   },
   "id": "5a7365216f084516",
   "execution_count": 285
  },
  {
   "cell_type": "code",
   "outputs": [],
   "source": [
    "test_in = pd.read_csv('Database/test_pre_input.csv', index_col=0)\n",
    "test_out = pd.read_csv('Database/test_pre_output.csv', index_col=0)"
   ],
   "metadata": {
    "collapsed": false,
    "ExecuteTime": {
     "end_time": "2024-05-18T04:32:05.713260200Z",
     "start_time": "2024-05-18T04:32:05.672674700Z"
    }
   },
   "id": "7c1006d94f65567c",
   "execution_count": 286
  },
  {
   "cell_type": "code",
   "outputs": [],
   "source": [
    "i = 2\n",
    "name_list = ['None', 'SMOTE', 'ADASYN', 'KMeanSMOTE']\n",
    "best_dt = joblib.load(f'Files/dt_{name_list[i]}_model.pkl')\n",
    "best_lgb = joblib.load(f'Files/lgb_{name_list[i]}_model.pkl')\n",
    "best_xgb = joblib.load(f'Files/xgb_{name_list[i]}_model.pkl')\n",
    "best_cat = joblib.load(f'Files/cat_{name_list[i]}_model.pkl')"
   ],
   "metadata": {
    "collapsed": false,
    "ExecuteTime": {
     "end_time": "2024-05-18T04:32:05.877188600Z",
     "start_time": "2024-05-18T04:32:05.714260600Z"
    }
   },
   "id": "2884b122625004ed",
   "execution_count": 287
  },
  {
   "cell_type": "code",
   "outputs": [
    {
     "name": "stdout",
     "output_type": "stream",
     "text": [
      "[LightGBM] [Warning] Accuracy may be bad since you didn't explicitly set num_leaves OR 2^max_depth > num_leaves. (num_leaves=31).\n"
     ]
    }
   ],
   "source": [
    "proba1 = best_dt.predict_proba(test_in)\n",
    "proba2 = best_lgb.predict_proba(test_in)\n",
    "proba3 = best_xgb.predict_proba(test_in)\n",
    "proba4 = best_cat.predict_proba(test_in)\n",
    "average_proba = (proba1+proba2+proba3+proba4)/4\n",
    "\n",
    "dt_result = np.argmax(proba1, axis=1)\n",
    "lgb_result = np.argmax(proba2, axis=1)\n",
    "xgb_result = np.argmax(proba3, axis=1)\n",
    "cat_result = np.argmax(proba4, axis=1)\n",
    "soft_voting_result = np.argmax(average_proba, axis=1)"
   ],
   "metadata": {
    "collapsed": false,
    "ExecuteTime": {
     "end_time": "2024-05-18T04:32:06.412923900Z",
     "start_time": "2024-05-18T04:32:05.877188600Z"
    }
   },
   "id": "65e7e43f7919bdf6",
   "execution_count": 288
  },
  {
   "cell_type": "code",
   "outputs": [
    {
     "name": "stdout",
     "output_type": "stream",
     "text": [
      "DT AUC:0.98984\n",
      "lightGBM AUC:0.99695\n",
      "XGBoost AUC:0.99696\n",
      "CatBoost AUC:0.99524\n",
      "Soft Voting AUC:0.99736\n"
     ]
    }
   ],
   "source": [
    "print(f\"DT AUC:{roc_auc_score(test_out, proba1, multi_class='ovr', average='weighted'):.5f}\")\n",
    "print(f\"lightGBM AUC:{roc_auc_score(test_out, proba2, multi_class='ovr', average='weighted'):.5f}\")\n",
    "print(f\"XGBoost AUC:{roc_auc_score(test_out, proba3, multi_class='ovr', average='weighted'):.5f}\")\n",
    "print(f\"CatBoost AUC:{roc_auc_score(test_out, proba4, multi_class='ovr', average='weighted'):.5f}\")\n",
    "print(f\"Soft Voting AUC:{roc_auc_score(test_out, average_proba, multi_class='ovr', average='weighted'):.5f}\")"
   ],
   "metadata": {
    "collapsed": false,
    "ExecuteTime": {
     "end_time": "2024-05-18T04:32:06.550690200Z",
     "start_time": "2024-05-18T04:32:06.414924500Z"
    }
   },
   "id": "3367d0323f32e8c2",
   "execution_count": 289
  },
  {
   "cell_type": "code",
   "outputs": [
    {
     "name": "stdout",
     "output_type": "stream",
     "text": [
      "DT F1-Score:0.94485\n",
      "lightGBM F1-Score:0.93808\n",
      "XGBoost F1-Score:0.94010\n",
      "CatBoost F1-Score:0.92474\n",
      "Soft Voting F1-Score:0.94551\n"
     ]
    }
   ],
   "source": [
    "print(f\"DT F1-Score:{f1_score(test_out, dt_result, average='weighted'):.5f}\")\n",
    "print(f\"lightGBM F1-Score:{f1_score(test_out, lgb_result, average='weighted'):.5f}\")\n",
    "print(f\"XGBoost F1-Score:{f1_score(test_out, xgb_result, average='weighted'):.5f}\")\n",
    "print(f\"CatBoost F1-Score:{f1_score(test_out, cat_result, average='weighted'):.5f}\")\n",
    "print(f\"Soft Voting F1-Score:{f1_score(test_out, soft_voting_result, average='weighted'):.5f}\")"
   ],
   "metadata": {
    "collapsed": false,
    "ExecuteTime": {
     "end_time": "2024-05-18T04:32:06.603699900Z",
     "start_time": "2024-05-18T04:32:06.547687900Z"
    }
   },
   "id": "bc7cf48f88e1576d",
   "execution_count": 290
  }
 ],
 "metadata": {
  "kernelspec": {
   "display_name": "Python 3",
   "language": "python",
   "name": "python3"
  },
  "language_info": {
   "codemirror_mode": {
    "name": "ipython",
    "version": 2
   },
   "file_extension": ".py",
   "mimetype": "text/x-python",
   "name": "python",
   "nbconvert_exporter": "python",
   "pygments_lexer": "ipython2",
   "version": "2.7.6"
  }
 },
 "nbformat": 4,
 "nbformat_minor": 5
}
