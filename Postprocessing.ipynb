{
 "cells": [
  {
   "cell_type": "code",
   "outputs": [],
   "source": [
    "import joblib\n",
    "import warnings\n",
    "import numpy as np\n",
    "import pandas as pd\n",
    "from sklearn.metrics import *\n",
    "warnings.filterwarnings(\"ignore\")"
   ],
   "metadata": {
    "collapsed": false,
    "ExecuteTime": {
     "end_time": "2024-05-17T12:29:07.842433700Z",
     "start_time": "2024-05-17T12:29:07.839313900Z"
    }
   },
   "id": "5a7365216f084516",
   "execution_count": 47
  },
  {
   "cell_type": "code",
   "outputs": [],
   "source": [
    "test_in = pd.read_csv('Database/test_pre_input.csv', index_col=0)\n",
    "test_out = pd.read_csv('Database/test_pre_output.csv', index_col=0)"
   ],
   "metadata": {
    "collapsed": false,
    "ExecuteTime": {
     "end_time": "2024-05-17T12:29:08.072344Z",
     "start_time": "2024-05-17T12:29:08.037580600Z"
    }
   },
   "id": "7c1006d94f65567c",
   "execution_count": 48
  },
  {
   "cell_type": "code",
   "outputs": [],
   "source": [
    "i=0\n",
    "name_list=['None', 'SMOTE', 'Adasyn', 'KMeansSMOTE']\n",
    "best_dt = joblib.load(f'Files/dt_{name_list[i]}_model.pkl')\n",
    "best_lgb = joblib.load(f'Files/lgb_{name_list[i]}_model.pkl')\n",
    "# best_xgb = joblib.load(f'Files/xgb_{name_list[i]}_model.pkl')\n",
    "# best_cat = joblib.load(f'Files/cat_{name_list[i]}_model.pkl')"
   ],
   "metadata": {
    "collapsed": false,
    "ExecuteTime": {
     "end_time": "2024-05-17T12:29:10.053975800Z",
     "start_time": "2024-05-17T12:29:10.008835500Z"
    }
   },
   "id": "2884b122625004ed",
   "execution_count": 49
  },
  {
   "cell_type": "code",
   "outputs": [],
   "source": [],
   "metadata": {
    "collapsed": false
   },
   "id": "9f00af1b0e6c98b9"
  },
  {
   "cell_type": "code",
   "outputs": [
    {
     "ename": "NotFittedError",
     "evalue": "This DecisionTreeClassifier instance is not fitted yet. Call 'fit' with appropriate arguments before using this estimator.",
     "output_type": "error",
     "traceback": [
      "\u001B[1;31m---------------------------------------------------------------------------\u001B[0m",
      "\u001B[1;31mNotFittedError\u001B[0m                            Traceback (most recent call last)",
      "Cell \u001B[1;32mIn[50], line 1\u001B[0m\n\u001B[1;32m----> 1\u001B[0m proba1 \u001B[38;5;241m=\u001B[39m \u001B[43mbest_dt\u001B[49m\u001B[38;5;241;43m.\u001B[39;49m\u001B[43mpredict_proba\u001B[49m\u001B[43m(\u001B[49m\u001B[43mtest_in\u001B[49m\u001B[43m)\u001B[49m\n\u001B[0;32m      2\u001B[0m proba2 \u001B[38;5;241m=\u001B[39m best_lgb\u001B[38;5;241m.\u001B[39mpredict_proba(test_in)\n\u001B[0;32m      3\u001B[0m \u001B[38;5;66;03m# proba3 = best_xgb.predict_proba(test_in)\u001B[39;00m\n\u001B[0;32m      4\u001B[0m \u001B[38;5;66;03m# proba4 = best_cat.predict_proba(test_in)\u001B[39;00m\n\u001B[0;32m      5\u001B[0m \u001B[38;5;66;03m# average_proba = (proba1+proba2+proba3+proba4)/4\u001B[39;00m\n",
      "File \u001B[1;32m~\\anaconda3\\envs\\Pairs_Trading\\Lib\\site-packages\\sklearn\\tree\\_classes.py:1041\u001B[0m, in \u001B[0;36mDecisionTreeClassifier.predict_proba\u001B[1;34m(self, X, check_input)\u001B[0m\n\u001B[0;32m   1017\u001B[0m \u001B[38;5;28;01mdef\u001B[39;00m \u001B[38;5;21mpredict_proba\u001B[39m(\u001B[38;5;28mself\u001B[39m, X, check_input\u001B[38;5;241m=\u001B[39m\u001B[38;5;28;01mTrue\u001B[39;00m):\n\u001B[0;32m   1018\u001B[0m \u001B[38;5;250m    \u001B[39m\u001B[38;5;124;03m\"\"\"Predict class probabilities of the input samples X.\u001B[39;00m\n\u001B[0;32m   1019\u001B[0m \n\u001B[0;32m   1020\u001B[0m \u001B[38;5;124;03m    The predicted class probability is the fraction of samples of the same\u001B[39;00m\n\u001B[1;32m   (...)\u001B[0m\n\u001B[0;32m   1039\u001B[0m \u001B[38;5;124;03m        classes corresponds to that in the attribute :term:`classes_`.\u001B[39;00m\n\u001B[0;32m   1040\u001B[0m \u001B[38;5;124;03m    \"\"\"\u001B[39;00m\n\u001B[1;32m-> 1041\u001B[0m     \u001B[43mcheck_is_fitted\u001B[49m\u001B[43m(\u001B[49m\u001B[38;5;28;43mself\u001B[39;49m\u001B[43m)\u001B[49m\n\u001B[0;32m   1042\u001B[0m     X \u001B[38;5;241m=\u001B[39m \u001B[38;5;28mself\u001B[39m\u001B[38;5;241m.\u001B[39m_validate_X_predict(X, check_input)\n\u001B[0;32m   1043\u001B[0m     proba \u001B[38;5;241m=\u001B[39m \u001B[38;5;28mself\u001B[39m\u001B[38;5;241m.\u001B[39mtree_\u001B[38;5;241m.\u001B[39mpredict(X)\n",
      "File \u001B[1;32m~\\anaconda3\\envs\\Pairs_Trading\\Lib\\site-packages\\sklearn\\utils\\validation.py:1622\u001B[0m, in \u001B[0;36mcheck_is_fitted\u001B[1;34m(estimator, attributes, msg, all_or_any)\u001B[0m\n\u001B[0;32m   1619\u001B[0m     \u001B[38;5;28;01mraise\u001B[39;00m \u001B[38;5;167;01mTypeError\u001B[39;00m(\u001B[38;5;124m\"\u001B[39m\u001B[38;5;132;01m%s\u001B[39;00m\u001B[38;5;124m is not an estimator instance.\u001B[39m\u001B[38;5;124m\"\u001B[39m \u001B[38;5;241m%\u001B[39m (estimator))\n\u001B[0;32m   1621\u001B[0m \u001B[38;5;28;01mif\u001B[39;00m \u001B[38;5;129;01mnot\u001B[39;00m _is_fitted(estimator, attributes, all_or_any):\n\u001B[1;32m-> 1622\u001B[0m     \u001B[38;5;28;01mraise\u001B[39;00m NotFittedError(msg \u001B[38;5;241m%\u001B[39m {\u001B[38;5;124m\"\u001B[39m\u001B[38;5;124mname\u001B[39m\u001B[38;5;124m\"\u001B[39m: \u001B[38;5;28mtype\u001B[39m(estimator)\u001B[38;5;241m.\u001B[39m\u001B[38;5;18m__name__\u001B[39m})\n",
      "\u001B[1;31mNotFittedError\u001B[0m: This DecisionTreeClassifier instance is not fitted yet. Call 'fit' with appropriate arguments before using this estimator."
     ]
    }
   ],
   "source": [
    "proba1 = best_dt.predict_proba(test_in)\n",
    "proba2 = best_lgb.predict_proba(test_in)\n",
    "# proba3 = best_xgb.predict_proba(test_in)\n",
    "# proba4 = best_cat.predict_proba(test_in)\n",
    "# average_proba = (proba1+proba2+proba3+proba4)/4\n",
    "\n",
    "dt_result = np.argmax(proba1, axis=1)\n",
    "lgb_result = np.argmax(proba2, axis=1)\n",
    "# xgb_result = np.argmax(proba3, axis=1)\n",
    "# cat_result = np.argmax(proba4, axis=1)\n",
    "# soft_voting_result = np.argmax(average_proba, axis=1)\n",
    "\n",
    "print(f\"DT F1-Score:{f1_score(test_out, dt_result, average='micro'):.4f}\")\n",
    "print(f\"lightGBM F1-Score:{f1_score(test_out, lgb_result, average='micro'):.4f}\")\n",
    "# print(f\"XGBoost F1-Score:{f1_score(test_out, xgb_result, average='micro'):.4f}\")\n",
    "# print(f\"CatBoost F1-Score:{f1_score(test_out, cat_result, average='micro'):.4f}\")\n",
    "# print(f\"Soft Voting F1-Score:{f1_score(test_out, soft_voting_result, average='micro'):.4f}\")"
   ],
   "metadata": {
    "collapsed": false,
    "ExecuteTime": {
     "end_time": "2024-05-17T12:29:10.652624Z",
     "start_time": "2024-05-17T12:29:10.552458300Z"
    }
   },
   "id": "65e7e43f7919bdf6",
   "execution_count": 50
  },
  {
   "cell_type": "code",
   "outputs": [],
   "source": [],
   "metadata": {
    "collapsed": false
   },
   "id": "513d3ec6e16b9de1"
  }
 ],
 "metadata": {
  "kernelspec": {
   "display_name": "Python 3",
   "language": "python",
   "name": "python3"
  },
  "language_info": {
   "codemirror_mode": {
    "name": "ipython",
    "version": 2
   },
   "file_extension": ".py",
   "mimetype": "text/x-python",
   "name": "python",
   "nbconvert_exporter": "python",
   "pygments_lexer": "ipython2",
   "version": "2.7.6"
  }
 },
 "nbformat": 4,
 "nbformat_minor": 5
}
