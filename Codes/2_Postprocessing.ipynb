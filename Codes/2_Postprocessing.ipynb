{
 "cells": [
  {
   "cell_type": "code",
   "outputs": [],
   "source": [
    "from sklearn.metrics import accuracy_score\n",
    "from sklearn.preprocessing import LabelEncoder\n",
    "from sklearn.model_selection import train_test_split\n",
    "\n",
    "import joblib\n",
    "import warnings\n",
    "import numpy as np\n",
    "import pandas as pd\n",
    "import xgboost as xgb"
   ],
   "metadata": {
    "collapsed": false,
    "ExecuteTime": {
     "end_time": "2024-02-01T06:52:31.819899400Z",
     "start_time": "2024-02-01T06:52:30.534400400Z"
    }
   },
   "id": "c2cbce1004346646",
   "execution_count": 1
  },
  {
   "cell_type": "code",
   "outputs": [],
   "source": [
    "warnings.filterwarnings(\"ignore\")\n",
    "original = pd.read_csv('../Database/train.csv')\n",
    "train = pd.read_csv('../Database/train_preprocessed.csv', index_col='ID')\n",
    "test = pd.read_csv('../Database/test_preprocessed.csv', index_col='ID')\n",
    "X = train.drop(columns=['대출등급'])\n",
    "y = train['대출등급']\n",
    "X_train, X_test, y_train, y_test = train_test_split(X, y, test_size=0.2, random_state=42)\n",
    "\n",
    "X_test_XG = xgb.DMatrix(X_test)\n",
    "test_XG = xgb.DMatrix(test)"
   ],
   "metadata": {
    "collapsed": false,
    "ExecuteTime": {
     "end_time": "2024-02-01T06:52:32.405414800Z",
     "start_time": "2024-02-01T06:52:31.823900Z"
    }
   },
   "id": "453bf0e71da74202",
   "execution_count": 2
  },
  {
   "cell_type": "code",
   "execution_count": 3,
   "id": "initial_id",
   "metadata": {
    "collapsed": true,
    "ExecuteTime": {
     "end_time": "2024-02-01T05:47:25.176721300Z",
     "start_time": "2024-02-01T05:47:20.779435100Z"
    }
   },
   "outputs": [
    {
     "name": "stdout",
     "output_type": "stream",
     "text": [
      "float64\n",
      "(19259, 7)\n",
      "<class 'numpy.ndarray'>\n",
      "<class 'pandas.core.series.Series'>\n",
      "lightGBM Accuracy: 0.8734617581390519\n",
      "XGBoost Accuracy: 0.8628173840801703\n",
      "CatBoost Accuracy: 0.8624019938729944\n",
      "Soft Voting Accuracy: 0.8756944805026221\n"
     ]
    }
   ],
   "source": [
    "lgb_model = joblib.load('../Files/lgb_model.pkl')\n",
    "xgb_model = joblib.load('../Files/xgb_model.pkl')\n",
    "cat_model = joblib.load('../Files/cat_model.pkl')\n",
    "\n",
    "proba1 = lgb_model.predict(X_test, num_iteration=lgb_model.best_iteration)\n",
    "proba2 = xgb_model.predict(X_test_XG)\n",
    "proba3 = cat_model.predict_proba(X_test)\n",
    "\n",
    "lgb_result = [int(pred.argmax()) for pred in proba1]\n",
    "xgb_result = np.argmax(proba2, axis=1)\n",
    "cat_result = np.argmax(proba3, axis=1)\n",
    "\n",
    "print(proba3.dtype)\n",
    "print(proba3.shape)\n",
    "print(type(proba3))\n",
    "print(type(y_test))\n",
    "\n",
    "print(\"lightGBM Accuracy:\", accuracy_score(y_test, lgb_result))\n",
    "print(\"XGBoost Accuracy:\", accuracy_score(y_test, xgb_result))\n",
    "print(\"CatBoost Accuracy:\", accuracy_score(y_test, cat_result))\n",
    "\n",
    "average_proba = (proba1 + proba2 + proba3) / 3\n",
    "soft_voting_result = np.argmax(average_proba, axis=1)\n",
    "print(\"Soft Voting Accuracy:\", accuracy_score(y_test, soft_voting_result))"
   ]
  },
  {
   "cell_type": "code",
   "outputs": [],
   "source": [
    "proba1 = lgb_model.predict(test, num_iteration=lgb_model.best_iteration)\n",
    "proba2 = xgb_model.predict(test_XG)\n",
    "proba3 = cat_model.predict_proba(test)\n",
    "\n",
    "average_proba = (proba1 + proba2 + proba3) / 3\n",
    "soft_voting_result = np.argmax(average_proba, axis=1)\n",
    "\n",
    "label_encoder = LabelEncoder()\n",
    "encoded_data = label_encoder.fit_transform(original['대출등급'])\n",
    "decoded_data = label_encoder.inverse_transform(soft_voting_result)\n",
    "\n",
    "answer = pd.read_csv('../Database/sample_submission.csv')\n",
    "answer['대출등급'] = decoded_data\n",
    "answer.to_csv('../Files/answer.csv', index=None)"
   ],
   "metadata": {
    "collapsed": false,
    "ExecuteTime": {
     "end_time": "2024-02-01T05:47:49.681724300Z",
     "start_time": "2024-02-01T05:47:38.434172Z"
    }
   },
   "id": "f270f51a1b2b3730",
   "execution_count": 4
  },
  {
   "cell_type": "code",
   "outputs": [],
   "source": [],
   "metadata": {
    "collapsed": false
   },
   "id": "e4a5636064957d0b"
  }
 ],
 "metadata": {
  "kernelspec": {
   "display_name": "Python 3",
   "language": "python",
   "name": "python3"
  },
  "language_info": {
   "codemirror_mode": {
    "name": "ipython",
    "version": 2
   },
   "file_extension": ".py",
   "mimetype": "text/x-python",
   "name": "python",
   "nbconvert_exporter": "python",
   "pygments_lexer": "ipython2",
   "version": "2.7.6"
  }
 },
 "nbformat": 4,
 "nbformat_minor": 5
}
