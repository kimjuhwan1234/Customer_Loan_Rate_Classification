{
 "cells": [
  {
   "cell_type": "code",
   "outputs": [],
   "source": [
    "from sklearn.metrics import accuracy_score\n",
    "from sklearn.preprocessing import LabelEncoder\n",
    "from sklearn.model_selection import train_test_split\n",
    "\n",
    "import joblib\n",
    "import warnings\n",
    "import numpy as np\n",
    "import pandas as pd\n",
    "import xgboost as xgb"
   ],
   "metadata": {
    "collapsed": false,
    "ExecuteTime": {
     "end_time": "2024-01-28T07:00:23.601109400Z",
     "start_time": "2024-01-28T07:00:22.437075500Z"
    }
   },
   "id": "c2cbce1004346646",
   "execution_count": 1
  },
  {
   "cell_type": "code",
   "outputs": [],
   "source": [
    "warnings.filterwarnings(\"ignore\")\n",
    "original = pd.read_csv('../Database/train.csv')\n",
    "train = pd.read_csv('../Database/train_preprocessed.csv', index_col='ID')\n",
    "test = pd.read_csv('../Database/test_preprocessed.csv', index_col='ID')\n",
    "X = train.drop(columns=['대출등급'])\n",
    "y = train['대출등급']\n",
    "X_train, X_test, y_train, y_test = train_test_split(X, y, test_size=0.2, random_state=42)\n",
    "X_test_XG = xgb.DMatrix(X_test)\n",
    "test_XG = xgb.DMatrix(test)"
   ],
   "metadata": {
    "collapsed": false,
    "ExecuteTime": {
     "end_time": "2024-01-28T07:00:24.126575600Z",
     "start_time": "2024-01-28T07:00:23.604110Z"
    }
   },
   "id": "453bf0e71da74202",
   "execution_count": 2
  },
  {
   "cell_type": "code",
   "execution_count": 4,
   "id": "initial_id",
   "metadata": {
    "collapsed": true,
    "ExecuteTime": {
     "end_time": "2024-01-28T07:00:52.739719100Z",
     "start_time": "2024-01-28T07:00:52.158853600Z"
    }
   },
   "outputs": [
    {
     "name": "stdout",
     "output_type": "stream",
     "text": [
      "lightGBM Accuracy: 0.8538345708499923\n",
      "XGBoost Accuracy: 0.8504076016407913\n",
      "Soft Voting Accuracy: 0.8560153694376655\n"
     ]
    }
   ],
   "source": [
    "gbm_model = joblib.load('../Files/gbm_model.pkl')\n",
    "xgb_model = joblib.load('../Files/xgb_model.pkl')\n",
    "# cat_model = joblib.load('../Files/cat_model.pkl')\n",
    "\n",
    "proba1 = gbm_model.predict(X_test, num_iteration=gbm_model.best_iteration)\n",
    "proba2 = xgb_model.predict(X_test_XG)\n",
    "# proba3 = cat_model.predict_proba(X_test)\n",
    "\n",
    "gbm_result = [int(pred.argmax()) for pred in proba1]\n",
    "xgb_result = np.argmax(proba2, axis=1)\n",
    "# cat_result = np.argmax(proba3, axis=1)\n",
    "\n",
    "print(\"lightGBM Accuracy:\", accuracy_score(y_test, gbm_result))\n",
    "print(\"XGBoost Accuracy:\", accuracy_score(y_test, xgb_result))\n",
    "# print(\"CatBoost Accuracy:\", accuracy_score(y_test, cat_result))\n",
    "\n",
    "average_proba = (proba1 + proba2) / 2\n",
    "soft_voting_result = np.argmax(average_proba, axis=1)\n",
    "print(\"Soft Voting Accuracy:\", accuracy_score(y_test, soft_voting_result))"
   ]
  },
  {
   "cell_type": "code",
   "outputs": [],
   "source": [
    "proba1 = gbm_model.predict(test, num_iteration=gbm_model.best_iteration)\n",
    "proba2 = xgb_model.predict(test_XG)\n",
    "proba3 = cat_model.predict_proba(test)\n",
    "\n",
    "average_proba = (proba1 + proba2 + proba3) / 3\n",
    "soft_voting_result = np.argmax(average_proba, axis=1)\n",
    "\n",
    "label_encoder = LabelEncoder()\n",
    "encoded_data = label_encoder.fit_transform(original['대출등급'])\n",
    "decoded_data = label_encoder.inverse_transform(soft_voting_result)\n",
    "\n",
    "answer = pd.read_csv('../Database/sample_submission.csv')\n",
    "answer['대출등급'] = decoded_data\n",
    "answer.to_csv('../Files/answer.csv', index=None)"
   ],
   "metadata": {
    "collapsed": false
   },
   "id": "f270f51a1b2b3730"
  }
 ],
 "metadata": {
  "kernelspec": {
   "display_name": "Python 3",
   "language": "python",
   "name": "python3"
  },
  "language_info": {
   "codemirror_mode": {
    "name": "ipython",
    "version": 2
   },
   "file_extension": ".py",
   "mimetype": "text/x-python",
   "name": "python",
   "nbconvert_exporter": "python",
   "pygments_lexer": "ipython2",
   "version": "2.7.6"
  }
 },
 "nbformat": 4,
 "nbformat_minor": 5
}
