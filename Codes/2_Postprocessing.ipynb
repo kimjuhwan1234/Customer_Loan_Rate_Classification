{
 "cells": [
  {
   "cell_type": "code",
   "outputs": [],
   "source": [
    "from sklearn.metrics import accuracy_score\n",
    "from sklearn.preprocessing import LabelEncoder\n",
    "from sklearn.model_selection import train_test_split\n",
    "\n",
    "import joblib\n",
    "import warnings\n",
    "import numpy as np\n",
    "import pandas as pd\n",
    "import xgboost as xgb\n",
    "\n",
    "warnings.filterwarnings(\"ignore\")"
   ],
   "metadata": {
    "collapsed": false,
    "ExecuteTime": {
     "end_time": "2024-02-02T11:35:10.930826300Z",
     "start_time": "2024-02-02T11:35:10.927817300Z"
    }
   },
   "id": "c2cbce1004346646",
   "execution_count": 94
  },
  {
   "cell_type": "code",
   "outputs": [],
   "source": [
    "original = pd.read_csv('../Database/train.csv')\n",
    "original_defg = original.loc[original['대출등급'].isin(['D','E', 'F', 'G']), :]\n",
    "abcd = False"
   ],
   "metadata": {
    "collapsed": false,
    "ExecuteTime": {
     "end_time": "2024-02-02T11:38:37.774379Z",
     "start_time": "2024-02-02T11:38:37.590371600Z"
    }
   },
   "id": "9bcbf4af70620fbd",
   "execution_count": 106
  },
  {
   "cell_type": "code",
   "outputs": [],
   "source": [
    "if abcd:\n",
    "    train = pd.read_csv('../Database/train_abcd.csv', index_col='ID')\n",
    "    test = pd.read_csv('../Database/test_abcd.csv', index_col='ID')\n",
    "\n",
    "    X = train.drop(columns=['대출등급'])\n",
    "    y = train['대출등급']\n",
    "    X_train, X_test, y_train, y_test = train_test_split(X, y, test_size=0.2, random_state=42)\n",
    "    \n",
    "    X_test_XG = xgb.DMatrix(X_test)\n",
    "    test_XG = xgb.DMatrix(test)\n",
    "\n",
    "    lgb_model = joblib.load('../Files/lgb_model_abcd.pkl')\n",
    "    xgb_model = joblib.load('../Files/xgb_model_abcd.pkl')\n",
    "    cat_model = joblib.load('../Files/cat_model_abcd.pkl')"
   ],
   "metadata": {
    "collapsed": false,
    "ExecuteTime": {
     "end_time": "2024-02-02T11:38:37.857818900Z",
     "start_time": "2024-02-02T11:38:37.853812600Z"
    }
   },
   "id": "453bf0e71da74202",
   "execution_count": 107
  },
  {
   "cell_type": "code",
   "outputs": [],
   "source": [
    "if not abcd:\n",
    "    train = pd.read_csv('../Database/train_defg.csv', index_col='ID')\n",
    "    test = pd.read_csv('../Database/test_defg.csv', index_col='ID')\n",
    "\n",
    "    X = train.drop(columns=['대출등급'])\n",
    "    y = train['대출등급']\n",
    "    X_train, X_test, y_train, y_test = train_test_split(X, y, test_size=0.2, random_state=42)\n",
    "    \n",
    "    X_test_XG = xgb.DMatrix(X_test)\n",
    "    test_XG = xgb.DMatrix(test)\n",
    "\n",
    "    lgb_model = joblib.load('../Files/lgb_model_defg.pkl')\n",
    "    xgb_model = joblib.load('../Files/xgb_model_defg.pkl')\n",
    "    cat_model = joblib.load('../Files/cat_model_defg.pkl')"
   ],
   "metadata": {
    "collapsed": false,
    "ExecuteTime": {
     "end_time": "2024-02-02T11:38:38.855257500Z",
     "start_time": "2024-02-02T11:38:38.374184400Z"
    }
   },
   "id": "a03c903640b4a82d",
   "execution_count": 108
  },
  {
   "cell_type": "code",
   "execution_count": 109,
   "id": "initial_id",
   "metadata": {
    "collapsed": true,
    "ExecuteTime": {
     "end_time": "2024-02-02T11:38:40.878393100Z",
     "start_time": "2024-02-02T11:38:40.175488300Z"
    }
   },
   "outputs": [
    {
     "name": "stdout",
     "output_type": "stream",
     "text": [
      "lightGBM Accuracy: 0.863114576564869\n",
      "XGBoost Accuracy: 0.8531513970110461\n",
      "CatBoost Accuracy: 0.8538011695906432\n",
      "Soft Voting Accuracy: 0.8654970760233918\n"
     ]
    }
   ],
   "source": [
    "proba1 = lgb_model.predict(X_test, num_iteration=lgb_model.best_iteration)\n",
    "proba2 = xgb_model.predict(X_test_XG)\n",
    "proba3 = cat_model.predict_proba(X_test)\n",
    "\n",
    "lgb_result = [int(pred.argmax()) for pred in proba1]\n",
    "xgb_result = np.argmax(proba2, axis=1)\n",
    "cat_result = np.argmax(proba3, axis=1)\n",
    "\n",
    "print(\"lightGBM Accuracy:\", accuracy_score(y_test, lgb_result))\n",
    "print(\"XGBoost Accuracy:\", accuracy_score(y_test, xgb_result))\n",
    "print(\"CatBoost Accuracy:\", accuracy_score(y_test, cat_result))\n",
    "\n",
    "average_proba = (proba2 + proba3) / 2\n",
    "average_proba = (proba1 + average_proba) / 2\n",
    "soft_voting_result = np.argmax(average_proba, axis=1)\n",
    "print(\"Soft Voting Accuracy:\", accuracy_score(y_test, soft_voting_result))\n",
    "\n",
    "proba1 = lgb_model.predict(test, num_iteration=lgb_model.best_iteration)\n",
    "proba2 = xgb_model.predict(test_XG)\n",
    "proba3 = cat_model.predict_proba(test)\n",
    "\n",
    "average_proba = (proba2 + proba3) / 2\n",
    "average_proba = (proba1 + average_proba) / 2\n",
    "soft_voting_result = np.argmax(average_proba, axis=1)"
   ]
  },
  {
   "cell_type": "code",
   "outputs": [],
   "source": [
    "if abcd:\n",
    "    label_encoder = LabelEncoder()\n",
    "    encoded_data = label_encoder.fit_transform(original['대출등급'])\n",
    "    decoded_data = label_encoder.inverse_transform(soft_voting_result)\n",
    "    \n",
    "    test['대출등급'] = decoded_data\n",
    "    answer_abcd=pd.DataFrame(test['대출등급'].loc[test['대출등급'].isin(['A', 'B', 'C'])])\n",
    "    answer_abcd.to_csv('../Files/answer_abcd.csv')\n",
    "    \n",
    "    test_defg = test[test['대출등급'] == 'D']\n",
    "    test_defg.drop(columns='대출등급', inplace=True)\n",
    "    test_defg.to_csv('../Database/test_defg.csv')"
   ],
   "metadata": {
    "collapsed": false,
    "ExecuteTime": {
     "end_time": "2024-02-02T11:38:43.569799700Z",
     "start_time": "2024-02-02T11:38:43.564784100Z"
    }
   },
   "id": "69ed8fb122da0e75",
   "execution_count": 111
  },
  {
   "cell_type": "code",
   "outputs": [],
   "source": [
    "if not abcd:\n",
    "    label_encoder = LabelEncoder()\n",
    "    encoded_data = label_encoder.fit_transform(original_defg['대출등급'])\n",
    "    decoded_data = label_encoder.inverse_transform(soft_voting_result)\n",
    "    \n",
    "    answer_abcd= pd.read_csv('../Files/answer_abcd.csv')\n",
    "    answer_defg = pd.DataFrame(decoded_data)\n",
    "    answer_defg.reset_index(inplace=True)\n",
    "\n",
    "    answer=pd.concat([answer_defg, answer_abcd], axis=0)\n",
    "    answer.index=answer['ID']\n",
    "    answer.drop(columns='ID', inplace=True)\n",
    "    answer.sort_index(inplace=True)\n",
    "    answer.to_csv('../Files/answer.csv')"
   ],
   "metadata": {
    "collapsed": false,
    "ExecuteTime": {
     "end_time": "2024-02-02T11:38:54.109556100Z",
     "start_time": "2024-02-02T11:38:54.075678600Z"
    }
   },
   "id": "83c83e314b098235",
   "execution_count": 113
  }
 ],
 "metadata": {
  "kernelspec": {
   "display_name": "Python 3",
   "language": "python",
   "name": "python3"
  },
  "language_info": {
   "codemirror_mode": {
    "name": "ipython",
    "version": 2
   },
   "file_extension": ".py",
   "mimetype": "text/x-python",
   "name": "python",
   "nbconvert_exporter": "python",
   "pygments_lexer": "ipython2",
   "version": "2.7.6"
  }
 },
 "nbformat": 4,
 "nbformat_minor": 5
}
