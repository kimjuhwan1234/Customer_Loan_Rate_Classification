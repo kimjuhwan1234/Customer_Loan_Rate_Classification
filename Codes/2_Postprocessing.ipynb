{
 "cells": [
  {
   "cell_type": "code",
   "outputs": [],
   "source": [
    "from sklearn.metrics import accuracy_score\n",
    "from sklearn.preprocessing import LabelEncoder\n",
    "from sklearn.model_selection import train_test_split\n",
    "\n",
    "import joblib\n",
    "import warnings\n",
    "import numpy as np\n",
    "import pandas as pd\n",
    "import xgboost as xgb\n",
    "\n",
    "warnings.filterwarnings(\"ignore\")"
   ],
   "metadata": {
    "collapsed": false,
    "ExecuteTime": {
     "end_time": "2024-02-03T03:36:43.940305300Z",
     "start_time": "2024-02-03T03:36:43.936800800Z"
    }
   },
   "id": "c2cbce1004346646",
   "execution_count": 17
  },
  {
   "cell_type": "code",
   "outputs": [],
   "source": [
    "original = pd.read_csv('../Database/train.csv')\n",
    "original_defg = original.loc[original['대출등급'].isin(['D', 'E', 'F', 'G']), :]\n",
    "abcd = False"
   ],
   "metadata": {
    "collapsed": false,
    "ExecuteTime": {
     "end_time": "2024-02-03T03:36:44.638659600Z",
     "start_time": "2024-02-03T03:36:44.452227100Z"
    }
   },
   "id": "9bcbf4af70620fbd",
   "execution_count": 18
  },
  {
   "cell_type": "code",
   "outputs": [],
   "source": [
    "if abcd:\n",
    "    train = pd.read_csv('../Database/train_abcd.csv', index_col='ID')\n",
    "    test = pd.read_csv('../Database/test_abcd.csv', index_col='ID')\n",
    "\n",
    "    X = train.drop(columns=['대출등급'])\n",
    "    y = train['대출등급']\n",
    "    X_train, X_test, y_train, y_test = train_test_split(X, y, test_size=0.2, random_state=42)\n",
    "\n",
    "    X_test_XG = xgb.DMatrix(X_test)\n",
    "    test_XG = xgb.DMatrix(test)\n",
    "\n",
    "    lgb_model = joblib.load('../Files/lgb_model_abcd.pkl')\n",
    "    xgb_model = joblib.load('../Files/xgb_model_abcd.pkl')\n",
    "    cat_model = joblib.load('../Files/cat_model_abcd.pkl')\n",
    "    # rf_model = joblib.load('../Files/rf_model_abcd.pkl')"
   ],
   "metadata": {
    "collapsed": false,
    "ExecuteTime": {
     "end_time": "2024-02-03T03:36:44.646985500Z",
     "start_time": "2024-02-03T03:36:44.642983700Z"
    }
   },
   "id": "453bf0e71da74202",
   "execution_count": 19
  },
  {
   "cell_type": "code",
   "outputs": [],
   "source": [
    "if not abcd:\n",
    "    train = pd.read_csv('../Database/train_defg.csv', index_col='ID')\n",
    "    test = pd.read_csv('../Database/test_defg.csv', index_col='ID')\n",
    "\n",
    "    X = train.drop(columns=['대출등급'])\n",
    "    y = train['대출등급']\n",
    "    X_train, X_test, y_train, y_test = train_test_split(X, y, test_size=0.2, random_state=42)\n",
    "\n",
    "    X_test_XG = xgb.DMatrix(X_test)\n",
    "    test_XG = xgb.DMatrix(test)\n",
    "\n",
    "    lgb_model = joblib.load('../Files/lgb_model_defg.pkl')\n",
    "    xgb_model = joblib.load('../Files/xgb_model_defg.pkl')\n",
    "    cat_model = joblib.load('../Files/cat_model_defg.pkl')\n",
    "    # rf_model = joblib.load('../Files/rf_model_defg.pkl')"
   ],
   "metadata": {
    "collapsed": false,
    "ExecuteTime": {
     "end_time": "2024-02-03T03:36:44.956356300Z",
     "start_time": "2024-02-03T03:36:44.646985500Z"
    }
   },
   "id": "a03c903640b4a82d",
   "execution_count": 20
  },
  {
   "cell_type": "code",
   "execution_count": 21,
   "id": "initial_id",
   "metadata": {
    "collapsed": true,
    "ExecuteTime": {
     "end_time": "2024-02-03T03:36:46.102799200Z",
     "start_time": "2024-02-03T03:36:44.961358200Z"
    }
   },
   "outputs": [
    {
     "name": "stdout",
     "output_type": "stream",
     "text": [
      "lightGBM Accuracy: 0.8893220706086203\n",
      "XGBoost Accuracy: 0.8875893437296946\n",
      "CatBoost Accuracy: 0.881308208793589\n",
      "Soft Voting Accuracy: 0.8912713883474117\n"
     ]
    },
    {
     "ename": "ValueError",
     "evalue": "feature_names mismatch: ['대출금액', '총상환원금', '총상환이자', '이자대비원금', '대출대비소득비율', '대출기간', '근로기간', '주택소유상태', '총계좌수', '대출목적'] ['대출금액', '연간소득', '총상환원금', '총상환이자', '원금대비이자', '대출기간', '근로기간', '주택소유상태', '총계좌수', '대출목적']\nexpected 대출대비소득비율, 이자대비원금 in input data\ntraining data did not have the following fields: 원금대비이자, 연간소득",
     "output_type": "error",
     "traceback": [
      "\u001B[1;31m---------------------------------------------------------------------------\u001B[0m",
      "\u001B[1;31mValueError\u001B[0m                                Traceback (most recent call last)",
      "Cell \u001B[1;32mIn[21], line 22\u001B[0m\n\u001B[0;32m     19\u001B[0m \u001B[38;5;28mprint\u001B[39m(\u001B[38;5;124m\"\u001B[39m\u001B[38;5;124mSoft Voting Accuracy:\u001B[39m\u001B[38;5;124m\"\u001B[39m, accuracy_score(y_test, soft_voting_result))\n\u001B[0;32m     21\u001B[0m proba1 \u001B[38;5;241m=\u001B[39m lgb_model\u001B[38;5;241m.\u001B[39mpredict(test, num_iteration\u001B[38;5;241m=\u001B[39mlgb_model\u001B[38;5;241m.\u001B[39mbest_iteration)\n\u001B[1;32m---> 22\u001B[0m proba2 \u001B[38;5;241m=\u001B[39m xgb_model\u001B[38;5;241m.\u001B[39mpredict(test_XG)\n\u001B[0;32m     23\u001B[0m proba3 \u001B[38;5;241m=\u001B[39m cat_model\u001B[38;5;241m.\u001B[39mpredict_proba(test)\n\u001B[0;32m     25\u001B[0m average_proba \u001B[38;5;241m=\u001B[39m (proba2\u001B[38;5;241m+\u001B[39mproba3)\u001B[38;5;241m/\u001B[39m\u001B[38;5;241m2\u001B[39m\n",
      "File \u001B[1;32m~\\anaconda3\\envs\\python_311\\Lib\\site-packages\\xgboost\\core.py:2272\u001B[0m, in \u001B[0;36mBooster.predict\u001B[1;34m(self, data, output_margin, pred_leaf, pred_contribs, approx_contribs, pred_interactions, validate_features, training, iteration_range, strict_shape)\u001B[0m\n\u001B[0;32m   2270\u001B[0m \u001B[38;5;28;01mif\u001B[39;00m validate_features:\n\u001B[0;32m   2271\u001B[0m     fn \u001B[38;5;241m=\u001B[39m data\u001B[38;5;241m.\u001B[39mfeature_names\n\u001B[1;32m-> 2272\u001B[0m     \u001B[38;5;28mself\u001B[39m\u001B[38;5;241m.\u001B[39m_validate_features(fn)\n\u001B[0;32m   2273\u001B[0m args \u001B[38;5;241m=\u001B[39m {\n\u001B[0;32m   2274\u001B[0m     \u001B[38;5;124m\"\u001B[39m\u001B[38;5;124mtype\u001B[39m\u001B[38;5;124m\"\u001B[39m: \u001B[38;5;241m0\u001B[39m,\n\u001B[0;32m   2275\u001B[0m     \u001B[38;5;124m\"\u001B[39m\u001B[38;5;124mtraining\u001B[39m\u001B[38;5;124m\"\u001B[39m: training,\n\u001B[1;32m   (...)\u001B[0m\n\u001B[0;32m   2278\u001B[0m     \u001B[38;5;124m\"\u001B[39m\u001B[38;5;124mstrict_shape\u001B[39m\u001B[38;5;124m\"\u001B[39m: strict_shape,\n\u001B[0;32m   2279\u001B[0m }\n\u001B[0;32m   2281\u001B[0m \u001B[38;5;28;01mdef\u001B[39;00m \u001B[38;5;21massign_type\u001B[39m(t: \u001B[38;5;28mint\u001B[39m) \u001B[38;5;241m-\u001B[39m\u001B[38;5;241m>\u001B[39m \u001B[38;5;28;01mNone\u001B[39;00m:\n",
      "File \u001B[1;32m~\\anaconda3\\envs\\python_311\\Lib\\site-packages\\xgboost\\core.py:2970\u001B[0m, in \u001B[0;36mBooster._validate_features\u001B[1;34m(self, feature_names)\u001B[0m\n\u001B[0;32m   2964\u001B[0m \u001B[38;5;28;01mif\u001B[39;00m my_missing:\n\u001B[0;32m   2965\u001B[0m     msg \u001B[38;5;241m+\u001B[39m\u001B[38;5;241m=\u001B[39m (\n\u001B[0;32m   2966\u001B[0m         \u001B[38;5;124m\"\u001B[39m\u001B[38;5;130;01m\\n\u001B[39;00m\u001B[38;5;124mtraining data did not have the following fields: \u001B[39m\u001B[38;5;124m\"\u001B[39m\n\u001B[0;32m   2967\u001B[0m         \u001B[38;5;241m+\u001B[39m \u001B[38;5;124m\"\u001B[39m\u001B[38;5;124m, \u001B[39m\u001B[38;5;124m\"\u001B[39m\u001B[38;5;241m.\u001B[39mjoin(\u001B[38;5;28mstr\u001B[39m(s) \u001B[38;5;28;01mfor\u001B[39;00m s \u001B[38;5;129;01min\u001B[39;00m my_missing)\n\u001B[0;32m   2968\u001B[0m     )\n\u001B[1;32m-> 2970\u001B[0m \u001B[38;5;28;01mraise\u001B[39;00m \u001B[38;5;167;01mValueError\u001B[39;00m(msg\u001B[38;5;241m.\u001B[39mformat(\u001B[38;5;28mself\u001B[39m\u001B[38;5;241m.\u001B[39mfeature_names, feature_names))\n",
      "\u001B[1;31mValueError\u001B[0m: feature_names mismatch: ['대출금액', '총상환원금', '총상환이자', '이자대비원금', '대출대비소득비율', '대출기간', '근로기간', '주택소유상태', '총계좌수', '대출목적'] ['대출금액', '연간소득', '총상환원금', '총상환이자', '원금대비이자', '대출기간', '근로기간', '주택소유상태', '총계좌수', '대출목적']\nexpected 대출대비소득비율, 이자대비원금 in input data\ntraining data did not have the following fields: 원금대비이자, 연간소득"
     ]
    }
   ],
   "source": [
    "proba1 = lgb_model.predict(X_test, num_iteration=lgb_model.best_iteration)\n",
    "proba2 = xgb_model.predict(X_test_XG)\n",
    "proba3 = cat_model.predict_proba(X_test)\n",
    "# proba0 = rf_model.predict_proba(X_test)\n",
    "\n",
    "lgb_result = [int(pred.argmax()) for pred in proba1]\n",
    "xgb_result = np.argmax(proba2, axis=1)\n",
    "cat_result = np.argmax(proba3, axis=1)\n",
    "# rf_result = proba0.argmax(axis=1)\n",
    "\n",
    "print(\"lightGBM Accuracy:\", accuracy_score(y_test, lgb_result))\n",
    "print(\"XGBoost Accuracy:\", accuracy_score(y_test, xgb_result))\n",
    "print(\"CatBoost Accuracy:\", accuracy_score(y_test, cat_result))\n",
    "# print(\"Random Forest Accuracy:\", accuracy_score(y_test, rf_result))\n",
    "\n",
    "average_proba = (proba2+proba3)/2\n",
    "average_proba = (proba1 + average_proba) / 2\n",
    "soft_voting_result = np.argmax(average_proba, axis=1)\n",
    "print(\"Soft Voting Accuracy:\", accuracy_score(y_test, soft_voting_result))\n",
    "\n",
    "proba1 = lgb_model.predict(test, num_iteration=lgb_model.best_iteration)\n",
    "proba2 = xgb_model.predict(test_XG)\n",
    "proba3 = cat_model.predict_proba(test)\n",
    "\n",
    "average_proba = (proba2+proba3)/2\n",
    "average_proba = (proba1 + average_proba) / 2\n",
    "soft_voting_result = np.argmax(average_proba, axis=1)"
   ]
  },
  {
   "cell_type": "code",
   "outputs": [],
   "source": [
    "if abcd:\n",
    "    label_encoder = LabelEncoder()\n",
    "    encoded_data = label_encoder.fit_transform(original['대출등급'])\n",
    "    decoded_data = label_encoder.inverse_transform(soft_voting_result)\n",
    "\n",
    "    test['대출등급'] = decoded_data\n",
    "    answer_abcd = pd.DataFrame(test['대출등급'].loc[test['대출등급'].isin(['A', 'B', 'C'])])\n",
    "    answer_abcd.to_csv('../Files/answer_abcd.csv')\n",
    "\n",
    "    test_defg = test[test['대출등급'] == 'D']\n",
    "    test_defg.drop(columns='대출등급', inplace=True)\n",
    "    test_defg.to_csv('../Database/test_defg.csv')"
   ],
   "metadata": {
    "collapsed": false,
    "ExecuteTime": {
     "start_time": "2024-02-03T03:36:46.102799200Z"
    }
   },
   "id": "69ed8fb122da0e75",
   "execution_count": null
  },
  {
   "cell_type": "code",
   "outputs": [
    {
     "ename": "ValueError",
     "evalue": "Length of values (4617) does not match length of index (15568)",
     "output_type": "error",
     "traceback": [
      "\u001B[1;31m---------------------------------------------------------------------------\u001B[0m",
      "\u001B[1;31mValueError\u001B[0m                                Traceback (most recent call last)",
      "Cell \u001B[1;32mIn[22], line 7\u001B[0m\n\u001B[0;32m      4\u001B[0m decoded_data \u001B[38;5;241m=\u001B[39m label_encoder\u001B[38;5;241m.\u001B[39minverse_transform(soft_voting_result)\n\u001B[0;32m      6\u001B[0m answer_abcd \u001B[38;5;241m=\u001B[39m pd\u001B[38;5;241m.\u001B[39mread_csv(\u001B[38;5;124m'\u001B[39m\u001B[38;5;124m../Files/answer_abcd.csv\u001B[39m\u001B[38;5;124m'\u001B[39m)\n\u001B[1;32m----> 7\u001B[0m test[\u001B[38;5;124m'\u001B[39m\u001B[38;5;124m대출등급\u001B[39m\u001B[38;5;124m'\u001B[39m]\u001B[38;5;241m=\u001B[39mdecoded_data\n\u001B[0;32m      8\u001B[0m answer_defg \u001B[38;5;241m=\u001B[39m pd\u001B[38;5;241m.\u001B[39mDataFrame(test[\u001B[38;5;124m'\u001B[39m\u001B[38;5;124m대출등급\u001B[39m\u001B[38;5;124m'\u001B[39m])\n\u001B[0;32m      9\u001B[0m answer_defg\u001B[38;5;241m.\u001B[39mreset_index(inplace\u001B[38;5;241m=\u001B[39m\u001B[38;5;28;01mTrue\u001B[39;00m)\n",
      "File \u001B[1;32m~\\anaconda3\\envs\\python_311\\Lib\\site-packages\\pandas\\core\\frame.py:4091\u001B[0m, in \u001B[0;36mDataFrame.__setitem__\u001B[1;34m(self, key, value)\u001B[0m\n\u001B[0;32m   4088\u001B[0m     \u001B[38;5;28mself\u001B[39m\u001B[38;5;241m.\u001B[39m_setitem_array([key], value)\n\u001B[0;32m   4089\u001B[0m \u001B[38;5;28;01melse\u001B[39;00m:\n\u001B[0;32m   4090\u001B[0m     \u001B[38;5;66;03m# set column\u001B[39;00m\n\u001B[1;32m-> 4091\u001B[0m     \u001B[38;5;28mself\u001B[39m\u001B[38;5;241m.\u001B[39m_set_item(key, value)\n",
      "File \u001B[1;32m~\\anaconda3\\envs\\python_311\\Lib\\site-packages\\pandas\\core\\frame.py:4300\u001B[0m, in \u001B[0;36mDataFrame._set_item\u001B[1;34m(self, key, value)\u001B[0m\n\u001B[0;32m   4290\u001B[0m \u001B[38;5;28;01mdef\u001B[39;00m \u001B[38;5;21m_set_item\u001B[39m(\u001B[38;5;28mself\u001B[39m, key, value) \u001B[38;5;241m-\u001B[39m\u001B[38;5;241m>\u001B[39m \u001B[38;5;28;01mNone\u001B[39;00m:\n\u001B[0;32m   4291\u001B[0m \u001B[38;5;250m    \u001B[39m\u001B[38;5;124;03m\"\"\"\u001B[39;00m\n\u001B[0;32m   4292\u001B[0m \u001B[38;5;124;03m    Add series to DataFrame in specified column.\u001B[39;00m\n\u001B[0;32m   4293\u001B[0m \n\u001B[1;32m   (...)\u001B[0m\n\u001B[0;32m   4298\u001B[0m \u001B[38;5;124;03m    ensure homogeneity.\u001B[39;00m\n\u001B[0;32m   4299\u001B[0m \u001B[38;5;124;03m    \"\"\"\u001B[39;00m\n\u001B[1;32m-> 4300\u001B[0m     value, refs \u001B[38;5;241m=\u001B[39m \u001B[38;5;28mself\u001B[39m\u001B[38;5;241m.\u001B[39m_sanitize_column(value)\n\u001B[0;32m   4302\u001B[0m     \u001B[38;5;28;01mif\u001B[39;00m (\n\u001B[0;32m   4303\u001B[0m         key \u001B[38;5;129;01min\u001B[39;00m \u001B[38;5;28mself\u001B[39m\u001B[38;5;241m.\u001B[39mcolumns\n\u001B[0;32m   4304\u001B[0m         \u001B[38;5;129;01mand\u001B[39;00m value\u001B[38;5;241m.\u001B[39mndim \u001B[38;5;241m==\u001B[39m \u001B[38;5;241m1\u001B[39m\n\u001B[0;32m   4305\u001B[0m         \u001B[38;5;129;01mand\u001B[39;00m \u001B[38;5;129;01mnot\u001B[39;00m \u001B[38;5;28misinstance\u001B[39m(value\u001B[38;5;241m.\u001B[39mdtype, ExtensionDtype)\n\u001B[0;32m   4306\u001B[0m     ):\n\u001B[0;32m   4307\u001B[0m         \u001B[38;5;66;03m# broadcast across multiple columns if necessary\u001B[39;00m\n\u001B[0;32m   4308\u001B[0m         \u001B[38;5;28;01mif\u001B[39;00m \u001B[38;5;129;01mnot\u001B[39;00m \u001B[38;5;28mself\u001B[39m\u001B[38;5;241m.\u001B[39mcolumns\u001B[38;5;241m.\u001B[39mis_unique \u001B[38;5;129;01mor\u001B[39;00m \u001B[38;5;28misinstance\u001B[39m(\u001B[38;5;28mself\u001B[39m\u001B[38;5;241m.\u001B[39mcolumns, MultiIndex):\n",
      "File \u001B[1;32m~\\anaconda3\\envs\\python_311\\Lib\\site-packages\\pandas\\core\\frame.py:5039\u001B[0m, in \u001B[0;36mDataFrame._sanitize_column\u001B[1;34m(self, value)\u001B[0m\n\u001B[0;32m   5036\u001B[0m     \u001B[38;5;28;01mreturn\u001B[39;00m _reindex_for_setitem(value, \u001B[38;5;28mself\u001B[39m\u001B[38;5;241m.\u001B[39mindex)\n\u001B[0;32m   5038\u001B[0m \u001B[38;5;28;01mif\u001B[39;00m is_list_like(value):\n\u001B[1;32m-> 5039\u001B[0m     com\u001B[38;5;241m.\u001B[39mrequire_length_match(value, \u001B[38;5;28mself\u001B[39m\u001B[38;5;241m.\u001B[39mindex)\n\u001B[0;32m   5040\u001B[0m \u001B[38;5;28;01mreturn\u001B[39;00m sanitize_array(value, \u001B[38;5;28mself\u001B[39m\u001B[38;5;241m.\u001B[39mindex, copy\u001B[38;5;241m=\u001B[39m\u001B[38;5;28;01mTrue\u001B[39;00m, allow_2d\u001B[38;5;241m=\u001B[39m\u001B[38;5;28;01mTrue\u001B[39;00m), \u001B[38;5;28;01mNone\u001B[39;00m\n",
      "File \u001B[1;32m~\\anaconda3\\envs\\python_311\\Lib\\site-packages\\pandas\\core\\common.py:561\u001B[0m, in \u001B[0;36mrequire_length_match\u001B[1;34m(data, index)\u001B[0m\n\u001B[0;32m    557\u001B[0m \u001B[38;5;250m\u001B[39m\u001B[38;5;124;03m\"\"\"\u001B[39;00m\n\u001B[0;32m    558\u001B[0m \u001B[38;5;124;03mCheck the length of data matches the length of the index.\u001B[39;00m\n\u001B[0;32m    559\u001B[0m \u001B[38;5;124;03m\"\"\"\u001B[39;00m\n\u001B[0;32m    560\u001B[0m \u001B[38;5;28;01mif\u001B[39;00m \u001B[38;5;28mlen\u001B[39m(data) \u001B[38;5;241m!=\u001B[39m \u001B[38;5;28mlen\u001B[39m(index):\n\u001B[1;32m--> 561\u001B[0m     \u001B[38;5;28;01mraise\u001B[39;00m \u001B[38;5;167;01mValueError\u001B[39;00m(\n\u001B[0;32m    562\u001B[0m         \u001B[38;5;124m\"\u001B[39m\u001B[38;5;124mLength of values \u001B[39m\u001B[38;5;124m\"\u001B[39m\n\u001B[0;32m    563\u001B[0m         \u001B[38;5;124mf\u001B[39m\u001B[38;5;124m\"\u001B[39m\u001B[38;5;124m(\u001B[39m\u001B[38;5;132;01m{\u001B[39;00m\u001B[38;5;28mlen\u001B[39m(data)\u001B[38;5;132;01m}\u001B[39;00m\u001B[38;5;124m) \u001B[39m\u001B[38;5;124m\"\u001B[39m\n\u001B[0;32m    564\u001B[0m         \u001B[38;5;124m\"\u001B[39m\u001B[38;5;124mdoes not match length of index \u001B[39m\u001B[38;5;124m\"\u001B[39m\n\u001B[0;32m    565\u001B[0m         \u001B[38;5;124mf\u001B[39m\u001B[38;5;124m\"\u001B[39m\u001B[38;5;124m(\u001B[39m\u001B[38;5;132;01m{\u001B[39;00m\u001B[38;5;28mlen\u001B[39m(index)\u001B[38;5;132;01m}\u001B[39;00m\u001B[38;5;124m)\u001B[39m\u001B[38;5;124m\"\u001B[39m\n\u001B[0;32m    566\u001B[0m     )\n",
      "\u001B[1;31mValueError\u001B[0m: Length of values (4617) does not match length of index (15568)"
     ]
    }
   ],
   "source": [
    "if not abcd:\n",
    "    label_encoder = LabelEncoder()\n",
    "    encoded_data = label_encoder.fit_transform(original_defg['대출등급'])\n",
    "    decoded_data = label_encoder.inverse_transform(soft_voting_result)\n",
    "\n",
    "    answer_abcd = pd.read_csv('../Files/answer_abcd.csv')\n",
    "    test['대출등급']=decoded_data\n",
    "    answer_defg = pd.DataFrame(test['대출등급'])\n",
    "    answer_defg.reset_index(inplace=True)\n",
    "\n",
    "    answer = pd.concat([answer_defg, answer_abcd], axis=0)\n",
    "    answer.index = answer['ID']\n",
    "    answer.drop(columns='ID', inplace=True)\n",
    "    answer.sort_index(inplace=True)\n",
    "    answer.to_csv('../Files/answer.csv')"
   ],
   "metadata": {
    "collapsed": false,
    "ExecuteTime": {
     "end_time": "2024-02-03T03:36:47.481660500Z",
     "start_time": "2024-02-03T03:36:46.323773500Z"
    }
   },
   "id": "83c83e314b098235",
   "execution_count": 22
  },
  {
   "cell_type": "code",
   "outputs": [],
   "source": [],
   "metadata": {
    "collapsed": false
   },
   "id": "4a696a0b1d7610ff"
  }
 ],
 "metadata": {
  "kernelspec": {
   "display_name": "Python 3",
   "language": "python",
   "name": "python3"
  },
  "language_info": {
   "codemirror_mode": {
    "name": "ipython",
    "version": 2
   },
   "file_extension": ".py",
   "mimetype": "text/x-python",
   "name": "python",
   "nbconvert_exporter": "python",
   "pygments_lexer": "ipython2",
   "version": "2.7.6"
  }
 },
 "nbformat": 4,
 "nbformat_minor": 5
}
