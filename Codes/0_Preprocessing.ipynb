{
 "cells": [
  {
   "cell_type": "code",
   "execution_count": 2,
   "id": "initial_id",
   "metadata": {
    "collapsed": true,
    "ExecuteTime": {
     "end_time": "2024-01-17T05:55:17.728467900Z",
     "start_time": "2024-01-17T05:55:05.827203700Z"
    }
   },
   "outputs": [],
   "source": [
    "from matplotlib import pyplot as plt\n",
    "from sklearn.decomposition import PCA\n",
    "from sklearn.preprocessing import LabelEncoder\n",
    "from sklearn.preprocessing import StandardScaler\n",
    "from IPython.core.interactiveshell import InteractiveShell\n",
    "\n",
    "import os\n",
    "import warnings\n",
    "import numpy as np\n",
    "import pandas as pd"
   ]
  },
  {
   "cell_type": "code",
   "outputs": [],
   "source": [
    "warnings.filterwarnings(action='ignore')\n",
    "InteractiveShell.ast_node_interactivity = \"all\""
   ],
   "metadata": {
    "collapsed": false,
    "ExecuteTime": {
     "end_time": "2024-01-17T05:55:17.751536900Z",
     "start_time": "2024-01-17T05:55:17.733632600Z"
    }
   },
   "id": "b9025e7bcb3017aa",
   "execution_count": 3
  },
  {
   "cell_type": "code",
   "outputs": [
    {
     "data": {
      "text/plain": "                ID      대출금액        대출기간       근로기간    주택소유상태       연간소득  \\\n0      TRAIN_00000  12480000   36 months    6 years      RENT   72000000   \n1      TRAIN_00001  14400000   60 months  10+ years  MORTGAGE  130800000   \n2      TRAIN_00002  12000000   36 months    5 years  MORTGAGE   96000000   \n3      TRAIN_00003  14400000   36 months    8 years  MORTGAGE  132000000   \n4      TRAIN_00004  18000000   60 months    Unknown      RENT   71736000   \n...            ...       ...         ...        ...       ...        ...   \n96289  TRAIN_96289  14400000   36 months  10+ years  MORTGAGE  210000000   \n96290  TRAIN_96290  28800000   60 months  10+ years  MORTGAGE  132000000   \n96291  TRAIN_96291  14400000   36 months     1 year  MORTGAGE   84000000   \n96292  TRAIN_96292  15600000   36 months    5 years  MORTGAGE   66330000   \n96293  TRAIN_96293   8640000   36 months  10+ years      RENT   50400000   \n\n       부채_대비_소득_비율  총계좌수   대출목적  최근_2년간_연체_횟수    총상환원금     총상환이자  총연체금액  \\\n0            18.90    15  부채 통합             0        0       0.0    0.0   \n1            22.33    21  주택 개선             0   373572  234060.0    0.0   \n2             8.60    14  부채 통합             0   928644  151944.0    0.0   \n3            15.09    15  부채 통합             0   325824  153108.0    0.0   \n4            25.39    19  주요 구매             0   228540  148956.0    0.0   \n...            ...   ...    ...           ...      ...       ...    ...   \n96289         9.33    33  신용 카드             0   974580  492168.0    0.0   \n96290         5.16    25  주택 개선             0   583728  855084.0    0.0   \n96291        11.24    22  신용 카드             0  1489128  241236.0    0.0   \n96292        17.30    21  부채 통합             2  1378368  818076.0    0.0   \n96293        11.80    14  신용 카드             0   596148  274956.0    0.0   \n\n       연체계좌수 대출등급  \n0        0.0    C  \n1        0.0    B  \n2        0.0    A  \n3        0.0    C  \n4        0.0    B  \n...      ...  ...  \n96289    0.0    C  \n96290    0.0    E  \n96291    0.0    A  \n96292    0.0    D  \n96293    0.0    C  \n\n[96294 rows x 15 columns]",
      "text/html": "<div>\n<style scoped>\n    .dataframe tbody tr th:only-of-type {\n        vertical-align: middle;\n    }\n\n    .dataframe tbody tr th {\n        vertical-align: top;\n    }\n\n    .dataframe thead th {\n        text-align: right;\n    }\n</style>\n<table border=\"1\" class=\"dataframe\">\n  <thead>\n    <tr style=\"text-align: right;\">\n      <th></th>\n      <th>ID</th>\n      <th>대출금액</th>\n      <th>대출기간</th>\n      <th>근로기간</th>\n      <th>주택소유상태</th>\n      <th>연간소득</th>\n      <th>부채_대비_소득_비율</th>\n      <th>총계좌수</th>\n      <th>대출목적</th>\n      <th>최근_2년간_연체_횟수</th>\n      <th>총상환원금</th>\n      <th>총상환이자</th>\n      <th>총연체금액</th>\n      <th>연체계좌수</th>\n      <th>대출등급</th>\n    </tr>\n  </thead>\n  <tbody>\n    <tr>\n      <th>0</th>\n      <td>TRAIN_00000</td>\n      <td>12480000</td>\n      <td>36 months</td>\n      <td>6 years</td>\n      <td>RENT</td>\n      <td>72000000</td>\n      <td>18.90</td>\n      <td>15</td>\n      <td>부채 통합</td>\n      <td>0</td>\n      <td>0</td>\n      <td>0.0</td>\n      <td>0.0</td>\n      <td>0.0</td>\n      <td>C</td>\n    </tr>\n    <tr>\n      <th>1</th>\n      <td>TRAIN_00001</td>\n      <td>14400000</td>\n      <td>60 months</td>\n      <td>10+ years</td>\n      <td>MORTGAGE</td>\n      <td>130800000</td>\n      <td>22.33</td>\n      <td>21</td>\n      <td>주택 개선</td>\n      <td>0</td>\n      <td>373572</td>\n      <td>234060.0</td>\n      <td>0.0</td>\n      <td>0.0</td>\n      <td>B</td>\n    </tr>\n    <tr>\n      <th>2</th>\n      <td>TRAIN_00002</td>\n      <td>12000000</td>\n      <td>36 months</td>\n      <td>5 years</td>\n      <td>MORTGAGE</td>\n      <td>96000000</td>\n      <td>8.60</td>\n      <td>14</td>\n      <td>부채 통합</td>\n      <td>0</td>\n      <td>928644</td>\n      <td>151944.0</td>\n      <td>0.0</td>\n      <td>0.0</td>\n      <td>A</td>\n    </tr>\n    <tr>\n      <th>3</th>\n      <td>TRAIN_00003</td>\n      <td>14400000</td>\n      <td>36 months</td>\n      <td>8 years</td>\n      <td>MORTGAGE</td>\n      <td>132000000</td>\n      <td>15.09</td>\n      <td>15</td>\n      <td>부채 통합</td>\n      <td>0</td>\n      <td>325824</td>\n      <td>153108.0</td>\n      <td>0.0</td>\n      <td>0.0</td>\n      <td>C</td>\n    </tr>\n    <tr>\n      <th>4</th>\n      <td>TRAIN_00004</td>\n      <td>18000000</td>\n      <td>60 months</td>\n      <td>Unknown</td>\n      <td>RENT</td>\n      <td>71736000</td>\n      <td>25.39</td>\n      <td>19</td>\n      <td>주요 구매</td>\n      <td>0</td>\n      <td>228540</td>\n      <td>148956.0</td>\n      <td>0.0</td>\n      <td>0.0</td>\n      <td>B</td>\n    </tr>\n    <tr>\n      <th>...</th>\n      <td>...</td>\n      <td>...</td>\n      <td>...</td>\n      <td>...</td>\n      <td>...</td>\n      <td>...</td>\n      <td>...</td>\n      <td>...</td>\n      <td>...</td>\n      <td>...</td>\n      <td>...</td>\n      <td>...</td>\n      <td>...</td>\n      <td>...</td>\n      <td>...</td>\n    </tr>\n    <tr>\n      <th>96289</th>\n      <td>TRAIN_96289</td>\n      <td>14400000</td>\n      <td>36 months</td>\n      <td>10+ years</td>\n      <td>MORTGAGE</td>\n      <td>210000000</td>\n      <td>9.33</td>\n      <td>33</td>\n      <td>신용 카드</td>\n      <td>0</td>\n      <td>974580</td>\n      <td>492168.0</td>\n      <td>0.0</td>\n      <td>0.0</td>\n      <td>C</td>\n    </tr>\n    <tr>\n      <th>96290</th>\n      <td>TRAIN_96290</td>\n      <td>28800000</td>\n      <td>60 months</td>\n      <td>10+ years</td>\n      <td>MORTGAGE</td>\n      <td>132000000</td>\n      <td>5.16</td>\n      <td>25</td>\n      <td>주택 개선</td>\n      <td>0</td>\n      <td>583728</td>\n      <td>855084.0</td>\n      <td>0.0</td>\n      <td>0.0</td>\n      <td>E</td>\n    </tr>\n    <tr>\n      <th>96291</th>\n      <td>TRAIN_96291</td>\n      <td>14400000</td>\n      <td>36 months</td>\n      <td>1 year</td>\n      <td>MORTGAGE</td>\n      <td>84000000</td>\n      <td>11.24</td>\n      <td>22</td>\n      <td>신용 카드</td>\n      <td>0</td>\n      <td>1489128</td>\n      <td>241236.0</td>\n      <td>0.0</td>\n      <td>0.0</td>\n      <td>A</td>\n    </tr>\n    <tr>\n      <th>96292</th>\n      <td>TRAIN_96292</td>\n      <td>15600000</td>\n      <td>36 months</td>\n      <td>5 years</td>\n      <td>MORTGAGE</td>\n      <td>66330000</td>\n      <td>17.30</td>\n      <td>21</td>\n      <td>부채 통합</td>\n      <td>2</td>\n      <td>1378368</td>\n      <td>818076.0</td>\n      <td>0.0</td>\n      <td>0.0</td>\n      <td>D</td>\n    </tr>\n    <tr>\n      <th>96293</th>\n      <td>TRAIN_96293</td>\n      <td>8640000</td>\n      <td>36 months</td>\n      <td>10+ years</td>\n      <td>RENT</td>\n      <td>50400000</td>\n      <td>11.80</td>\n      <td>14</td>\n      <td>신용 카드</td>\n      <td>0</td>\n      <td>596148</td>\n      <td>274956.0</td>\n      <td>0.0</td>\n      <td>0.0</td>\n      <td>C</td>\n    </tr>\n  </tbody>\n</table>\n<p>96294 rows × 15 columns</p>\n</div>"
     },
     "execution_count": 4,
     "metadata": {},
     "output_type": "execute_result"
    }
   ],
   "source": [
    "input_dir = '../Database/'\n",
    "file = 'train.csv'\n",
    "data = pd.read_csv(os.path.join(input_dir, file))\n",
    "data"
   ],
   "metadata": {
    "collapsed": false,
    "ExecuteTime": {
     "end_time": "2024-01-17T05:55:18.107710Z",
     "start_time": "2024-01-17T05:55:17.745122500Z"
    }
   },
   "id": "9d8a175594484f6",
   "execution_count": 4
  },
  {
   "cell_type": "code",
   "outputs": [
    {
     "data": {
      "text/plain": "                ID      대출금액  대출기간       근로기간    주택소유상태       연간소득  \\\n0      TRAIN_00000  12480000     0    6 years      RENT   72000000   \n1      TRAIN_00001  14400000     1  10+ years  MORTGAGE  130800000   \n2      TRAIN_00002  12000000     0    5 years  MORTGAGE   96000000   \n3      TRAIN_00003  14400000     0    8 years  MORTGAGE  132000000   \n4      TRAIN_00004  18000000     1    Unknown      RENT   71736000   \n...            ...       ...   ...        ...       ...        ...   \n96289  TRAIN_96289  14400000     0  10+ years  MORTGAGE  210000000   \n96290  TRAIN_96290  28800000     1  10+ years  MORTGAGE  132000000   \n96291  TRAIN_96291  14400000     0     1 year  MORTGAGE   84000000   \n96292  TRAIN_96292  15600000     0    5 years  MORTGAGE   66330000   \n96293  TRAIN_96293   8640000     0  10+ years      RENT   50400000   \n\n       부채_대비_소득_비율  총계좌수   대출목적  최근_2년간_연체_횟수    총상환원금     총상환이자  총연체금액  \\\n0            18.90    15  부채 통합             0        0       0.0    0.0   \n1            22.33    21  주택 개선             0   373572  234060.0    0.0   \n2             8.60    14  부채 통합             0   928644  151944.0    0.0   \n3            15.09    15  부채 통합             0   325824  153108.0    0.0   \n4            25.39    19  주요 구매             0   228540  148956.0    0.0   \n...            ...   ...    ...           ...      ...       ...    ...   \n96289         9.33    33  신용 카드             0   974580  492168.0    0.0   \n96290         5.16    25  주택 개선             0   583728  855084.0    0.0   \n96291        11.24    22  신용 카드             0  1489128  241236.0    0.0   \n96292        17.30    21  부채 통합             2  1378368  818076.0    0.0   \n96293        11.80    14  신용 카드             0   596148  274956.0    0.0   \n\n       연체계좌수 대출등급  \n0        0.0    C  \n1        0.0    B  \n2        0.0    A  \n3        0.0    C  \n4        0.0    B  \n...      ...  ...  \n96289    0.0    C  \n96290    0.0    E  \n96291    0.0    A  \n96292    0.0    D  \n96293    0.0    C  \n\n[96294 rows x 15 columns]",
      "text/html": "<div>\n<style scoped>\n    .dataframe tbody tr th:only-of-type {\n        vertical-align: middle;\n    }\n\n    .dataframe tbody tr th {\n        vertical-align: top;\n    }\n\n    .dataframe thead th {\n        text-align: right;\n    }\n</style>\n<table border=\"1\" class=\"dataframe\">\n  <thead>\n    <tr style=\"text-align: right;\">\n      <th></th>\n      <th>ID</th>\n      <th>대출금액</th>\n      <th>대출기간</th>\n      <th>근로기간</th>\n      <th>주택소유상태</th>\n      <th>연간소득</th>\n      <th>부채_대비_소득_비율</th>\n      <th>총계좌수</th>\n      <th>대출목적</th>\n      <th>최근_2년간_연체_횟수</th>\n      <th>총상환원금</th>\n      <th>총상환이자</th>\n      <th>총연체금액</th>\n      <th>연체계좌수</th>\n      <th>대출등급</th>\n    </tr>\n  </thead>\n  <tbody>\n    <tr>\n      <th>0</th>\n      <td>TRAIN_00000</td>\n      <td>12480000</td>\n      <td>0</td>\n      <td>6 years</td>\n      <td>RENT</td>\n      <td>72000000</td>\n      <td>18.90</td>\n      <td>15</td>\n      <td>부채 통합</td>\n      <td>0</td>\n      <td>0</td>\n      <td>0.0</td>\n      <td>0.0</td>\n      <td>0.0</td>\n      <td>C</td>\n    </tr>\n    <tr>\n      <th>1</th>\n      <td>TRAIN_00001</td>\n      <td>14400000</td>\n      <td>1</td>\n      <td>10+ years</td>\n      <td>MORTGAGE</td>\n      <td>130800000</td>\n      <td>22.33</td>\n      <td>21</td>\n      <td>주택 개선</td>\n      <td>0</td>\n      <td>373572</td>\n      <td>234060.0</td>\n      <td>0.0</td>\n      <td>0.0</td>\n      <td>B</td>\n    </tr>\n    <tr>\n      <th>2</th>\n      <td>TRAIN_00002</td>\n      <td>12000000</td>\n      <td>0</td>\n      <td>5 years</td>\n      <td>MORTGAGE</td>\n      <td>96000000</td>\n      <td>8.60</td>\n      <td>14</td>\n      <td>부채 통합</td>\n      <td>0</td>\n      <td>928644</td>\n      <td>151944.0</td>\n      <td>0.0</td>\n      <td>0.0</td>\n      <td>A</td>\n    </tr>\n    <tr>\n      <th>3</th>\n      <td>TRAIN_00003</td>\n      <td>14400000</td>\n      <td>0</td>\n      <td>8 years</td>\n      <td>MORTGAGE</td>\n      <td>132000000</td>\n      <td>15.09</td>\n      <td>15</td>\n      <td>부채 통합</td>\n      <td>0</td>\n      <td>325824</td>\n      <td>153108.0</td>\n      <td>0.0</td>\n      <td>0.0</td>\n      <td>C</td>\n    </tr>\n    <tr>\n      <th>4</th>\n      <td>TRAIN_00004</td>\n      <td>18000000</td>\n      <td>1</td>\n      <td>Unknown</td>\n      <td>RENT</td>\n      <td>71736000</td>\n      <td>25.39</td>\n      <td>19</td>\n      <td>주요 구매</td>\n      <td>0</td>\n      <td>228540</td>\n      <td>148956.0</td>\n      <td>0.0</td>\n      <td>0.0</td>\n      <td>B</td>\n    </tr>\n    <tr>\n      <th>...</th>\n      <td>...</td>\n      <td>...</td>\n      <td>...</td>\n      <td>...</td>\n      <td>...</td>\n      <td>...</td>\n      <td>...</td>\n      <td>...</td>\n      <td>...</td>\n      <td>...</td>\n      <td>...</td>\n      <td>...</td>\n      <td>...</td>\n      <td>...</td>\n      <td>...</td>\n    </tr>\n    <tr>\n      <th>96289</th>\n      <td>TRAIN_96289</td>\n      <td>14400000</td>\n      <td>0</td>\n      <td>10+ years</td>\n      <td>MORTGAGE</td>\n      <td>210000000</td>\n      <td>9.33</td>\n      <td>33</td>\n      <td>신용 카드</td>\n      <td>0</td>\n      <td>974580</td>\n      <td>492168.0</td>\n      <td>0.0</td>\n      <td>0.0</td>\n      <td>C</td>\n    </tr>\n    <tr>\n      <th>96290</th>\n      <td>TRAIN_96290</td>\n      <td>28800000</td>\n      <td>1</td>\n      <td>10+ years</td>\n      <td>MORTGAGE</td>\n      <td>132000000</td>\n      <td>5.16</td>\n      <td>25</td>\n      <td>주택 개선</td>\n      <td>0</td>\n      <td>583728</td>\n      <td>855084.0</td>\n      <td>0.0</td>\n      <td>0.0</td>\n      <td>E</td>\n    </tr>\n    <tr>\n      <th>96291</th>\n      <td>TRAIN_96291</td>\n      <td>14400000</td>\n      <td>0</td>\n      <td>1 year</td>\n      <td>MORTGAGE</td>\n      <td>84000000</td>\n      <td>11.24</td>\n      <td>22</td>\n      <td>신용 카드</td>\n      <td>0</td>\n      <td>1489128</td>\n      <td>241236.0</td>\n      <td>0.0</td>\n      <td>0.0</td>\n      <td>A</td>\n    </tr>\n    <tr>\n      <th>96292</th>\n      <td>TRAIN_96292</td>\n      <td>15600000</td>\n      <td>0</td>\n      <td>5 years</td>\n      <td>MORTGAGE</td>\n      <td>66330000</td>\n      <td>17.30</td>\n      <td>21</td>\n      <td>부채 통합</td>\n      <td>2</td>\n      <td>1378368</td>\n      <td>818076.0</td>\n      <td>0.0</td>\n      <td>0.0</td>\n      <td>D</td>\n    </tr>\n    <tr>\n      <th>96293</th>\n      <td>TRAIN_96293</td>\n      <td>8640000</td>\n      <td>0</td>\n      <td>10+ years</td>\n      <td>RENT</td>\n      <td>50400000</td>\n      <td>11.80</td>\n      <td>14</td>\n      <td>신용 카드</td>\n      <td>0</td>\n      <td>596148</td>\n      <td>274956.0</td>\n      <td>0.0</td>\n      <td>0.0</td>\n      <td>C</td>\n    </tr>\n  </tbody>\n</table>\n<p>96294 rows × 15 columns</p>\n</div>"
     },
     "execution_count": 5,
     "metadata": {},
     "output_type": "execute_result"
    }
   ],
   "source": [
    "label_encoder=LabelEncoder()\n",
    "encoder_data = label_encoder.fit_transform(list(data['대출기간']))\n",
    "data['대출기간']=pd.DataFrame(encoder_data)\n",
    "data"
   ],
   "metadata": {
    "collapsed": false,
    "ExecuteTime": {
     "end_time": "2024-01-17T05:55:18.397299Z",
     "start_time": "2024-01-17T05:55:18.108760Z"
    }
   },
   "id": "2275eb38fecdcf58",
   "execution_count": 5
  },
  {
   "cell_type": "code",
   "outputs": [
    {
     "data": {
      "text/plain": "                ID      대출금액  대출기간  근로기간    주택소유상태       연간소득  부채_대비_소득_비율  \\\n0      TRAIN_00000  12480000     0     9      RENT   72000000        18.90   \n1      TRAIN_00001  14400000     1     2  MORTGAGE  130800000        22.33   \n2      TRAIN_00002  12000000     0     8  MORTGAGE   96000000         8.60   \n3      TRAIN_00003  14400000     0    11  MORTGAGE  132000000        15.09   \n4      TRAIN_00004  18000000     1    15      RENT   71736000        25.39   \n...            ...       ...   ...   ...       ...        ...          ...   \n96289  TRAIN_96289  14400000     0     2  MORTGAGE  210000000         9.33   \n96290  TRAIN_96290  28800000     1     2  MORTGAGE  132000000         5.16   \n96291  TRAIN_96291  14400000     0     0  MORTGAGE   84000000        11.24   \n96292  TRAIN_96292  15600000     0     8  MORTGAGE   66330000        17.30   \n96293  TRAIN_96293   8640000     0     2      RENT   50400000        11.80   \n\n       총계좌수   대출목적  최근_2년간_연체_횟수    총상환원금     총상환이자  총연체금액  연체계좌수 대출등급  \n0        15  부채 통합             0        0       0.0    0.0    0.0    C  \n1        21  주택 개선             0   373572  234060.0    0.0    0.0    B  \n2        14  부채 통합             0   928644  151944.0    0.0    0.0    A  \n3        15  부채 통합             0   325824  153108.0    0.0    0.0    C  \n4        19  주요 구매             0   228540  148956.0    0.0    0.0    B  \n...     ...    ...           ...      ...       ...    ...    ...  ...  \n96289    33  신용 카드             0   974580  492168.0    0.0    0.0    C  \n96290    25  주택 개선             0   583728  855084.0    0.0    0.0    E  \n96291    22  신용 카드             0  1489128  241236.0    0.0    0.0    A  \n96292    21  부채 통합             2  1378368  818076.0    0.0    0.0    D  \n96293    14  신용 카드             0   596148  274956.0    0.0    0.0    C  \n\n[96294 rows x 15 columns]",
      "text/html": "<div>\n<style scoped>\n    .dataframe tbody tr th:only-of-type {\n        vertical-align: middle;\n    }\n\n    .dataframe tbody tr th {\n        vertical-align: top;\n    }\n\n    .dataframe thead th {\n        text-align: right;\n    }\n</style>\n<table border=\"1\" class=\"dataframe\">\n  <thead>\n    <tr style=\"text-align: right;\">\n      <th></th>\n      <th>ID</th>\n      <th>대출금액</th>\n      <th>대출기간</th>\n      <th>근로기간</th>\n      <th>주택소유상태</th>\n      <th>연간소득</th>\n      <th>부채_대비_소득_비율</th>\n      <th>총계좌수</th>\n      <th>대출목적</th>\n      <th>최근_2년간_연체_횟수</th>\n      <th>총상환원금</th>\n      <th>총상환이자</th>\n      <th>총연체금액</th>\n      <th>연체계좌수</th>\n      <th>대출등급</th>\n    </tr>\n  </thead>\n  <tbody>\n    <tr>\n      <th>0</th>\n      <td>TRAIN_00000</td>\n      <td>12480000</td>\n      <td>0</td>\n      <td>9</td>\n      <td>RENT</td>\n      <td>72000000</td>\n      <td>18.90</td>\n      <td>15</td>\n      <td>부채 통합</td>\n      <td>0</td>\n      <td>0</td>\n      <td>0.0</td>\n      <td>0.0</td>\n      <td>0.0</td>\n      <td>C</td>\n    </tr>\n    <tr>\n      <th>1</th>\n      <td>TRAIN_00001</td>\n      <td>14400000</td>\n      <td>1</td>\n      <td>2</td>\n      <td>MORTGAGE</td>\n      <td>130800000</td>\n      <td>22.33</td>\n      <td>21</td>\n      <td>주택 개선</td>\n      <td>0</td>\n      <td>373572</td>\n      <td>234060.0</td>\n      <td>0.0</td>\n      <td>0.0</td>\n      <td>B</td>\n    </tr>\n    <tr>\n      <th>2</th>\n      <td>TRAIN_00002</td>\n      <td>12000000</td>\n      <td>0</td>\n      <td>8</td>\n      <td>MORTGAGE</td>\n      <td>96000000</td>\n      <td>8.60</td>\n      <td>14</td>\n      <td>부채 통합</td>\n      <td>0</td>\n      <td>928644</td>\n      <td>151944.0</td>\n      <td>0.0</td>\n      <td>0.0</td>\n      <td>A</td>\n    </tr>\n    <tr>\n      <th>3</th>\n      <td>TRAIN_00003</td>\n      <td>14400000</td>\n      <td>0</td>\n      <td>11</td>\n      <td>MORTGAGE</td>\n      <td>132000000</td>\n      <td>15.09</td>\n      <td>15</td>\n      <td>부채 통합</td>\n      <td>0</td>\n      <td>325824</td>\n      <td>153108.0</td>\n      <td>0.0</td>\n      <td>0.0</td>\n      <td>C</td>\n    </tr>\n    <tr>\n      <th>4</th>\n      <td>TRAIN_00004</td>\n      <td>18000000</td>\n      <td>1</td>\n      <td>15</td>\n      <td>RENT</td>\n      <td>71736000</td>\n      <td>25.39</td>\n      <td>19</td>\n      <td>주요 구매</td>\n      <td>0</td>\n      <td>228540</td>\n      <td>148956.0</td>\n      <td>0.0</td>\n      <td>0.0</td>\n      <td>B</td>\n    </tr>\n    <tr>\n      <th>...</th>\n      <td>...</td>\n      <td>...</td>\n      <td>...</td>\n      <td>...</td>\n      <td>...</td>\n      <td>...</td>\n      <td>...</td>\n      <td>...</td>\n      <td>...</td>\n      <td>...</td>\n      <td>...</td>\n      <td>...</td>\n      <td>...</td>\n      <td>...</td>\n      <td>...</td>\n    </tr>\n    <tr>\n      <th>96289</th>\n      <td>TRAIN_96289</td>\n      <td>14400000</td>\n      <td>0</td>\n      <td>2</td>\n      <td>MORTGAGE</td>\n      <td>210000000</td>\n      <td>9.33</td>\n      <td>33</td>\n      <td>신용 카드</td>\n      <td>0</td>\n      <td>974580</td>\n      <td>492168.0</td>\n      <td>0.0</td>\n      <td>0.0</td>\n      <td>C</td>\n    </tr>\n    <tr>\n      <th>96290</th>\n      <td>TRAIN_96290</td>\n      <td>28800000</td>\n      <td>1</td>\n      <td>2</td>\n      <td>MORTGAGE</td>\n      <td>132000000</td>\n      <td>5.16</td>\n      <td>25</td>\n      <td>주택 개선</td>\n      <td>0</td>\n      <td>583728</td>\n      <td>855084.0</td>\n      <td>0.0</td>\n      <td>0.0</td>\n      <td>E</td>\n    </tr>\n    <tr>\n      <th>96291</th>\n      <td>TRAIN_96291</td>\n      <td>14400000</td>\n      <td>0</td>\n      <td>0</td>\n      <td>MORTGAGE</td>\n      <td>84000000</td>\n      <td>11.24</td>\n      <td>22</td>\n      <td>신용 카드</td>\n      <td>0</td>\n      <td>1489128</td>\n      <td>241236.0</td>\n      <td>0.0</td>\n      <td>0.0</td>\n      <td>A</td>\n    </tr>\n    <tr>\n      <th>96292</th>\n      <td>TRAIN_96292</td>\n      <td>15600000</td>\n      <td>0</td>\n      <td>8</td>\n      <td>MORTGAGE</td>\n      <td>66330000</td>\n      <td>17.30</td>\n      <td>21</td>\n      <td>부채 통합</td>\n      <td>2</td>\n      <td>1378368</td>\n      <td>818076.0</td>\n      <td>0.0</td>\n      <td>0.0</td>\n      <td>D</td>\n    </tr>\n    <tr>\n      <th>96293</th>\n      <td>TRAIN_96293</td>\n      <td>8640000</td>\n      <td>0</td>\n      <td>2</td>\n      <td>RENT</td>\n      <td>50400000</td>\n      <td>11.80</td>\n      <td>14</td>\n      <td>신용 카드</td>\n      <td>0</td>\n      <td>596148</td>\n      <td>274956.0</td>\n      <td>0.0</td>\n      <td>0.0</td>\n      <td>C</td>\n    </tr>\n  </tbody>\n</table>\n<p>96294 rows × 15 columns</p>\n</div>"
     },
     "execution_count": 6,
     "metadata": {},
     "output_type": "execute_result"
    }
   ],
   "source": [
    "encoder_data = label_encoder.fit_transform(list(data['근로기간']))\n",
    "data['근로기간']=pd.DataFrame(encoder_data)\n",
    "data"
   ],
   "metadata": {
    "collapsed": false,
    "ExecuteTime": {
     "end_time": "2024-01-17T05:55:18.619218100Z",
     "start_time": "2024-01-17T05:55:18.344190900Z"
    }
   },
   "id": "ca892fe283d7b8dc",
   "execution_count": 6
  },
  {
   "cell_type": "code",
   "outputs": [
    {
     "data": {
      "text/plain": "{'ANY', 'MORTGAGE', 'OWN', 'RENT'}"
     },
     "execution_count": 7,
     "metadata": {},
     "output_type": "execute_result"
    }
   ],
   "source": [
    "one_hot_encoded= pd.get_dummies(list(data['주택소유상태']))\n",
    "set(data['주택소유상태'])"
   ],
   "metadata": {
    "collapsed": false,
    "ExecuteTime": {
     "end_time": "2024-01-17T05:55:18.793639900Z",
     "start_time": "2024-01-17T05:55:18.498572500Z"
    }
   },
   "id": "2510e20e3665540e",
   "execution_count": 7
  },
  {
   "cell_type": "code",
   "outputs": [
    {
     "data": {
      "text/plain": "0            RENT\n1        MORTGAGE\n2        MORTGAGE\n3        MORTGAGE\n4            RENT\n           ...   \n96289    MORTGAGE\n96290    MORTGAGE\n96291    MORTGAGE\n96292    MORTGAGE\n96293        RENT\nName: 주택소유상태, Length: 96294, dtype: object"
     },
     "execution_count": 8,
     "metadata": {},
     "output_type": "execute_result"
    },
    {
     "data": {
      "text/plain": "                ID      대출금액  대출기간  근로기간    ANY  MORTGAGE    OWN   RENT  \\\n0      TRAIN_00000  12480000     0     9  False     False  False   True   \n1      TRAIN_00001  14400000     1     2  False      True  False  False   \n2      TRAIN_00002  12000000     0     8  False      True  False  False   \n3      TRAIN_00003  14400000     0    11  False      True  False  False   \n4      TRAIN_00004  18000000     1    15  False     False  False   True   \n...            ...       ...   ...   ...    ...       ...    ...    ...   \n96289  TRAIN_96289  14400000     0     2  False      True  False  False   \n96290  TRAIN_96290  28800000     1     2  False      True  False  False   \n96291  TRAIN_96291  14400000     0     0  False      True  False  False   \n96292  TRAIN_96292  15600000     0     8  False      True  False  False   \n96293  TRAIN_96293   8640000     0     2  False     False  False   True   \n\n            연간소득  부채_대비_소득_비율  총계좌수   대출목적  최근_2년간_연체_횟수    총상환원금     총상환이자  \\\n0       72000000        18.90    15  부채 통합             0        0       0.0   \n1      130800000        22.33    21  주택 개선             0   373572  234060.0   \n2       96000000         8.60    14  부채 통합             0   928644  151944.0   \n3      132000000        15.09    15  부채 통합             0   325824  153108.0   \n4       71736000        25.39    19  주요 구매             0   228540  148956.0   \n...          ...          ...   ...    ...           ...      ...       ...   \n96289  210000000         9.33    33  신용 카드             0   974580  492168.0   \n96290  132000000         5.16    25  주택 개선             0   583728  855084.0   \n96291   84000000        11.24    22  신용 카드             0  1489128  241236.0   \n96292   66330000        17.30    21  부채 통합             2  1378368  818076.0   \n96293   50400000        11.80    14  신용 카드             0   596148  274956.0   \n\n       총연체금액  연체계좌수 대출등급  \n0        0.0    0.0    C  \n1        0.0    0.0    B  \n2        0.0    0.0    A  \n3        0.0    0.0    C  \n4        0.0    0.0    B  \n...      ...    ...  ...  \n96289    0.0    0.0    C  \n96290    0.0    0.0    E  \n96291    0.0    0.0    A  \n96292    0.0    0.0    D  \n96293    0.0    0.0    C  \n\n[96294 rows x 18 columns]",
      "text/html": "<div>\n<style scoped>\n    .dataframe tbody tr th:only-of-type {\n        vertical-align: middle;\n    }\n\n    .dataframe tbody tr th {\n        vertical-align: top;\n    }\n\n    .dataframe thead th {\n        text-align: right;\n    }\n</style>\n<table border=\"1\" class=\"dataframe\">\n  <thead>\n    <tr style=\"text-align: right;\">\n      <th></th>\n      <th>ID</th>\n      <th>대출금액</th>\n      <th>대출기간</th>\n      <th>근로기간</th>\n      <th>ANY</th>\n      <th>MORTGAGE</th>\n      <th>OWN</th>\n      <th>RENT</th>\n      <th>연간소득</th>\n      <th>부채_대비_소득_비율</th>\n      <th>총계좌수</th>\n      <th>대출목적</th>\n      <th>최근_2년간_연체_횟수</th>\n      <th>총상환원금</th>\n      <th>총상환이자</th>\n      <th>총연체금액</th>\n      <th>연체계좌수</th>\n      <th>대출등급</th>\n    </tr>\n  </thead>\n  <tbody>\n    <tr>\n      <th>0</th>\n      <td>TRAIN_00000</td>\n      <td>12480000</td>\n      <td>0</td>\n      <td>9</td>\n      <td>False</td>\n      <td>False</td>\n      <td>False</td>\n      <td>True</td>\n      <td>72000000</td>\n      <td>18.90</td>\n      <td>15</td>\n      <td>부채 통합</td>\n      <td>0</td>\n      <td>0</td>\n      <td>0.0</td>\n      <td>0.0</td>\n      <td>0.0</td>\n      <td>C</td>\n    </tr>\n    <tr>\n      <th>1</th>\n      <td>TRAIN_00001</td>\n      <td>14400000</td>\n      <td>1</td>\n      <td>2</td>\n      <td>False</td>\n      <td>True</td>\n      <td>False</td>\n      <td>False</td>\n      <td>130800000</td>\n      <td>22.33</td>\n      <td>21</td>\n      <td>주택 개선</td>\n      <td>0</td>\n      <td>373572</td>\n      <td>234060.0</td>\n      <td>0.0</td>\n      <td>0.0</td>\n      <td>B</td>\n    </tr>\n    <tr>\n      <th>2</th>\n      <td>TRAIN_00002</td>\n      <td>12000000</td>\n      <td>0</td>\n      <td>8</td>\n      <td>False</td>\n      <td>True</td>\n      <td>False</td>\n      <td>False</td>\n      <td>96000000</td>\n      <td>8.60</td>\n      <td>14</td>\n      <td>부채 통합</td>\n      <td>0</td>\n      <td>928644</td>\n      <td>151944.0</td>\n      <td>0.0</td>\n      <td>0.0</td>\n      <td>A</td>\n    </tr>\n    <tr>\n      <th>3</th>\n      <td>TRAIN_00003</td>\n      <td>14400000</td>\n      <td>0</td>\n      <td>11</td>\n      <td>False</td>\n      <td>True</td>\n      <td>False</td>\n      <td>False</td>\n      <td>132000000</td>\n      <td>15.09</td>\n      <td>15</td>\n      <td>부채 통합</td>\n      <td>0</td>\n      <td>325824</td>\n      <td>153108.0</td>\n      <td>0.0</td>\n      <td>0.0</td>\n      <td>C</td>\n    </tr>\n    <tr>\n      <th>4</th>\n      <td>TRAIN_00004</td>\n      <td>18000000</td>\n      <td>1</td>\n      <td>15</td>\n      <td>False</td>\n      <td>False</td>\n      <td>False</td>\n      <td>True</td>\n      <td>71736000</td>\n      <td>25.39</td>\n      <td>19</td>\n      <td>주요 구매</td>\n      <td>0</td>\n      <td>228540</td>\n      <td>148956.0</td>\n      <td>0.0</td>\n      <td>0.0</td>\n      <td>B</td>\n    </tr>\n    <tr>\n      <th>...</th>\n      <td>...</td>\n      <td>...</td>\n      <td>...</td>\n      <td>...</td>\n      <td>...</td>\n      <td>...</td>\n      <td>...</td>\n      <td>...</td>\n      <td>...</td>\n      <td>...</td>\n      <td>...</td>\n      <td>...</td>\n      <td>...</td>\n      <td>...</td>\n      <td>...</td>\n      <td>...</td>\n      <td>...</td>\n      <td>...</td>\n    </tr>\n    <tr>\n      <th>96289</th>\n      <td>TRAIN_96289</td>\n      <td>14400000</td>\n      <td>0</td>\n      <td>2</td>\n      <td>False</td>\n      <td>True</td>\n      <td>False</td>\n      <td>False</td>\n      <td>210000000</td>\n      <td>9.33</td>\n      <td>33</td>\n      <td>신용 카드</td>\n      <td>0</td>\n      <td>974580</td>\n      <td>492168.0</td>\n      <td>0.0</td>\n      <td>0.0</td>\n      <td>C</td>\n    </tr>\n    <tr>\n      <th>96290</th>\n      <td>TRAIN_96290</td>\n      <td>28800000</td>\n      <td>1</td>\n      <td>2</td>\n      <td>False</td>\n      <td>True</td>\n      <td>False</td>\n      <td>False</td>\n      <td>132000000</td>\n      <td>5.16</td>\n      <td>25</td>\n      <td>주택 개선</td>\n      <td>0</td>\n      <td>583728</td>\n      <td>855084.0</td>\n      <td>0.0</td>\n      <td>0.0</td>\n      <td>E</td>\n    </tr>\n    <tr>\n      <th>96291</th>\n      <td>TRAIN_96291</td>\n      <td>14400000</td>\n      <td>0</td>\n      <td>0</td>\n      <td>False</td>\n      <td>True</td>\n      <td>False</td>\n      <td>False</td>\n      <td>84000000</td>\n      <td>11.24</td>\n      <td>22</td>\n      <td>신용 카드</td>\n      <td>0</td>\n      <td>1489128</td>\n      <td>241236.0</td>\n      <td>0.0</td>\n      <td>0.0</td>\n      <td>A</td>\n    </tr>\n    <tr>\n      <th>96292</th>\n      <td>TRAIN_96292</td>\n      <td>15600000</td>\n      <td>0</td>\n      <td>8</td>\n      <td>False</td>\n      <td>True</td>\n      <td>False</td>\n      <td>False</td>\n      <td>66330000</td>\n      <td>17.30</td>\n      <td>21</td>\n      <td>부채 통합</td>\n      <td>2</td>\n      <td>1378368</td>\n      <td>818076.0</td>\n      <td>0.0</td>\n      <td>0.0</td>\n      <td>D</td>\n    </tr>\n    <tr>\n      <th>96293</th>\n      <td>TRAIN_96293</td>\n      <td>8640000</td>\n      <td>0</td>\n      <td>2</td>\n      <td>False</td>\n      <td>False</td>\n      <td>False</td>\n      <td>True</td>\n      <td>50400000</td>\n      <td>11.80</td>\n      <td>14</td>\n      <td>신용 카드</td>\n      <td>0</td>\n      <td>596148</td>\n      <td>274956.0</td>\n      <td>0.0</td>\n      <td>0.0</td>\n      <td>C</td>\n    </tr>\n  </tbody>\n</table>\n<p>96294 rows × 18 columns</p>\n</div>"
     },
     "execution_count": 8,
     "metadata": {},
     "output_type": "execute_result"
    }
   ],
   "source": [
    "data.pop('주택소유상태')\n",
    "data = pd.concat([data.iloc[:, :4], one_hot_encoded, data.iloc[:, 4:]], axis=1)\n",
    "data"
   ],
   "metadata": {
    "collapsed": false,
    "ExecuteTime": {
     "end_time": "2024-01-17T05:55:18.910286600Z",
     "start_time": "2024-01-17T05:55:18.579564800Z"
    }
   },
   "id": "d6867dd8ca9e0296",
   "execution_count": 8
  },
  {
   "cell_type": "code",
   "outputs": [
    {
     "data": {
      "text/plain": "{'기타',\n '부채 통합',\n '소규모 사업',\n '신용 카드',\n '의료',\n '이사',\n '자동차',\n '재생 에너지',\n '주요 구매',\n '주택',\n '주택 개선',\n '휴가'}"
     },
     "execution_count": 9,
     "metadata": {},
     "output_type": "execute_result"
    }
   ],
   "source": [
    "one_hot_encoded= pd.get_dummies(list(data['대출목적']))\n",
    "set(data['대출목적'])"
   ],
   "metadata": {
    "collapsed": false,
    "ExecuteTime": {
     "end_time": "2024-01-17T05:55:19.246254600Z",
     "start_time": "2024-01-17T05:55:18.732738700Z"
    }
   },
   "id": "40c2c11da58437e0",
   "execution_count": 9
  },
  {
   "cell_type": "code",
   "outputs": [
    {
     "data": {
      "text/plain": "0        부채 통합\n1        주택 개선\n2        부채 통합\n3        부채 통합\n4        주요 구매\n         ...  \n96289    신용 카드\n96290    주택 개선\n96291    신용 카드\n96292    부채 통합\n96293    신용 카드\nName: 대출목적, Length: 96294, dtype: object"
     },
     "execution_count": 10,
     "metadata": {},
     "output_type": "execute_result"
    },
    {
     "data": {
      "text/plain": "                ID      대출금액  대출기간  근로기간    ANY  MORTGAGE    OWN   RENT  \\\n0      TRAIN_00000  12480000     0     9  False     False  False   True   \n1      TRAIN_00001  14400000     1     2  False      True  False  False   \n2      TRAIN_00002  12000000     0     8  False      True  False  False   \n3      TRAIN_00003  14400000     0    11  False      True  False  False   \n4      TRAIN_00004  18000000     1    15  False     False  False   True   \n...            ...       ...   ...   ...    ...       ...    ...    ...   \n96289  TRAIN_96289  14400000     0     2  False      True  False  False   \n96290  TRAIN_96290  28800000     1     2  False      True  False  False   \n96291  TRAIN_96291  14400000     0     0  False      True  False  False   \n96292  TRAIN_96292  15600000     0     8  False      True  False  False   \n96293  TRAIN_96293   8640000     0     2  False     False  False   True   \n\n            연간소득  부채_대비_소득_비율  ...  주요 구매     주택  주택 개선     휴가  최근_2년간_연체_횟수  \\\n0       72000000        18.90  ...  False  False  False  False             0   \n1      130800000        22.33  ...  False  False   True  False             0   \n2       96000000         8.60  ...  False  False  False  False             0   \n3      132000000        15.09  ...  False  False  False  False             0   \n4       71736000        25.39  ...   True  False  False  False             0   \n...          ...          ...  ...    ...    ...    ...    ...           ...   \n96289  210000000         9.33  ...  False  False  False  False             0   \n96290  132000000         5.16  ...  False  False   True  False             0   \n96291   84000000        11.24  ...  False  False  False  False             0   \n96292   66330000        17.30  ...  False  False  False  False             2   \n96293   50400000        11.80  ...  False  False  False  False             0   \n\n         총상환원금     총상환이자  총연체금액  연체계좌수  대출등급  \n0            0       0.0    0.0    0.0     C  \n1       373572  234060.0    0.0    0.0     B  \n2       928644  151944.0    0.0    0.0     A  \n3       325824  153108.0    0.0    0.0     C  \n4       228540  148956.0    0.0    0.0     B  \n...        ...       ...    ...    ...   ...  \n96289   974580  492168.0    0.0    0.0     C  \n96290   583728  855084.0    0.0    0.0     E  \n96291  1489128  241236.0    0.0    0.0     A  \n96292  1378368  818076.0    0.0    0.0     D  \n96293   596148  274956.0    0.0    0.0     C  \n\n[96294 rows x 29 columns]",
      "text/html": "<div>\n<style scoped>\n    .dataframe tbody tr th:only-of-type {\n        vertical-align: middle;\n    }\n\n    .dataframe tbody tr th {\n        vertical-align: top;\n    }\n\n    .dataframe thead th {\n        text-align: right;\n    }\n</style>\n<table border=\"1\" class=\"dataframe\">\n  <thead>\n    <tr style=\"text-align: right;\">\n      <th></th>\n      <th>ID</th>\n      <th>대출금액</th>\n      <th>대출기간</th>\n      <th>근로기간</th>\n      <th>ANY</th>\n      <th>MORTGAGE</th>\n      <th>OWN</th>\n      <th>RENT</th>\n      <th>연간소득</th>\n      <th>부채_대비_소득_비율</th>\n      <th>...</th>\n      <th>주요 구매</th>\n      <th>주택</th>\n      <th>주택 개선</th>\n      <th>휴가</th>\n      <th>최근_2년간_연체_횟수</th>\n      <th>총상환원금</th>\n      <th>총상환이자</th>\n      <th>총연체금액</th>\n      <th>연체계좌수</th>\n      <th>대출등급</th>\n    </tr>\n  </thead>\n  <tbody>\n    <tr>\n      <th>0</th>\n      <td>TRAIN_00000</td>\n      <td>12480000</td>\n      <td>0</td>\n      <td>9</td>\n      <td>False</td>\n      <td>False</td>\n      <td>False</td>\n      <td>True</td>\n      <td>72000000</td>\n      <td>18.90</td>\n      <td>...</td>\n      <td>False</td>\n      <td>False</td>\n      <td>False</td>\n      <td>False</td>\n      <td>0</td>\n      <td>0</td>\n      <td>0.0</td>\n      <td>0.0</td>\n      <td>0.0</td>\n      <td>C</td>\n    </tr>\n    <tr>\n      <th>1</th>\n      <td>TRAIN_00001</td>\n      <td>14400000</td>\n      <td>1</td>\n      <td>2</td>\n      <td>False</td>\n      <td>True</td>\n      <td>False</td>\n      <td>False</td>\n      <td>130800000</td>\n      <td>22.33</td>\n      <td>...</td>\n      <td>False</td>\n      <td>False</td>\n      <td>True</td>\n      <td>False</td>\n      <td>0</td>\n      <td>373572</td>\n      <td>234060.0</td>\n      <td>0.0</td>\n      <td>0.0</td>\n      <td>B</td>\n    </tr>\n    <tr>\n      <th>2</th>\n      <td>TRAIN_00002</td>\n      <td>12000000</td>\n      <td>0</td>\n      <td>8</td>\n      <td>False</td>\n      <td>True</td>\n      <td>False</td>\n      <td>False</td>\n      <td>96000000</td>\n      <td>8.60</td>\n      <td>...</td>\n      <td>False</td>\n      <td>False</td>\n      <td>False</td>\n      <td>False</td>\n      <td>0</td>\n      <td>928644</td>\n      <td>151944.0</td>\n      <td>0.0</td>\n      <td>0.0</td>\n      <td>A</td>\n    </tr>\n    <tr>\n      <th>3</th>\n      <td>TRAIN_00003</td>\n      <td>14400000</td>\n      <td>0</td>\n      <td>11</td>\n      <td>False</td>\n      <td>True</td>\n      <td>False</td>\n      <td>False</td>\n      <td>132000000</td>\n      <td>15.09</td>\n      <td>...</td>\n      <td>False</td>\n      <td>False</td>\n      <td>False</td>\n      <td>False</td>\n      <td>0</td>\n      <td>325824</td>\n      <td>153108.0</td>\n      <td>0.0</td>\n      <td>0.0</td>\n      <td>C</td>\n    </tr>\n    <tr>\n      <th>4</th>\n      <td>TRAIN_00004</td>\n      <td>18000000</td>\n      <td>1</td>\n      <td>15</td>\n      <td>False</td>\n      <td>False</td>\n      <td>False</td>\n      <td>True</td>\n      <td>71736000</td>\n      <td>25.39</td>\n      <td>...</td>\n      <td>True</td>\n      <td>False</td>\n      <td>False</td>\n      <td>False</td>\n      <td>0</td>\n      <td>228540</td>\n      <td>148956.0</td>\n      <td>0.0</td>\n      <td>0.0</td>\n      <td>B</td>\n    </tr>\n    <tr>\n      <th>...</th>\n      <td>...</td>\n      <td>...</td>\n      <td>...</td>\n      <td>...</td>\n      <td>...</td>\n      <td>...</td>\n      <td>...</td>\n      <td>...</td>\n      <td>...</td>\n      <td>...</td>\n      <td>...</td>\n      <td>...</td>\n      <td>...</td>\n      <td>...</td>\n      <td>...</td>\n      <td>...</td>\n      <td>...</td>\n      <td>...</td>\n      <td>...</td>\n      <td>...</td>\n      <td>...</td>\n    </tr>\n    <tr>\n      <th>96289</th>\n      <td>TRAIN_96289</td>\n      <td>14400000</td>\n      <td>0</td>\n      <td>2</td>\n      <td>False</td>\n      <td>True</td>\n      <td>False</td>\n      <td>False</td>\n      <td>210000000</td>\n      <td>9.33</td>\n      <td>...</td>\n      <td>False</td>\n      <td>False</td>\n      <td>False</td>\n      <td>False</td>\n      <td>0</td>\n      <td>974580</td>\n      <td>492168.0</td>\n      <td>0.0</td>\n      <td>0.0</td>\n      <td>C</td>\n    </tr>\n    <tr>\n      <th>96290</th>\n      <td>TRAIN_96290</td>\n      <td>28800000</td>\n      <td>1</td>\n      <td>2</td>\n      <td>False</td>\n      <td>True</td>\n      <td>False</td>\n      <td>False</td>\n      <td>132000000</td>\n      <td>5.16</td>\n      <td>...</td>\n      <td>False</td>\n      <td>False</td>\n      <td>True</td>\n      <td>False</td>\n      <td>0</td>\n      <td>583728</td>\n      <td>855084.0</td>\n      <td>0.0</td>\n      <td>0.0</td>\n      <td>E</td>\n    </tr>\n    <tr>\n      <th>96291</th>\n      <td>TRAIN_96291</td>\n      <td>14400000</td>\n      <td>0</td>\n      <td>0</td>\n      <td>False</td>\n      <td>True</td>\n      <td>False</td>\n      <td>False</td>\n      <td>84000000</td>\n      <td>11.24</td>\n      <td>...</td>\n      <td>False</td>\n      <td>False</td>\n      <td>False</td>\n      <td>False</td>\n      <td>0</td>\n      <td>1489128</td>\n      <td>241236.0</td>\n      <td>0.0</td>\n      <td>0.0</td>\n      <td>A</td>\n    </tr>\n    <tr>\n      <th>96292</th>\n      <td>TRAIN_96292</td>\n      <td>15600000</td>\n      <td>0</td>\n      <td>8</td>\n      <td>False</td>\n      <td>True</td>\n      <td>False</td>\n      <td>False</td>\n      <td>66330000</td>\n      <td>17.30</td>\n      <td>...</td>\n      <td>False</td>\n      <td>False</td>\n      <td>False</td>\n      <td>False</td>\n      <td>2</td>\n      <td>1378368</td>\n      <td>818076.0</td>\n      <td>0.0</td>\n      <td>0.0</td>\n      <td>D</td>\n    </tr>\n    <tr>\n      <th>96293</th>\n      <td>TRAIN_96293</td>\n      <td>8640000</td>\n      <td>0</td>\n      <td>2</td>\n      <td>False</td>\n      <td>False</td>\n      <td>False</td>\n      <td>True</td>\n      <td>50400000</td>\n      <td>11.80</td>\n      <td>...</td>\n      <td>False</td>\n      <td>False</td>\n      <td>False</td>\n      <td>False</td>\n      <td>0</td>\n      <td>596148</td>\n      <td>274956.0</td>\n      <td>0.0</td>\n      <td>0.0</td>\n      <td>C</td>\n    </tr>\n  </tbody>\n</table>\n<p>96294 rows × 29 columns</p>\n</div>"
     },
     "execution_count": 10,
     "metadata": {},
     "output_type": "execute_result"
    }
   ],
   "source": [
    "data.pop('대출목적')\n",
    "data = pd.concat([data.iloc[:, :11], one_hot_encoded, data.iloc[:, 11:]], axis=1)\n",
    "data"
   ],
   "metadata": {
    "collapsed": false,
    "ExecuteTime": {
     "end_time": "2024-01-17T05:55:19.341285900Z",
     "start_time": "2024-01-17T05:55:18.874192900Z"
    }
   },
   "id": "1614858588a4edc2",
   "execution_count": 10
  },
  {
   "cell_type": "code",
   "outputs": [
    {
     "data": {
      "text/plain": "                ID      대출금액  대출기간  근로기간    ANY  MORTGAGE    OWN   RENT  \\\n0      TRAIN_00000  12480000     0     9  False     False  False   True   \n1      TRAIN_00001  14400000     1     2  False      True  False  False   \n2      TRAIN_00002  12000000     0     8  False      True  False  False   \n3      TRAIN_00003  14400000     0    11  False      True  False  False   \n4      TRAIN_00004  18000000     1    15  False     False  False   True   \n...            ...       ...   ...   ...    ...       ...    ...    ...   \n96289  TRAIN_96289  14400000     0     2  False      True  False  False   \n96290  TRAIN_96290  28800000     1     2  False      True  False  False   \n96291  TRAIN_96291  14400000     0     0  False      True  False  False   \n96292  TRAIN_96292  15600000     0     8  False      True  False  False   \n96293  TRAIN_96293   8640000     0     2  False     False  False   True   \n\n            연간소득  부채_대비_소득_비율  ...  주요 구매     주택  주택 개선     휴가  최근_2년간_연체_횟수  \\\n0       72000000        18.90  ...  False  False  False  False             0   \n1      130800000        22.33  ...  False  False   True  False             0   \n2       96000000         8.60  ...  False  False  False  False             0   \n3      132000000        15.09  ...  False  False  False  False             0   \n4       71736000        25.39  ...   True  False  False  False             0   \n...          ...          ...  ...    ...    ...    ...    ...           ...   \n96289  210000000         9.33  ...  False  False  False  False             0   \n96290  132000000         5.16  ...  False  False   True  False             0   \n96291   84000000        11.24  ...  False  False  False  False             0   \n96292   66330000        17.30  ...  False  False  False  False             2   \n96293   50400000        11.80  ...  False  False  False  False             0   \n\n         총상환원금     총상환이자  총연체금액  연체계좌수  대출등급  \n0            0       0.0    0.0    0.0     2  \n1       373572  234060.0    0.0    0.0     1  \n2       928644  151944.0    0.0    0.0     0  \n3       325824  153108.0    0.0    0.0     2  \n4       228540  148956.0    0.0    0.0     1  \n...        ...       ...    ...    ...   ...  \n96289   974580  492168.0    0.0    0.0     2  \n96290   583728  855084.0    0.0    0.0     4  \n96291  1489128  241236.0    0.0    0.0     0  \n96292  1378368  818076.0    0.0    0.0     3  \n96293   596148  274956.0    0.0    0.0     2  \n\n[96294 rows x 29 columns]",
      "text/html": "<div>\n<style scoped>\n    .dataframe tbody tr th:only-of-type {\n        vertical-align: middle;\n    }\n\n    .dataframe tbody tr th {\n        vertical-align: top;\n    }\n\n    .dataframe thead th {\n        text-align: right;\n    }\n</style>\n<table border=\"1\" class=\"dataframe\">\n  <thead>\n    <tr style=\"text-align: right;\">\n      <th></th>\n      <th>ID</th>\n      <th>대출금액</th>\n      <th>대출기간</th>\n      <th>근로기간</th>\n      <th>ANY</th>\n      <th>MORTGAGE</th>\n      <th>OWN</th>\n      <th>RENT</th>\n      <th>연간소득</th>\n      <th>부채_대비_소득_비율</th>\n      <th>...</th>\n      <th>주요 구매</th>\n      <th>주택</th>\n      <th>주택 개선</th>\n      <th>휴가</th>\n      <th>최근_2년간_연체_횟수</th>\n      <th>총상환원금</th>\n      <th>총상환이자</th>\n      <th>총연체금액</th>\n      <th>연체계좌수</th>\n      <th>대출등급</th>\n    </tr>\n  </thead>\n  <tbody>\n    <tr>\n      <th>0</th>\n      <td>TRAIN_00000</td>\n      <td>12480000</td>\n      <td>0</td>\n      <td>9</td>\n      <td>False</td>\n      <td>False</td>\n      <td>False</td>\n      <td>True</td>\n      <td>72000000</td>\n      <td>18.90</td>\n      <td>...</td>\n      <td>False</td>\n      <td>False</td>\n      <td>False</td>\n      <td>False</td>\n      <td>0</td>\n      <td>0</td>\n      <td>0.0</td>\n      <td>0.0</td>\n      <td>0.0</td>\n      <td>2</td>\n    </tr>\n    <tr>\n      <th>1</th>\n      <td>TRAIN_00001</td>\n      <td>14400000</td>\n      <td>1</td>\n      <td>2</td>\n      <td>False</td>\n      <td>True</td>\n      <td>False</td>\n      <td>False</td>\n      <td>130800000</td>\n      <td>22.33</td>\n      <td>...</td>\n      <td>False</td>\n      <td>False</td>\n      <td>True</td>\n      <td>False</td>\n      <td>0</td>\n      <td>373572</td>\n      <td>234060.0</td>\n      <td>0.0</td>\n      <td>0.0</td>\n      <td>1</td>\n    </tr>\n    <tr>\n      <th>2</th>\n      <td>TRAIN_00002</td>\n      <td>12000000</td>\n      <td>0</td>\n      <td>8</td>\n      <td>False</td>\n      <td>True</td>\n      <td>False</td>\n      <td>False</td>\n      <td>96000000</td>\n      <td>8.60</td>\n      <td>...</td>\n      <td>False</td>\n      <td>False</td>\n      <td>False</td>\n      <td>False</td>\n      <td>0</td>\n      <td>928644</td>\n      <td>151944.0</td>\n      <td>0.0</td>\n      <td>0.0</td>\n      <td>0</td>\n    </tr>\n    <tr>\n      <th>3</th>\n      <td>TRAIN_00003</td>\n      <td>14400000</td>\n      <td>0</td>\n      <td>11</td>\n      <td>False</td>\n      <td>True</td>\n      <td>False</td>\n      <td>False</td>\n      <td>132000000</td>\n      <td>15.09</td>\n      <td>...</td>\n      <td>False</td>\n      <td>False</td>\n      <td>False</td>\n      <td>False</td>\n      <td>0</td>\n      <td>325824</td>\n      <td>153108.0</td>\n      <td>0.0</td>\n      <td>0.0</td>\n      <td>2</td>\n    </tr>\n    <tr>\n      <th>4</th>\n      <td>TRAIN_00004</td>\n      <td>18000000</td>\n      <td>1</td>\n      <td>15</td>\n      <td>False</td>\n      <td>False</td>\n      <td>False</td>\n      <td>True</td>\n      <td>71736000</td>\n      <td>25.39</td>\n      <td>...</td>\n      <td>True</td>\n      <td>False</td>\n      <td>False</td>\n      <td>False</td>\n      <td>0</td>\n      <td>228540</td>\n      <td>148956.0</td>\n      <td>0.0</td>\n      <td>0.0</td>\n      <td>1</td>\n    </tr>\n    <tr>\n      <th>...</th>\n      <td>...</td>\n      <td>...</td>\n      <td>...</td>\n      <td>...</td>\n      <td>...</td>\n      <td>...</td>\n      <td>...</td>\n      <td>...</td>\n      <td>...</td>\n      <td>...</td>\n      <td>...</td>\n      <td>...</td>\n      <td>...</td>\n      <td>...</td>\n      <td>...</td>\n      <td>...</td>\n      <td>...</td>\n      <td>...</td>\n      <td>...</td>\n      <td>...</td>\n      <td>...</td>\n    </tr>\n    <tr>\n      <th>96289</th>\n      <td>TRAIN_96289</td>\n      <td>14400000</td>\n      <td>0</td>\n      <td>2</td>\n      <td>False</td>\n      <td>True</td>\n      <td>False</td>\n      <td>False</td>\n      <td>210000000</td>\n      <td>9.33</td>\n      <td>...</td>\n      <td>False</td>\n      <td>False</td>\n      <td>False</td>\n      <td>False</td>\n      <td>0</td>\n      <td>974580</td>\n      <td>492168.0</td>\n      <td>0.0</td>\n      <td>0.0</td>\n      <td>2</td>\n    </tr>\n    <tr>\n      <th>96290</th>\n      <td>TRAIN_96290</td>\n      <td>28800000</td>\n      <td>1</td>\n      <td>2</td>\n      <td>False</td>\n      <td>True</td>\n      <td>False</td>\n      <td>False</td>\n      <td>132000000</td>\n      <td>5.16</td>\n      <td>...</td>\n      <td>False</td>\n      <td>False</td>\n      <td>True</td>\n      <td>False</td>\n      <td>0</td>\n      <td>583728</td>\n      <td>855084.0</td>\n      <td>0.0</td>\n      <td>0.0</td>\n      <td>4</td>\n    </tr>\n    <tr>\n      <th>96291</th>\n      <td>TRAIN_96291</td>\n      <td>14400000</td>\n      <td>0</td>\n      <td>0</td>\n      <td>False</td>\n      <td>True</td>\n      <td>False</td>\n      <td>False</td>\n      <td>84000000</td>\n      <td>11.24</td>\n      <td>...</td>\n      <td>False</td>\n      <td>False</td>\n      <td>False</td>\n      <td>False</td>\n      <td>0</td>\n      <td>1489128</td>\n      <td>241236.0</td>\n      <td>0.0</td>\n      <td>0.0</td>\n      <td>0</td>\n    </tr>\n    <tr>\n      <th>96292</th>\n      <td>TRAIN_96292</td>\n      <td>15600000</td>\n      <td>0</td>\n      <td>8</td>\n      <td>False</td>\n      <td>True</td>\n      <td>False</td>\n      <td>False</td>\n      <td>66330000</td>\n      <td>17.30</td>\n      <td>...</td>\n      <td>False</td>\n      <td>False</td>\n      <td>False</td>\n      <td>False</td>\n      <td>2</td>\n      <td>1378368</td>\n      <td>818076.0</td>\n      <td>0.0</td>\n      <td>0.0</td>\n      <td>3</td>\n    </tr>\n    <tr>\n      <th>96293</th>\n      <td>TRAIN_96293</td>\n      <td>8640000</td>\n      <td>0</td>\n      <td>2</td>\n      <td>False</td>\n      <td>False</td>\n      <td>False</td>\n      <td>True</td>\n      <td>50400000</td>\n      <td>11.80</td>\n      <td>...</td>\n      <td>False</td>\n      <td>False</td>\n      <td>False</td>\n      <td>False</td>\n      <td>0</td>\n      <td>596148</td>\n      <td>274956.0</td>\n      <td>0.0</td>\n      <td>0.0</td>\n      <td>2</td>\n    </tr>\n  </tbody>\n</table>\n<p>96294 rows × 29 columns</p>\n</div>"
     },
     "execution_count": 11,
     "metadata": {},
     "output_type": "execute_result"
    }
   ],
   "source": [
    "encoder_data = label_encoder.fit_transform(list(data['대출등급']))\n",
    "data['대출등급']=pd.DataFrame(encoder_data)\n",
    "data"
   ],
   "metadata": {
    "collapsed": false,
    "ExecuteTime": {
     "end_time": "2024-01-17T05:55:19.516756900Z",
     "start_time": "2024-01-17T05:55:19.111227100Z"
    }
   },
   "id": "dbd67412996871d0",
   "execution_count": 11
  },
  {
   "cell_type": "code",
   "outputs": [],
   "source": [
    "data.set_index(data['ID'], inplace=True)"
   ],
   "metadata": {
    "collapsed": false,
    "ExecuteTime": {
     "end_time": "2024-01-17T05:56:32.021770800Z",
     "start_time": "2024-01-17T05:56:31.999176800Z"
    }
   },
   "id": "db54a798465bdea1",
   "execution_count": 14
  },
  {
   "cell_type": "code",
   "outputs": [
    {
     "data": {
      "text/plain": "                      ID      대출금액  대출기간  근로기간    ANY  MORTGAGE    OWN   RENT  \\\nID                                                                              \nTRAIN_00000  TRAIN_00000  12480000     0     9  False     False  False   True   \nTRAIN_00001  TRAIN_00001  14400000     1     2  False      True  False  False   \nTRAIN_00002  TRAIN_00002  12000000     0     8  False      True  False  False   \nTRAIN_00003  TRAIN_00003  14400000     0    11  False      True  False  False   \nTRAIN_00004  TRAIN_00004  18000000     1    15  False     False  False   True   \n...                  ...       ...   ...   ...    ...       ...    ...    ...   \nTRAIN_96289  TRAIN_96289  14400000     0     2  False      True  False  False   \nTRAIN_96290  TRAIN_96290  28800000     1     2  False      True  False  False   \nTRAIN_96291  TRAIN_96291  14400000     0     0  False      True  False  False   \nTRAIN_96292  TRAIN_96292  15600000     0     8  False      True  False  False   \nTRAIN_96293  TRAIN_96293   8640000     0     2  False     False  False   True   \n\n                  연간소득  부채_대비_소득_비율  ...  주요 구매     주택  주택 개선     휴가  \\\nID                                   ...                               \nTRAIN_00000   72000000        18.90  ...  False  False  False  False   \nTRAIN_00001  130800000        22.33  ...  False  False   True  False   \nTRAIN_00002   96000000         8.60  ...  False  False  False  False   \nTRAIN_00003  132000000        15.09  ...  False  False  False  False   \nTRAIN_00004   71736000        25.39  ...   True  False  False  False   \n...                ...          ...  ...    ...    ...    ...    ...   \nTRAIN_96289  210000000         9.33  ...  False  False  False  False   \nTRAIN_96290  132000000         5.16  ...  False  False   True  False   \nTRAIN_96291   84000000        11.24  ...  False  False  False  False   \nTRAIN_96292   66330000        17.30  ...  False  False  False  False   \nTRAIN_96293   50400000        11.80  ...  False  False  False  False   \n\n             최근_2년간_연체_횟수    총상환원금     총상환이자  총연체금액  연체계좌수  대출등급  \nID                                                                \nTRAIN_00000             0        0       0.0    0.0    0.0     2  \nTRAIN_00001             0   373572  234060.0    0.0    0.0     1  \nTRAIN_00002             0   928644  151944.0    0.0    0.0     0  \nTRAIN_00003             0   325824  153108.0    0.0    0.0     2  \nTRAIN_00004             0   228540  148956.0    0.0    0.0     1  \n...                   ...      ...       ...    ...    ...   ...  \nTRAIN_96289             0   974580  492168.0    0.0    0.0     2  \nTRAIN_96290             0   583728  855084.0    0.0    0.0     4  \nTRAIN_96291             0  1489128  241236.0    0.0    0.0     0  \nTRAIN_96292             2  1378368  818076.0    0.0    0.0     3  \nTRAIN_96293             0   596148  274956.0    0.0    0.0     2  \n\n[96294 rows x 29 columns]",
      "text/html": "<div>\n<style scoped>\n    .dataframe tbody tr th:only-of-type {\n        vertical-align: middle;\n    }\n\n    .dataframe tbody tr th {\n        vertical-align: top;\n    }\n\n    .dataframe thead th {\n        text-align: right;\n    }\n</style>\n<table border=\"1\" class=\"dataframe\">\n  <thead>\n    <tr style=\"text-align: right;\">\n      <th></th>\n      <th>ID</th>\n      <th>대출금액</th>\n      <th>대출기간</th>\n      <th>근로기간</th>\n      <th>ANY</th>\n      <th>MORTGAGE</th>\n      <th>OWN</th>\n      <th>RENT</th>\n      <th>연간소득</th>\n      <th>부채_대비_소득_비율</th>\n      <th>...</th>\n      <th>주요 구매</th>\n      <th>주택</th>\n      <th>주택 개선</th>\n      <th>휴가</th>\n      <th>최근_2년간_연체_횟수</th>\n      <th>총상환원금</th>\n      <th>총상환이자</th>\n      <th>총연체금액</th>\n      <th>연체계좌수</th>\n      <th>대출등급</th>\n    </tr>\n    <tr>\n      <th>ID</th>\n      <th></th>\n      <th></th>\n      <th></th>\n      <th></th>\n      <th></th>\n      <th></th>\n      <th></th>\n      <th></th>\n      <th></th>\n      <th></th>\n      <th></th>\n      <th></th>\n      <th></th>\n      <th></th>\n      <th></th>\n      <th></th>\n      <th></th>\n      <th></th>\n      <th></th>\n      <th></th>\n      <th></th>\n    </tr>\n  </thead>\n  <tbody>\n    <tr>\n      <th>TRAIN_00000</th>\n      <td>TRAIN_00000</td>\n      <td>12480000</td>\n      <td>0</td>\n      <td>9</td>\n      <td>False</td>\n      <td>False</td>\n      <td>False</td>\n      <td>True</td>\n      <td>72000000</td>\n      <td>18.90</td>\n      <td>...</td>\n      <td>False</td>\n      <td>False</td>\n      <td>False</td>\n      <td>False</td>\n      <td>0</td>\n      <td>0</td>\n      <td>0.0</td>\n      <td>0.0</td>\n      <td>0.0</td>\n      <td>2</td>\n    </tr>\n    <tr>\n      <th>TRAIN_00001</th>\n      <td>TRAIN_00001</td>\n      <td>14400000</td>\n      <td>1</td>\n      <td>2</td>\n      <td>False</td>\n      <td>True</td>\n      <td>False</td>\n      <td>False</td>\n      <td>130800000</td>\n      <td>22.33</td>\n      <td>...</td>\n      <td>False</td>\n      <td>False</td>\n      <td>True</td>\n      <td>False</td>\n      <td>0</td>\n      <td>373572</td>\n      <td>234060.0</td>\n      <td>0.0</td>\n      <td>0.0</td>\n      <td>1</td>\n    </tr>\n    <tr>\n      <th>TRAIN_00002</th>\n      <td>TRAIN_00002</td>\n      <td>12000000</td>\n      <td>0</td>\n      <td>8</td>\n      <td>False</td>\n      <td>True</td>\n      <td>False</td>\n      <td>False</td>\n      <td>96000000</td>\n      <td>8.60</td>\n      <td>...</td>\n      <td>False</td>\n      <td>False</td>\n      <td>False</td>\n      <td>False</td>\n      <td>0</td>\n      <td>928644</td>\n      <td>151944.0</td>\n      <td>0.0</td>\n      <td>0.0</td>\n      <td>0</td>\n    </tr>\n    <tr>\n      <th>TRAIN_00003</th>\n      <td>TRAIN_00003</td>\n      <td>14400000</td>\n      <td>0</td>\n      <td>11</td>\n      <td>False</td>\n      <td>True</td>\n      <td>False</td>\n      <td>False</td>\n      <td>132000000</td>\n      <td>15.09</td>\n      <td>...</td>\n      <td>False</td>\n      <td>False</td>\n      <td>False</td>\n      <td>False</td>\n      <td>0</td>\n      <td>325824</td>\n      <td>153108.0</td>\n      <td>0.0</td>\n      <td>0.0</td>\n      <td>2</td>\n    </tr>\n    <tr>\n      <th>TRAIN_00004</th>\n      <td>TRAIN_00004</td>\n      <td>18000000</td>\n      <td>1</td>\n      <td>15</td>\n      <td>False</td>\n      <td>False</td>\n      <td>False</td>\n      <td>True</td>\n      <td>71736000</td>\n      <td>25.39</td>\n      <td>...</td>\n      <td>True</td>\n      <td>False</td>\n      <td>False</td>\n      <td>False</td>\n      <td>0</td>\n      <td>228540</td>\n      <td>148956.0</td>\n      <td>0.0</td>\n      <td>0.0</td>\n      <td>1</td>\n    </tr>\n    <tr>\n      <th>...</th>\n      <td>...</td>\n      <td>...</td>\n      <td>...</td>\n      <td>...</td>\n      <td>...</td>\n      <td>...</td>\n      <td>...</td>\n      <td>...</td>\n      <td>...</td>\n      <td>...</td>\n      <td>...</td>\n      <td>...</td>\n      <td>...</td>\n      <td>...</td>\n      <td>...</td>\n      <td>...</td>\n      <td>...</td>\n      <td>...</td>\n      <td>...</td>\n      <td>...</td>\n      <td>...</td>\n    </tr>\n    <tr>\n      <th>TRAIN_96289</th>\n      <td>TRAIN_96289</td>\n      <td>14400000</td>\n      <td>0</td>\n      <td>2</td>\n      <td>False</td>\n      <td>True</td>\n      <td>False</td>\n      <td>False</td>\n      <td>210000000</td>\n      <td>9.33</td>\n      <td>...</td>\n      <td>False</td>\n      <td>False</td>\n      <td>False</td>\n      <td>False</td>\n      <td>0</td>\n      <td>974580</td>\n      <td>492168.0</td>\n      <td>0.0</td>\n      <td>0.0</td>\n      <td>2</td>\n    </tr>\n    <tr>\n      <th>TRAIN_96290</th>\n      <td>TRAIN_96290</td>\n      <td>28800000</td>\n      <td>1</td>\n      <td>2</td>\n      <td>False</td>\n      <td>True</td>\n      <td>False</td>\n      <td>False</td>\n      <td>132000000</td>\n      <td>5.16</td>\n      <td>...</td>\n      <td>False</td>\n      <td>False</td>\n      <td>True</td>\n      <td>False</td>\n      <td>0</td>\n      <td>583728</td>\n      <td>855084.0</td>\n      <td>0.0</td>\n      <td>0.0</td>\n      <td>4</td>\n    </tr>\n    <tr>\n      <th>TRAIN_96291</th>\n      <td>TRAIN_96291</td>\n      <td>14400000</td>\n      <td>0</td>\n      <td>0</td>\n      <td>False</td>\n      <td>True</td>\n      <td>False</td>\n      <td>False</td>\n      <td>84000000</td>\n      <td>11.24</td>\n      <td>...</td>\n      <td>False</td>\n      <td>False</td>\n      <td>False</td>\n      <td>False</td>\n      <td>0</td>\n      <td>1489128</td>\n      <td>241236.0</td>\n      <td>0.0</td>\n      <td>0.0</td>\n      <td>0</td>\n    </tr>\n    <tr>\n      <th>TRAIN_96292</th>\n      <td>TRAIN_96292</td>\n      <td>15600000</td>\n      <td>0</td>\n      <td>8</td>\n      <td>False</td>\n      <td>True</td>\n      <td>False</td>\n      <td>False</td>\n      <td>66330000</td>\n      <td>17.30</td>\n      <td>...</td>\n      <td>False</td>\n      <td>False</td>\n      <td>False</td>\n      <td>False</td>\n      <td>2</td>\n      <td>1378368</td>\n      <td>818076.0</td>\n      <td>0.0</td>\n      <td>0.0</td>\n      <td>3</td>\n    </tr>\n    <tr>\n      <th>TRAIN_96293</th>\n      <td>TRAIN_96293</td>\n      <td>8640000</td>\n      <td>0</td>\n      <td>2</td>\n      <td>False</td>\n      <td>False</td>\n      <td>False</td>\n      <td>True</td>\n      <td>50400000</td>\n      <td>11.80</td>\n      <td>...</td>\n      <td>False</td>\n      <td>False</td>\n      <td>False</td>\n      <td>False</td>\n      <td>0</td>\n      <td>596148</td>\n      <td>274956.0</td>\n      <td>0.0</td>\n      <td>0.0</td>\n      <td>2</td>\n    </tr>\n  </tbody>\n</table>\n<p>96294 rows × 29 columns</p>\n</div>"
     },
     "execution_count": 15,
     "metadata": {},
     "output_type": "execute_result"
    }
   ],
   "source": [
    "data"
   ],
   "metadata": {
    "collapsed": false,
    "ExecuteTime": {
     "end_time": "2024-01-17T05:56:34.505195400Z",
     "start_time": "2024-01-17T05:56:34.342690300Z"
    }
   },
   "id": "ec0ebc1a73e01780",
   "execution_count": 15
  },
  {
   "cell_type": "code",
   "outputs": [],
   "source": [
    "def generate_PCA_data(data: pd.DataFrame):\n",
    "    gt = pd.DataFrame(data['평균기온'], columns=['평균기온'])\n",
    "    X = data.drop('평균기온', axis=1)\n",
    "\n",
    "    scaler = StandardScaler()\n",
    "    X_scaled = scaler.fit_transform(X)\n",
    "\n",
    "    pca = PCA(n_components=0.99)\n",
    "    pca.fit(X_scaled)\n",
    "    print(pca.explained_variance_ratio_)\n",
    "    X_pca = pca.transform(X_scaled)\n",
    "\n",
    "    columns_pca = [f'PCA_{i}' for i in range(1, X_pca.shape[1] + 1)]\n",
    "    X_pca_df = pd.DataFrame(X_pca, columns=columns_pca)\n",
    "    X_pca_df.index = data.index\n",
    "\n",
    "    df_combined = pd.concat([gt, X_pca_df], axis=1)\n",
    "    return df_combined"
   ],
   "metadata": {
    "collapsed": false
   },
   "id": "e8304fe95a55214c"
  },
  {
   "cell_type": "code",
   "outputs": [],
   "source": [
    "pca = True\n",
    "if pca:\n",
    "    PCA_data = generate_PCA_data(data)\n",
    "\n",
    "    date_time = pd.DatetimeIndex(data.index)\n",
    "    day_of_year = date_time.dayofyear\n",
    "\n",
    "    PCA_data['Day sin'] = np.sin(2 * np.pi * day_of_year / 365)\n",
    "    PCA_data['Day cos'] = np.cos(2 * np.pi * day_of_year / 365)\n",
    "    PCA_data.to_csv('../Database/PCA_data.csv')\n",
    "\n",
    "if not pca:\n",
    "    date_time = pd.DatetimeIndex(data.index)\n",
    "    day_of_year = date_time.dayofyear\n",
    "\n",
    "    data['Day sin'] = np.sin(2 * np.pi * day_of_year / 365)\n",
    "    data['Day cos'] = np.cos(2 * np.pi * day_of_year / 365)\n",
    "    data.dropna()\n",
    "    data.to_csv('../Database/PCA_data.csv')"
   ],
   "metadata": {
    "collapsed": false
   },
   "id": "4974b9e0a576fd2c"
  },
  {
   "cell_type": "code",
   "outputs": [],
   "source": [
    "# fig, ax = plt.subplots(figsize=(10, 8))\n",
    "# train.boxplot(ax=ax)\n",
    "# fig.suptitle('Train Data', fontsize=16)\n",
    "# fig.tight_layout(rect=[0, 0, 1, 0.96])\n",
    "# fig.show()"
   ],
   "metadata": {
    "collapsed": false,
    "ExecuteTime": {
     "end_time": "2024-01-17T05:30:47.899172600Z",
     "start_time": "2024-01-17T05:30:47.718123200Z"
    }
   },
   "id": "7c9e7c3a2af6e8d4",
   "execution_count": 40
  }
 ],
 "metadata": {
  "kernelspec": {
   "display_name": "Python 3",
   "language": "python",
   "name": "python3"
  },
  "language_info": {
   "codemirror_mode": {
    "name": "ipython",
    "version": 2
   },
   "file_extension": ".py",
   "mimetype": "text/x-python",
   "name": "python",
   "nbconvert_exporter": "python",
   "pygments_lexer": "ipython2",
   "version": "2.7.6"
  }
 },
 "nbformat": 4,
 "nbformat_minor": 5
}
