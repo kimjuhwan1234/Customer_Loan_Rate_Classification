{
 "cells": [
  {
   "cell_type": "code",
   "execution_count": 9,
   "id": "initial_id",
   "metadata": {
    "collapsed": true,
    "ExecuteTime": {
     "end_time": "2024-01-23T11:33:08.193217700Z",
     "start_time": "2024-01-23T11:33:08.183021200Z"
    }
   },
   "outputs": [],
   "source": [
    "from catboost import Pool\n",
    "from catboost import CatBoostClassifier\n",
    "from sklearn.metrics import accuracy_score\n",
    "from sklearn.model_selection import train_test_split\n",
    "\n",
    "import joblib\n",
    "import warnings\n",
    "import pandas as pd\n",
    "\n",
    "warnings.filterwarnings(\"ignore\")"
   ]
  },
  {
   "cell_type": "code",
   "outputs": [],
   "source": [
    "train = pd.read_csv('../Database/train_modified2.csv', index_col='ID')\n",
    "X = train.drop(columns=['대출등급'])\n",
    "y = train['대출등급']"
   ],
   "metadata": {
    "collapsed": false,
    "ExecuteTime": {
     "end_time": "2024-01-23T09:47:59.868798Z",
     "start_time": "2024-01-23T09:47:59.652846Z"
    }
   },
   "id": "e96c5a159568ce9f",
   "execution_count": 3
  },
  {
   "cell_type": "code",
   "outputs": [
    {
     "data": {
      "text/plain": "                 대출금액      연간소득  부채_대비_소득_비율      총계좌수  최근_2년간_연체_횟수  \\\nID                                                                     \nTRAIN_00000 -0.563864 -0.220228    -0.039061 -0.852450     -0.376088   \nTRAIN_00001 -0.377979  0.370322     0.317312 -0.356112     -0.376088   \nTRAIN_00002 -0.610335  0.020813    -1.109217 -0.935172     -0.376088   \nTRAIN_00003 -0.377979  0.382374    -0.434915 -0.852450     -0.376088   \nTRAIN_00004 -0.029446 -0.222879     0.635242 -0.521558     -0.376088   \n...               ...       ...          ...       ...           ...   \nTRAIN_96289 -0.377979  1.165756    -1.033371  0.636562     -0.376088   \nTRAIN_96290  1.016156  0.382374    -1.466629 -0.025221     -0.376088   \nTRAIN_96291 -0.377979 -0.099707    -0.834925 -0.273389     -0.376088   \nTRAIN_96292 -0.261801 -0.277174    -0.205299 -0.356112      1.799946   \nTRAIN_96293 -0.935634 -0.437164    -0.776742 -0.935172     -0.376088   \n\n                총상환원금     총상환이자     총연체금액     연체계좌수  대출기간  근로기간  주택소유상태  대출목적  \nID                                                                             \nTRAIN_00000 -0.800307 -0.972790 -0.038438 -0.072596     0     9       3     1  \nTRAIN_00001 -0.436819 -0.441089 -0.038438 -0.072596     1     2       1    10  \nTRAIN_00002  0.103269 -0.627628 -0.038438 -0.072596     0     8       1     1  \nTRAIN_00003 -0.483278 -0.624984 -0.038438 -0.072596     0    11       1     1  \nTRAIN_00004 -0.577936 -0.634415 -0.038438 -0.072596     1    15       3     8  \n...               ...       ...       ...       ...   ...   ...     ...   ...  \nTRAIN_96289  0.147965  0.145240 -0.038438 -0.072596     0     2       1     3  \nTRAIN_96290 -0.232336  0.969657 -0.038438 -0.072596     1     2       1    10  \nTRAIN_96291  0.648623 -0.424788 -0.038438 -0.072596     0     0       1     3  \nTRAIN_96292  0.540853  0.885587 -0.038438 -0.072596     0     8       1     1  \nTRAIN_96293 -0.220251 -0.348188 -0.038438 -0.072596     0     2       3     3  \n\n[96293 rows x 13 columns]",
      "text/html": "<div>\n<style scoped>\n    .dataframe tbody tr th:only-of-type {\n        vertical-align: middle;\n    }\n\n    .dataframe tbody tr th {\n        vertical-align: top;\n    }\n\n    .dataframe thead th {\n        text-align: right;\n    }\n</style>\n<table border=\"1\" class=\"dataframe\">\n  <thead>\n    <tr style=\"text-align: right;\">\n      <th></th>\n      <th>대출금액</th>\n      <th>연간소득</th>\n      <th>부채_대비_소득_비율</th>\n      <th>총계좌수</th>\n      <th>최근_2년간_연체_횟수</th>\n      <th>총상환원금</th>\n      <th>총상환이자</th>\n      <th>총연체금액</th>\n      <th>연체계좌수</th>\n      <th>대출기간</th>\n      <th>근로기간</th>\n      <th>주택소유상태</th>\n      <th>대출목적</th>\n    </tr>\n    <tr>\n      <th>ID</th>\n      <th></th>\n      <th></th>\n      <th></th>\n      <th></th>\n      <th></th>\n      <th></th>\n      <th></th>\n      <th></th>\n      <th></th>\n      <th></th>\n      <th></th>\n      <th></th>\n      <th></th>\n    </tr>\n  </thead>\n  <tbody>\n    <tr>\n      <th>TRAIN_00000</th>\n      <td>-0.563864</td>\n      <td>-0.220228</td>\n      <td>-0.039061</td>\n      <td>-0.852450</td>\n      <td>-0.376088</td>\n      <td>-0.800307</td>\n      <td>-0.972790</td>\n      <td>-0.038438</td>\n      <td>-0.072596</td>\n      <td>0</td>\n      <td>9</td>\n      <td>3</td>\n      <td>1</td>\n    </tr>\n    <tr>\n      <th>TRAIN_00001</th>\n      <td>-0.377979</td>\n      <td>0.370322</td>\n      <td>0.317312</td>\n      <td>-0.356112</td>\n      <td>-0.376088</td>\n      <td>-0.436819</td>\n      <td>-0.441089</td>\n      <td>-0.038438</td>\n      <td>-0.072596</td>\n      <td>1</td>\n      <td>2</td>\n      <td>1</td>\n      <td>10</td>\n    </tr>\n    <tr>\n      <th>TRAIN_00002</th>\n      <td>-0.610335</td>\n      <td>0.020813</td>\n      <td>-1.109217</td>\n      <td>-0.935172</td>\n      <td>-0.376088</td>\n      <td>0.103269</td>\n      <td>-0.627628</td>\n      <td>-0.038438</td>\n      <td>-0.072596</td>\n      <td>0</td>\n      <td>8</td>\n      <td>1</td>\n      <td>1</td>\n    </tr>\n    <tr>\n      <th>TRAIN_00003</th>\n      <td>-0.377979</td>\n      <td>0.382374</td>\n      <td>-0.434915</td>\n      <td>-0.852450</td>\n      <td>-0.376088</td>\n      <td>-0.483278</td>\n      <td>-0.624984</td>\n      <td>-0.038438</td>\n      <td>-0.072596</td>\n      <td>0</td>\n      <td>11</td>\n      <td>1</td>\n      <td>1</td>\n    </tr>\n    <tr>\n      <th>TRAIN_00004</th>\n      <td>-0.029446</td>\n      <td>-0.222879</td>\n      <td>0.635242</td>\n      <td>-0.521558</td>\n      <td>-0.376088</td>\n      <td>-0.577936</td>\n      <td>-0.634415</td>\n      <td>-0.038438</td>\n      <td>-0.072596</td>\n      <td>1</td>\n      <td>15</td>\n      <td>3</td>\n      <td>8</td>\n    </tr>\n    <tr>\n      <th>...</th>\n      <td>...</td>\n      <td>...</td>\n      <td>...</td>\n      <td>...</td>\n      <td>...</td>\n      <td>...</td>\n      <td>...</td>\n      <td>...</td>\n      <td>...</td>\n      <td>...</td>\n      <td>...</td>\n      <td>...</td>\n      <td>...</td>\n    </tr>\n    <tr>\n      <th>TRAIN_96289</th>\n      <td>-0.377979</td>\n      <td>1.165756</td>\n      <td>-1.033371</td>\n      <td>0.636562</td>\n      <td>-0.376088</td>\n      <td>0.147965</td>\n      <td>0.145240</td>\n      <td>-0.038438</td>\n      <td>-0.072596</td>\n      <td>0</td>\n      <td>2</td>\n      <td>1</td>\n      <td>3</td>\n    </tr>\n    <tr>\n      <th>TRAIN_96290</th>\n      <td>1.016156</td>\n      <td>0.382374</td>\n      <td>-1.466629</td>\n      <td>-0.025221</td>\n      <td>-0.376088</td>\n      <td>-0.232336</td>\n      <td>0.969657</td>\n      <td>-0.038438</td>\n      <td>-0.072596</td>\n      <td>1</td>\n      <td>2</td>\n      <td>1</td>\n      <td>10</td>\n    </tr>\n    <tr>\n      <th>TRAIN_96291</th>\n      <td>-0.377979</td>\n      <td>-0.099707</td>\n      <td>-0.834925</td>\n      <td>-0.273389</td>\n      <td>-0.376088</td>\n      <td>0.648623</td>\n      <td>-0.424788</td>\n      <td>-0.038438</td>\n      <td>-0.072596</td>\n      <td>0</td>\n      <td>0</td>\n      <td>1</td>\n      <td>3</td>\n    </tr>\n    <tr>\n      <th>TRAIN_96292</th>\n      <td>-0.261801</td>\n      <td>-0.277174</td>\n      <td>-0.205299</td>\n      <td>-0.356112</td>\n      <td>1.799946</td>\n      <td>0.540853</td>\n      <td>0.885587</td>\n      <td>-0.038438</td>\n      <td>-0.072596</td>\n      <td>0</td>\n      <td>8</td>\n      <td>1</td>\n      <td>1</td>\n    </tr>\n    <tr>\n      <th>TRAIN_96293</th>\n      <td>-0.935634</td>\n      <td>-0.437164</td>\n      <td>-0.776742</td>\n      <td>-0.935172</td>\n      <td>-0.376088</td>\n      <td>-0.220251</td>\n      <td>-0.348188</td>\n      <td>-0.038438</td>\n      <td>-0.072596</td>\n      <td>0</td>\n      <td>2</td>\n      <td>3</td>\n      <td>3</td>\n    </tr>\n  </tbody>\n</table>\n<p>96293 rows × 13 columns</p>\n</div>"
     },
     "execution_count": 4,
     "metadata": {},
     "output_type": "execute_result"
    }
   ],
   "source": [
    "X"
   ],
   "metadata": {
    "collapsed": false,
    "ExecuteTime": {
     "end_time": "2024-01-23T09:48:02.253496700Z",
     "start_time": "2024-01-23T09:48:02.232021100Z"
    }
   },
   "id": "dacd7c144db6161b",
   "execution_count": 4
  },
  {
   "cell_type": "code",
   "outputs": [],
   "source": [
    "X_train, X_test, y_train, y_test = train_test_split(X, y, test_size=0.2, random_state=42)\n",
    "cat_features=[i for i in range(9,13)]\n",
    "\n",
    "train_pool = Pool(data=X_train, label=y_train, cat_features=cat_features)\n",
    "val_pool = Pool(data=X_test, label=y_test, cat_features=cat_features)"
   ],
   "metadata": {
    "collapsed": false,
    "ExecuteTime": {
     "end_time": "2024-01-23T09:48:09.759625500Z",
     "start_time": "2024-01-23T09:48:09.597331400Z"
    }
   },
   "id": "ca0e4b3a40e160e",
   "execution_count": 5
  },
  {
   "cell_type": "code",
   "outputs": [
    {
     "name": "stdout",
     "output_type": "stream",
     "text": [
      "<class 'catboost.core.CatBoostClassifier'>\n",
      "0:\tlearn: 0.6382292\ttest: 0.6382342\tbest: 0.6382342 (0)\ttotal: 1.23s\tremaining: 20m 25s\n",
      "5:\tlearn: 0.4631596\ttest: 0.4631416\tbest: 0.4631416 (5)\ttotal: 14.2s\tremaining: 39m 13s\n",
      "10:\tlearn: 0.3760861\ttest: 0.3762557\tbest: 0.3762557 (10)\ttotal: 22.7s\tremaining: 33m 57s\n",
      "15:\tlearn: 0.3192030\ttest: 0.3195999\tbest: 0.3195999 (15)\ttotal: 38.5s\tremaining: 39m 29s\n",
      "20:\tlearn: 0.2824359\ttest: 0.2829399\tbest: 0.2829399 (20)\ttotal: 58s\tremaining: 45m 5s\n",
      "25:\tlearn: 0.2588964\ttest: 0.2595418\tbest: 0.2595418 (25)\ttotal: 1m 9s\tremaining: 43m 28s\n",
      "30:\tlearn: 0.2404353\ttest: 0.2413732\tbest: 0.2413732 (30)\ttotal: 1m 22s\tremaining: 43m\n",
      "35:\tlearn: 0.2263191\ttest: 0.2275975\tbest: 0.2275975 (35)\ttotal: 1m 36s\tremaining: 43m\n",
      "40:\tlearn: 0.2165392\ttest: 0.2181991\tbest: 0.2181991 (40)\ttotal: 1m 52s\tremaining: 43m 44s\n",
      "45:\tlearn: 0.2073290\ttest: 0.2092435\tbest: 0.2092435 (45)\ttotal: 2m 11s\tremaining: 45m 34s\n",
      "50:\tlearn: 0.2000469\ttest: 0.2021733\tbest: 0.2021733 (50)\ttotal: 2m 33s\tremaining: 47m 45s\n",
      "55:\tlearn: 0.1950964\ttest: 0.1974890\tbest: 0.1974890 (55)\ttotal: 2m 52s\tremaining: 48m 35s\n",
      "60:\tlearn: 0.1891807\ttest: 0.1917648\tbest: 0.1917648 (60)\ttotal: 3m 9s\tremaining: 48m 30s\n",
      "65:\tlearn: 0.1852451\ttest: 0.1879671\tbest: 0.1879671 (65)\ttotal: 3m 25s\tremaining: 48m 24s\n",
      "70:\tlearn: 0.1808448\ttest: 0.1836640\tbest: 0.1836640 (70)\ttotal: 3m 40s\tremaining: 48m 2s\n",
      "75:\tlearn: 0.1776063\ttest: 0.1805195\tbest: 0.1805195 (75)\ttotal: 3m 53s\tremaining: 47m 13s\n",
      "80:\tlearn: 0.1752634\ttest: 0.1783609\tbest: 0.1783609 (80)\ttotal: 4m 9s\tremaining: 47m 11s\n",
      "85:\tlearn: 0.1728647\ttest: 0.1760524\tbest: 0.1760524 (85)\ttotal: 4m 20s\tremaining: 46m 4s\n",
      "90:\tlearn: 0.1703111\ttest: 0.1736280\tbest: 0.1736280 (90)\ttotal: 4m 34s\tremaining: 45m 38s\n",
      "95:\tlearn: 0.1694434\ttest: 0.1728127\tbest: 0.1728127 (95)\ttotal: 4m 44s\tremaining: 44m 36s\n",
      "100:\tlearn: 0.1673050\ttest: 0.1708245\tbest: 0.1708245 (100)\ttotal: 4m 57s\tremaining: 44m 12s\n",
      "105:\tlearn: 0.1649231\ttest: 0.1685591\tbest: 0.1685591 (105)\ttotal: 5m 11s\tremaining: 43m 44s\n",
      "110:\tlearn: 0.1627203\ttest: 0.1664337\tbest: 0.1664337 (110)\ttotal: 5m 22s\tremaining: 43m 4s\n",
      "115:\tlearn: 0.1598102\ttest: 0.1637200\tbest: 0.1637200 (115)\ttotal: 5m 35s\tremaining: 42m 37s\n",
      "120:\tlearn: 0.1577141\ttest: 0.1617149\tbest: 0.1617149 (120)\ttotal: 5m 49s\tremaining: 42m 15s\n",
      "125:\tlearn: 0.1560718\ttest: 0.1601450\tbest: 0.1601450 (125)\ttotal: 6m 2s\tremaining: 41m 53s\n",
      "130:\tlearn: 0.1539131\ttest: 0.1581027\tbest: 0.1581027 (130)\ttotal: 6m 15s\tremaining: 41m 30s\n",
      "135:\tlearn: 0.1519659\ttest: 0.1562796\tbest: 0.1562796 (135)\ttotal: 6m 34s\tremaining: 41m 44s\n",
      "140:\tlearn: 0.1500606\ttest: 0.1544776\tbest: 0.1544776 (140)\ttotal: 6m 48s\tremaining: 41m 26s\n",
      "145:\tlearn: 0.1484904\ttest: 0.1529939\tbest: 0.1529939 (145)\ttotal: 7m 2s\tremaining: 41m 8s\n",
      "150:\tlearn: 0.1466471\ttest: 0.1512026\tbest: 0.1512026 (150)\ttotal: 7m 15s\tremaining: 40m 50s\n",
      "155:\tlearn: 0.1452788\ttest: 0.1499390\tbest: 0.1499390 (155)\ttotal: 7m 29s\tremaining: 40m 32s\n",
      "160:\tlearn: 0.1433717\ttest: 0.1481146\tbest: 0.1481146 (160)\ttotal: 7m 43s\tremaining: 40m 12s\n",
      "165:\tlearn: 0.1422175\ttest: 0.1470859\tbest: 0.1470859 (165)\ttotal: 7m 57s\tremaining: 39m 56s\n",
      "170:\tlearn: 0.1408075\ttest: 0.1457363\tbest: 0.1457363 (170)\ttotal: 8m 10s\tremaining: 39m 39s\n",
      "175:\tlearn: 0.1395463\ttest: 0.1446048\tbest: 0.1446048 (175)\ttotal: 8m 25s\tremaining: 39m 27s\n",
      "180:\tlearn: 0.1384949\ttest: 0.1436573\tbest: 0.1436573 (180)\ttotal: 8m 39s\tremaining: 39m 10s\n",
      "185:\tlearn: 0.1371406\ttest: 0.1424071\tbest: 0.1424071 (185)\ttotal: 8m 54s\tremaining: 38m 59s\n",
      "190:\tlearn: 0.1360535\ttest: 0.1414278\tbest: 0.1414278 (190)\ttotal: 9m 8s\tremaining: 38m 43s\n",
      "195:\tlearn: 0.1349502\ttest: 0.1403985\tbest: 0.1403985 (195)\ttotal: 9m 22s\tremaining: 38m 26s\n",
      "200:\tlearn: 0.1341051\ttest: 0.1396369\tbest: 0.1396369 (200)\ttotal: 9m 36s\tremaining: 38m 11s\n",
      "205:\tlearn: 0.1331720\ttest: 0.1387901\tbest: 0.1387901 (205)\ttotal: 9m 50s\tremaining: 37m 55s\n",
      "210:\tlearn: 0.1323194\ttest: 0.1380403\tbest: 0.1380403 (210)\ttotal: 10m 5s\tremaining: 37m 43s\n",
      "215:\tlearn: 0.1315506\ttest: 0.1373368\tbest: 0.1373368 (215)\ttotal: 10m 19s\tremaining: 37m 28s\n",
      "220:\tlearn: 0.1307675\ttest: 0.1366041\tbest: 0.1366041 (220)\ttotal: 10m 33s\tremaining: 37m 12s\n",
      "225:\tlearn: 0.1299514\ttest: 0.1358547\tbest: 0.1358547 (225)\ttotal: 10m 47s\tremaining: 36m 56s\n",
      "230:\tlearn: 0.1292191\ttest: 0.1352274\tbest: 0.1352274 (230)\ttotal: 11m 1s\tremaining: 36m 40s\n",
      "235:\tlearn: 0.1284866\ttest: 0.1345662\tbest: 0.1345662 (235)\ttotal: 11m 15s\tremaining: 36m 26s\n",
      "240:\tlearn: 0.1277841\ttest: 0.1339265\tbest: 0.1339265 (240)\ttotal: 11m 28s\tremaining: 36m 9s\n",
      "245:\tlearn: 0.1270379\ttest: 0.1332997\tbest: 0.1332997 (245)\ttotal: 11m 42s\tremaining: 35m 54s\n",
      "250:\tlearn: 0.1263661\ttest: 0.1327121\tbest: 0.1327121 (250)\ttotal: 11m 57s\tremaining: 35m 42s\n",
      "255:\tlearn: 0.1258736\ttest: 0.1322782\tbest: 0.1322782 (255)\ttotal: 12m 12s\tremaining: 35m 27s\n",
      "260:\tlearn: 0.1253029\ttest: 0.1318127\tbest: 0.1318127 (260)\ttotal: 12m 26s\tremaining: 35m 13s\n",
      "265:\tlearn: 0.1248792\ttest: 0.1314633\tbest: 0.1314633 (265)\ttotal: 12m 41s\tremaining: 34m 59s\n",
      "270:\tlearn: 0.1244767\ttest: 0.1311533\tbest: 0.1311533 (270)\ttotal: 12m 55s\tremaining: 34m 45s\n",
      "275:\tlearn: 0.1239159\ttest: 0.1306412\tbest: 0.1306412 (275)\ttotal: 13m 10s\tremaining: 34m 32s\n",
      "280:\tlearn: 0.1235849\ttest: 0.1303689\tbest: 0.1303689 (280)\ttotal: 13m 26s\tremaining: 34m 23s\n",
      "285:\tlearn: 0.1232179\ttest: 0.1300710\tbest: 0.1300710 (285)\ttotal: 13m 43s\tremaining: 34m 15s\n",
      "290:\tlearn: 0.1226086\ttest: 0.1295472\tbest: 0.1295472 (290)\ttotal: 13m 57s\tremaining: 34m 1s\n",
      "295:\tlearn: 0.1223290\ttest: 0.1293411\tbest: 0.1293411 (295)\ttotal: 14m 13s\tremaining: 33m 50s\n",
      "300:\tlearn: 0.1217613\ttest: 0.1288268\tbest: 0.1288268 (300)\ttotal: 14m 27s\tremaining: 33m 35s\n",
      "305:\tlearn: 0.1211281\ttest: 0.1282775\tbest: 0.1282775 (305)\ttotal: 14m 41s\tremaining: 33m 19s\n",
      "310:\tlearn: 0.1205836\ttest: 0.1278265\tbest: 0.1278265 (310)\ttotal: 14m 56s\tremaining: 33m 5s\n",
      "315:\tlearn: 0.1200838\ttest: 0.1273877\tbest: 0.1273877 (315)\ttotal: 15m 11s\tremaining: 32m 52s\n",
      "320:\tlearn: 0.1197389\ttest: 0.1270940\tbest: 0.1270921 (319)\ttotal: 15m 26s\tremaining: 32m 40s\n",
      "325:\tlearn: 0.1193797\ttest: 0.1267985\tbest: 0.1267985 (325)\ttotal: 15m 41s\tremaining: 32m 27s\n",
      "330:\tlearn: 0.1189921\ttest: 0.1264709\tbest: 0.1264709 (330)\ttotal: 15m 55s\tremaining: 32m 12s\n",
      "335:\tlearn: 0.1185865\ttest: 0.1261075\tbest: 0.1261075 (335)\ttotal: 16m 10s\tremaining: 31m 57s\n",
      "340:\tlearn: 0.1181829\ttest: 0.1257375\tbest: 0.1257375 (340)\ttotal: 16m 24s\tremaining: 31m 41s\n",
      "345:\tlearn: 0.1176622\ttest: 0.1252530\tbest: 0.1252530 (345)\ttotal: 16m 37s\tremaining: 31m 26s\n",
      "350:\tlearn: 0.1174441\ttest: 0.1251007\tbest: 0.1251007 (350)\ttotal: 16m 54s\tremaining: 31m 15s\n",
      "355:\tlearn: 0.1170663\ttest: 0.1247768\tbest: 0.1247768 (355)\ttotal: 17m 7s\tremaining: 30m 59s\n",
      "360:\tlearn: 0.1166366\ttest: 0.1243883\tbest: 0.1243883 (360)\ttotal: 17m 21s\tremaining: 30m 44s\n",
      "365:\tlearn: 0.1160995\ttest: 0.1239314\tbest: 0.1239314 (365)\ttotal: 17m 35s\tremaining: 30m 29s\n",
      "370:\tlearn: 0.1158210\ttest: 0.1236939\tbest: 0.1236939 (370)\ttotal: 17m 51s\tremaining: 30m 15s\n",
      "375:\tlearn: 0.1155403\ttest: 0.1235134\tbest: 0.1235089 (374)\ttotal: 18m 6s\tremaining: 30m 3s\n",
      "380:\tlearn: 0.1151515\ttest: 0.1232173\tbest: 0.1232173 (380)\ttotal: 18m 20s\tremaining: 29m 48s\n",
      "385:\tlearn: 0.1148073\ttest: 0.1229475\tbest: 0.1229475 (385)\ttotal: 18m 35s\tremaining: 29m 34s\n",
      "390:\tlearn: 0.1144971\ttest: 0.1227278\tbest: 0.1227278 (390)\ttotal: 18m 49s\tremaining: 29m 18s\n",
      "395:\tlearn: 0.1141843\ttest: 0.1224781\tbest: 0.1224781 (395)\ttotal: 19m 3s\tremaining: 29m 3s\n",
      "400:\tlearn: 0.1137587\ttest: 0.1221262\tbest: 0.1221262 (400)\ttotal: 19m 17s\tremaining: 28m 48s\n",
      "405:\tlearn: 0.1136009\ttest: 0.1220339\tbest: 0.1220339 (405)\ttotal: 19m 34s\tremaining: 28m 38s\n",
      "410:\tlearn: 0.1132507\ttest: 0.1217375\tbest: 0.1217375 (410)\ttotal: 19m 48s\tremaining: 28m 23s\n",
      "415:\tlearn: 0.1130231\ttest: 0.1215626\tbest: 0.1215626 (415)\ttotal: 20m 6s\tremaining: 28m 13s\n",
      "420:\tlearn: 0.1127637\ttest: 0.1213834\tbest: 0.1213834 (420)\ttotal: 20m 20s\tremaining: 27m 58s\n",
      "425:\tlearn: 0.1123006\ttest: 0.1209672\tbest: 0.1209672 (425)\ttotal: 20m 33s\tremaining: 27m 42s\n",
      "430:\tlearn: 0.1119862\ttest: 0.1206899\tbest: 0.1206899 (430)\ttotal: 20m 48s\tremaining: 27m 28s\n",
      "435:\tlearn: 0.1117382\ttest: 0.1205031\tbest: 0.1205031 (435)\ttotal: 21m 4s\tremaining: 27m 15s\n",
      "440:\tlearn: 0.1114479\ttest: 0.1202546\tbest: 0.1202546 (440)\ttotal: 21m 18s\tremaining: 27m\n",
      "445:\tlearn: 0.1112699\ttest: 0.1201151\tbest: 0.1201151 (445)\ttotal: 21m 34s\tremaining: 26m 48s\n",
      "450:\tlearn: 0.1109213\ttest: 0.1198209\tbest: 0.1198209 (450)\ttotal: 21m 48s\tremaining: 26m 33s\n",
      "455:\tlearn: 0.1107875\ttest: 0.1197312\tbest: 0.1197309 (454)\ttotal: 22m 5s\tremaining: 26m 21s\n",
      "460:\tlearn: 0.1105642\ttest: 0.1195864\tbest: 0.1195864 (460)\ttotal: 22m 21s\tremaining: 26m 8s\n",
      "465:\tlearn: 0.1102647\ttest: 0.1193266\tbest: 0.1193266 (465)\ttotal: 22m 38s\tremaining: 25m 56s\n",
      "470:\tlearn: 0.1099461\ttest: 0.1190697\tbest: 0.1190697 (470)\ttotal: 22m 52s\tremaining: 25m 41s\n",
      "475:\tlearn: 0.1098018\ttest: 0.1189584\tbest: 0.1189571 (474)\ttotal: 23m 9s\tremaining: 25m 29s\n",
      "480:\tlearn: 0.1094973\ttest: 0.1187222\tbest: 0.1187222 (480)\ttotal: 23m 24s\tremaining: 25m 15s\n",
      "485:\tlearn: 0.1092260\ttest: 0.1185164\tbest: 0.1185164 (485)\ttotal: 23m 39s\tremaining: 25m\n",
      "490:\tlearn: 0.1090174\ttest: 0.1183566\tbest: 0.1183566 (490)\ttotal: 23m 55s\tremaining: 24m 47s\n",
      "495:\tlearn: 0.1087347\ttest: 0.1181586\tbest: 0.1181586 (495)\ttotal: 24m 9s\tremaining: 24m 32s\n",
      "500:\tlearn: 0.1084660\ttest: 0.1179195\tbest: 0.1179195 (500)\ttotal: 24m 23s\tremaining: 24m 17s\n",
      "505:\tlearn: 0.1081873\ttest: 0.1176816\tbest: 0.1176816 (505)\ttotal: 24m 38s\tremaining: 24m 3s\n",
      "510:\tlearn: 0.1080376\ttest: 0.1176148\tbest: 0.1176148 (510)\ttotal: 24m 55s\tremaining: 23m 50s\n",
      "515:\tlearn: 0.1078250\ttest: 0.1174544\tbest: 0.1174544 (515)\ttotal: 25m 11s\tremaining: 23m 37s\n",
      "520:\tlearn: 0.1075632\ttest: 0.1172138\tbest: 0.1172138 (520)\ttotal: 25m 26s\tremaining: 23m 23s\n",
      "525:\tlearn: 0.1073026\ttest: 0.1170357\tbest: 0.1170337 (524)\ttotal: 25m 40s\tremaining: 23m 7s\n",
      "530:\tlearn: 0.1071023\ttest: 0.1169343\tbest: 0.1169343 (530)\ttotal: 25m 55s\tremaining: 22m 54s\n",
      "535:\tlearn: 0.1068374\ttest: 0.1167283\tbest: 0.1167283 (535)\ttotal: 26m 10s\tremaining: 22m 39s\n",
      "540:\tlearn: 0.1064787\ttest: 0.1163948\tbest: 0.1163948 (540)\ttotal: 26m 24s\tremaining: 22m 24s\n",
      "545:\tlearn: 0.1062134\ttest: 0.1161865\tbest: 0.1161865 (545)\ttotal: 26m 39s\tremaining: 22m 10s\n",
      "550:\tlearn: 0.1060090\ttest: 0.1160523\tbest: 0.1160523 (550)\ttotal: 26m 55s\tremaining: 21m 56s\n",
      "555:\tlearn: 0.1057926\ttest: 0.1158708\tbest: 0.1158708 (555)\ttotal: 27m 10s\tremaining: 21m 41s\n",
      "560:\tlearn: 0.1055026\ttest: 0.1156281\tbest: 0.1156281 (560)\ttotal: 27m 25s\tremaining: 21m 27s\n",
      "565:\tlearn: 0.1052883\ttest: 0.1154715\tbest: 0.1154715 (564)\ttotal: 27m 40s\tremaining: 21m 12s\n",
      "570:\tlearn: 0.1050806\ttest: 0.1153147\tbest: 0.1153147 (570)\ttotal: 27m 55s\tremaining: 20m 58s\n",
      "575:\tlearn: 0.1049110\ttest: 0.1151906\tbest: 0.1151906 (575)\ttotal: 28m 11s\tremaining: 20m 45s\n",
      "580:\tlearn: 0.1047997\ttest: 0.1151333\tbest: 0.1151330 (579)\ttotal: 28m 29s\tremaining: 20m 32s\n",
      "585:\tlearn: 0.1045685\ttest: 0.1149484\tbest: 0.1149484 (585)\ttotal: 28m 42s\tremaining: 20m 17s\n",
      "590:\tlearn: 0.1044129\ttest: 0.1148204\tbest: 0.1148204 (589)\ttotal: 28m 58s\tremaining: 20m 3s\n",
      "595:\tlearn: 0.1041796\ttest: 0.1146486\tbest: 0.1146486 (595)\ttotal: 29m 13s\tremaining: 19m 48s\n",
      "600:\tlearn: 0.1040443\ttest: 0.1145764\tbest: 0.1145746 (599)\ttotal: 29m 28s\tremaining: 19m 34s\n",
      "605:\tlearn: 0.1039259\ttest: 0.1145111\tbest: 0.1145111 (605)\ttotal: 29m 45s\tremaining: 19m 20s\n",
      "610:\tlearn: 0.1036988\ttest: 0.1143258\tbest: 0.1143258 (610)\ttotal: 30m\tremaining: 19m 6s\n",
      "615:\tlearn: 0.1034664\ttest: 0.1141326\tbest: 0.1141326 (615)\ttotal: 30m 17s\tremaining: 18m 52s\n",
      "620:\tlearn: 0.1032509\ttest: 0.1139736\tbest: 0.1139736 (620)\ttotal: 30m 30s\tremaining: 18m 37s\n",
      "625:\tlearn: 0.1030263\ttest: 0.1138256\tbest: 0.1138256 (625)\ttotal: 30m 45s\tremaining: 18m 22s\n",
      "630:\tlearn: 0.1028053\ttest: 0.1137023\tbest: 0.1137023 (630)\ttotal: 31m\tremaining: 18m 8s\n",
      "635:\tlearn: 0.1026644\ttest: 0.1136093\tbest: 0.1136093 (635)\ttotal: 31m 16s\tremaining: 17m 53s\n",
      "640:\tlearn: 0.1024523\ttest: 0.1134309\tbest: 0.1134309 (640)\ttotal: 31m 30s\tremaining: 17m 38s\n",
      "645:\tlearn: 0.1021205\ttest: 0.1131354\tbest: 0.1131354 (645)\ttotal: 31m 44s\tremaining: 17m 23s\n",
      "650:\tlearn: 0.1019885\ttest: 0.1130671\tbest: 0.1130655 (649)\ttotal: 32m 1s\tremaining: 17m 10s\n",
      "655:\tlearn: 0.1017678\ttest: 0.1128994\tbest: 0.1128994 (655)\ttotal: 32m 15s\tremaining: 16m 55s\n",
      "660:\tlearn: 0.1016637\ttest: 0.1128570\tbest: 0.1128513 (657)\ttotal: 32m 33s\tremaining: 16m 42s\n",
      "665:\tlearn: 0.1015140\ttest: 0.1127624\tbest: 0.1127624 (665)\ttotal: 32m 48s\tremaining: 16m 27s\n",
      "670:\tlearn: 0.1012804\ttest: 0.1125656\tbest: 0.1125656 (670)\ttotal: 33m 2s\tremaining: 16m 12s\n",
      "675:\tlearn: 0.1011159\ttest: 0.1124956\tbest: 0.1124956 (675)\ttotal: 33m 18s\tremaining: 15m 57s\n",
      "680:\tlearn: 0.1009135\ttest: 0.1123409\tbest: 0.1123409 (680)\ttotal: 33m 33s\tremaining: 15m 43s\n",
      "685:\tlearn: 0.1007330\ttest: 0.1122001\tbest: 0.1122001 (685)\ttotal: 33m 47s\tremaining: 15m 27s\n",
      "690:\tlearn: 0.1005012\ttest: 0.1119922\tbest: 0.1119922 (690)\ttotal: 34m 1s\tremaining: 15m 13s\n",
      "695:\tlearn: 0.1003511\ttest: 0.1118991\tbest: 0.1118991 (695)\ttotal: 34m 17s\tremaining: 14m 58s\n",
      "700:\tlearn: 0.1001697\ttest: 0.1117483\tbest: 0.1117483 (700)\ttotal: 34m 31s\tremaining: 14m 43s\n",
      "705:\tlearn: 0.0999820\ttest: 0.1116393\tbest: 0.1116393 (705)\ttotal: 34m 47s\tremaining: 14m 29s\n",
      "710:\tlearn: 0.0998439\ttest: 0.1115354\tbest: 0.1115354 (710)\ttotal: 35m 2s\tremaining: 14m 14s\n",
      "715:\tlearn: 0.0996750\ttest: 0.1114112\tbest: 0.1114112 (715)\ttotal: 35m 18s\tremaining: 14m\n",
      "720:\tlearn: 0.0995795\ttest: 0.1113742\tbest: 0.1113742 (720)\ttotal: 35m 35s\tremaining: 13m 46s\n",
      "725:\tlearn: 0.0994429\ttest: 0.1112822\tbest: 0.1112822 (725)\ttotal: 35m 50s\tremaining: 13m 31s\n",
      "730:\tlearn: 0.0992733\ttest: 0.1111680\tbest: 0.1111680 (730)\ttotal: 36m 5s\tremaining: 13m 16s\n",
      "735:\tlearn: 0.0990559\ttest: 0.1110206\tbest: 0.1110165 (734)\ttotal: 36m 20s\tremaining: 13m 2s\n",
      "740:\tlearn: 0.0989124\ttest: 0.1109328\tbest: 0.1109328 (740)\ttotal: 36m 35s\tremaining: 12m 47s\n",
      "745:\tlearn: 0.0987490\ttest: 0.1108279\tbest: 0.1108279 (745)\ttotal: 36m 50s\tremaining: 12m 32s\n",
      "750:\tlearn: 0.0986851\ttest: 0.1107833\tbest: 0.1107815 (749)\ttotal: 37m 8s\tremaining: 12m 18s\n",
      "755:\tlearn: 0.0985319\ttest: 0.1106738\tbest: 0.1106738 (755)\ttotal: 37m 23s\tremaining: 12m 4s\n",
      "760:\tlearn: 0.0983896\ttest: 0.1105662\tbest: 0.1105662 (760)\ttotal: 37m 39s\tremaining: 11m 49s\n",
      "765:\tlearn: 0.0981939\ttest: 0.1105351\tbest: 0.1105289 (764)\ttotal: 37m 55s\tremaining: 11m 35s\n",
      "770:\tlearn: 0.0980350\ttest: 0.1104446\tbest: 0.1104446 (770)\ttotal: 38m 12s\tremaining: 11m 20s\n",
      "775:\tlearn: 0.0978754\ttest: 0.1103154\tbest: 0.1103154 (775)\ttotal: 38m 28s\tremaining: 11m 6s\n",
      "780:\tlearn: 0.0978045\ttest: 0.1102810\tbest: 0.1102810 (780)\ttotal: 38m 45s\tremaining: 10m 52s\n",
      "785:\tlearn: 0.0976311\ttest: 0.1101444\tbest: 0.1101444 (785)\ttotal: 39m\tremaining: 10m 37s\n",
      "790:\tlearn: 0.0975234\ttest: 0.1100832\tbest: 0.1100832 (790)\ttotal: 39m 15s\tremaining: 10m 22s\n",
      "795:\tlearn: 0.0973976\ttest: 0.1100178\tbest: 0.1100178 (795)\ttotal: 39m 32s\tremaining: 10m 7s\n",
      "800:\tlearn: 0.0972752\ttest: 0.1099438\tbest: 0.1099428 (799)\ttotal: 39m 48s\tremaining: 9m 53s\n",
      "805:\tlearn: 0.0971347\ttest: 0.1098495\tbest: 0.1098495 (805)\ttotal: 40m 3s\tremaining: 9m 38s\n",
      "810:\tlearn: 0.0970151\ttest: 0.1097547\tbest: 0.1097547 (810)\ttotal: 40m 17s\tremaining: 9m 23s\n",
      "815:\tlearn: 0.0968501\ttest: 0.1096458\tbest: 0.1096458 (815)\ttotal: 40m 32s\tremaining: 9m 8s\n",
      "820:\tlearn: 0.0966524\ttest: 0.1095222\tbest: 0.1095222 (820)\ttotal: 40m 47s\tremaining: 8m 53s\n",
      "825:\tlearn: 0.0965931\ttest: 0.1095061\tbest: 0.1095061 (825)\ttotal: 41m 4s\tremaining: 8m 39s\n",
      "830:\tlearn: 0.0964518\ttest: 0.1094335\tbest: 0.1094334 (829)\ttotal: 41m 21s\tremaining: 8m 24s\n",
      "835:\tlearn: 0.0963620\ttest: 0.1093815\tbest: 0.1093810 (833)\ttotal: 41m 38s\tremaining: 8m 10s\n",
      "840:\tlearn: 0.0961997\ttest: 0.1092519\tbest: 0.1092519 (840)\ttotal: 41m 53s\tremaining: 7m 55s\n",
      "845:\tlearn: 0.0960352\ttest: 0.1091156\tbest: 0.1091156 (845)\ttotal: 42m 9s\tremaining: 7m 40s\n",
      "850:\tlearn: 0.0959177\ttest: 0.1090395\tbest: 0.1090392 (849)\ttotal: 42m 25s\tremaining: 7m 25s\n",
      "855:\tlearn: 0.0957357\ttest: 0.1089227\tbest: 0.1089227 (855)\ttotal: 42m 39s\tremaining: 7m 10s\n",
      "860:\tlearn: 0.0956185\ttest: 0.1088902\tbest: 0.1088902 (860)\ttotal: 42m 55s\tremaining: 6m 55s\n",
      "865:\tlearn: 0.0955543\ttest: 0.1088622\tbest: 0.1088613 (864)\ttotal: 43m 13s\tremaining: 6m 41s\n",
      "870:\tlearn: 0.0954671\ttest: 0.1088459\tbest: 0.1088459 (870)\ttotal: 43m 31s\tremaining: 6m 26s\n",
      "875:\tlearn: 0.0953812\ttest: 0.1087915\tbest: 0.1087915 (875)\ttotal: 43m 49s\tremaining: 6m 12s\n",
      "880:\tlearn: 0.0952952\ttest: 0.1087356\tbest: 0.1087356 (880)\ttotal: 44m 6s\tremaining: 5m 57s\n",
      "885:\tlearn: 0.0951395\ttest: 0.1086453\tbest: 0.1086453 (885)\ttotal: 44m 21s\tremaining: 5m 42s\n",
      "890:\tlearn: 0.0950049\ttest: 0.1085806\tbest: 0.1085686 (889)\ttotal: 44m 36s\tremaining: 5m 27s\n",
      "895:\tlearn: 0.0948810\ttest: 0.1084910\tbest: 0.1084910 (895)\ttotal: 44m 52s\tremaining: 5m 12s\n",
      "900:\tlearn: 0.0948139\ttest: 0.1084694\tbest: 0.1084666 (899)\ttotal: 45m 11s\tremaining: 4m 57s\n",
      "905:\tlearn: 0.0946500\ttest: 0.1083333\tbest: 0.1083333 (905)\ttotal: 45m 25s\tremaining: 4m 42s\n",
      "910:\tlearn: 0.0945640\ttest: 0.1082895\tbest: 0.1082895 (910)\ttotal: 45m 42s\tremaining: 4m 27s\n",
      "915:\tlearn: 0.0944500\ttest: 0.1082178\tbest: 0.1082178 (915)\ttotal: 45m 57s\tremaining: 4m 12s\n",
      "920:\tlearn: 0.0942701\ttest: 0.1081178\tbest: 0.1081178 (920)\ttotal: 46m 11s\tremaining: 3m 57s\n",
      "925:\tlearn: 0.0941321\ttest: 0.1080759\tbest: 0.1080759 (925)\ttotal: 46m 26s\tremaining: 3m 42s\n",
      "930:\tlearn: 0.0939757\ttest: 0.1079855\tbest: 0.1079855 (930)\ttotal: 46m 42s\tremaining: 3m 27s\n",
      "935:\tlearn: 0.0938488\ttest: 0.1079247\tbest: 0.1079247 (935)\ttotal: 46m 56s\tremaining: 3m 12s\n",
      "940:\tlearn: 0.0937555\ttest: 0.1078980\tbest: 0.1078980 (940)\ttotal: 47m 12s\tremaining: 2m 57s\n",
      "945:\tlearn: 0.0936830\ttest: 0.1078718\tbest: 0.1078718 (945)\ttotal: 47m 29s\tremaining: 2m 42s\n",
      "950:\tlearn: 0.0936019\ttest: 0.1078460\tbest: 0.1078439 (949)\ttotal: 47m 46s\tremaining: 2m 27s\n",
      "955:\tlearn: 0.0934931\ttest: 0.1077587\tbest: 0.1077587 (955)\ttotal: 48m 1s\tremaining: 2m 12s\n",
      "960:\tlearn: 0.0932884\ttest: 0.1075930\tbest: 0.1075930 (960)\ttotal: 48m 16s\tremaining: 1m 57s\n",
      "965:\tlearn: 0.0931896\ttest: 0.1075311\tbest: 0.1075311 (965)\ttotal: 48m 33s\tremaining: 1m 42s\n",
      "970:\tlearn: 0.0930391\ttest: 0.1074296\tbest: 0.1074296 (970)\ttotal: 48m 48s\tremaining: 1m 27s\n",
      "975:\tlearn: 0.0928874\ttest: 0.1073234\tbest: 0.1073234 (975)\ttotal: 49m 3s\tremaining: 1m 12s\n",
      "980:\tlearn: 0.0928167\ttest: 0.1072730\tbest: 0.1072730 (980)\ttotal: 49m 18s\tremaining: 57.3s\n",
      "985:\tlearn: 0.0926833\ttest: 0.1071986\tbest: 0.1071986 (985)\ttotal: 49m 34s\tremaining: 42.2s\n",
      "990:\tlearn: 0.0925941\ttest: 0.1071623\tbest: 0.1071623 (990)\ttotal: 49m 49s\tremaining: 27.1s\n",
      "995:\tlearn: 0.0924906\ttest: 0.1070882\tbest: 0.1070882 (995)\ttotal: 50m 5s\tremaining: 12.1s\n",
      "999:\tlearn: 0.0924048\ttest: 0.1070470\tbest: 0.1070470 (999)\ttotal: 50m 18s\tremaining: 0us\n",
      "\n",
      "bestTest = 0.1070470389\n",
      "bestIteration = 999\n"
     ]
    },
    {
     "ename": "NameError",
     "evalue": "name 'joblib' is not defined",
     "output_type": "error",
     "traceback": [
      "\u001B[1;31m---------------------------------------------------------------------------\u001B[0m",
      "\u001B[1;31mNameError\u001B[0m                                 Traceback (most recent call last)",
      "Cell \u001B[1;32mIn[8], line 13\u001B[0m\n\u001B[0;32m     10\u001B[0m \u001B[38;5;28mprint\u001B[39m(\u001B[38;5;28mtype\u001B[39m(cat_model))\n\u001B[0;32m     11\u001B[0m cat_model\u001B[38;5;241m.\u001B[39mfit(train_pool, eval_set\u001B[38;5;241m=\u001B[39mval_pool, verbose\u001B[38;5;241m=\u001B[39m\u001B[38;5;241m5\u001B[39m)\n\u001B[1;32m---> 13\u001B[0m joblib\u001B[38;5;241m.\u001B[39mdump(cat_model, \u001B[38;5;124m'\u001B[39m\u001B[38;5;124m../Files/cat_model.pkl\u001B[39m\u001B[38;5;124m'\u001B[39m)\n",
      "\u001B[1;31mNameError\u001B[0m: name 'joblib' is not defined"
     ]
    }
   ],
   "source": [
    "cat_model = CatBoostClassifier(\n",
    "    iterations=1000,\n",
    "    learning_rate=0.1,\n",
    "    depth = 10,\n",
    "    l2_leaf_reg=3,\n",
    "    task_type = 'CPU',\n",
    "    loss_function = 'MultiClassOneVsAll',\n",
    "    boosting_type = 'Ordered'\n",
    ")\n",
    "print(type(cat_model))\n",
    "cat_model.fit(train_pool, eval_set=val_pool, verbose=5)\n",
    "\n",
    "joblib.dump(cat_model, '../Files/cat_model.pkl')"
   ],
   "metadata": {
    "collapsed": false,
    "ExecuteTime": {
     "end_time": "2024-01-23T11:30:46.784971600Z",
     "start_time": "2024-01-23T10:40:29.182648300Z"
    }
   },
   "id": "c8e54652861a7884",
   "execution_count": 8
  },
  {
   "cell_type": "code",
   "outputs": [
    {
     "data": {
      "text/plain": "['../Files/cat_model.pkl']"
     },
     "execution_count": 10,
     "metadata": {},
     "output_type": "execute_result"
    }
   ],
   "source": [
    "joblib.dump(cat_model, '../Files/cat_model.pkl')"
   ],
   "metadata": {
    "collapsed": false,
    "ExecuteTime": {
     "end_time": "2024-01-23T11:33:32.334507Z",
     "start_time": "2024-01-23T11:33:29.304669200Z"
    }
   },
   "id": "582158ab0ef4a646",
   "execution_count": 10
  },
  {
   "cell_type": "code",
   "outputs": [
    {
     "name": "stdout",
     "output_type": "stream",
     "text": [
      "CatBoost Accuracy: 0.8555999792304897\n"
     ]
    }
   ],
   "source": [
    "print(\"CatBoost Accuracy:\", accuracy_score(y_test, cat_model.predict(X_test)))"
   ],
   "metadata": {
    "collapsed": false,
    "ExecuteTime": {
     "end_time": "2024-01-23T11:33:39.067457700Z",
     "start_time": "2024-01-23T11:33:38.955540500Z"
    }
   },
   "id": "4c108ea8c9b915c6",
   "execution_count": 11
  },
  {
   "cell_type": "code",
   "outputs": [],
   "source": [
    "cat_model.save_model('../Files/cat_model.bin')"
   ],
   "metadata": {
    "collapsed": false,
    "ExecuteTime": {
     "end_time": "2024-01-21T13:09:24.820218500Z",
     "start_time": "2024-01-21T13:09:24.814215900Z"
    }
   },
   "id": "f7260762ae1c5a85",
   "execution_count": 63
  },
  {
   "cell_type": "code",
   "outputs": [
    {
     "name": "stdout",
     "output_type": "stream",
     "text": [
      "0:\tlearn: 0.6366766\ttest: 0.6366857\tbest: 0.6366857 (0)\ttotal: 5.5s\tremaining: 1h 31m 38s\n",
      "2:\tlearn: 0.5483135\ttest: 0.5483425\tbest: 0.5483425 (2)\ttotal: 7.65s\tremaining: 42m 22s\n",
      "4:\tlearn: 0.4873472\ttest: 0.4873972\tbest: 0.4873972 (4)\ttotal: 9.88s\tremaining: 32m 46s\n",
      "6:\tlearn: 0.4358618\ttest: 0.4359404\tbest: 0.4359404 (6)\ttotal: 13.4s\tremaining: 31m 36s\n",
      "8:\tlearn: 0.3951242\ttest: 0.3952551\tbest: 0.3952551 (8)\ttotal: 16.9s\tremaining: 30m 58s\n",
      "10:\tlearn: 0.3655918\ttest: 0.3658047\tbest: 0.3658047 (10)\ttotal: 20.2s\tremaining: 30m 15s\n",
      "12:\tlearn: 0.3404294\ttest: 0.3407176\tbest: 0.3407176 (12)\ttotal: 23.6s\tremaining: 29m 55s\n",
      "14:\tlearn: 0.3191448\ttest: 0.3195833\tbest: 0.3195833 (14)\ttotal: 27.3s\tremaining: 29m 52s\n",
      "16:\tlearn: 0.2999630\ttest: 0.3004349\tbest: 0.3004349 (16)\ttotal: 30.9s\tremaining: 29m 43s\n",
      "18:\tlearn: 0.2857266\ttest: 0.2863691\tbest: 0.2863691 (18)\ttotal: 34.3s\tremaining: 29m 30s\n"
     ]
    },
    {
     "ename": "KeyboardInterrupt",
     "evalue": "",
     "output_type": "error",
     "traceback": [
      "\u001B[1;31m---------------------------------------------------------------------------\u001B[0m",
      "\u001B[1;31mKeyboardInterrupt\u001B[0m                         Traceback (most recent call last)",
      "Cell \u001B[1;32mIn[64], line 3\u001B[0m\n\u001B[0;32m      1\u001B[0m loaded_model \u001B[38;5;241m=\u001B[39m CatBoostClassifier()\n\u001B[0;32m      2\u001B[0m loaded_model\u001B[38;5;241m.\u001B[39mload_model(\u001B[38;5;124m'\u001B[39m\u001B[38;5;124m../Files/cat_model.bin\u001B[39m\u001B[38;5;124m'\u001B[39m)\n\u001B[1;32m----> 3\u001B[0m loaded_model\u001B[38;5;241m.\u001B[39mfit(train_pool, eval_set\u001B[38;5;241m=\u001B[39mval_pool, verbose\u001B[38;5;241m=\u001B[39m\u001B[38;5;241m2\u001B[39m)\n",
      "File \u001B[1;32m~\\anaconda3\\envs\\python_311\\Lib\\site-packages\\catboost\\core.py:5100\u001B[0m, in \u001B[0;36mCatBoostClassifier.fit\u001B[1;34m(self, X, y, cat_features, text_features, embedding_features, sample_weight, baseline, use_best_model, eval_set, verbose, logging_level, plot, plot_file, column_description, verbose_eval, metric_period, silent, early_stopping_rounds, save_snapshot, snapshot_file, snapshot_interval, init_model, callbacks, log_cout, log_cerr)\u001B[0m\n\u001B[0;32m   5097\u001B[0m \u001B[38;5;28;01mif\u001B[39;00m \u001B[38;5;124m'\u001B[39m\u001B[38;5;124mloss_function\u001B[39m\u001B[38;5;124m'\u001B[39m \u001B[38;5;129;01min\u001B[39;00m params:\n\u001B[0;32m   5098\u001B[0m     CatBoostClassifier\u001B[38;5;241m.\u001B[39m_check_is_compatible_loss(params[\u001B[38;5;124m'\u001B[39m\u001B[38;5;124mloss_function\u001B[39m\u001B[38;5;124m'\u001B[39m])\n\u001B[1;32m-> 5100\u001B[0m \u001B[38;5;28mself\u001B[39m\u001B[38;5;241m.\u001B[39m_fit(X, y, cat_features, text_features, embedding_features, \u001B[38;5;28;01mNone\u001B[39;00m, sample_weight, \u001B[38;5;28;01mNone\u001B[39;00m, \u001B[38;5;28;01mNone\u001B[39;00m, \u001B[38;5;28;01mNone\u001B[39;00m, \u001B[38;5;28;01mNone\u001B[39;00m, baseline, use_best_model,\n\u001B[0;32m   5101\u001B[0m           eval_set, verbose, logging_level, plot, plot_file, column_description, verbose_eval, metric_period,\n\u001B[0;32m   5102\u001B[0m           silent, early_stopping_rounds, save_snapshot, snapshot_file, snapshot_interval, init_model, callbacks, log_cout, log_cerr)\n\u001B[0;32m   5103\u001B[0m \u001B[38;5;28;01mreturn\u001B[39;00m \u001B[38;5;28mself\u001B[39m\n",
      "File \u001B[1;32m~\\anaconda3\\envs\\python_311\\Lib\\site-packages\\catboost\\core.py:2319\u001B[0m, in \u001B[0;36mCatBoost._fit\u001B[1;34m(self, X, y, cat_features, text_features, embedding_features, pairs, sample_weight, group_id, group_weight, subgroup_id, pairs_weight, baseline, use_best_model, eval_set, verbose, logging_level, plot, plot_file, column_description, verbose_eval, metric_period, silent, early_stopping_rounds, save_snapshot, snapshot_file, snapshot_interval, init_model, callbacks, log_cout, log_cerr)\u001B[0m\n\u001B[0;32m   2315\u001B[0m allow_clear_pool \u001B[38;5;241m=\u001B[39m train_params[\u001B[38;5;124m\"\u001B[39m\u001B[38;5;124mallow_clear_pool\u001B[39m\u001B[38;5;124m\"\u001B[39m]\n\u001B[0;32m   2317\u001B[0m \u001B[38;5;28;01mwith\u001B[39;00m log_fixup(log_cout, log_cerr), \\\n\u001B[0;32m   2318\u001B[0m     plot_wrapper(plot, plot_file, \u001B[38;5;124m'\u001B[39m\u001B[38;5;124mTraining plots\u001B[39m\u001B[38;5;124m'\u001B[39m, [_get_train_dir(\u001B[38;5;28mself\u001B[39m\u001B[38;5;241m.\u001B[39mget_params())]):\n\u001B[1;32m-> 2319\u001B[0m     \u001B[38;5;28mself\u001B[39m\u001B[38;5;241m.\u001B[39m_train(\n\u001B[0;32m   2320\u001B[0m         train_pool,\n\u001B[0;32m   2321\u001B[0m         train_params[\u001B[38;5;124m\"\u001B[39m\u001B[38;5;124meval_sets\u001B[39m\u001B[38;5;124m\"\u001B[39m],\n\u001B[0;32m   2322\u001B[0m         params,\n\u001B[0;32m   2323\u001B[0m         allow_clear_pool,\n\u001B[0;32m   2324\u001B[0m         train_params[\u001B[38;5;124m\"\u001B[39m\u001B[38;5;124minit_model\u001B[39m\u001B[38;5;124m\"\u001B[39m]\n\u001B[0;32m   2325\u001B[0m     )\n\u001B[0;32m   2327\u001B[0m \u001B[38;5;66;03m# Have property feature_importance possibly set\u001B[39;00m\n\u001B[0;32m   2328\u001B[0m loss \u001B[38;5;241m=\u001B[39m \u001B[38;5;28mself\u001B[39m\u001B[38;5;241m.\u001B[39m_object\u001B[38;5;241m.\u001B[39m_get_loss_function_name()\n",
      "File \u001B[1;32m~\\anaconda3\\envs\\python_311\\Lib\\site-packages\\catboost\\core.py:1723\u001B[0m, in \u001B[0;36m_CatBoostBase._train\u001B[1;34m(self, train_pool, test_pool, params, allow_clear_pool, init_model)\u001B[0m\n\u001B[0;32m   1722\u001B[0m \u001B[38;5;28;01mdef\u001B[39;00m \u001B[38;5;21m_train\u001B[39m(\u001B[38;5;28mself\u001B[39m, train_pool, test_pool, params, allow_clear_pool, init_model):\n\u001B[1;32m-> 1723\u001B[0m     \u001B[38;5;28mself\u001B[39m\u001B[38;5;241m.\u001B[39m_object\u001B[38;5;241m.\u001B[39m_train(train_pool, test_pool, params, allow_clear_pool, init_model\u001B[38;5;241m.\u001B[39m_object \u001B[38;5;28;01mif\u001B[39;00m init_model \u001B[38;5;28;01melse\u001B[39;00m \u001B[38;5;28;01mNone\u001B[39;00m)\n\u001B[0;32m   1724\u001B[0m     \u001B[38;5;28mself\u001B[39m\u001B[38;5;241m.\u001B[39m_set_trained_model_attributes()\n",
      "File \u001B[1;32m_catboost.pyx:4645\u001B[0m, in \u001B[0;36m_catboost._CatBoost._train\u001B[1;34m()\u001B[0m\n",
      "File \u001B[1;32m_catboost.pyx:4694\u001B[0m, in \u001B[0;36m_catboost._CatBoost._train\u001B[1;34m()\u001B[0m\n",
      "\u001B[1;31mKeyboardInterrupt\u001B[0m: "
     ]
    }
   ],
   "source": [
    "loaded_model = CatBoostClassifier()\n",
    "loaded_model.load_model('../Files/cat_model.bin')\n",
    "loaded_model.fit(train_pool, eval_set=val_pool, verbose=2)"
   ],
   "metadata": {
    "collapsed": false
   },
   "id": "4e297e85715173c8",
   "execution_count": 64
  },
  {
   "cell_type": "code",
   "outputs": [],
   "source": [
    "cat_model = CatBoostClassifier(random_state=2024,\n",
    "                               n_estimators=1000,\n",
    "                               learning_rate=0.01,\n",
    "                               depth=15,\n",
    "                               l2_leaf_reg=3,\n",
    "                               metric_period=1000,\n",
    "                               task_type='GPU')\n",
    "\n",
    "\n",
    "\n",
    "cat_model.fit(X_train, y_train, cat_features=cat_features)\n",
    "print(\"CatBoost Accuracy:\", accuracy_score(y_test, cat_model.predict(X_test)))"
   ],
   "metadata": {
    "collapsed": false
   },
   "id": "843b17cb62308cc9"
  }
 ],
 "metadata": {
  "kernelspec": {
   "name": "python_311",
   "language": "python",
   "display_name": "conda"
  },
  "language_info": {
   "codemirror_mode": {
    "name": "ipython",
    "version": 2
   },
   "file_extension": ".py",
   "mimetype": "text/x-python",
   "name": "python",
   "nbconvert_exporter": "python",
   "pygments_lexer": "ipython2",
   "version": "2.7.6"
  }
 },
 "nbformat": 4,
 "nbformat_minor": 5
}
