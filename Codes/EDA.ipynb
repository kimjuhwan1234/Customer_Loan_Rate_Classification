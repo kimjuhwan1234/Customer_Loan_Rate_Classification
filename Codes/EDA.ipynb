{
 "cells": [
  {
   "cell_type": "code",
   "execution_count": 2,
   "id": "initial_id",
   "metadata": {
    "collapsed": true,
    "ExecuteTime": {
     "end_time": "2024-01-22T04:15:08.550366900Z",
     "start_time": "2024-01-22T04:15:08.439432400Z"
    }
   },
   "outputs": [],
   "source": [
    "from catboost import Pool\n",
    "from catboost import CatBoostClassifier\n",
    "from sklearn.metrics import accuracy_score\n",
    "from sklearn.model_selection import train_test_split\n",
    "\n",
    "import warnings\n",
    "import pandas as pd\n",
    "\n",
    "warnings.filterwarnings(\"ignore\")"
   ]
  },
  {
   "cell_type": "code",
   "outputs": [],
   "source": [
    "train = pd.read_csv('../Database/train_tried.csv', index_col='ID')\n",
    "X = train.drop(columns=['대출등급'])\n",
    "y = train['대출등급']\n"
   ],
   "metadata": {
    "collapsed": false,
    "ExecuteTime": {
     "end_time": "2024-01-22T04:15:09.702582600Z",
     "start_time": "2024-01-22T04:15:08.453679700Z"
    }
   },
   "id": "e96c5a159568ce9f",
   "execution_count": 3
  },
  {
   "cell_type": "code",
   "outputs": [
    {
     "data": {
      "text/plain": "                 대출금액      연간소득  부채_대비_소득_비율      총계좌수  최근_2년간_연체_횟수  \\\nID                                                                     \nTRAIN_00000 -0.563848 -0.220218    -0.014287 -0.852449     -0.376102   \nTRAIN_00001 -0.377964  0.370332     0.087890 -0.356109     -0.376102   \nTRAIN_00002 -0.610319  0.020823    -0.321114 -0.935172     -0.376102   \nTRAIN_00003 -0.377964  0.382384    -0.127783 -0.852449     -0.376102   \nTRAIN_00004 -0.029431 -0.222870     0.179044 -0.521556     -0.376102   \n...               ...       ...          ...       ...           ...   \nTRAIN_96289 -0.377964  1.165767    -0.299368  0.636570     -0.376102   \nTRAIN_96290  1.016166  0.382384    -0.423588 -0.025216     -0.376102   \nTRAIN_96291 -0.377964 -0.099698    -0.242471 -0.273386     -0.376102   \nTRAIN_96292 -0.261786 -0.277164    -0.061949 -0.356109      1.799906   \nTRAIN_96293 -0.935616 -0.437155    -0.225789 -0.935172     -0.376102   \n\n                총상환원금     총상환이자     총연체금액     연체계좌수        대출기간       근로기간  \\\nID                                                                           \nTRAIN_00000 -0.800303 -0.972784 -0.038438 -0.072595   36 months    6 years   \nTRAIN_00001 -0.436814 -0.441082 -0.038438 -0.072595   60 months  10+ years   \nTRAIN_00002  0.103276 -0.627621 -0.038438 -0.072595   36 months    5 years   \nTRAIN_00003 -0.483274 -0.624977 -0.038438 -0.072595   36 months    8 years   \nTRAIN_00004 -0.577932 -0.634409 -0.038438 -0.072595   60 months    Unknown   \n...               ...       ...       ...       ...         ...        ...   \nTRAIN_96289  0.147972  0.145249 -0.038438 -0.072595   36 months  10+ years   \nTRAIN_96290 -0.232331  0.969667 -0.038438 -0.072595   60 months  10+ years   \nTRAIN_96291  0.648632 -0.424781 -0.038438 -0.072595   36 months     1 year   \nTRAIN_96292  0.540861  0.885597 -0.038438 -0.072595   36 months    5 years   \nTRAIN_96293 -0.220246 -0.348181 -0.038438 -0.072595   36 months  10+ years   \n\n               주택소유상태   대출목적  \nID                            \nTRAIN_00000      RENT  부채 통합  \nTRAIN_00001  MORTGAGE  주택 개선  \nTRAIN_00002  MORTGAGE  부채 통합  \nTRAIN_00003  MORTGAGE  부채 통합  \nTRAIN_00004      RENT  주요 구매  \n...               ...    ...  \nTRAIN_96289  MORTGAGE  신용 카드  \nTRAIN_96290  MORTGAGE  주택 개선  \nTRAIN_96291  MORTGAGE  신용 카드  \nTRAIN_96292  MORTGAGE  부채 통합  \nTRAIN_96293      RENT  신용 카드  \n\n[96293 rows x 13 columns]",
      "text/html": "<div>\n<style scoped>\n    .dataframe tbody tr th:only-of-type {\n        vertical-align: middle;\n    }\n\n    .dataframe tbody tr th {\n        vertical-align: top;\n    }\n\n    .dataframe thead th {\n        text-align: right;\n    }\n</style>\n<table border=\"1\" class=\"dataframe\">\n  <thead>\n    <tr style=\"text-align: right;\">\n      <th></th>\n      <th>대출금액</th>\n      <th>연간소득</th>\n      <th>부채_대비_소득_비율</th>\n      <th>총계좌수</th>\n      <th>최근_2년간_연체_횟수</th>\n      <th>총상환원금</th>\n      <th>총상환이자</th>\n      <th>총연체금액</th>\n      <th>연체계좌수</th>\n      <th>대출기간</th>\n      <th>근로기간</th>\n      <th>주택소유상태</th>\n      <th>대출목적</th>\n    </tr>\n    <tr>\n      <th>ID</th>\n      <th></th>\n      <th></th>\n      <th></th>\n      <th></th>\n      <th></th>\n      <th></th>\n      <th></th>\n      <th></th>\n      <th></th>\n      <th></th>\n      <th></th>\n      <th></th>\n      <th></th>\n    </tr>\n  </thead>\n  <tbody>\n    <tr>\n      <th>TRAIN_00000</th>\n      <td>-0.563848</td>\n      <td>-0.220218</td>\n      <td>-0.014287</td>\n      <td>-0.852449</td>\n      <td>-0.376102</td>\n      <td>-0.800303</td>\n      <td>-0.972784</td>\n      <td>-0.038438</td>\n      <td>-0.072595</td>\n      <td>36 months</td>\n      <td>6 years</td>\n      <td>RENT</td>\n      <td>부채 통합</td>\n    </tr>\n    <tr>\n      <th>TRAIN_00001</th>\n      <td>-0.377964</td>\n      <td>0.370332</td>\n      <td>0.087890</td>\n      <td>-0.356109</td>\n      <td>-0.376102</td>\n      <td>-0.436814</td>\n      <td>-0.441082</td>\n      <td>-0.038438</td>\n      <td>-0.072595</td>\n      <td>60 months</td>\n      <td>10+ years</td>\n      <td>MORTGAGE</td>\n      <td>주택 개선</td>\n    </tr>\n    <tr>\n      <th>TRAIN_00002</th>\n      <td>-0.610319</td>\n      <td>0.020823</td>\n      <td>-0.321114</td>\n      <td>-0.935172</td>\n      <td>-0.376102</td>\n      <td>0.103276</td>\n      <td>-0.627621</td>\n      <td>-0.038438</td>\n      <td>-0.072595</td>\n      <td>36 months</td>\n      <td>5 years</td>\n      <td>MORTGAGE</td>\n      <td>부채 통합</td>\n    </tr>\n    <tr>\n      <th>TRAIN_00003</th>\n      <td>-0.377964</td>\n      <td>0.382384</td>\n      <td>-0.127783</td>\n      <td>-0.852449</td>\n      <td>-0.376102</td>\n      <td>-0.483274</td>\n      <td>-0.624977</td>\n      <td>-0.038438</td>\n      <td>-0.072595</td>\n      <td>36 months</td>\n      <td>8 years</td>\n      <td>MORTGAGE</td>\n      <td>부채 통합</td>\n    </tr>\n    <tr>\n      <th>TRAIN_00004</th>\n      <td>-0.029431</td>\n      <td>-0.222870</td>\n      <td>0.179044</td>\n      <td>-0.521556</td>\n      <td>-0.376102</td>\n      <td>-0.577932</td>\n      <td>-0.634409</td>\n      <td>-0.038438</td>\n      <td>-0.072595</td>\n      <td>60 months</td>\n      <td>Unknown</td>\n      <td>RENT</td>\n      <td>주요 구매</td>\n    </tr>\n    <tr>\n      <th>...</th>\n      <td>...</td>\n      <td>...</td>\n      <td>...</td>\n      <td>...</td>\n      <td>...</td>\n      <td>...</td>\n      <td>...</td>\n      <td>...</td>\n      <td>...</td>\n      <td>...</td>\n      <td>...</td>\n      <td>...</td>\n      <td>...</td>\n    </tr>\n    <tr>\n      <th>TRAIN_96289</th>\n      <td>-0.377964</td>\n      <td>1.165767</td>\n      <td>-0.299368</td>\n      <td>0.636570</td>\n      <td>-0.376102</td>\n      <td>0.147972</td>\n      <td>0.145249</td>\n      <td>-0.038438</td>\n      <td>-0.072595</td>\n      <td>36 months</td>\n      <td>10+ years</td>\n      <td>MORTGAGE</td>\n      <td>신용 카드</td>\n    </tr>\n    <tr>\n      <th>TRAIN_96290</th>\n      <td>1.016166</td>\n      <td>0.382384</td>\n      <td>-0.423588</td>\n      <td>-0.025216</td>\n      <td>-0.376102</td>\n      <td>-0.232331</td>\n      <td>0.969667</td>\n      <td>-0.038438</td>\n      <td>-0.072595</td>\n      <td>60 months</td>\n      <td>10+ years</td>\n      <td>MORTGAGE</td>\n      <td>주택 개선</td>\n    </tr>\n    <tr>\n      <th>TRAIN_96291</th>\n      <td>-0.377964</td>\n      <td>-0.099698</td>\n      <td>-0.242471</td>\n      <td>-0.273386</td>\n      <td>-0.376102</td>\n      <td>0.648632</td>\n      <td>-0.424781</td>\n      <td>-0.038438</td>\n      <td>-0.072595</td>\n      <td>36 months</td>\n      <td>1 year</td>\n      <td>MORTGAGE</td>\n      <td>신용 카드</td>\n    </tr>\n    <tr>\n      <th>TRAIN_96292</th>\n      <td>-0.261786</td>\n      <td>-0.277164</td>\n      <td>-0.061949</td>\n      <td>-0.356109</td>\n      <td>1.799906</td>\n      <td>0.540861</td>\n      <td>0.885597</td>\n      <td>-0.038438</td>\n      <td>-0.072595</td>\n      <td>36 months</td>\n      <td>5 years</td>\n      <td>MORTGAGE</td>\n      <td>부채 통합</td>\n    </tr>\n    <tr>\n      <th>TRAIN_96293</th>\n      <td>-0.935616</td>\n      <td>-0.437155</td>\n      <td>-0.225789</td>\n      <td>-0.935172</td>\n      <td>-0.376102</td>\n      <td>-0.220246</td>\n      <td>-0.348181</td>\n      <td>-0.038438</td>\n      <td>-0.072595</td>\n      <td>36 months</td>\n      <td>10+ years</td>\n      <td>RENT</td>\n      <td>신용 카드</td>\n    </tr>\n  </tbody>\n</table>\n<p>96293 rows × 13 columns</p>\n</div>"
     },
     "execution_count": 4,
     "metadata": {},
     "output_type": "execute_result"
    }
   ],
   "source": [
    "X"
   ],
   "metadata": {
    "collapsed": false,
    "ExecuteTime": {
     "end_time": "2024-01-22T04:15:15.890957500Z",
     "start_time": "2024-01-22T04:15:15.860369600Z"
    }
   },
   "id": "dacd7c144db6161b",
   "execution_count": 4
  },
  {
   "cell_type": "code",
   "outputs": [],
   "source": [
    "X_train, X_test, y_train, y_test = train_test_split(X, y, test_size=0.2, random_state=42)\n",
    "cat_features=[i for i in range(9,13)]\n",
    "\n",
    "train_pool = Pool(data=X_train, label=y_train, cat_features=cat_features)\n",
    "val_pool = Pool(data=X_test, label=y_test, cat_features=cat_features)"
   ],
   "metadata": {
    "collapsed": false,
    "ExecuteTime": {
     "end_time": "2024-01-22T04:15:49.686580800Z",
     "start_time": "2024-01-22T04:15:49.003198100Z"
    }
   },
   "id": "ca0e4b3a40e160e",
   "execution_count": 5
  },
  {
   "cell_type": "code",
   "outputs": [
    {
     "name": "stdout",
     "output_type": "stream",
     "text": [
      "0:\tlearn: 0.6382198\ttest: 0.6382447\tbest: 0.6382447 (0)\ttotal: 6.38s\tremaining: 1h 46m 16s\n",
      "2:\tlearn: 0.5521194\ttest: 0.5521258\tbest: 0.5521258 (2)\ttotal: 20.8s\tremaining: 1h 55m 16s\n",
      "4:\tlearn: 0.4852361\ttest: 0.4852266\tbest: 0.4852266 (4)\ttotal: 38.4s\tremaining: 2h 7m 24s\n",
      "6:\tlearn: 0.4446338\ttest: 0.4446620\tbest: 0.4446620 (6)\ttotal: 39.9s\tremaining: 1h 34m 23s\n"
     ]
    },
    {
     "name": "stderr",
     "output_type": "stream",
     "text": [
      "\n",
      "KeyboardInterrupt\n",
      "\n"
     ]
    }
   ],
   "source": [
    "cat_model = CatBoostClassifier(\n",
    "    iterations=1000,\n",
    "    learning_rate=0.1,\n",
    "    depth = 10,\n",
    "    l2_leaf_reg=2,\n",
    "    task_type = 'CPU',\n",
    "    loss_function = 'MultiClassOneVsAll',\n",
    "    boosting_type = 'Ordered'\n",
    ")\n",
    "cat_model.fit(train_pool, eval_set=val_pool, verbose=2)"
   ],
   "metadata": {
    "collapsed": false,
    "ExecuteTime": {
     "end_time": "2024-01-22T04:16:42.041695500Z",
     "start_time": "2024-01-22T04:15:55.696639200Z"
    }
   },
   "id": "c8e54652861a7884",
   "execution_count": 6
  },
  {
   "cell_type": "code",
   "outputs": [
    {
     "name": "stdout",
     "output_type": "stream",
     "text": [
      "CatBoost Accuracy: 0.8583519393530298\n"
     ]
    }
   ],
   "source": [
    "print(\"CatBoost Accuracy:\", accuracy_score(y_test, cat_model.predict(X_test)))"
   ],
   "metadata": {
    "collapsed": false,
    "ExecuteTime": {
     "end_time": "2024-01-21T11:14:23.746864800Z",
     "start_time": "2024-01-21T11:14:19.120247500Z"
    }
   },
   "id": "4c108ea8c9b915c6",
   "execution_count": 62
  },
  {
   "cell_type": "code",
   "outputs": [],
   "source": [
    "cat_model.save_model('../Files/cat_model.bin')"
   ],
   "metadata": {
    "collapsed": false,
    "ExecuteTime": {
     "end_time": "2024-01-21T13:09:24.820218500Z",
     "start_time": "2024-01-21T13:09:24.814215900Z"
    }
   },
   "id": "f7260762ae1c5a85",
   "execution_count": 63
  },
  {
   "cell_type": "code",
   "outputs": [
    {
     "name": "stdout",
     "output_type": "stream",
     "text": [
      "0:\tlearn: 0.6366766\ttest: 0.6366857\tbest: 0.6366857 (0)\ttotal: 5.5s\tremaining: 1h 31m 38s\n",
      "2:\tlearn: 0.5483135\ttest: 0.5483425\tbest: 0.5483425 (2)\ttotal: 7.65s\tremaining: 42m 22s\n",
      "4:\tlearn: 0.4873472\ttest: 0.4873972\tbest: 0.4873972 (4)\ttotal: 9.88s\tremaining: 32m 46s\n",
      "6:\tlearn: 0.4358618\ttest: 0.4359404\tbest: 0.4359404 (6)\ttotal: 13.4s\tremaining: 31m 36s\n",
      "8:\tlearn: 0.3951242\ttest: 0.3952551\tbest: 0.3952551 (8)\ttotal: 16.9s\tremaining: 30m 58s\n",
      "10:\tlearn: 0.3655918\ttest: 0.3658047\tbest: 0.3658047 (10)\ttotal: 20.2s\tremaining: 30m 15s\n",
      "12:\tlearn: 0.3404294\ttest: 0.3407176\tbest: 0.3407176 (12)\ttotal: 23.6s\tremaining: 29m 55s\n",
      "14:\tlearn: 0.3191448\ttest: 0.3195833\tbest: 0.3195833 (14)\ttotal: 27.3s\tremaining: 29m 52s\n",
      "16:\tlearn: 0.2999630\ttest: 0.3004349\tbest: 0.3004349 (16)\ttotal: 30.9s\tremaining: 29m 43s\n",
      "18:\tlearn: 0.2857266\ttest: 0.2863691\tbest: 0.2863691 (18)\ttotal: 34.3s\tremaining: 29m 30s\n"
     ]
    },
    {
     "ename": "KeyboardInterrupt",
     "evalue": "",
     "output_type": "error",
     "traceback": [
      "\u001B[1;31m---------------------------------------------------------------------------\u001B[0m",
      "\u001B[1;31mKeyboardInterrupt\u001B[0m                         Traceback (most recent call last)",
      "Cell \u001B[1;32mIn[64], line 3\u001B[0m\n\u001B[0;32m      1\u001B[0m loaded_model \u001B[38;5;241m=\u001B[39m CatBoostClassifier()\n\u001B[0;32m      2\u001B[0m loaded_model\u001B[38;5;241m.\u001B[39mload_model(\u001B[38;5;124m'\u001B[39m\u001B[38;5;124m../Files/cat_model.bin\u001B[39m\u001B[38;5;124m'\u001B[39m)\n\u001B[1;32m----> 3\u001B[0m loaded_model\u001B[38;5;241m.\u001B[39mfit(train_pool, eval_set\u001B[38;5;241m=\u001B[39mval_pool, verbose\u001B[38;5;241m=\u001B[39m\u001B[38;5;241m2\u001B[39m)\n",
      "File \u001B[1;32m~\\anaconda3\\envs\\python_311\\Lib\\site-packages\\catboost\\core.py:5100\u001B[0m, in \u001B[0;36mCatBoostClassifier.fit\u001B[1;34m(self, X, y, cat_features, text_features, embedding_features, sample_weight, baseline, use_best_model, eval_set, verbose, logging_level, plot, plot_file, column_description, verbose_eval, metric_period, silent, early_stopping_rounds, save_snapshot, snapshot_file, snapshot_interval, init_model, callbacks, log_cout, log_cerr)\u001B[0m\n\u001B[0;32m   5097\u001B[0m \u001B[38;5;28;01mif\u001B[39;00m \u001B[38;5;124m'\u001B[39m\u001B[38;5;124mloss_function\u001B[39m\u001B[38;5;124m'\u001B[39m \u001B[38;5;129;01min\u001B[39;00m params:\n\u001B[0;32m   5098\u001B[0m     CatBoostClassifier\u001B[38;5;241m.\u001B[39m_check_is_compatible_loss(params[\u001B[38;5;124m'\u001B[39m\u001B[38;5;124mloss_function\u001B[39m\u001B[38;5;124m'\u001B[39m])\n\u001B[1;32m-> 5100\u001B[0m \u001B[38;5;28mself\u001B[39m\u001B[38;5;241m.\u001B[39m_fit(X, y, cat_features, text_features, embedding_features, \u001B[38;5;28;01mNone\u001B[39;00m, sample_weight, \u001B[38;5;28;01mNone\u001B[39;00m, \u001B[38;5;28;01mNone\u001B[39;00m, \u001B[38;5;28;01mNone\u001B[39;00m, \u001B[38;5;28;01mNone\u001B[39;00m, baseline, use_best_model,\n\u001B[0;32m   5101\u001B[0m           eval_set, verbose, logging_level, plot, plot_file, column_description, verbose_eval, metric_period,\n\u001B[0;32m   5102\u001B[0m           silent, early_stopping_rounds, save_snapshot, snapshot_file, snapshot_interval, init_model, callbacks, log_cout, log_cerr)\n\u001B[0;32m   5103\u001B[0m \u001B[38;5;28;01mreturn\u001B[39;00m \u001B[38;5;28mself\u001B[39m\n",
      "File \u001B[1;32m~\\anaconda3\\envs\\python_311\\Lib\\site-packages\\catboost\\core.py:2319\u001B[0m, in \u001B[0;36mCatBoost._fit\u001B[1;34m(self, X, y, cat_features, text_features, embedding_features, pairs, sample_weight, group_id, group_weight, subgroup_id, pairs_weight, baseline, use_best_model, eval_set, verbose, logging_level, plot, plot_file, column_description, verbose_eval, metric_period, silent, early_stopping_rounds, save_snapshot, snapshot_file, snapshot_interval, init_model, callbacks, log_cout, log_cerr)\u001B[0m\n\u001B[0;32m   2315\u001B[0m allow_clear_pool \u001B[38;5;241m=\u001B[39m train_params[\u001B[38;5;124m\"\u001B[39m\u001B[38;5;124mallow_clear_pool\u001B[39m\u001B[38;5;124m\"\u001B[39m]\n\u001B[0;32m   2317\u001B[0m \u001B[38;5;28;01mwith\u001B[39;00m log_fixup(log_cout, log_cerr), \\\n\u001B[0;32m   2318\u001B[0m     plot_wrapper(plot, plot_file, \u001B[38;5;124m'\u001B[39m\u001B[38;5;124mTraining plots\u001B[39m\u001B[38;5;124m'\u001B[39m, [_get_train_dir(\u001B[38;5;28mself\u001B[39m\u001B[38;5;241m.\u001B[39mget_params())]):\n\u001B[1;32m-> 2319\u001B[0m     \u001B[38;5;28mself\u001B[39m\u001B[38;5;241m.\u001B[39m_train(\n\u001B[0;32m   2320\u001B[0m         train_pool,\n\u001B[0;32m   2321\u001B[0m         train_params[\u001B[38;5;124m\"\u001B[39m\u001B[38;5;124meval_sets\u001B[39m\u001B[38;5;124m\"\u001B[39m],\n\u001B[0;32m   2322\u001B[0m         params,\n\u001B[0;32m   2323\u001B[0m         allow_clear_pool,\n\u001B[0;32m   2324\u001B[0m         train_params[\u001B[38;5;124m\"\u001B[39m\u001B[38;5;124minit_model\u001B[39m\u001B[38;5;124m\"\u001B[39m]\n\u001B[0;32m   2325\u001B[0m     )\n\u001B[0;32m   2327\u001B[0m \u001B[38;5;66;03m# Have property feature_importance possibly set\u001B[39;00m\n\u001B[0;32m   2328\u001B[0m loss \u001B[38;5;241m=\u001B[39m \u001B[38;5;28mself\u001B[39m\u001B[38;5;241m.\u001B[39m_object\u001B[38;5;241m.\u001B[39m_get_loss_function_name()\n",
      "File \u001B[1;32m~\\anaconda3\\envs\\python_311\\Lib\\site-packages\\catboost\\core.py:1723\u001B[0m, in \u001B[0;36m_CatBoostBase._train\u001B[1;34m(self, train_pool, test_pool, params, allow_clear_pool, init_model)\u001B[0m\n\u001B[0;32m   1722\u001B[0m \u001B[38;5;28;01mdef\u001B[39;00m \u001B[38;5;21m_train\u001B[39m(\u001B[38;5;28mself\u001B[39m, train_pool, test_pool, params, allow_clear_pool, init_model):\n\u001B[1;32m-> 1723\u001B[0m     \u001B[38;5;28mself\u001B[39m\u001B[38;5;241m.\u001B[39m_object\u001B[38;5;241m.\u001B[39m_train(train_pool, test_pool, params, allow_clear_pool, init_model\u001B[38;5;241m.\u001B[39m_object \u001B[38;5;28;01mif\u001B[39;00m init_model \u001B[38;5;28;01melse\u001B[39;00m \u001B[38;5;28;01mNone\u001B[39;00m)\n\u001B[0;32m   1724\u001B[0m     \u001B[38;5;28mself\u001B[39m\u001B[38;5;241m.\u001B[39m_set_trained_model_attributes()\n",
      "File \u001B[1;32m_catboost.pyx:4645\u001B[0m, in \u001B[0;36m_catboost._CatBoost._train\u001B[1;34m()\u001B[0m\n",
      "File \u001B[1;32m_catboost.pyx:4694\u001B[0m, in \u001B[0;36m_catboost._CatBoost._train\u001B[1;34m()\u001B[0m\n",
      "\u001B[1;31mKeyboardInterrupt\u001B[0m: "
     ]
    }
   ],
   "source": [
    "loaded_model = CatBoostClassifier()\n",
    "loaded_model.load_model('../Files/cat_model.bin')\n",
    "loaded_model.fit(train_pool, eval_set=val_pool, verbose=2)"
   ],
   "metadata": {
    "collapsed": false
   },
   "id": "4e297e85715173c8",
   "execution_count": 64
  },
  {
   "cell_type": "code",
   "outputs": [],
   "source": [
    "cat_model = CatBoostClassifier(random_state=2024,\n",
    "                               n_estimators=1000,\n",
    "                               learning_rate=0.01,\n",
    "                               depth=15,\n",
    "                               l2_leaf_reg=3,\n",
    "                               metric_period=1000,\n",
    "                               task_type='GPU')\n",
    "\n",
    "\n",
    "\n",
    "cat_model.fit(X_train, y_train, cat_features=cat_features)\n",
    "print(\"CatBoost Accuracy:\", accuracy_score(y_test, cat_model.predict(X_test)))"
   ],
   "metadata": {
    "collapsed": false
   },
   "id": "843b17cb62308cc9"
  }
 ],
 "metadata": {
  "kernelspec": {
   "name": "python3",
   "language": "python",
   "display_name": "Python 3 (ipykernel)"
  },
  "language_info": {
   "codemirror_mode": {
    "name": "ipython",
    "version": 2
   },
   "file_extension": ".py",
   "mimetype": "text/x-python",
   "name": "python",
   "nbconvert_exporter": "python",
   "pygments_lexer": "ipython2",
   "version": "2.7.6"
  }
 },
 "nbformat": 4,
 "nbformat_minor": 5
}
