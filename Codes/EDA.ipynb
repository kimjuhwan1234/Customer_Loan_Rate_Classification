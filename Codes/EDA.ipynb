{
 "cells": [
  {
   "cell_type": "code",
   "execution_count": 1,
   "id": "initial_id",
   "metadata": {
    "collapsed": true,
    "ExecuteTime": {
     "end_time": "2024-01-24T08:11:34.633445500Z",
     "start_time": "2024-01-24T08:11:33.350560Z"
    }
   },
   "outputs": [],
   "source": [
    "from catboost import Pool\n",
    "from catboost import CatBoostClassifier\n",
    "from sklearn.metrics import accuracy_score\n",
    "from sklearn.model_selection import train_test_split\n",
    "\n",
    "import joblib\n",
    "import warnings\n",
    "import pandas as pd\n",
    "\n",
    "warnings.filterwarnings(\"ignore\")"
   ]
  },
  {
   "cell_type": "code",
   "outputs": [],
   "source": [
    "train = pd.read_csv('../Database/train_modified2.csv', index_col='ID')\n",
    "X = train.drop(columns=['대출등급'])\n",
    "y = train['대출등급']"
   ],
   "metadata": {
    "collapsed": false,
    "ExecuteTime": {
     "end_time": "2024-01-24T08:11:34.866638600Z",
     "start_time": "2024-01-24T08:11:34.636446Z"
    }
   },
   "id": "e96c5a159568ce9f",
   "execution_count": 2
  },
  {
   "cell_type": "code",
   "outputs": [
    {
     "data": {
      "text/plain": "                 대출금액      연간소득  부채_대비_소득_비율      총계좌수  최근_2년간_연체_횟수  \\\nID                                                                     \nTRAIN_00000 -0.563864 -0.220228    -0.039061 -0.852450     -0.376088   \nTRAIN_00001 -0.377979  0.370322     0.317312 -0.356112     -0.376088   \nTRAIN_00002 -0.610335  0.020813    -1.109217 -0.935172     -0.376088   \nTRAIN_00003 -0.377979  0.382374    -0.434915 -0.852450     -0.376088   \nTRAIN_00004 -0.029446 -0.222879     0.635242 -0.521558     -0.376088   \n...               ...       ...          ...       ...           ...   \nTRAIN_96289 -0.377979  1.165756    -1.033371  0.636562     -0.376088   \nTRAIN_96290  1.016156  0.382374    -1.466629 -0.025221     -0.376088   \nTRAIN_96291 -0.377979 -0.099707    -0.834925 -0.273389     -0.376088   \nTRAIN_96292 -0.261801 -0.277174    -0.205299 -0.356112      1.799946   \nTRAIN_96293 -0.935634 -0.437164    -0.776742 -0.935172     -0.376088   \n\n                총상환원금     총상환이자     총연체금액     연체계좌수  대출기간  근로기간  주택소유상태  대출목적  \nID                                                                             \nTRAIN_00000 -0.800307 -0.972790 -0.038438 -0.072596     0     9       3     1  \nTRAIN_00001 -0.436819 -0.441089 -0.038438 -0.072596     1     2       1    10  \nTRAIN_00002  0.103269 -0.627628 -0.038438 -0.072596     0     8       1     1  \nTRAIN_00003 -0.483278 -0.624984 -0.038438 -0.072596     0    11       1     1  \nTRAIN_00004 -0.577936 -0.634415 -0.038438 -0.072596     1    15       3     8  \n...               ...       ...       ...       ...   ...   ...     ...   ...  \nTRAIN_96289  0.147965  0.145240 -0.038438 -0.072596     0     2       1     3  \nTRAIN_96290 -0.232336  0.969657 -0.038438 -0.072596     1     2       1    10  \nTRAIN_96291  0.648623 -0.424788 -0.038438 -0.072596     0     0       1     3  \nTRAIN_96292  0.540853  0.885587 -0.038438 -0.072596     0     8       1     1  \nTRAIN_96293 -0.220251 -0.348188 -0.038438 -0.072596     0     2       3     3  \n\n[96293 rows x 13 columns]",
      "text/html": "<div>\n<style scoped>\n    .dataframe tbody tr th:only-of-type {\n        vertical-align: middle;\n    }\n\n    .dataframe tbody tr th {\n        vertical-align: top;\n    }\n\n    .dataframe thead th {\n        text-align: right;\n    }\n</style>\n<table border=\"1\" class=\"dataframe\">\n  <thead>\n    <tr style=\"text-align: right;\">\n      <th></th>\n      <th>대출금액</th>\n      <th>연간소득</th>\n      <th>부채_대비_소득_비율</th>\n      <th>총계좌수</th>\n      <th>최근_2년간_연체_횟수</th>\n      <th>총상환원금</th>\n      <th>총상환이자</th>\n      <th>총연체금액</th>\n      <th>연체계좌수</th>\n      <th>대출기간</th>\n      <th>근로기간</th>\n      <th>주택소유상태</th>\n      <th>대출목적</th>\n    </tr>\n    <tr>\n      <th>ID</th>\n      <th></th>\n      <th></th>\n      <th></th>\n      <th></th>\n      <th></th>\n      <th></th>\n      <th></th>\n      <th></th>\n      <th></th>\n      <th></th>\n      <th></th>\n      <th></th>\n      <th></th>\n    </tr>\n  </thead>\n  <tbody>\n    <tr>\n      <th>TRAIN_00000</th>\n      <td>-0.563864</td>\n      <td>-0.220228</td>\n      <td>-0.039061</td>\n      <td>-0.852450</td>\n      <td>-0.376088</td>\n      <td>-0.800307</td>\n      <td>-0.972790</td>\n      <td>-0.038438</td>\n      <td>-0.072596</td>\n      <td>0</td>\n      <td>9</td>\n      <td>3</td>\n      <td>1</td>\n    </tr>\n    <tr>\n      <th>TRAIN_00001</th>\n      <td>-0.377979</td>\n      <td>0.370322</td>\n      <td>0.317312</td>\n      <td>-0.356112</td>\n      <td>-0.376088</td>\n      <td>-0.436819</td>\n      <td>-0.441089</td>\n      <td>-0.038438</td>\n      <td>-0.072596</td>\n      <td>1</td>\n      <td>2</td>\n      <td>1</td>\n      <td>10</td>\n    </tr>\n    <tr>\n      <th>TRAIN_00002</th>\n      <td>-0.610335</td>\n      <td>0.020813</td>\n      <td>-1.109217</td>\n      <td>-0.935172</td>\n      <td>-0.376088</td>\n      <td>0.103269</td>\n      <td>-0.627628</td>\n      <td>-0.038438</td>\n      <td>-0.072596</td>\n      <td>0</td>\n      <td>8</td>\n      <td>1</td>\n      <td>1</td>\n    </tr>\n    <tr>\n      <th>TRAIN_00003</th>\n      <td>-0.377979</td>\n      <td>0.382374</td>\n      <td>-0.434915</td>\n      <td>-0.852450</td>\n      <td>-0.376088</td>\n      <td>-0.483278</td>\n      <td>-0.624984</td>\n      <td>-0.038438</td>\n      <td>-0.072596</td>\n      <td>0</td>\n      <td>11</td>\n      <td>1</td>\n      <td>1</td>\n    </tr>\n    <tr>\n      <th>TRAIN_00004</th>\n      <td>-0.029446</td>\n      <td>-0.222879</td>\n      <td>0.635242</td>\n      <td>-0.521558</td>\n      <td>-0.376088</td>\n      <td>-0.577936</td>\n      <td>-0.634415</td>\n      <td>-0.038438</td>\n      <td>-0.072596</td>\n      <td>1</td>\n      <td>15</td>\n      <td>3</td>\n      <td>8</td>\n    </tr>\n    <tr>\n      <th>...</th>\n      <td>...</td>\n      <td>...</td>\n      <td>...</td>\n      <td>...</td>\n      <td>...</td>\n      <td>...</td>\n      <td>...</td>\n      <td>...</td>\n      <td>...</td>\n      <td>...</td>\n      <td>...</td>\n      <td>...</td>\n      <td>...</td>\n    </tr>\n    <tr>\n      <th>TRAIN_96289</th>\n      <td>-0.377979</td>\n      <td>1.165756</td>\n      <td>-1.033371</td>\n      <td>0.636562</td>\n      <td>-0.376088</td>\n      <td>0.147965</td>\n      <td>0.145240</td>\n      <td>-0.038438</td>\n      <td>-0.072596</td>\n      <td>0</td>\n      <td>2</td>\n      <td>1</td>\n      <td>3</td>\n    </tr>\n    <tr>\n      <th>TRAIN_96290</th>\n      <td>1.016156</td>\n      <td>0.382374</td>\n      <td>-1.466629</td>\n      <td>-0.025221</td>\n      <td>-0.376088</td>\n      <td>-0.232336</td>\n      <td>0.969657</td>\n      <td>-0.038438</td>\n      <td>-0.072596</td>\n      <td>1</td>\n      <td>2</td>\n      <td>1</td>\n      <td>10</td>\n    </tr>\n    <tr>\n      <th>TRAIN_96291</th>\n      <td>-0.377979</td>\n      <td>-0.099707</td>\n      <td>-0.834925</td>\n      <td>-0.273389</td>\n      <td>-0.376088</td>\n      <td>0.648623</td>\n      <td>-0.424788</td>\n      <td>-0.038438</td>\n      <td>-0.072596</td>\n      <td>0</td>\n      <td>0</td>\n      <td>1</td>\n      <td>3</td>\n    </tr>\n    <tr>\n      <th>TRAIN_96292</th>\n      <td>-0.261801</td>\n      <td>-0.277174</td>\n      <td>-0.205299</td>\n      <td>-0.356112</td>\n      <td>1.799946</td>\n      <td>0.540853</td>\n      <td>0.885587</td>\n      <td>-0.038438</td>\n      <td>-0.072596</td>\n      <td>0</td>\n      <td>8</td>\n      <td>1</td>\n      <td>1</td>\n    </tr>\n    <tr>\n      <th>TRAIN_96293</th>\n      <td>-0.935634</td>\n      <td>-0.437164</td>\n      <td>-0.776742</td>\n      <td>-0.935172</td>\n      <td>-0.376088</td>\n      <td>-0.220251</td>\n      <td>-0.348188</td>\n      <td>-0.038438</td>\n      <td>-0.072596</td>\n      <td>0</td>\n      <td>2</td>\n      <td>3</td>\n      <td>3</td>\n    </tr>\n  </tbody>\n</table>\n<p>96293 rows × 13 columns</p>\n</div>"
     },
     "execution_count": 3,
     "metadata": {},
     "output_type": "execute_result"
    }
   ],
   "source": [
    "X"
   ],
   "metadata": {
    "collapsed": false,
    "ExecuteTime": {
     "end_time": "2024-01-24T08:11:34.894499100Z",
     "start_time": "2024-01-24T08:11:34.869639300Z"
    }
   },
   "id": "dacd7c144db6161b",
   "execution_count": 3
  },
  {
   "cell_type": "code",
   "outputs": [],
   "source": [
    "X_train, X_test, y_train, y_test = train_test_split(X, y, test_size=0.1, random_state=42)\n",
    "cat_features=[i for i in range(9,13)]\n",
    "\n",
    "train_pool = Pool(data=X_train, label=y_train, cat_features=cat_features)\n",
    "val_pool = Pool(data=X_test, label=y_test, cat_features=cat_features)"
   ],
   "metadata": {
    "collapsed": false,
    "ExecuteTime": {
     "end_time": "2024-01-24T08:11:35.078086Z",
     "start_time": "2024-01-24T08:11:34.890498700Z"
    }
   },
   "id": "ca0e4b3a40e160e",
   "execution_count": 4
  },
  {
   "cell_type": "code",
   "outputs": [
    {
     "name": "stdout",
     "output_type": "stream",
     "text": [
      "<class 'catboost.core.CatBoostClassifier'>\n",
      "0:\tlearn: 1.7714094\ttest: 1.7732518\tbest: 1.7732518 (0)\ttotal: 7.71s\tremaining: 2h 8m 23s\n",
      "5:\tlearn: 1.3175666\ttest: 1.3189657\tbest: 1.3189657 (5)\ttotal: 26.5s\tremaining: 1h 13m 2s\n",
      "10:\tlearn: 1.1202928\ttest: 1.1225476\tbest: 1.1225476 (10)\ttotal: 41.6s\tremaining: 1h 2m 19s\n",
      "15:\tlearn: 1.0153005\ttest: 1.0181726\tbest: 1.0181726 (15)\ttotal: 56.1s\tremaining: 57m 29s\n",
      "20:\tlearn: 0.9281632\ttest: 0.9315305\tbest: 0.9315305 (20)\ttotal: 1m 16s\tremaining: 59m 16s\n",
      "25:\tlearn: 0.8659447\ttest: 0.8695244\tbest: 0.8695244 (25)\ttotal: 1m 30s\tremaining: 56m 12s\n",
      "30:\tlearn: 0.8239941\ttest: 0.8273793\tbest: 0.8273793 (30)\ttotal: 1m 42s\tremaining: 53m 26s\n",
      "35:\tlearn: 0.7844603\ttest: 0.7885585\tbest: 0.7885585 (35)\ttotal: 1m 57s\tremaining: 52m 32s\n",
      "40:\tlearn: 0.7529451\ttest: 0.7583060\tbest: 0.7583060 (40)\ttotal: 2m 11s\tremaining: 51m 26s\n",
      "45:\tlearn: 0.7247826\ttest: 0.7312525\tbest: 0.7312525 (45)\ttotal: 2m 25s\tremaining: 50m 27s\n",
      "50:\tlearn: 0.7031607\ttest: 0.7101363\tbest: 0.7101363 (50)\ttotal: 2m 40s\tremaining: 49m 47s\n",
      "55:\tlearn: 0.6832730\ttest: 0.6907650\tbest: 0.6907650 (55)\ttotal: 2m 52s\tremaining: 48m 28s\n",
      "60:\tlearn: 0.6685464\ttest: 0.6762799\tbest: 0.6762799 (60)\ttotal: 3m 5s\tremaining: 47m 38s\n",
      "65:\tlearn: 0.6551871\ttest: 0.6635827\tbest: 0.6635827 (65)\ttotal: 3m 16s\tremaining: 46m 15s\n",
      "70:\tlearn: 0.6467568\ttest: 0.6552997\tbest: 0.6552997 (70)\ttotal: 3m 25s\tremaining: 44m 48s\n",
      "75:\tlearn: 0.6363777\ttest: 0.6455218\tbest: 0.6455218 (75)\ttotal: 3m 35s\tremaining: 43m 35s\n",
      "80:\tlearn: 0.6333777\ttest: 0.6426772\tbest: 0.6426772 (80)\ttotal: 3m 39s\tremaining: 41m 34s\n",
      "85:\tlearn: 0.6292479\ttest: 0.6390198\tbest: 0.6390198 (85)\ttotal: 3m 46s\tremaining: 40m 6s\n",
      "90:\tlearn: 0.6232715\ttest: 0.6334543\tbest: 0.6334543 (90)\ttotal: 3m 55s\tremaining: 39m 13s\n",
      "95:\tlearn: 0.6142465\ttest: 0.6255329\tbest: 0.6255329 (95)\ttotal: 4m 7s\tremaining: 38m 47s\n",
      "100:\tlearn: 0.6072802\ttest: 0.6189325\tbest: 0.6189325 (100)\ttotal: 4m 16s\tremaining: 37m 59s\n",
      "105:\tlearn: 0.5980713\ttest: 0.6103066\tbest: 0.6103066 (105)\ttotal: 4m 27s\tremaining: 37m 35s\n",
      "110:\tlearn: 0.5933486\ttest: 0.6061502\tbest: 0.6061502 (110)\ttotal: 4m 36s\tremaining: 36m 56s\n",
      "115:\tlearn: 0.5819872\ttest: 0.5952539\tbest: 0.5952539 (115)\ttotal: 4m 49s\tremaining: 36m 43s\n",
      "120:\tlearn: 0.5717717\ttest: 0.5854019\tbest: 0.5854019 (120)\ttotal: 5m 1s\tremaining: 36m 31s\n",
      "125:\tlearn: 0.5624874\ttest: 0.5763033\tbest: 0.5763033 (125)\ttotal: 5m 14s\tremaining: 36m 19s\n",
      "130:\tlearn: 0.5549987\ttest: 0.5693101\tbest: 0.5693101 (130)\ttotal: 5m 26s\tremaining: 36m 7s\n",
      "135:\tlearn: 0.5480239\ttest: 0.5628877\tbest: 0.5628877 (135)\ttotal: 5m 39s\tremaining: 35m 58s\n",
      "140:\tlearn: 0.5407545\ttest: 0.5563938\tbest: 0.5563938 (140)\ttotal: 5m 52s\tremaining: 35m 48s\n",
      "145:\tlearn: 0.5364993\ttest: 0.5525857\tbest: 0.5525857 (145)\ttotal: 6m 5s\tremaining: 35m 37s\n",
      "150:\tlearn: 0.5305662\ttest: 0.5469113\tbest: 0.5469113 (150)\ttotal: 6m 17s\tremaining: 35m 24s\n",
      "155:\tlearn: 0.5249305\ttest: 0.5416983\tbest: 0.5416983 (155)\ttotal: 6m 30s\tremaining: 35m 14s\n",
      "160:\tlearn: 0.5220178\ttest: 0.5388614\tbest: 0.5388608 (159)\ttotal: 6m 42s\tremaining: 34m 59s\n",
      "165:\tlearn: 0.5174011\ttest: 0.5344471\tbest: 0.5344471 (165)\ttotal: 6m 55s\tremaining: 34m 47s\n",
      "170:\tlearn: 0.5123726\ttest: 0.5298700\tbest: 0.5298700 (170)\ttotal: 7m 8s\tremaining: 34m 36s\n",
      "175:\tlearn: 0.5072415\ttest: 0.5251215\tbest: 0.5251215 (175)\ttotal: 7m 20s\tremaining: 34m 24s\n",
      "180:\tlearn: 0.5024063\ttest: 0.5209203\tbest: 0.5209203 (180)\ttotal: 7m 33s\tremaining: 34m 13s\n",
      "185:\tlearn: 0.4974064\ttest: 0.5158975\tbest: 0.5158975 (185)\ttotal: 7m 46s\tremaining: 34m 3s\n",
      "190:\tlearn: 0.4939310\ttest: 0.5126880\tbest: 0.5126880 (190)\ttotal: 8m\tremaining: 33m 53s\n",
      "195:\tlearn: 0.4904421\ttest: 0.5094139\tbest: 0.5094139 (195)\ttotal: 8m 13s\tremaining: 33m 43s\n",
      "200:\tlearn: 0.4874912\ttest: 0.5068231\tbest: 0.5068231 (200)\ttotal: 8m 26s\tremaining: 33m 33s\n",
      "205:\tlearn: 0.4847041\ttest: 0.5040839\tbest: 0.5040839 (205)\ttotal: 8m 39s\tremaining: 33m 23s\n",
      "210:\tlearn: 0.4816569\ttest: 0.5013763\tbest: 0.5013763 (210)\ttotal: 8m 52s\tremaining: 33m 12s\n",
      "215:\tlearn: 0.4788693\ttest: 0.4990887\tbest: 0.4990887 (215)\ttotal: 9m 6s\tremaining: 33m 2s\n",
      "220:\tlearn: 0.4752356\ttest: 0.4957672\tbest: 0.4957672 (220)\ttotal: 9m 18s\tremaining: 32m 48s\n",
      "225:\tlearn: 0.4727971\ttest: 0.4937452\tbest: 0.4937452 (225)\ttotal: 9m 32s\tremaining: 32m 41s\n",
      "230:\tlearn: 0.4702817\ttest: 0.4915309\tbest: 0.4915309 (230)\ttotal: 9m 45s\tremaining: 32m 29s\n",
      "235:\tlearn: 0.4681270\ttest: 0.4897615\tbest: 0.4897615 (235)\ttotal: 9m 59s\tremaining: 32m 19s\n",
      "240:\tlearn: 0.4666632\ttest: 0.4885636\tbest: 0.4885636 (240)\ttotal: 10m 13s\tremaining: 32m 11s\n",
      "245:\tlearn: 0.4640667\ttest: 0.4863176\tbest: 0.4863176 (245)\ttotal: 10m 27s\tremaining: 32m 2s\n",
      "250:\tlearn: 0.4616373\ttest: 0.4844076\tbest: 0.4844076 (250)\ttotal: 10m 39s\tremaining: 31m 49s\n",
      "255:\tlearn: 0.4587980\ttest: 0.4818071\tbest: 0.4818071 (255)\ttotal: 10m 53s\tremaining: 31m 38s\n",
      "260:\tlearn: 0.4564085\ttest: 0.4795963\tbest: 0.4795963 (260)\ttotal: 11m 6s\tremaining: 31m 28s\n",
      "265:\tlearn: 0.4545427\ttest: 0.4780119\tbest: 0.4780119 (265)\ttotal: 11m 20s\tremaining: 31m 16s\n",
      "270:\tlearn: 0.4525944\ttest: 0.4762296\tbest: 0.4762296 (270)\ttotal: 11m 33s\tremaining: 31m 5s\n",
      "275:\tlearn: 0.4502997\ttest: 0.4742039\tbest: 0.4742039 (275)\ttotal: 11m 47s\tremaining: 30m 55s\n",
      "280:\tlearn: 0.4481584\ttest: 0.4726378\tbest: 0.4726378 (280)\ttotal: 12m\tremaining: 30m 42s\n",
      "285:\tlearn: 0.4461700\ttest: 0.4708469\tbest: 0.4708469 (285)\ttotal: 12m 13s\tremaining: 30m 31s\n",
      "290:\tlearn: 0.4438438\ttest: 0.4689298\tbest: 0.4689298 (290)\ttotal: 12m 27s\tremaining: 30m 21s\n",
      "295:\tlearn: 0.4419326\ttest: 0.4673959\tbest: 0.4673959 (295)\ttotal: 12m 41s\tremaining: 30m 11s\n",
      "300:\tlearn: 0.4403648\ttest: 0.4662131\tbest: 0.4662131 (300)\ttotal: 12m 56s\tremaining: 30m 4s\n",
      "305:\tlearn: 0.4391103\ttest: 0.4651663\tbest: 0.4651663 (305)\ttotal: 13m 11s\tremaining: 29m 55s\n",
      "310:\tlearn: 0.4377368\ttest: 0.4640952\tbest: 0.4640952 (310)\ttotal: 13m 26s\tremaining: 29m 45s\n",
      "315:\tlearn: 0.4352943\ttest: 0.4619582\tbest: 0.4619582 (315)\ttotal: 13m 39s\tremaining: 29m 33s\n",
      "320:\tlearn: 0.4329418\ttest: 0.4597323\tbest: 0.4597323 (320)\ttotal: 13m 52s\tremaining: 29m 20s\n",
      "325:\tlearn: 0.4314598\ttest: 0.4584615\tbest: 0.4584615 (325)\ttotal: 14m 5s\tremaining: 29m 7s\n",
      "330:\tlearn: 0.4299288\ttest: 0.4571912\tbest: 0.4571912 (330)\ttotal: 14m 18s\tremaining: 28m 55s\n",
      "335:\tlearn: 0.4289631\ttest: 0.4564832\tbest: 0.4564832 (335)\ttotal: 14m 33s\tremaining: 28m 45s\n",
      "340:\tlearn: 0.4276994\ttest: 0.4554887\tbest: 0.4554887 (340)\ttotal: 14m 44s\tremaining: 28m 29s\n",
      "345:\tlearn: 0.4261494\ttest: 0.4540831\tbest: 0.4540831 (345)\ttotal: 14m 57s\tremaining: 28m 16s\n",
      "350:\tlearn: 0.4240068\ttest: 0.4522505\tbest: 0.4522505 (350)\ttotal: 15m 9s\tremaining: 28m 1s\n",
      "355:\tlearn: 0.4221659\ttest: 0.4508752\tbest: 0.4508752 (355)\ttotal: 15m 21s\tremaining: 27m 47s\n",
      "360:\tlearn: 0.4203965\ttest: 0.4492865\tbest: 0.4492865 (360)\ttotal: 15m 34s\tremaining: 27m 33s\n",
      "365:\tlearn: 0.4189049\ttest: 0.4481327\tbest: 0.4481327 (365)\ttotal: 15m 47s\tremaining: 27m 21s\n",
      "370:\tlearn: 0.4180274\ttest: 0.4473428\tbest: 0.4473428 (370)\ttotal: 16m\tremaining: 27m 8s\n",
      "375:\tlearn: 0.4168898\ttest: 0.4464826\tbest: 0.4464823 (374)\ttotal: 16m 13s\tremaining: 26m 55s\n",
      "380:\tlearn: 0.4158076\ttest: 0.4457050\tbest: 0.4457050 (380)\ttotal: 16m 26s\tremaining: 26m 42s\n",
      "385:\tlearn: 0.4139819\ttest: 0.4439992\tbest: 0.4439992 (385)\ttotal: 16m 38s\tremaining: 26m 28s\n",
      "390:\tlearn: 0.4130057\ttest: 0.4432232\tbest: 0.4432232 (390)\ttotal: 16m 52s\tremaining: 26m 17s\n",
      "395:\tlearn: 0.4114505\ttest: 0.4422323\tbest: 0.4422323 (395)\ttotal: 17m 6s\tremaining: 26m 4s\n",
      "400:\tlearn: 0.4101672\ttest: 0.4411380\tbest: 0.4411380 (400)\ttotal: 17m 18s\tremaining: 25m 51s\n",
      "405:\tlearn: 0.4089236\ttest: 0.4403230\tbest: 0.4403230 (405)\ttotal: 17m 33s\tremaining: 25m 41s\n",
      "410:\tlearn: 0.4075851\ttest: 0.4395243\tbest: 0.4395243 (410)\ttotal: 17m 46s\tremaining: 25m 27s\n",
      "415:\tlearn: 0.4063317\ttest: 0.4385581\tbest: 0.4385581 (415)\ttotal: 18m\tremaining: 25m 16s\n",
      "420:\tlearn: 0.4052327\ttest: 0.4378024\tbest: 0.4378024 (420)\ttotal: 18m 13s\tremaining: 25m 4s\n",
      "425:\tlearn: 0.4039356\ttest: 0.4368065\tbest: 0.4368065 (425)\ttotal: 18m 28s\tremaining: 24m 53s\n",
      "430:\tlearn: 0.4026781\ttest: 0.4358984\tbest: 0.4358984 (430)\ttotal: 18m 41s\tremaining: 24m 40s\n",
      "435:\tlearn: 0.4017934\ttest: 0.4352743\tbest: 0.4352743 (435)\ttotal: 18m 54s\tremaining: 24m 27s\n",
      "440:\tlearn: 0.4010220\ttest: 0.4350212\tbest: 0.4349671 (438)\ttotal: 19m 9s\tremaining: 24m 17s\n",
      "445:\tlearn: 0.4000249\ttest: 0.4343466\tbest: 0.4343466 (445)\ttotal: 19m 24s\tremaining: 24m 6s\n",
      "450:\tlearn: 0.3992631\ttest: 0.4336510\tbest: 0.4336510 (450)\ttotal: 19m 37s\tremaining: 23m 53s\n",
      "455:\tlearn: 0.3981138\ttest: 0.4328181\tbest: 0.4328181 (455)\ttotal: 19m 50s\tremaining: 23m 40s\n",
      "460:\tlearn: 0.3971172\ttest: 0.4320877\tbest: 0.4320877 (460)\ttotal: 20m 4s\tremaining: 23m 28s\n",
      "465:\tlearn: 0.3957612\ttest: 0.4311398\tbest: 0.4311398 (465)\ttotal: 20m 18s\tremaining: 23m 16s\n",
      "470:\tlearn: 0.3944911\ttest: 0.4302256\tbest: 0.4302256 (470)\ttotal: 20m 30s\tremaining: 23m 2s\n",
      "475:\tlearn: 0.3931082\ttest: 0.4291659\tbest: 0.4291659 (475)\ttotal: 20m 43s\tremaining: 22m 48s\n",
      "480:\tlearn: 0.3925698\ttest: 0.4288725\tbest: 0.4288657 (479)\ttotal: 20m 58s\tremaining: 22m 37s\n",
      "485:\tlearn: 0.3918240\ttest: 0.4283201\tbest: 0.4283201 (485)\ttotal: 21m 12s\tremaining: 22m 25s\n",
      "490:\tlearn: 0.3910710\ttest: 0.4277146\tbest: 0.4277146 (490)\ttotal: 21m 27s\tremaining: 22m 14s\n",
      "495:\tlearn: 0.3903817\ttest: 0.4270998\tbest: 0.4270998 (495)\ttotal: 21m 41s\tremaining: 22m 2s\n",
      "500:\tlearn: 0.3895504\ttest: 0.4267920\tbest: 0.4267920 (500)\ttotal: 21m 57s\tremaining: 21m 52s\n",
      "505:\tlearn: 0.3886472\ttest: 0.4263575\tbest: 0.4263575 (505)\ttotal: 22m 12s\tremaining: 21m 41s\n",
      "510:\tlearn: 0.3876466\ttest: 0.4256135\tbest: 0.4256135 (510)\ttotal: 22m 26s\tremaining: 21m 28s\n",
      "515:\tlearn: 0.3868105\ttest: 0.4250011\tbest: 0.4250011 (515)\ttotal: 22m 40s\tremaining: 21m 16s\n",
      "520:\tlearn: 0.3858049\ttest: 0.4242731\tbest: 0.4242608 (519)\ttotal: 22m 55s\tremaining: 21m 4s\n",
      "525:\tlearn: 0.3847459\ttest: 0.4234879\tbest: 0.4234879 (525)\ttotal: 23m 8s\tremaining: 20m 51s\n",
      "530:\tlearn: 0.3834052\ttest: 0.4226216\tbest: 0.4226216 (530)\ttotal: 23m 21s\tremaining: 20m 37s\n",
      "535:\tlearn: 0.3823921\ttest: 0.4221091\tbest: 0.4221091 (535)\ttotal: 23m 35s\tremaining: 20m 25s\n",
      "540:\tlearn: 0.3813234\ttest: 0.4212738\tbest: 0.4212738 (540)\ttotal: 23m 48s\tremaining: 20m 12s\n",
      "545:\tlearn: 0.3806723\ttest: 0.4209615\tbest: 0.4209615 (545)\ttotal: 24m 1s\tremaining: 19m 58s\n",
      "550:\tlearn: 0.3796694\ttest: 0.4200414\tbest: 0.4200414 (550)\ttotal: 24m 15s\tremaining: 19m 45s\n",
      "555:\tlearn: 0.3788694\ttest: 0.4194417\tbest: 0.4194417 (555)\ttotal: 24m 28s\tremaining: 19m 32s\n",
      "560:\tlearn: 0.3782773\ttest: 0.4192124\tbest: 0.4192124 (560)\ttotal: 24m 44s\tremaining: 19m 21s\n",
      "565:\tlearn: 0.3772469\ttest: 0.4185284\tbest: 0.4185284 (565)\ttotal: 24m 56s\tremaining: 19m 7s\n",
      "570:\tlearn: 0.3760396\ttest: 0.4177049\tbest: 0.4177049 (570)\ttotal: 25m 9s\tremaining: 18m 53s\n",
      "575:\tlearn: 0.3748810\ttest: 0.4168921\tbest: 0.4168921 (575)\ttotal: 25m 23s\tremaining: 18m 41s\n",
      "580:\tlearn: 0.3744007\ttest: 0.4164431\tbest: 0.4164431 (580)\ttotal: 25m 38s\tremaining: 18m 29s\n",
      "585:\tlearn: 0.3734743\ttest: 0.4159498\tbest: 0.4159498 (585)\ttotal: 25m 51s\tremaining: 18m 16s\n",
      "590:\tlearn: 0.3725349\ttest: 0.4152639\tbest: 0.4152639 (590)\ttotal: 26m 5s\tremaining: 18m 3s\n",
      "595:\tlearn: 0.3716572\ttest: 0.4145643\tbest: 0.4145643 (595)\ttotal: 26m 18s\tremaining: 17m 50s\n",
      "600:\tlearn: 0.3708121\ttest: 0.4140271\tbest: 0.4140271 (600)\ttotal: 26m 33s\tremaining: 17m 38s\n",
      "605:\tlearn: 0.3700255\ttest: 0.4136185\tbest: 0.4136185 (605)\ttotal: 26m 48s\tremaining: 17m 25s\n",
      "610:\tlearn: 0.3692500\ttest: 0.4129854\tbest: 0.4129854 (610)\ttotal: 27m 2s\tremaining: 17m 12s\n",
      "615:\tlearn: 0.3681311\ttest: 0.4120960\tbest: 0.4120960 (615)\ttotal: 27m 16s\tremaining: 16m 59s\n",
      "620:\tlearn: 0.3672979\ttest: 0.4116768\tbest: 0.4116768 (620)\ttotal: 27m 29s\tremaining: 16m 46s\n",
      "625:\tlearn: 0.3668219\ttest: 0.4113988\tbest: 0.4113988 (625)\ttotal: 27m 43s\tremaining: 16m 33s\n",
      "630:\tlearn: 0.3659571\ttest: 0.4107184\tbest: 0.4107184 (630)\ttotal: 27m 56s\tremaining: 16m 20s\n",
      "635:\tlearn: 0.3652564\ttest: 0.4103935\tbest: 0.4103935 (635)\ttotal: 28m 9s\tremaining: 16m 7s\n",
      "640:\tlearn: 0.3646599\ttest: 0.4099192\tbest: 0.4099192 (640)\ttotal: 28m 22s\tremaining: 15m 53s\n",
      "645:\tlearn: 0.3636376\ttest: 0.4090999\tbest: 0.4090999 (645)\ttotal: 28m 34s\tremaining: 15m 39s\n",
      "650:\tlearn: 0.3629292\ttest: 0.4086276\tbest: 0.4086276 (650)\ttotal: 28m 48s\tremaining: 15m 26s\n",
      "655:\tlearn: 0.3622667\ttest: 0.4083832\tbest: 0.4083653 (654)\ttotal: 29m 2s\tremaining: 15m 13s\n",
      "660:\tlearn: 0.3617088\ttest: 0.4081774\tbest: 0.4081774 (660)\ttotal: 29m 18s\tremaining: 15m 1s\n",
      "665:\tlearn: 0.3608620\ttest: 0.4075467\tbest: 0.4075467 (665)\ttotal: 29m 31s\tremaining: 14m 48s\n",
      "670:\tlearn: 0.3603923\ttest: 0.4072739\tbest: 0.4072739 (669)\ttotal: 29m 46s\tremaining: 14m 35s\n",
      "675:\tlearn: 0.3597026\ttest: 0.4067155\tbest: 0.4067150 (674)\ttotal: 29m 59s\tremaining: 14m 22s\n",
      "680:\tlearn: 0.3590507\ttest: 0.4062358\tbest: 0.4062358 (680)\ttotal: 30m 12s\tremaining: 14m 8s\n",
      "685:\tlearn: 0.3583861\ttest: 0.4058206\tbest: 0.4058206 (685)\ttotal: 30m 25s\tremaining: 13m 55s\n",
      "690:\tlearn: 0.3578603\ttest: 0.4055326\tbest: 0.4055326 (690)\ttotal: 30m 40s\tremaining: 13m 43s\n",
      "695:\tlearn: 0.3568790\ttest: 0.4049865\tbest: 0.4049865 (695)\ttotal: 30m 53s\tremaining: 13m 29s\n",
      "700:\tlearn: 0.3562903\ttest: 0.4045525\tbest: 0.4045525 (700)\ttotal: 31m 6s\tremaining: 13m 16s\n",
      "705:\tlearn: 0.3557745\ttest: 0.4041849\tbest: 0.4041796 (704)\ttotal: 31m 20s\tremaining: 13m 2s\n",
      "710:\tlearn: 0.3549018\ttest: 0.4036459\tbest: 0.4036459 (710)\ttotal: 31m 33s\tremaining: 12m 49s\n",
      "715:\tlearn: 0.3543106\ttest: 0.4032190\tbest: 0.4032190 (715)\ttotal: 31m 49s\tremaining: 12m 37s\n",
      "720:\tlearn: 0.3534214\ttest: 0.4024612\tbest: 0.4024612 (720)\ttotal: 32m 2s\tremaining: 12m 23s\n",
      "725:\tlearn: 0.3526171\ttest: 0.4019776\tbest: 0.4019776 (725)\ttotal: 32m 16s\tremaining: 12m 10s\n",
      "730:\tlearn: 0.3522198\ttest: 0.4019361\tbest: 0.4019047 (727)\ttotal: 32m 30s\tremaining: 11m 57s\n",
      "735:\tlearn: 0.3514724\ttest: 0.4014859\tbest: 0.4014859 (735)\ttotal: 32m 44s\tremaining: 11m 44s\n",
      "740:\tlearn: 0.3507282\ttest: 0.4009759\tbest: 0.4009759 (740)\ttotal: 32m 57s\tremaining: 11m 31s\n",
      "745:\tlearn: 0.3501660\ttest: 0.4005799\tbest: 0.4005799 (745)\ttotal: 33m 10s\tremaining: 11m 17s\n",
      "750:\tlearn: 0.3492767\ttest: 0.3998065\tbest: 0.3998065 (750)\ttotal: 33m 22s\tremaining: 11m 4s\n",
      "755:\tlearn: 0.3486993\ttest: 0.3994105\tbest: 0.3994105 (755)\ttotal: 33m 36s\tremaining: 10m 50s\n",
      "760:\tlearn: 0.3482455\ttest: 0.3992200\tbest: 0.3992200 (760)\ttotal: 33m 50s\tremaining: 10m 37s\n",
      "765:\tlearn: 0.3474034\ttest: 0.3985496\tbest: 0.3985496 (765)\ttotal: 34m 3s\tremaining: 10m 24s\n",
      "770:\tlearn: 0.3465491\ttest: 0.3982926\tbest: 0.3982926 (770)\ttotal: 34m 17s\tremaining: 10m 11s\n",
      "775:\tlearn: 0.3460546\ttest: 0.3981168\tbest: 0.3981122 (773)\ttotal: 34m 30s\tremaining: 9m 57s\n",
      "780:\tlearn: 0.3456383\ttest: 0.3977620\tbest: 0.3977620 (780)\ttotal: 34m 45s\tremaining: 9m 44s\n",
      "785:\tlearn: 0.3447086\ttest: 0.3970226\tbest: 0.3970226 (785)\ttotal: 34m 58s\tremaining: 9m 31s\n",
      "790:\tlearn: 0.3441520\ttest: 0.3969512\tbest: 0.3969512 (790)\ttotal: 35m 12s\tremaining: 9m 18s\n",
      "795:\tlearn: 0.3434855\ttest: 0.3966494\tbest: 0.3966494 (795)\ttotal: 35m 25s\tremaining: 9m 4s\n",
      "800:\tlearn: 0.3427874\ttest: 0.3962572\tbest: 0.3962572 (800)\ttotal: 35m 39s\tremaining: 8m 51s\n",
      "805:\tlearn: 0.3419950\ttest: 0.3961731\tbest: 0.3961268 (804)\ttotal: 35m 55s\tremaining: 8m 38s\n",
      "810:\tlearn: 0.3413825\ttest: 0.3959154\tbest: 0.3959154 (810)\ttotal: 36m 9s\tremaining: 8m 25s\n",
      "815:\tlearn: 0.3405894\ttest: 0.3954343\tbest: 0.3954343 (815)\ttotal: 36m 23s\tremaining: 8m 12s\n",
      "820:\tlearn: 0.3400233\ttest: 0.3950710\tbest: 0.3950710 (820)\ttotal: 36m 37s\tremaining: 7m 59s\n",
      "825:\tlearn: 0.3391449\ttest: 0.3946584\tbest: 0.3946584 (825)\ttotal: 36m 49s\tremaining: 7m 45s\n",
      "830:\tlearn: 0.3383243\ttest: 0.3939360\tbest: 0.3939360 (830)\ttotal: 37m 2s\tremaining: 7m 31s\n",
      "835:\tlearn: 0.3376829\ttest: 0.3935114\tbest: 0.3934723 (834)\ttotal: 37m 16s\tremaining: 7m 18s\n",
      "840:\tlearn: 0.3369388\ttest: 0.3929318\tbest: 0.3929318 (840)\ttotal: 37m 30s\tremaining: 7m 5s\n",
      "845:\tlearn: 0.3364927\ttest: 0.3926362\tbest: 0.3926330 (844)\ttotal: 37m 44s\tremaining: 6m 52s\n",
      "850:\tlearn: 0.3358774\ttest: 0.3924241\tbest: 0.3924241 (850)\ttotal: 37m 59s\tremaining: 6m 39s\n",
      "855:\tlearn: 0.3354526\ttest: 0.3922705\tbest: 0.3922491 (853)\ttotal: 38m 14s\tremaining: 6m 25s\n",
      "860:\tlearn: 0.3349058\ttest: 0.3919914\tbest: 0.3919686 (859)\ttotal: 38m 28s\tremaining: 6m 12s\n",
      "865:\tlearn: 0.3343811\ttest: 0.3916123\tbest: 0.3916123 (865)\ttotal: 38m 41s\tremaining: 5m 59s\n",
      "870:\tlearn: 0.3339511\ttest: 0.3913544\tbest: 0.3913544 (870)\ttotal: 38m 55s\tremaining: 5m 45s\n",
      "875:\tlearn: 0.3333264\ttest: 0.3909799\tbest: 0.3909706 (874)\ttotal: 39m 10s\tremaining: 5m 32s\n",
      "880:\tlearn: 0.3327697\ttest: 0.3905843\tbest: 0.3905843 (880)\ttotal: 39m 24s\tremaining: 5m 19s\n",
      "885:\tlearn: 0.3322723\ttest: 0.3901633\tbest: 0.3901621 (884)\ttotal: 39m 38s\tremaining: 5m 5s\n",
      "890:\tlearn: 0.3316882\ttest: 0.3899498\tbest: 0.3899498 (890)\ttotal: 39m 51s\tremaining: 4m 52s\n",
      "895:\tlearn: 0.3310894\ttest: 0.3897219\tbest: 0.3896783 (894)\ttotal: 40m 5s\tremaining: 4m 39s\n",
      "900:\tlearn: 0.3303992\ttest: 0.3894922\tbest: 0.3894890 (899)\ttotal: 40m 19s\tremaining: 4m 25s\n",
      "905:\tlearn: 0.3299858\ttest: 0.3892596\tbest: 0.3892596 (905)\ttotal: 40m 34s\tremaining: 4m 12s\n",
      "910:\tlearn: 0.3294839\ttest: 0.3888970\tbest: 0.3888970 (910)\ttotal: 40m 47s\tremaining: 3m 59s\n",
      "915:\tlearn: 0.3288248\ttest: 0.3885988\tbest: 0.3885988 (915)\ttotal: 41m 1s\tremaining: 3m 45s\n",
      "920:\tlearn: 0.3283315\ttest: 0.3884237\tbest: 0.3883785 (918)\ttotal: 41m 14s\tremaining: 3m 32s\n",
      "925:\tlearn: 0.3276411\ttest: 0.3879695\tbest: 0.3879695 (925)\ttotal: 41m 27s\tremaining: 3m 18s\n",
      "930:\tlearn: 0.3272598\ttest: 0.3878463\tbest: 0.3878463 (930)\ttotal: 41m 41s\tremaining: 3m 5s\n",
      "935:\tlearn: 0.3267230\ttest: 0.3875345\tbest: 0.3875345 (935)\ttotal: 41m 55s\tremaining: 2m 52s\n",
      "940:\tlearn: 0.3261828\ttest: 0.3873729\tbest: 0.3873729 (940)\ttotal: 42m 9s\tremaining: 2m 38s\n",
      "945:\tlearn: 0.3258072\ttest: 0.3871750\tbest: 0.3871750 (945)\ttotal: 42m 24s\tremaining: 2m 25s\n",
      "950:\tlearn: 0.3254817\ttest: 0.3870242\tbest: 0.3870242 (950)\ttotal: 42m 39s\tremaining: 2m 11s\n",
      "955:\tlearn: 0.3252098\ttest: 0.3869260\tbest: 0.3869160 (952)\ttotal: 42m 53s\tremaining: 1m 58s\n",
      "960:\tlearn: 0.3249249\ttest: 0.3868620\tbest: 0.3868428 (959)\ttotal: 43m 8s\tremaining: 1m 45s\n",
      "965:\tlearn: 0.3244356\ttest: 0.3866682\tbest: 0.3866682 (965)\ttotal: 43m 24s\tremaining: 1m 31s\n",
      "970:\tlearn: 0.3239397\ttest: 0.3863714\tbest: 0.3863664 (969)\ttotal: 43m 38s\tremaining: 1m 18s\n",
      "975:\tlearn: 0.3235334\ttest: 0.3862350\tbest: 0.3862288 (973)\ttotal: 43m 54s\tremaining: 1m 4s\n",
      "980:\tlearn: 0.3232797\ttest: 0.3860746\tbest: 0.3860746 (980)\ttotal: 44m 10s\tremaining: 51.3s\n",
      "985:\tlearn: 0.3227565\ttest: 0.3857557\tbest: 0.3857557 (985)\ttotal: 44m 23s\tremaining: 37.8s\n",
      "990:\tlearn: 0.3221804\ttest: 0.3855088\tbest: 0.3855088 (990)\ttotal: 44m 36s\tremaining: 24.3s\n",
      "995:\tlearn: 0.3217665\ttest: 0.3855624\tbest: 0.3855088 (990)\ttotal: 44m 53s\tremaining: 10.8s\n",
      "999:\tlearn: 0.3214023\ttest: 0.3853615\tbest: 0.3853318 (998)\ttotal: 45m 4s\tremaining: 0us\n",
      "\n",
      "bestTest = 0.3853318294\n",
      "bestIteration = 998\n",
      "\n",
      "Shrink model to first 999 iterations.\n"
     ]
    },
    {
     "data": {
      "text/plain": "['../Files/cat_model.pkl']"
     },
     "execution_count": 5,
     "metadata": {},
     "output_type": "execute_result"
    }
   ],
   "source": [
    "cat_model = CatBoostClassifier(\n",
    "    iterations=1000,\n",
    "    learning_rate=0.1,\n",
    "    depth = 10,\n",
    "    l2_leaf_reg=3,\n",
    "    task_type = 'CPU',\n",
    "    loss_function = 'MultiClass',\n",
    "    boosting_type = 'Ordered'\n",
    ")\n",
    "print(type(cat_model))\n",
    "cat_model.fit(train_pool, eval_set=val_pool, verbose=5)\n",
    "\n",
    "joblib.dump(cat_model, '../Files/cat_model.pkl')"
   ],
   "metadata": {
    "collapsed": false,
    "ExecuteTime": {
     "end_time": "2024-01-24T08:56:39.016873Z",
     "start_time": "2024-01-24T08:11:35.068027900Z"
    }
   },
   "id": "c8e54652861a7884",
   "execution_count": 5
  },
  {
   "cell_type": "code",
   "outputs": [
    {
     "name": "stdout",
     "output_type": "stream",
     "text": [
      "CatBoost Accuracy: 0.8636552440290758\n"
     ]
    }
   ],
   "source": [
    "print(\"CatBoost Accuracy:\", accuracy_score(y_test, cat_model.predict(X_test)))"
   ],
   "metadata": {
    "collapsed": false,
    "ExecuteTime": {
     "end_time": "2024-01-24T08:56:39.084814800Z",
     "start_time": "2024-01-24T08:56:39.019873400Z"
    }
   },
   "id": "4c108ea8c9b915c6",
   "execution_count": 6
  }
 ],
 "metadata": {
  "kernelspec": {
   "name": "python_311",
   "language": "python",
   "display_name": "conda"
  },
  "language_info": {
   "codemirror_mode": {
    "name": "ipython",
    "version": 2
   },
   "file_extension": ".py",
   "mimetype": "text/x-python",
   "name": "python",
   "nbconvert_exporter": "python",
   "pygments_lexer": "ipython2",
   "version": "2.7.6"
  }
 },
 "nbformat": 4,
 "nbformat_minor": 5
}
