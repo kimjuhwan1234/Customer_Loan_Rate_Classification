{
 "cells": [
  {
   "cell_type": "code",
   "execution_count": 11,
   "id": "initial_id",
   "metadata": {
    "collapsed": true,
    "ExecuteTime": {
     "end_time": "2024-01-25T07:47:52.119052400Z",
     "start_time": "2024-01-25T07:47:52.115545800Z"
    }
   },
   "outputs": [],
   "source": [
    "from catboost import Pool\n",
    "from catboost import CatBoostClassifier\n",
    "from sklearn.metrics import accuracy_score\n",
    "from sklearn.model_selection import train_test_split\n",
    "\n",
    "import joblib\n",
    "import warnings\n",
    "import pandas as pd\n",
    "\n",
    "warnings.filterwarnings(\"ignore\")"
   ]
  },
  {
   "cell_type": "code",
   "outputs": [],
   "source": [
    "train = pd.read_csv('../Database/train_modified4.csv', index_col='ID')\n",
    "X = train.drop(columns=['대출등급'])\n",
    "y = train['대출등급']"
   ],
   "metadata": {
    "collapsed": false,
    "ExecuteTime": {
     "end_time": "2024-01-25T07:47:52.327369700Z",
     "start_time": "2024-01-25T07:47:52.122053200Z"
    }
   },
   "id": "e96c5a159568ce9f",
   "execution_count": 12
  },
  {
   "cell_type": "code",
   "outputs": [
    {
     "data": {
      "text/plain": "                 대출금액      연간소득  부채_대비_소득_비율  최근_2년간_연체_횟수     총상환원금  \\\nID                                                                     \nTRAIN_00000 -0.563848 -0.220218    -0.014287     -0.376102 -0.800303   \nTRAIN_00001 -0.377964  0.370332     0.087890     -0.376102 -0.436814   \nTRAIN_00002 -0.610319  0.020823    -0.321114     -0.376102  0.103276   \nTRAIN_00003 -0.377964  0.382384    -0.127783     -0.376102 -0.483274   \nTRAIN_00004 -0.029431 -0.222870     0.179044     -0.376102 -0.577932   \n...               ...       ...          ...           ...       ...   \nTRAIN_96289 -0.377964  1.165767    -0.299368     -0.376102  0.147972   \nTRAIN_96290  1.016166  0.382384    -0.423588     -0.376102 -0.232331   \nTRAIN_96291 -0.377964 -0.099698    -0.242471     -0.376102  0.648632   \nTRAIN_96292 -0.261786 -0.277164    -0.061949      1.799906  0.540861   \nTRAIN_96293 -0.935616 -0.437155    -0.225789     -0.376102 -0.220246   \n\n                총상환이자  대출기간  근로기간  주택소유상태  대출목적  \nID                                               \nTRAIN_00000 -0.972784     0     9       3     1  \nTRAIN_00001 -0.441082     1     2       1    10  \nTRAIN_00002 -0.627621     0     8       1     1  \nTRAIN_00003 -0.624977     0    11       1     1  \nTRAIN_00004 -0.634409     1    15       3     8  \n...               ...   ...   ...     ...   ...  \nTRAIN_96289  0.145249     0     2       1     3  \nTRAIN_96290  0.969667     1     2       1    10  \nTRAIN_96291 -0.424781     0     0       1     3  \nTRAIN_96292  0.885597     0     8       1     1  \nTRAIN_96293 -0.348181     0     2       3     3  \n\n[93478 rows x 10 columns]",
      "text/html": "<div>\n<style scoped>\n    .dataframe tbody tr th:only-of-type {\n        vertical-align: middle;\n    }\n\n    .dataframe tbody tr th {\n        vertical-align: top;\n    }\n\n    .dataframe thead th {\n        text-align: right;\n    }\n</style>\n<table border=\"1\" class=\"dataframe\">\n  <thead>\n    <tr style=\"text-align: right;\">\n      <th></th>\n      <th>대출금액</th>\n      <th>연간소득</th>\n      <th>부채_대비_소득_비율</th>\n      <th>최근_2년간_연체_횟수</th>\n      <th>총상환원금</th>\n      <th>총상환이자</th>\n      <th>대출기간</th>\n      <th>근로기간</th>\n      <th>주택소유상태</th>\n      <th>대출목적</th>\n    </tr>\n    <tr>\n      <th>ID</th>\n      <th></th>\n      <th></th>\n      <th></th>\n      <th></th>\n      <th></th>\n      <th></th>\n      <th></th>\n      <th></th>\n      <th></th>\n      <th></th>\n    </tr>\n  </thead>\n  <tbody>\n    <tr>\n      <th>TRAIN_00000</th>\n      <td>-0.563848</td>\n      <td>-0.220218</td>\n      <td>-0.014287</td>\n      <td>-0.376102</td>\n      <td>-0.800303</td>\n      <td>-0.972784</td>\n      <td>0</td>\n      <td>9</td>\n      <td>3</td>\n      <td>1</td>\n    </tr>\n    <tr>\n      <th>TRAIN_00001</th>\n      <td>-0.377964</td>\n      <td>0.370332</td>\n      <td>0.087890</td>\n      <td>-0.376102</td>\n      <td>-0.436814</td>\n      <td>-0.441082</td>\n      <td>1</td>\n      <td>2</td>\n      <td>1</td>\n      <td>10</td>\n    </tr>\n    <tr>\n      <th>TRAIN_00002</th>\n      <td>-0.610319</td>\n      <td>0.020823</td>\n      <td>-0.321114</td>\n      <td>-0.376102</td>\n      <td>0.103276</td>\n      <td>-0.627621</td>\n      <td>0</td>\n      <td>8</td>\n      <td>1</td>\n      <td>1</td>\n    </tr>\n    <tr>\n      <th>TRAIN_00003</th>\n      <td>-0.377964</td>\n      <td>0.382384</td>\n      <td>-0.127783</td>\n      <td>-0.376102</td>\n      <td>-0.483274</td>\n      <td>-0.624977</td>\n      <td>0</td>\n      <td>11</td>\n      <td>1</td>\n      <td>1</td>\n    </tr>\n    <tr>\n      <th>TRAIN_00004</th>\n      <td>-0.029431</td>\n      <td>-0.222870</td>\n      <td>0.179044</td>\n      <td>-0.376102</td>\n      <td>-0.577932</td>\n      <td>-0.634409</td>\n      <td>1</td>\n      <td>15</td>\n      <td>3</td>\n      <td>8</td>\n    </tr>\n    <tr>\n      <th>...</th>\n      <td>...</td>\n      <td>...</td>\n      <td>...</td>\n      <td>...</td>\n      <td>...</td>\n      <td>...</td>\n      <td>...</td>\n      <td>...</td>\n      <td>...</td>\n      <td>...</td>\n    </tr>\n    <tr>\n      <th>TRAIN_96289</th>\n      <td>-0.377964</td>\n      <td>1.165767</td>\n      <td>-0.299368</td>\n      <td>-0.376102</td>\n      <td>0.147972</td>\n      <td>0.145249</td>\n      <td>0</td>\n      <td>2</td>\n      <td>1</td>\n      <td>3</td>\n    </tr>\n    <tr>\n      <th>TRAIN_96290</th>\n      <td>1.016166</td>\n      <td>0.382384</td>\n      <td>-0.423588</td>\n      <td>-0.376102</td>\n      <td>-0.232331</td>\n      <td>0.969667</td>\n      <td>1</td>\n      <td>2</td>\n      <td>1</td>\n      <td>10</td>\n    </tr>\n    <tr>\n      <th>TRAIN_96291</th>\n      <td>-0.377964</td>\n      <td>-0.099698</td>\n      <td>-0.242471</td>\n      <td>-0.376102</td>\n      <td>0.648632</td>\n      <td>-0.424781</td>\n      <td>0</td>\n      <td>0</td>\n      <td>1</td>\n      <td>3</td>\n    </tr>\n    <tr>\n      <th>TRAIN_96292</th>\n      <td>-0.261786</td>\n      <td>-0.277164</td>\n      <td>-0.061949</td>\n      <td>1.799906</td>\n      <td>0.540861</td>\n      <td>0.885597</td>\n      <td>0</td>\n      <td>8</td>\n      <td>1</td>\n      <td>1</td>\n    </tr>\n    <tr>\n      <th>TRAIN_96293</th>\n      <td>-0.935616</td>\n      <td>-0.437155</td>\n      <td>-0.225789</td>\n      <td>-0.376102</td>\n      <td>-0.220246</td>\n      <td>-0.348181</td>\n      <td>0</td>\n      <td>2</td>\n      <td>3</td>\n      <td>3</td>\n    </tr>\n  </tbody>\n</table>\n<p>93478 rows × 10 columns</p>\n</div>"
     },
     "execution_count": 13,
     "metadata": {},
     "output_type": "execute_result"
    }
   ],
   "source": [
    "X"
   ],
   "metadata": {
    "collapsed": false,
    "ExecuteTime": {
     "end_time": "2024-01-25T07:47:52.342499900Z",
     "start_time": "2024-01-25T07:47:52.337754900Z"
    }
   },
   "id": "dacd7c144db6161b",
   "execution_count": 13
  },
  {
   "cell_type": "code",
   "outputs": [],
   "source": [
    "X_train, X_test, y_train, y_test = train_test_split(X, y, test_size=0.2, random_state=42)\n",
    "cat_features=[i for i in range(6,10)]\n",
    "\n",
    "train_pool = Pool(data=X_train, label=y_train, cat_features=cat_features)\n",
    "val_pool = Pool(data=X_test, label=y_test, cat_features=cat_features)"
   ],
   "metadata": {
    "collapsed": false,
    "ExecuteTime": {
     "end_time": "2024-01-25T07:47:52.517565Z",
     "start_time": "2024-01-25T07:47:52.341457600Z"
    }
   },
   "id": "ca0e4b3a40e160e",
   "execution_count": 14
  },
  {
   "cell_type": "code",
   "outputs": [
    {
     "name": "stdout",
     "output_type": "stream",
     "text": [
      "<class 'catboost.core.CatBoostClassifier'>\n",
      "0:\tlearn: 1.7803480\ttest: 1.7818396\tbest: 1.7818396 (0)\ttotal: 3.99s\tremaining: 1h 6m 25s\n",
      "5:\tlearn: 1.3313084\ttest: 1.3353438\tbest: 1.3353438 (5)\ttotal: 19s\tremaining: 52m 29s\n",
      "10:\tlearn: 1.1163398\ttest: 1.1220420\tbest: 1.1220420 (10)\ttotal: 31.9s\tremaining: 47m 50s\n",
      "15:\tlearn: 0.9895750\ttest: 0.9966672\tbest: 0.9966672 (15)\ttotal: 44.9s\tremaining: 45m 59s\n",
      "20:\tlearn: 0.9059515\ttest: 0.9134947\tbest: 0.9134947 (20)\ttotal: 57.2s\tremaining: 44m 27s\n",
      "25:\tlearn: 0.8467445\ttest: 0.8556044\tbest: 0.8556044 (25)\ttotal: 1m 12s\tremaining: 44m 59s\n",
      "30:\tlearn: 0.8016644\ttest: 0.8104223\tbest: 0.8104223 (30)\ttotal: 1m 26s\tremaining: 45m 10s\n",
      "35:\tlearn: 0.7625640\ttest: 0.7716560\tbest: 0.7716560 (35)\ttotal: 1m 39s\tremaining: 44m 22s\n",
      "40:\tlearn: 0.7316355\ttest: 0.7415042\tbest: 0.7415042 (40)\ttotal: 1m 52s\tremaining: 43m 42s\n",
      "45:\tlearn: 0.7155244\ttest: 0.7254696\tbest: 0.7254696 (45)\ttotal: 1m 59s\tremaining: 41m 24s\n",
      "50:\tlearn: 0.6996544\ttest: 0.7096479\tbest: 0.7096479 (50)\ttotal: 2m 8s\tremaining: 39m 45s\n",
      "55:\tlearn: 0.6759481\ttest: 0.6858059\tbest: 0.6858059 (55)\ttotal: 2m 21s\tremaining: 39m 41s\n",
      "60:\tlearn: 0.6592047\ttest: 0.6697444\tbest: 0.6697444 (60)\ttotal: 2m 31s\tremaining: 38m 59s\n",
      "65:\tlearn: 0.6479712\ttest: 0.6588286\tbest: 0.6588286 (65)\ttotal: 2m 43s\tremaining: 38m 28s\n",
      "70:\tlearn: 0.6367689\ttest: 0.6480304\tbest: 0.6480304 (70)\ttotal: 2m 55s\tremaining: 38m 21s\n",
      "75:\tlearn: 0.6255741\ttest: 0.6378059\tbest: 0.6378059 (75)\ttotal: 3m 10s\tremaining: 38m 37s\n",
      "80:\tlearn: 0.6204355\ttest: 0.6326684\tbest: 0.6326684 (80)\ttotal: 3m 16s\tremaining: 37m 8s\n",
      "85:\tlearn: 0.6123703\ttest: 0.6248109\tbest: 0.6248109 (85)\ttotal: 3m 24s\tremaining: 36m 14s\n",
      "90:\tlearn: 0.6036838\ttest: 0.6169061\tbest: 0.6169061 (90)\ttotal: 3m 37s\tremaining: 36m 8s\n",
      "95:\tlearn: 0.5922429\ttest: 0.6059458\tbest: 0.6059458 (95)\ttotal: 3m 51s\tremaining: 36m 18s\n",
      "100:\tlearn: 0.5879988\ttest: 0.6019068\tbest: 0.6019068 (100)\ttotal: 4m 2s\tremaining: 36m 2s\n",
      "105:\tlearn: 0.5789610\ttest: 0.5929983\tbest: 0.5929983 (105)\ttotal: 4m 17s\tremaining: 36m 11s\n",
      "110:\tlearn: 0.5699085\ttest: 0.5845911\tbest: 0.5845911 (110)\ttotal: 4m 31s\tremaining: 36m 13s\n",
      "115:\tlearn: 0.5618136\ttest: 0.5768709\tbest: 0.5768709 (115)\ttotal: 4m 44s\tremaining: 36m 11s\n",
      "120:\tlearn: 0.5538672\ttest: 0.5691768\tbest: 0.5691768 (120)\ttotal: 4m 58s\tremaining: 36m 9s\n",
      "125:\tlearn: 0.5464216\ttest: 0.5618363\tbest: 0.5618363 (125)\ttotal: 5m 11s\tremaining: 36m 3s\n",
      "130:\tlearn: 0.5394879\ttest: 0.5552636\tbest: 0.5552636 (130)\ttotal: 5m 26s\tremaining: 36m 3s\n",
      "135:\tlearn: 0.5343364\ttest: 0.5502617\tbest: 0.5502617 (135)\ttotal: 5m 40s\tremaining: 36m 3s\n",
      "140:\tlearn: 0.5286401\ttest: 0.5450322\tbest: 0.5450322 (140)\ttotal: 5m 53s\tremaining: 35m 55s\n",
      "145:\tlearn: 0.5230096\ttest: 0.5399315\tbest: 0.5399315 (145)\ttotal: 6m 6s\tremaining: 35m 44s\n",
      "150:\tlearn: 0.5167619\ttest: 0.5340312\tbest: 0.5340312 (150)\ttotal: 6m 19s\tremaining: 35m 34s\n",
      "155:\tlearn: 0.5111430\ttest: 0.5289656\tbest: 0.5289656 (155)\ttotal: 6m 32s\tremaining: 35m 23s\n",
      "160:\tlearn: 0.5060965\ttest: 0.5245372\tbest: 0.5245372 (160)\ttotal: 6m 45s\tremaining: 35m 15s\n",
      "165:\tlearn: 0.5021149\ttest: 0.5208697\tbest: 0.5208697 (165)\ttotal: 6m 59s\tremaining: 35m 9s\n",
      "170:\tlearn: 0.4974290\ttest: 0.5165161\tbest: 0.5165161 (170)\ttotal: 7m 13s\tremaining: 35m\n",
      "175:\tlearn: 0.4932185\ttest: 0.5128412\tbest: 0.5128412 (175)\ttotal: 7m 27s\tremaining: 34m 52s\n",
      "180:\tlearn: 0.4893165\ttest: 0.5093093\tbest: 0.5093093 (180)\ttotal: 7m 41s\tremaining: 34m 46s\n",
      "185:\tlearn: 0.4860466\ttest: 0.5063797\tbest: 0.5063797 (185)\ttotal: 7m 52s\tremaining: 34m 28s\n",
      "190:\tlearn: 0.4822488\ttest: 0.5031532\tbest: 0.5031532 (190)\ttotal: 8m 5s\tremaining: 34m 16s\n",
      "195:\tlearn: 0.4794124\ttest: 0.5007792\tbest: 0.5007792 (195)\ttotal: 8m 19s\tremaining: 34m 7s\n",
      "200:\tlearn: 0.4774262\ttest: 0.4989071\tbest: 0.4989071 (200)\ttotal: 8m 32s\tremaining: 33m 55s\n",
      "205:\tlearn: 0.4733012\ttest: 0.4951069\tbest: 0.4951069 (205)\ttotal: 8m 46s\tremaining: 33m 47s\n",
      "210:\tlearn: 0.4705108\ttest: 0.4927791\tbest: 0.4927791 (210)\ttotal: 8m 59s\tremaining: 33m 37s\n",
      "215:\tlearn: 0.4681766\ttest: 0.4908905\tbest: 0.4908905 (215)\ttotal: 9m 13s\tremaining: 33m 27s\n",
      "220:\tlearn: 0.4644007\ttest: 0.4875636\tbest: 0.4875636 (220)\ttotal: 9m 26s\tremaining: 33m 18s\n",
      "225:\tlearn: 0.4607985\ttest: 0.4842260\tbest: 0.4842260 (225)\ttotal: 9m 39s\tremaining: 33m 6s\n",
      "230:\tlearn: 0.4580434\ttest: 0.4817158\tbest: 0.4817158 (230)\ttotal: 9m 52s\tremaining: 32m 52s\n",
      "235:\tlearn: 0.4552185\ttest: 0.4792398\tbest: 0.4792398 (235)\ttotal: 10m 6s\tremaining: 32m 42s\n",
      "240:\tlearn: 0.4527136\ttest: 0.4773245\tbest: 0.4773245 (240)\ttotal: 10m 19s\tremaining: 32m 32s\n",
      "245:\tlearn: 0.4501413\ttest: 0.4752887\tbest: 0.4752887 (245)\ttotal: 10m 33s\tremaining: 32m 21s\n",
      "250:\tlearn: 0.4471105\ttest: 0.4725636\tbest: 0.4725636 (250)\ttotal: 10m 46s\tremaining: 32m 9s\n",
      "255:\tlearn: 0.4445437\ttest: 0.4707054\tbest: 0.4707054 (255)\ttotal: 11m\tremaining: 31m 59s\n",
      "260:\tlearn: 0.4425866\ttest: 0.4691076\tbest: 0.4691076 (260)\ttotal: 11m 14s\tremaining: 31m 49s\n",
      "265:\tlearn: 0.4410514\ttest: 0.4680868\tbest: 0.4680868 (265)\ttotal: 11m 28s\tremaining: 31m 39s\n",
      "270:\tlearn: 0.4388384\ttest: 0.4661954\tbest: 0.4661954 (270)\ttotal: 11m 41s\tremaining: 31m 27s\n",
      "275:\tlearn: 0.4366561\ttest: 0.4645477\tbest: 0.4645477 (275)\ttotal: 11m 55s\tremaining: 31m 17s\n",
      "280:\tlearn: 0.4340936\ttest: 0.4623738\tbest: 0.4623738 (280)\ttotal: 12m 9s\tremaining: 31m 6s\n",
      "285:\tlearn: 0.4317959\ttest: 0.4605889\tbest: 0.4605889 (285)\ttotal: 12m 22s\tremaining: 30m 53s\n",
      "290:\tlearn: 0.4301236\ttest: 0.4591101\tbest: 0.4591101 (290)\ttotal: 12m 35s\tremaining: 30m 41s\n",
      "295:\tlearn: 0.4282764\ttest: 0.4576990\tbest: 0.4576990 (295)\ttotal: 12m 50s\tremaining: 30m 31s\n",
      "300:\tlearn: 0.4262262\ttest: 0.4561795\tbest: 0.4561795 (300)\ttotal: 13m 3s\tremaining: 30m 19s\n",
      "305:\tlearn: 0.4249496\ttest: 0.4550447\tbest: 0.4550447 (305)\ttotal: 13m 14s\tremaining: 30m 3s\n",
      "310:\tlearn: 0.4233849\ttest: 0.4538146\tbest: 0.4538146 (310)\ttotal: 13m 28s\tremaining: 29m 51s\n",
      "315:\tlearn: 0.4215077\ttest: 0.4522297\tbest: 0.4522297 (315)\ttotal: 13m 42s\tremaining: 29m 39s\n",
      "320:\tlearn: 0.4201944\ttest: 0.4513537\tbest: 0.4513537 (320)\ttotal: 13m 57s\tremaining: 29m 30s\n",
      "325:\tlearn: 0.4184710\ttest: 0.4500665\tbest: 0.4500665 (325)\ttotal: 14m 10s\tremaining: 29m 18s\n",
      "330:\tlearn: 0.4166090\ttest: 0.4485906\tbest: 0.4485906 (330)\ttotal: 14m 23s\tremaining: 29m 4s\n",
      "335:\tlearn: 0.4155452\ttest: 0.4479693\tbest: 0.4479692 (334)\ttotal: 14m 38s\tremaining: 28m 55s\n",
      "340:\tlearn: 0.4140851\ttest: 0.4467343\tbest: 0.4467343 (340)\ttotal: 14m 52s\tremaining: 28m 45s\n",
      "345:\tlearn: 0.4127124\ttest: 0.4457191\tbest: 0.4457191 (345)\ttotal: 15m 3s\tremaining: 28m 28s\n",
      "350:\tlearn: 0.4110608\ttest: 0.4445452\tbest: 0.4445452 (350)\ttotal: 15m 17s\tremaining: 28m 17s\n",
      "355:\tlearn: 0.4096893\ttest: 0.4434937\tbest: 0.4434937 (355)\ttotal: 15m 32s\tremaining: 28m 6s\n",
      "360:\tlearn: 0.4079759\ttest: 0.4423228\tbest: 0.4423228 (360)\ttotal: 15m 46s\tremaining: 27m 55s\n",
      "365:\tlearn: 0.4070631\ttest: 0.4417130\tbest: 0.4417130 (365)\ttotal: 16m\tremaining: 27m 44s\n",
      "370:\tlearn: 0.4055942\ttest: 0.4404940\tbest: 0.4404940 (370)\ttotal: 16m 15s\tremaining: 27m 34s\n",
      "375:\tlearn: 0.4040774\ttest: 0.4392094\tbest: 0.4392094 (375)\ttotal: 16m 29s\tremaining: 27m 22s\n",
      "380:\tlearn: 0.4026385\ttest: 0.4381492\tbest: 0.4381492 (380)\ttotal: 16m 42s\tremaining: 27m 9s\n",
      "385:\tlearn: 0.4013206\ttest: 0.4370848\tbest: 0.4370848 (385)\ttotal: 16m 55s\tremaining: 26m 54s\n",
      "390:\tlearn: 0.3999206\ttest: 0.4360298\tbest: 0.4360298 (390)\ttotal: 17m 9s\tremaining: 26m 43s\n",
      "395:\tlearn: 0.3985474\ttest: 0.4347665\tbest: 0.4347665 (395)\ttotal: 17m 23s\tremaining: 26m 30s\n",
      "400:\tlearn: 0.3973530\ttest: 0.4338272\tbest: 0.4338272 (400)\ttotal: 17m 36s\tremaining: 26m 17s\n",
      "405:\tlearn: 0.3962044\ttest: 0.4329139\tbest: 0.4329138 (404)\ttotal: 17m 47s\tremaining: 26m 1s\n",
      "410:\tlearn: 0.3947099\ttest: 0.4318428\tbest: 0.4318428 (410)\ttotal: 18m\tremaining: 25m 48s\n",
      "415:\tlearn: 0.3937898\ttest: 0.4311353\tbest: 0.4311353 (415)\ttotal: 18m 15s\tremaining: 25m 37s\n",
      "420:\tlearn: 0.3931656\ttest: 0.4305974\tbest: 0.4305974 (420)\ttotal: 18m 30s\tremaining: 25m 27s\n",
      "425:\tlearn: 0.3927418\ttest: 0.4303810\tbest: 0.4303726 (424)\ttotal: 18m 46s\tremaining: 25m 17s\n",
      "430:\tlearn: 0.3914179\ttest: 0.4296024\tbest: 0.4296024 (430)\ttotal: 19m\tremaining: 25m 5s\n",
      "435:\tlearn: 0.3902831\ttest: 0.4290099\tbest: 0.4290099 (435)\ttotal: 19m 15s\tremaining: 24m 54s\n",
      "440:\tlearn: 0.3891596\ttest: 0.4282663\tbest: 0.4282663 (440)\ttotal: 19m 29s\tremaining: 24m 43s\n",
      "445:\tlearn: 0.3875463\ttest: 0.4269159\tbest: 0.4269159 (445)\ttotal: 19m 43s\tremaining: 24m 29s\n",
      "450:\tlearn: 0.3864830\ttest: 0.4263005\tbest: 0.4263005 (450)\ttotal: 19m 57s\tremaining: 24m 17s\n",
      "455:\tlearn: 0.3854371\ttest: 0.4255594\tbest: 0.4255594 (455)\ttotal: 20m 12s\tremaining: 24m 6s\n",
      "460:\tlearn: 0.3842883\ttest: 0.4245570\tbest: 0.4245570 (460)\ttotal: 20m 26s\tremaining: 23m 54s\n",
      "465:\tlearn: 0.3829152\ttest: 0.4237347\tbest: 0.4237347 (465)\ttotal: 20m 40s\tremaining: 23m 41s\n",
      "470:\tlearn: 0.3818832\ttest: 0.4229560\tbest: 0.4229560 (470)\ttotal: 20m 56s\tremaining: 23m 31s\n",
      "475:\tlearn: 0.3808441\ttest: 0.4221285\tbest: 0.4221285 (475)\ttotal: 21m 10s\tremaining: 23m 18s\n",
      "480:\tlearn: 0.3798147\ttest: 0.4214747\tbest: 0.4214747 (480)\ttotal: 21m 23s\tremaining: 23m 5s\n",
      "485:\tlearn: 0.3787116\ttest: 0.4207084\tbest: 0.4207084 (485)\ttotal: 21m 36s\tremaining: 22m 51s\n",
      "490:\tlearn: 0.3774872\ttest: 0.4196915\tbest: 0.4196915 (490)\ttotal: 21m 49s\tremaining: 22m 37s\n",
      "495:\tlearn: 0.3765244\ttest: 0.4189796\tbest: 0.4189796 (495)\ttotal: 22m\tremaining: 22m 22s\n",
      "500:\tlearn: 0.3758498\ttest: 0.4186901\tbest: 0.4186901 (500)\ttotal: 22m 17s\tremaining: 22m 12s\n",
      "505:\tlearn: 0.3750486\ttest: 0.4182878\tbest: 0.4182601 (504)\ttotal: 22m 32s\tremaining: 22m\n",
      "510:\tlearn: 0.3739871\ttest: 0.4176046\tbest: 0.4176046 (510)\ttotal: 22m 45s\tremaining: 21m 47s\n",
      "515:\tlearn: 0.3732147\ttest: 0.4172395\tbest: 0.4172395 (515)\ttotal: 23m\tremaining: 21m 35s\n",
      "520:\tlearn: 0.3724615\ttest: 0.4168323\tbest: 0.4168323 (520)\ttotal: 23m 14s\tremaining: 21m 21s\n",
      "525:\tlearn: 0.3714723\ttest: 0.4162752\tbest: 0.4162752 (525)\ttotal: 23m 28s\tremaining: 21m 9s\n",
      "530:\tlearn: 0.3705668\ttest: 0.4159678\tbest: 0.4159378 (529)\ttotal: 23m 42s\tremaining: 20m 56s\n",
      "535:\tlearn: 0.3693267\ttest: 0.4152017\tbest: 0.4152017 (535)\ttotal: 23m 55s\tremaining: 20m 42s\n",
      "540:\tlearn: 0.3685675\ttest: 0.4147704\tbest: 0.4147704 (540)\ttotal: 24m 10s\tremaining: 20m 30s\n",
      "545:\tlearn: 0.3677435\ttest: 0.4144313\tbest: 0.4144313 (545)\ttotal: 24m 25s\tremaining: 20m 18s\n",
      "550:\tlearn: 0.3669309\ttest: 0.4140450\tbest: 0.4140450 (550)\ttotal: 24m 40s\tremaining: 20m 6s\n",
      "555:\tlearn: 0.3660559\ttest: 0.4135527\tbest: 0.4135527 (555)\ttotal: 24m 54s\tremaining: 19m 53s\n",
      "560:\tlearn: 0.3652507\ttest: 0.4130034\tbest: 0.4130034 (560)\ttotal: 25m 9s\tremaining: 19m 41s\n",
      "565:\tlearn: 0.3644276\ttest: 0.4125968\tbest: 0.4125834 (564)\ttotal: 25m 23s\tremaining: 19m 28s\n",
      "570:\tlearn: 0.3639130\ttest: 0.4124711\tbest: 0.4124711 (570)\ttotal: 25m 39s\tremaining: 19m 16s\n",
      "575:\tlearn: 0.3635464\ttest: 0.4123101\tbest: 0.4123101 (575)\ttotal: 25m 55s\tremaining: 19m 5s\n",
      "580:\tlearn: 0.3625975\ttest: 0.4118561\tbest: 0.4118561 (580)\ttotal: 26m 11s\tremaining: 18m 53s\n",
      "585:\tlearn: 0.3618087\ttest: 0.4113690\tbest: 0.4113690 (585)\ttotal: 26m 24s\tremaining: 18m 39s\n",
      "590:\tlearn: 0.3609053\ttest: 0.4108242\tbest: 0.4108242 (590)\ttotal: 26m 39s\tremaining: 18m 26s\n",
      "595:\tlearn: 0.3602126\ttest: 0.4104287\tbest: 0.4104287 (595)\ttotal: 26m 54s\tremaining: 18m 14s\n",
      "600:\tlearn: 0.3595110\ttest: 0.4099969\tbest: 0.4099969 (600)\ttotal: 27m 7s\tremaining: 18m\n",
      "605:\tlearn: 0.3587051\ttest: 0.4095238\tbest: 0.4095238 (605)\ttotal: 27m 22s\tremaining: 17m 47s\n",
      "610:\tlearn: 0.3580737\ttest: 0.4092995\tbest: 0.4092995 (610)\ttotal: 27m 36s\tremaining: 17m 34s\n",
      "615:\tlearn: 0.3575061\ttest: 0.4090622\tbest: 0.4090622 (615)\ttotal: 27m 50s\tremaining: 17m 21s\n",
      "620:\tlearn: 0.3566285\ttest: 0.4084073\tbest: 0.4084073 (620)\ttotal: 28m 4s\tremaining: 17m 7s\n",
      "625:\tlearn: 0.3561548\ttest: 0.4081456\tbest: 0.4081456 (624)\ttotal: 28m 19s\tremaining: 16m 55s\n",
      "630:\tlearn: 0.3553863\ttest: 0.4076922\tbest: 0.4076922 (630)\ttotal: 28m 34s\tremaining: 16m 42s\n",
      "635:\tlearn: 0.3549136\ttest: 0.4074522\tbest: 0.4074522 (635)\ttotal: 28m 49s\tremaining: 16m 29s\n",
      "640:\tlearn: 0.3544522\ttest: 0.4073340\tbest: 0.4073324 (638)\ttotal: 29m 6s\tremaining: 16m 18s\n",
      "645:\tlearn: 0.3536967\ttest: 0.4068159\tbest: 0.4068059 (643)\ttotal: 29m 21s\tremaining: 16m 5s\n",
      "650:\tlearn: 0.3530103\ttest: 0.4063477\tbest: 0.4063475 (649)\ttotal: 29m 33s\tremaining: 15m 50s\n",
      "655:\tlearn: 0.3525973\ttest: 0.4062655\tbest: 0.4062655 (655)\ttotal: 29m 49s\tremaining: 15m 38s\n",
      "660:\tlearn: 0.3518666\ttest: 0.4057103\tbest: 0.4057069 (659)\ttotal: 30m 3s\tremaining: 15m 25s\n",
      "665:\tlearn: 0.3511890\ttest: 0.4053704\tbest: 0.4053397 (664)\ttotal: 30m 19s\tremaining: 15m 12s\n",
      "670:\tlearn: 0.3505355\ttest: 0.4049812\tbest: 0.4049812 (670)\ttotal: 30m 35s\tremaining: 14m 59s\n",
      "675:\tlearn: 0.3498694\ttest: 0.4045445\tbest: 0.4045445 (675)\ttotal: 30m 49s\tremaining: 14m 46s\n",
      "680:\tlearn: 0.3490659\ttest: 0.4042449\tbest: 0.4042337 (679)\ttotal: 31m 4s\tremaining: 14m 33s\n",
      "685:\tlearn: 0.3484691\ttest: 0.4039398\tbest: 0.4039398 (685)\ttotal: 31m 16s\tremaining: 14m 18s\n",
      "690:\tlearn: 0.3481187\ttest: 0.4037770\tbest: 0.4037770 (690)\ttotal: 31m 31s\tremaining: 14m 5s\n",
      "695:\tlearn: 0.3477916\ttest: 0.4035198\tbest: 0.4035198 (695)\ttotal: 31m 46s\tremaining: 13m 52s\n",
      "700:\tlearn: 0.3471973\ttest: 0.4031418\tbest: 0.4031418 (700)\ttotal: 32m 1s\tremaining: 13m 39s\n",
      "705:\tlearn: 0.3464836\ttest: 0.4029144\tbest: 0.4029144 (705)\ttotal: 32m 14s\tremaining: 13m 25s\n",
      "710:\tlearn: 0.3456534\ttest: 0.4025616\tbest: 0.4025616 (710)\ttotal: 32m 27s\tremaining: 13m 11s\n",
      "715:\tlearn: 0.3450264\ttest: 0.4021591\tbest: 0.4021591 (715)\ttotal: 32m 43s\tremaining: 12m 58s\n",
      "720:\tlearn: 0.3443013\ttest: 0.4017653\tbest: 0.4017511 (719)\ttotal: 32m 58s\tremaining: 12m 45s\n",
      "725:\tlearn: 0.3436399\ttest: 0.4013413\tbest: 0.4013413 (725)\ttotal: 33m 12s\tremaining: 12m 32s\n",
      "730:\tlearn: 0.3431097\ttest: 0.4010187\tbest: 0.4010187 (730)\ttotal: 33m 26s\tremaining: 12m 18s\n",
      "735:\tlearn: 0.3422206\ttest: 0.4003662\tbest: 0.4003662 (735)\ttotal: 33m 41s\tremaining: 12m 4s\n",
      "740:\tlearn: 0.3413190\ttest: 0.3996940\tbest: 0.3996940 (740)\ttotal: 33m 54s\tremaining: 11m 50s\n",
      "745:\tlearn: 0.3405666\ttest: 0.3993282\tbest: 0.3993194 (744)\ttotal: 34m 7s\tremaining: 11m 37s\n",
      "750:\tlearn: 0.3397842\ttest: 0.3989635\tbest: 0.3989436 (748)\ttotal: 34m 23s\tremaining: 11m 24s\n",
      "755:\tlearn: 0.3390453\ttest: 0.3984452\tbest: 0.3984452 (755)\ttotal: 34m 36s\tremaining: 11m 10s\n",
      "760:\tlearn: 0.3384647\ttest: 0.3981943\tbest: 0.3981939 (759)\ttotal: 34m 51s\tremaining: 10m 56s\n",
      "765:\tlearn: 0.3377929\ttest: 0.3977081\tbest: 0.3977081 (765)\ttotal: 35m 6s\tremaining: 10m 43s\n",
      "770:\tlearn: 0.3372144\ttest: 0.3973605\tbest: 0.3973605 (770)\ttotal: 35m 22s\tremaining: 10m 30s\n",
      "775:\tlearn: 0.3366459\ttest: 0.3970855\tbest: 0.3970855 (775)\ttotal: 35m 35s\tremaining: 10m 16s\n",
      "780:\tlearn: 0.3360431\ttest: 0.3968135\tbest: 0.3968135 (780)\ttotal: 35m 49s\tremaining: 10m 2s\n",
      "785:\tlearn: 0.3354348\ttest: 0.3964882\tbest: 0.3964882 (785)\ttotal: 36m 2s\tremaining: 9m 48s\n",
      "790:\tlearn: 0.3347220\ttest: 0.3961107\tbest: 0.3961107 (790)\ttotal: 36m 16s\tremaining: 9m 35s\n",
      "795:\tlearn: 0.3340860\ttest: 0.3958184\tbest: 0.3958184 (795)\ttotal: 36m 30s\tremaining: 9m 21s\n",
      "800:\tlearn: 0.3336911\ttest: 0.3956599\tbest: 0.3956582 (798)\ttotal: 36m 44s\tremaining: 9m 7s\n",
      "805:\tlearn: 0.3329988\ttest: 0.3954891\tbest: 0.3954409 (804)\ttotal: 36m 58s\tremaining: 8m 53s\n",
      "810:\tlearn: 0.3325008\ttest: 0.3952064\tbest: 0.3952064 (810)\ttotal: 37m 12s\tremaining: 8m 40s\n",
      "815:\tlearn: 0.3321564\ttest: 0.3950036\tbest: 0.3950036 (815)\ttotal: 37m 28s\tremaining: 8m 27s\n",
      "820:\tlearn: 0.3317735\ttest: 0.3947588\tbest: 0.3947588 (820)\ttotal: 37m 44s\tremaining: 8m 13s\n",
      "825:\tlearn: 0.3311479\ttest: 0.3944011\tbest: 0.3944011 (825)\ttotal: 37m 59s\tremaining: 8m\n",
      "830:\tlearn: 0.3304754\ttest: 0.3940336\tbest: 0.3940304 (829)\ttotal: 38m 13s\tremaining: 7m 46s\n",
      "835:\tlearn: 0.3301000\ttest: 0.3938654\tbest: 0.3938654 (835)\ttotal: 38m 29s\tremaining: 7m 33s\n",
      "840:\tlearn: 0.3296187\ttest: 0.3938105\tbest: 0.3937786 (836)\ttotal: 38m 46s\tremaining: 7m 19s\n",
      "845:\tlearn: 0.3289310\ttest: 0.3935280\tbest: 0.3935280 (845)\ttotal: 39m 1s\tremaining: 7m 6s\n",
      "850:\tlearn: 0.3283092\ttest: 0.3930611\tbest: 0.3930611 (850)\ttotal: 39m 14s\tremaining: 6m 52s\n",
      "855:\tlearn: 0.3276355\ttest: 0.3927664\tbest: 0.3927664 (855)\ttotal: 39m 29s\tremaining: 6m 38s\n",
      "860:\tlearn: 0.3272981\ttest: 0.3927373\tbest: 0.3927322 (859)\ttotal: 39m 46s\tremaining: 6m 25s\n",
      "865:\tlearn: 0.3267598\ttest: 0.3922720\tbest: 0.3922720 (865)\ttotal: 40m 2s\tremaining: 6m 11s\n",
      "870:\tlearn: 0.3260880\ttest: 0.3917887\tbest: 0.3917887 (870)\ttotal: 40m 16s\tremaining: 5m 57s\n",
      "875:\tlearn: 0.3257852\ttest: 0.3916523\tbest: 0.3916523 (875)\ttotal: 40m 33s\tremaining: 5m 44s\n",
      "880:\tlearn: 0.3253090\ttest: 0.3914932\tbest: 0.3914932 (880)\ttotal: 40m 49s\tremaining: 5m 30s\n",
      "885:\tlearn: 0.3245941\ttest: 0.3911641\tbest: 0.3911641 (885)\ttotal: 41m 3s\tremaining: 5m 16s\n",
      "890:\tlearn: 0.3239706\ttest: 0.3906578\tbest: 0.3906578 (890)\ttotal: 41m 17s\tremaining: 5m 3s\n",
      "895:\tlearn: 0.3233718\ttest: 0.3905011\tbest: 0.3905011 (895)\ttotal: 41m 34s\tremaining: 4m 49s\n",
      "900:\tlearn: 0.3230808\ttest: 0.3903319\tbest: 0.3903319 (900)\ttotal: 41m 49s\tremaining: 4m 35s\n",
      "905:\tlearn: 0.3224094\ttest: 0.3901316\tbest: 0.3901234 (903)\ttotal: 42m 3s\tremaining: 4m 21s\n",
      "910:\tlearn: 0.3219333\ttest: 0.3899043\tbest: 0.3899043 (910)\ttotal: 42m 19s\tremaining: 4m 8s\n",
      "915:\tlearn: 0.3216257\ttest: 0.3897462\tbest: 0.3897462 (915)\ttotal: 42m 36s\tremaining: 3m 54s\n",
      "920:\tlearn: 0.3209884\ttest: 0.3894619\tbest: 0.3894619 (920)\ttotal: 42m 49s\tremaining: 3m 40s\n",
      "925:\tlearn: 0.3206169\ttest: 0.3894294\tbest: 0.3894294 (925)\ttotal: 43m 5s\tremaining: 3m 26s\n",
      "930:\tlearn: 0.3199700\ttest: 0.3892458\tbest: 0.3892384 (929)\ttotal: 43m 19s\tremaining: 3m 12s\n",
      "935:\tlearn: 0.3195169\ttest: 0.3889905\tbest: 0.3889905 (935)\ttotal: 43m 34s\tremaining: 2m 58s\n",
      "940:\tlearn: 0.3190017\ttest: 0.3888559\tbest: 0.3888559 (940)\ttotal: 43m 50s\tremaining: 2m 44s\n",
      "945:\tlearn: 0.3186042\ttest: 0.3887854\tbest: 0.3887667 (944)\ttotal: 44m 4s\tremaining: 2m 30s\n",
      "950:\tlearn: 0.3181335\ttest: 0.3887458\tbest: 0.3887120 (947)\ttotal: 44m 19s\tremaining: 2m 17s\n",
      "955:\tlearn: 0.3176007\ttest: 0.3884890\tbest: 0.3884890 (955)\ttotal: 44m 34s\tremaining: 2m 3s\n",
      "960:\tlearn: 0.3168755\ttest: 0.3880074\tbest: 0.3880074 (960)\ttotal: 44m 49s\tremaining: 1m 49s\n",
      "965:\tlearn: 0.3164938\ttest: 0.3878925\tbest: 0.3878730 (964)\ttotal: 45m 5s\tremaining: 1m 35s\n",
      "970:\tlearn: 0.3158313\ttest: 0.3875440\tbest: 0.3875440 (970)\ttotal: 45m 20s\tremaining: 1m 21s\n",
      "975:\tlearn: 0.3153864\ttest: 0.3875079\tbest: 0.3874681 (971)\ttotal: 45m 36s\tremaining: 1m 7s\n",
      "980:\tlearn: 0.3149151\ttest: 0.3872242\tbest: 0.3872242 (980)\ttotal: 45m 50s\tremaining: 53.3s\n",
      "985:\tlearn: 0.3145808\ttest: 0.3870764\tbest: 0.3870764 (985)\ttotal: 46m 6s\tremaining: 39.3s\n",
      "990:\tlearn: 0.3138733\ttest: 0.3866801\tbest: 0.3866801 (990)\ttotal: 46m 19s\tremaining: 25.2s\n",
      "995:\tlearn: 0.3132813\ttest: 0.3864165\tbest: 0.3864165 (995)\ttotal: 46m 33s\tremaining: 11.2s\n",
      "999:\tlearn: 0.3128317\ttest: 0.3861914\tbest: 0.3861914 (999)\ttotal: 46m 44s\tremaining: 0us\n",
      "\n",
      "bestTest = 0.3861913697\n",
      "bestIteration = 999\n"
     ]
    },
    {
     "data": {
      "text/plain": "['../Files/cat_model.pkl']"
     },
     "execution_count": 15,
     "metadata": {},
     "output_type": "execute_result"
    }
   ],
   "source": [
    "cat_model = CatBoostClassifier(\n",
    "    iterations=1000,\n",
    "    learning_rate=0.1,\n",
    "    depth = 10,\n",
    "    l2_leaf_reg=3,\n",
    "    task_type = 'CPU',\n",
    "    loss_function = 'MultiClass',\n",
    "    boosting_type = 'Ordered'\n",
    ")\n",
    "print(type(cat_model))\n",
    "cat_model.fit(train_pool, eval_set=val_pool, verbose=5)\n",
    "\n",
    "joblib.dump(cat_model, '../Files/cat_model.pkl')"
   ],
   "metadata": {
    "collapsed": false,
    "ExecuteTime": {
     "end_time": "2024-01-25T08:34:37.534040800Z",
     "start_time": "2024-01-25T07:47:52.520713Z"
    }
   },
   "id": "c8e54652861a7884",
   "execution_count": 15
  },
  {
   "cell_type": "code",
   "outputs": [
    {
     "name": "stdout",
     "output_type": "stream",
     "text": [
      "CatBoost Accuracy: 0.8596491228070176\n"
     ]
    }
   ],
   "source": [
    "print(\"CatBoost Accuracy:\", accuracy_score(y_test, cat_model.predict(X_test)))"
   ],
   "metadata": {
    "collapsed": false,
    "ExecuteTime": {
     "end_time": "2024-01-25T08:34:37.716053500Z",
     "start_time": "2024-01-25T08:34:37.557201300Z"
    }
   },
   "id": "4c108ea8c9b915c6",
   "execution_count": 16
  }
 ],
 "metadata": {
  "kernelspec": {
   "name": "python_311",
   "language": "python",
   "display_name": "conda"
  },
  "language_info": {
   "codemirror_mode": {
    "name": "ipython",
    "version": 2
   },
   "file_extension": ".py",
   "mimetype": "text/x-python",
   "name": "python",
   "nbconvert_exporter": "python",
   "pygments_lexer": "ipython2",
   "version": "2.7.6"
  }
 },
 "nbformat": 4,
 "nbformat_minor": 5
}
