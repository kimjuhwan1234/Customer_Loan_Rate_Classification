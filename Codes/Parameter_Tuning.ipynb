{
 "cells": [
  {
   "cell_type": "code",
   "execution_count": 1,
   "id": "initial_id",
   "metadata": {
    "collapsed": true,
    "ExecuteTime": {
     "end_time": "2024-01-30T05:35:59.084787300Z",
     "start_time": "2024-01-30T05:35:56.608856300Z"
    }
   },
   "outputs": [],
   "source": [
    "from imblearn.over_sampling import SMOTE\n",
    "from sklearn.metrics import accuracy_score\n",
    "from sklearn.model_selection import train_test_split\n",
    "from pytorch_tabnet.multitask import TabNetMultiTaskClassifier\n",
    "\n",
    "import torch\n",
    "import warnings\n",
    "import numpy as np\n",
    "import pandas as pd\n",
    "import torch.nn.functional as F\n",
    "\n",
    "warnings.filterwarnings(\"ignore\")"
   ]
  },
  {
   "cell_type": "code",
   "outputs": [],
   "source": [
    "train = pd.read_csv('../Database/train_preprocessed.csv', index_col='ID')\n",
    "X = train.drop(columns=['대출등급'])\n",
    "y = train['대출등급']\n",
    "\n",
    "X_train, X_test, y_train, y_test = train_test_split(X, y, test_size=0.2, random_state=42)\n",
    "smote = SMOTE(random_state=42)\n",
    "X_res, y_res = smote.fit_resample(X_train, y_train)"
   ],
   "metadata": {
    "collapsed": false
   },
   "id": "4c73b55507c64d99"
  },
  {
   "cell_type": "code",
   "outputs": [],
   "source": [
    "device = torch.device(\"cuda\" if torch.cuda.is_available() else \"cpu\")\n",
    "print(device)\n",
    "\n",
    "\n",
    "model = TabNetMultiTaskClassifier(\n",
    "    n_d=8,  # Decision 단계의 특성 차원\n",
    "    n_a=8,  # Attention 단계의 특성 차원\n",
    "    n_steps=5,  # Attention 단계의 반복 횟수\n",
    "    gamma=1.5,  # Regularization 강도\n",
    "    cat_idxs=[i for i in range(9, 13)],  # 범주형 특성의 인덱스\n",
    "    cat_dims=[2, 16, 4, 12],  # 범주형 특성의 차원\n",
    "    device_name=device,\n",
    ")\n",
    "\n",
    "model.fit(\n",
    "    X_train=X_train.values,\n",
    "    y_train=y_train,\n",
    "    eval_set=[(X_test.values, y_test)],\n",
    "    max_epochs=2,\n",
    "    patience=5,\n",
    "    loss_fn=F.cross_entropy,\n",
    "    batch_size=64,\n",
    "    virtual_batch_size=32,\n",
    ")\n",
    "\n",
    "preds = model.predict(X_test.values)\n",
    "print(\"TabNet Classifier Accuracy:\", accuracy_score(y_test, preds))"
   ],
   "metadata": {
    "collapsed": false
   },
   "id": "e4e658d5ee694797"
  }
 ],
 "metadata": {
  "kernelspec": {
   "name": "python3",
   "language": "python",
   "display_name": "Python 3 (ipykernel)"
  },
  "language_info": {
   "codemirror_mode": {
    "name": "ipython",
    "version": 2
   },
   "file_extension": ".py",
   "mimetype": "text/x-python",
   "name": "python",
   "nbconvert_exporter": "python",
   "pygments_lexer": "ipython2",
   "version": "2.7.6"
  }
 },
 "nbformat": 4,
 "nbformat_minor": 5
}
