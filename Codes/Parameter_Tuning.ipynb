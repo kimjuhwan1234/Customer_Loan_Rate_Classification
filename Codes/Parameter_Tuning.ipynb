{
 "cells": [
  {
   "cell_type": "code",
   "execution_count": 6,
   "id": "initial_id",
   "metadata": {
    "collapsed": true,
    "ExecuteTime": {
     "end_time": "2024-02-01T09:27:58.311692100Z",
     "start_time": "2024-02-01T09:27:58.294688200Z"
    }
   },
   "outputs": [],
   "source": [
    "from Esemble import *\n",
    "from sklearn.model_selection import train_test_split\n",
    "\n",
    "import torch\n",
    "import optuna\n",
    "import warnings\n",
    "import pandas as pd\n",
    "\n",
    "warnings.filterwarnings(\"ignore\")"
   ]
  },
  {
   "cell_type": "code",
   "outputs": [],
   "source": [
    "train_for_DNN = pd.read_csv('../Database/train_for_DNN.csv', index_col='ID')\n",
    "X_for_DNN = train_for_DNN.drop(columns=['대출등급'])\n",
    "y_for_DNN = train_for_DNN['대출등급']\n",
    "X_train_DNN, X_val_DNN, y_train_DNN, y_val_DNN = train_test_split(X_for_DNN, y_for_DNN, test_size=0.2, random_state=42)\n",
    "Tuning = False\n",
    "E = Esemble(4, X_train_DNN, X_val_DNN, y_train_DNN, y_val_DNN, 100, Tuning)"
   ],
   "metadata": {
    "collapsed": false,
    "ExecuteTime": {
     "end_time": "2024-02-01T06:54:42.107778600Z",
     "start_time": "2024-02-01T06:54:41.946916500Z"
    }
   },
   "id": "a0ed409de64e23a8",
   "execution_count": 2
  },
  {
   "cell_type": "code",
   "outputs": [
    {
     "name": "stdout",
     "output_type": "stream",
     "text": [
      "cuda\n",
      "epoch 0  | loss: 2.3624  | val_0_logloss: 1.89931 |  0:00:07s\n",
      "epoch 1  | loss: 1.06371 | val_0_logloss: 1.15692 |  0:00:13s\n",
      "epoch 2  | loss: 0.86789 | val_0_logloss: 1.03761 |  0:00:19s\n",
      "epoch 3  | loss: 0.73597 | val_0_logloss: 0.97414 |  0:00:26s\n",
      "epoch 4  | loss: 0.65794 | val_0_logloss: 0.76926 |  0:00:34s\n",
      "epoch 5  | loss: 0.62917 | val_0_logloss: 0.60544 |  0:00:41s\n",
      "epoch 6  | loss: 0.58016 | val_0_logloss: 0.76685 |  0:00:48s\n",
      "epoch 7  | loss: 0.57437 | val_0_logloss: 0.64552 |  0:00:54s\n",
      "epoch 8  | loss: 0.53174 | val_0_logloss: 0.55973 |  0:01:00s\n",
      "epoch 9  | loss: 0.5333  | val_0_logloss: 0.99283 |  0:01:06s\n",
      "epoch 10 | loss: 0.54206 | val_0_logloss: 0.62791 |  0:01:13s\n",
      "epoch 11 | loss: 0.54018 | val_0_logloss: 1.40442 |  0:01:19s\n",
      "epoch 12 | loss: 0.52475 | val_0_logloss: 0.78567 |  0:01:25s\n",
      "epoch 13 | loss: 0.51425 | val_0_logloss: 0.94661 |  0:01:31s\n",
      "epoch 14 | loss: 0.50692 | val_0_logloss: 0.60853 |  0:01:37s\n",
      "epoch 15 | loss: 0.49592 | val_0_logloss: 0.68177 |  0:01:43s\n",
      "epoch 16 | loss: 0.48996 | val_0_logloss: 0.67585 |  0:01:49s\n",
      "epoch 17 | loss: 0.48759 | val_0_logloss: 0.83575 |  0:01:55s\n",
      "epoch 18 | loss: 0.4836  | val_0_logloss: 0.67883 |  0:02:01s\n",
      "epoch 19 | loss: 0.47922 | val_0_logloss: 0.75653 |  0:02:07s\n",
      "epoch 20 | loss: 0.4696  | val_0_logloss: 0.51853 |  0:02:13s\n",
      "epoch 21 | loss: 0.4643  | val_0_logloss: 0.75528 |  0:02:19s\n",
      "epoch 22 | loss: 0.46498 | val_0_logloss: 0.57674 |  0:02:25s\n",
      "epoch 23 | loss: 0.46872 | val_0_logloss: 0.65051 |  0:02:31s\n",
      "epoch 24 | loss: 0.47037 | val_0_logloss: 0.48869 |  0:02:37s\n",
      "epoch 25 | loss: 0.45894 | val_0_logloss: 0.80733 |  0:02:44s\n",
      "epoch 26 | loss: 0.46371 | val_0_logloss: 0.55573 |  0:02:50s\n",
      "epoch 27 | loss: 0.46611 | val_0_logloss: 0.71304 |  0:02:56s\n",
      "epoch 28 | loss: 0.46428 | val_0_logloss: 0.66231 |  0:03:02s\n",
      "epoch 29 | loss: 0.45639 | val_0_logloss: 0.65777 |  0:03:08s\n",
      "epoch 30 | loss: 0.46621 | val_0_logloss: 0.5017  |  0:03:14s\n",
      "epoch 31 | loss: 0.45504 | val_0_logloss: 0.9653  |  0:03:21s\n",
      "epoch 32 | loss: 0.46159 | val_0_logloss: 0.56994 |  0:03:27s\n",
      "epoch 33 | loss: 0.45535 | val_0_logloss: 0.78905 |  0:03:33s\n",
      "epoch 34 | loss: 0.45839 | val_0_logloss: 1.51706 |  0:03:39s\n",
      "epoch 35 | loss: 0.45169 | val_0_logloss: 0.90987 |  0:03:46s\n",
      "epoch 36 | loss: 0.44872 | val_0_logloss: 0.76405 |  0:03:53s\n",
      "epoch 37 | loss: 0.45245 | val_0_logloss: 0.51068 |  0:04:00s\n",
      "epoch 38 | loss: 0.45876 | val_0_logloss: 0.54015 |  0:04:06s\n",
      "epoch 39 | loss: 0.45385 | val_0_logloss: 0.85248 |  0:04:13s\n",
      "\n",
      "Early stopping occurred at epoch 39 with best_epoch = 24 and best_val_0_logloss = 0.48869\n",
      "Tabnet Accuracy: 0.8114647697180539\n"
     ]
    }
   ],
   "source": [
    "if Tuning:\n",
    "    study = optuna.create_study(direction='maximize')\n",
    "    study.optimize(E.objective, n_trials=10)\n",
    "\n",
    "    print('Number of finished trials:', len(study.trials))\n",
    "    print('Best trial:', study.best_trial.params)\n",
    "\n",
    "if not Tuning:\n",
    "    device = torch.device(\"cuda\" if torch.cuda.is_available() else \"cpu\")\n",
    "    print(device)\n",
    "\n",
    "    params = {\n",
    "        'verbose': True,\n",
    "        'device_name': device,\n",
    "        'cat_dims': [2, 11, 4, 12],\n",
    "        'cat_idxs': [i for i in range(6, 10)],\n",
    "    \n",
    "        'n_d': 25,  # Decision 단계의 특성 차원\n",
    "        'n_a': 20,  # Attention 단계의 특성 차원\n",
    "        'n_steps': 15,  # Attention 단계의 반복 횟수\n",
    "        'gamma': 0.8030822637759606,  # Regularization 강도\n",
    "    }\n",
    "    \n",
    "    proba3 = E.TabNet(params)"
   ],
   "metadata": {
    "collapsed": false,
    "ExecuteTime": {
     "end_time": "2024-02-01T06:59:25.853747200Z",
     "start_time": "2024-02-01T06:55:08.086640Z"
    }
   },
   "id": "2d31116c1387cf5e",
   "execution_count": 5
  },
  {
   "cell_type": "code",
   "outputs": [],
   "source": [],
   "metadata": {
    "collapsed": false
   },
   "id": "5dde10a68b070d19"
  }
 ],
 "metadata": {
  "kernelspec": {
   "name": "python3",
   "language": "python",
   "display_name": "Python 3 (ipykernel)"
  },
  "language_info": {
   "codemirror_mode": {
    "name": "ipython",
    "version": 2
   },
   "file_extension": ".py",
   "mimetype": "text/x-python",
   "name": "python",
   "nbconvert_exporter": "python",
   "pygments_lexer": "ipython2",
   "version": "2.7.6"
  }
 },
 "nbformat": 4,
 "nbformat_minor": 5
}
