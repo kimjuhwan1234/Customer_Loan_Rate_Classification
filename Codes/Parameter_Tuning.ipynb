{
 "cells": [
  {
   "cell_type": "code",
   "execution_count": 1,
   "id": "initial_id",
   "metadata": {
    "collapsed": true,
    "ExecuteTime": {
     "end_time": "2024-01-30T14:13:43.231949900Z",
     "start_time": "2024-01-30T14:13:40.117166800Z"
    }
   },
   "outputs": [],
   "source": [
    "from imblearn.over_sampling import SMOTE\n",
    "from sklearn.metrics import accuracy_score\n",
    "from sklearn.model_selection import train_test_split\n",
    "from pytorch_tabnet.multitask import TabNetMultiTaskClassifier\n",
    "\n",
    "import torch\n",
    "import warnings\n",
    "import numpy as np\n",
    "import pandas as pd\n",
    "import torch.nn.functional as F\n",
    "\n",
    "warnings.filterwarnings(\"ignore\")"
   ]
  },
  {
   "cell_type": "code",
   "outputs": [],
   "source": [
    "train = pd.read_csv('../Database/train_preprocessed.csv', index_col='ID')\n",
    "X = train.drop(columns=['대출등급'])\n",
    "y = train['대출등급']\n",
    "\n",
    "X_train, X_test, y_train, y_test = train_test_split(X, y, test_size=0.2, random_state=42)\n",
    "smote = SMOTE(random_state=42)\n",
    "X_res, y_res = smote.fit_resample(X_train, y_train)"
   ],
   "metadata": {
    "collapsed": false,
    "ExecuteTime": {
     "end_time": "2024-01-30T14:13:45.268771900Z",
     "start_time": "2024-01-30T14:13:43.234950700Z"
    }
   },
   "id": "4c73b55507c64d99",
   "execution_count": 2
  },
  {
   "cell_type": "code",
   "outputs": [
    {
     "name": "stdout",
     "output_type": "stream",
     "text": [
      "cuda\n",
      "epoch 0  | loss: 1.79561 | val_0_logloss: 1.60375 |  0:00:09s\n",
      "epoch 1  | loss: 1.23698 | val_0_logloss: 1.16274 |  0:00:18s\n",
      "Stop training because you reached max_epochs = 2 with best_epoch = 1 and best_val_0_logloss = 1.16274\n"
     ]
    }
   ],
   "source": [
    "device = torch.device(\"cuda\" if torch.cuda.is_available() else \"cpu\")\n",
    "print(device)\n",
    "\n",
    "model = TabNetMultiTaskClassifier(\n",
    "    n_d=4,  # Decision 단계의 특성 차원\n",
    "    n_a=4,  # Attention 단계의 특성 차원\n",
    "    n_steps=5,  # Attention 단계의 반복 횟수\n",
    "    gamma=1.5,  # Regularization 강도\n",
    "    cat_idxs=[i for i in range(6, 10)],  # 범주형 특성의 인덱스\n",
    "    cat_dims=[2, 11, 4, 12],  # 범주형 특성의 차원\n",
    "    device_name=device,\n",
    "    verbose=True,\n",
    ")\n",
    "\n",
    "model.fit(\n",
    "    X_train=X_res.values,\n",
    "    y_train=y_res.values.reshape(-1, 1),\n",
    "    eval_set=[(X_test.values, y_test.values.reshape(-1,1))],\n",
    "    max_epochs=2,\n",
    "    patience=5,\n",
    "    loss_fn=F.cross_entropy,\n",
    "    batch_size=1024,\n",
    "    virtual_batch_size=512,\n",
    ")\n",
    "\n",
    "y_pred = model.predict_proba(X_test.values)"
   ],
   "metadata": {
    "collapsed": false,
    "ExecuteTime": {
     "end_time": "2024-01-30T14:26:17.656471600Z",
     "start_time": "2024-01-30T14:25:53.382532200Z"
    }
   },
   "id": "e4e658d5ee694797",
   "execution_count": 32
  },
  {
   "cell_type": "code",
   "outputs": [
    {
     "name": "stdout",
     "output_type": "stream",
     "text": [
      "TabNet Classifier Accuracy: 0.5350745106184122\n"
     ]
    }
   ],
   "source": [
    "y_pred = np.array(y_pred, dtype=np.float64).squeeze()\n",
    "predictions = np.argmax(y_pred, axis=1)\n",
    "print(\"TabNet Classifier Accuracy:\", accuracy_score(y_test, predictions))"
   ],
   "metadata": {
    "collapsed": false,
    "ExecuteTime": {
     "end_time": "2024-01-30T14:30:54.246856100Z",
     "start_time": "2024-01-30T14:30:54.232354Z"
    }
   },
   "id": "1f1788d0c04334d3",
   "execution_count": 39
  }
 ],
 "metadata": {
  "kernelspec": {
   "name": "python3",
   "language": "python",
   "display_name": "Python 3 (ipykernel)"
  },
  "language_info": {
   "codemirror_mode": {
    "name": "ipython",
    "version": 2
   },
   "file_extension": ".py",
   "mimetype": "text/x-python",
   "name": "python",
   "nbconvert_exporter": "python",
   "pygments_lexer": "ipython2",
   "version": "2.7.6"
  }
 },
 "nbformat": 4,
 "nbformat_minor": 5
}
